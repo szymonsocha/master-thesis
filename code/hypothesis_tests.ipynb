{
  "nbformat": 4,
  "nbformat_minor": 0,
  "metadata": {
    "colab": {
      "provenance": []
    },
    "kernelspec": {
      "name": "python3",
      "display_name": "Python 3"
    },
    "language_info": {
      "name": "python"
    }
  },
  "cells": [
    {
      "cell_type": "markdown",
      "source": [
        "# H1 Test"
      ],
      "metadata": {
        "id": "A33XDtC3Xbis"
      }
    },
    {
      "cell_type": "code",
      "source": [
        "import scipy.stats as stats\n",
        "\n",
        "# Suppose you have the performance scores for each model\n",
        "glove_scores = [49.3, 45.5, 50.3, 49.9, 49.7, 55.7]\n",
        "word2vec_scores = [49.9, 47.9, 53.0, 46.6, 48.7, 54.6]\n",
        "bert_scores = [50.7, 48.3, 50.3, 45.7, 50.1, 53.7]\n",
        "roberta_scores = [52.0, 49.2, 53.1, 46.5, 49.7, 54.8]\n",
        "gpt2_scores = [53.6, 43.4, 52.2, 47.8, 50.6, 54.6]\n",
        "\n",
        "# Perform the Kruskal-Wallis test\n",
        "statistic, p_value = stats.kruskal(glove_scores, word2vec_scores, bert_scores, roberta_scores, gpt2_scores)\n",
        "\n",
        "# Print the results\n",
        "print(\"Kruskal-Wallis Test\")\n",
        "print(\"Statistic:\", statistic)\n",
        "print(\"p-value:\", p_value)"
      ],
      "metadata": {
        "colab": {
          "base_uri": "https://localhost:8080/"
        },
        "id": "BaKDY3JMMb4a",
        "outputId": "0f886020-493a-4075-cb5f-322267b72a39"
      },
      "execution_count": 1,
      "outputs": [
        {
          "output_type": "stream",
          "name": "stdout",
          "text": [
            "Kruskal-Wallis Test\n",
            "Statistic: 0.42618570474281536\n",
            "p-value: 0.9802774083495136\n"
          ]
        }
      ]
    },
    {
      "cell_type": "markdown",
      "source": [
        "# H2 Test"
      ],
      "metadata": {
        "id": "B3R3N5reXgKr"
      }
    },
    {
      "cell_type": "code",
      "source": [
        "lr = [49.3, 49.9, 50.7, 52.0, 53.6]\n",
        "knn = [45.5, 47.9, 48.3, 49.2, 43.4]\n",
        "svm = [50.3, 53.0, 50.3, 53.1, 52.2]\n",
        "rf = [49.9, 46.6, 45.7, 46.5, 47.8]\n",
        "xgb = [49.7, 48.7, 50.1, 49.7, 50.6]\n",
        "nn = [55.7, 54.6, 53.7, 54.8, 54.6]\n",
        "\n",
        "# Perform the Kruskal-Wallis test\n",
        "statistic, p_value = stats.kruskal(lr, knn, svm, rf, xgb, nn)\n",
        "\n",
        "# Print the results\n",
        "print(\"Kruskal-Wallis Test\")\n",
        "print(\"Statistic:\", statistic)\n",
        "print(\"p-value:\", p_value)"
      ],
      "metadata": {
        "colab": {
          "base_uri": "https://localhost:8080/"
        },
        "id": "oov3DTLM7NOA",
        "outputId": "3d20f87d-d2c6-4dbc-e2dc-678c3c8a8c6b"
      },
      "execution_count": 2,
      "outputs": [
        {
          "output_type": "stream",
          "name": "stdout",
          "text": [
            "Kruskal-Wallis Test\n",
            "Statistic: 24.15568915608995\n",
            "p-value: 0.00020265458586172198\n"
          ]
        }
      ]
    },
    {
      "cell_type": "code",
      "source": [],
      "metadata": {
        "id": "LYxfTmM68PrZ"
      },
      "execution_count": null,
      "outputs": []
    }
  ]
}