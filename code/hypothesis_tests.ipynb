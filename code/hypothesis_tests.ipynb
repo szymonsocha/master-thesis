{
 "nbformat": 4,
 "nbformat_minor": 0,
 "metadata": {
  "colab": {
   "provenance": []
  },
  "kernelspec": {
   "name": "python3",
   "language": "python",
   "display_name": "Python 3 (ipykernel)"
  },
  "language_info": {
   "name": "python"
  }
 },
 "cells": [
  {
   "cell_type": "code",
   "execution_count": 4,
   "outputs": [],
   "source": [
    "import numpy as np\n",
    "import scipy.stats as stats\n",
    "import scikit_posthocs as sp"
   ],
   "metadata": {
    "collapsed": false,
    "ExecuteTime": {
     "end_time": "2023-06-11T13:38:18.936625238Z",
     "start_time": "2023-06-11T13:38:17.904646819Z"
    }
   }
  },
  {
   "cell_type": "code",
   "execution_count": 5,
   "outputs": [],
   "source": [
    "glove_scores = [49.3, 45.5, 50.3, 49.9, 49.7, 55.7]\n",
    "word2vec_scores = [49.9, 47.9, 53.0, 46.6, 48.7, 54.6]\n",
    "bert_scores = [50.7, 48.3, 50.3, 45.7, 50.1, 53.7]\n",
    "roberta_scores = [52.0, 49.2, 53.1, 46.5, 49.7, 54.8]\n",
    "gpt2_scores = [53.6, 43.4, 52.2, 47.8, 50.6, 54.6]"
   ],
   "metadata": {
    "collapsed": false,
    "ExecuteTime": {
     "end_time": "2023-06-11T13:38:19.402440179Z",
     "start_time": "2023-06-11T13:38:19.388677709Z"
    }
   }
  },
  {
   "cell_type": "markdown",
   "source": [
    "# Kruskal-Wallis"
   ],
   "metadata": {
    "collapsed": false
   }
  },
  {
   "cell_type": "markdown",
   "source": [
    "## H1 Test"
   ],
   "metadata": {
    "id": "A33XDtC3Xbis"
   }
  },
  {
   "cell_type": "code",
   "source": [
    "# Perform the Kruskal-Wallis test\n",
    "statistic, p_value = stats.kruskal(glove_scores, word2vec_scores, bert_scores, roberta_scores, gpt2_scores)\n",
    "\n",
    "# Print the results\n",
    "print(\"Kruskal-Wallis Test\")\n",
    "print(\"Statistic:\", statistic)\n",
    "print(\"p-value:\", p_value)"
   ],
   "metadata": {
    "colab": {
     "base_uri": "https://localhost:8080/"
    },
    "id": "BaKDY3JMMb4a",
    "outputId": "0f886020-493a-4075-cb5f-322267b72a39",
    "ExecuteTime": {
     "end_time": "2023-06-11T13:38:20.417910940Z",
     "start_time": "2023-06-11T13:38:20.412414151Z"
    }
   },
   "execution_count": 6,
   "outputs": [
    {
     "name": "stdout",
     "output_type": "stream",
     "text": [
      "Kruskal-Wallis Test\n",
      "Statistic: 0.42618570474281536\n",
      "p-value: 0.9802774083495136\n"
     ]
    }
   ]
  },
  {
   "cell_type": "markdown",
   "source": [
    "## H2 Test"
   ],
   "metadata": {
    "id": "B3R3N5reXgKr"
   }
  },
  {
   "cell_type": "code",
   "source": [
    "lr = [49.3, 49.9, 50.7, 52.0, 53.6]\n",
    "knn = [45.5, 47.9, 48.3, 49.2, 43.4]\n",
    "svm = [50.3, 53.0, 50.3, 53.1, 52.2]\n",
    "rf = [49.9, 46.6, 45.7, 46.5, 47.8]\n",
    "xgb = [49.7, 48.7, 50.1, 49.7, 50.6]\n",
    "nn = [55.7, 54.6, 53.7, 54.8, 54.6]\n",
    "\n",
    "# Perform the Kruskal-Wallis test\n",
    "statistic, p_value = stats.kruskal(lr, knn, svm, rf, xgb, nn)\n",
    "\n",
    "# Print the results\n",
    "print(\"Kruskal-Wallis Test\")\n",
    "print(\"Statistic:\", statistic)\n",
    "print(\"p-value:\", p_value)"
   ],
   "metadata": {
    "colab": {
     "base_uri": "https://localhost:8080/"
    },
    "id": "oov3DTLM7NOA",
    "outputId": "3d20f87d-d2c6-4dbc-e2dc-678c3c8a8c6b",
    "ExecuteTime": {
     "end_time": "2023-06-11T13:38:59.734518217Z",
     "start_time": "2023-06-11T13:38:59.692339973Z"
    }
   },
   "execution_count": 8,
   "outputs": [
    {
     "name": "stdout",
     "output_type": "stream",
     "text": [
      "Kruskal-Wallis Test\n",
      "Statistic: 24.15568915608995\n",
      "p-value: 0.00020265458586172198\n"
     ]
    }
   ]
  },
  {
   "cell_type": "code",
   "source": [
    "posthoc_results = round(sp.posthoc_dunn([lr, knn, svm, rf, xgb, nn], p_adjust='bonferroni'), 3)\n",
    "print(\"Pairwise comparison results:\")\n",
    "print(posthoc_results)"
   ],
   "metadata": {
    "id": "LYxfTmM68PrZ",
    "ExecuteTime": {
     "end_time": "2023-06-11T13:39:00.450703298Z",
     "start_time": "2023-06-11T13:39:00.412243767Z"
    }
   },
   "execution_count": 9,
   "outputs": [
    {
     "name": "stdout",
     "output_type": "stream",
     "text": [
      "Pairwise comparison results:\n",
      "       1      2      3      4      5      6\n",
      "1  1.000  0.337  1.000  0.510  1.000  1.000\n",
      "2  0.337  1.000  0.095  1.000  1.000  0.001\n",
      "3  1.000  0.095  1.000  0.153  1.000  1.000\n",
      "4  0.510  1.000  0.153  1.000  1.000  0.002\n",
      "5  1.000  1.000  1.000  1.000  1.000  0.161\n",
      "6  1.000  0.001  1.000  0.002  0.161  1.000\n"
     ]
    }
   ]
  },
  {
   "cell_type": "code",
   "execution_count": 10,
   "outputs": [
    {
     "data": {
      "text/plain": "      1      2     3      4     5      6\n1  True   True  True   True  True   True\n2  True   True  True   True  True  False\n3  True   True  True   True  True   True\n4  True   True  True   True  True  False\n5  True   True  True   True  True   True\n6  True  False  True  False  True   True",
      "text/html": "<div>\n<style scoped>\n    .dataframe tbody tr th:only-of-type {\n        vertical-align: middle;\n    }\n\n    .dataframe tbody tr th {\n        vertical-align: top;\n    }\n\n    .dataframe thead th {\n        text-align: right;\n    }\n</style>\n<table border=\"1\" class=\"dataframe\">\n  <thead>\n    <tr style=\"text-align: right;\">\n      <th></th>\n      <th>1</th>\n      <th>2</th>\n      <th>3</th>\n      <th>4</th>\n      <th>5</th>\n      <th>6</th>\n    </tr>\n  </thead>\n  <tbody>\n    <tr>\n      <th>1</th>\n      <td>True</td>\n      <td>True</td>\n      <td>True</td>\n      <td>True</td>\n      <td>True</td>\n      <td>True</td>\n    </tr>\n    <tr>\n      <th>2</th>\n      <td>True</td>\n      <td>True</td>\n      <td>True</td>\n      <td>True</td>\n      <td>True</td>\n      <td>False</td>\n    </tr>\n    <tr>\n      <th>3</th>\n      <td>True</td>\n      <td>True</td>\n      <td>True</td>\n      <td>True</td>\n      <td>True</td>\n      <td>True</td>\n    </tr>\n    <tr>\n      <th>4</th>\n      <td>True</td>\n      <td>True</td>\n      <td>True</td>\n      <td>True</td>\n      <td>True</td>\n      <td>False</td>\n    </tr>\n    <tr>\n      <th>5</th>\n      <td>True</td>\n      <td>True</td>\n      <td>True</td>\n      <td>True</td>\n      <td>True</td>\n      <td>True</td>\n    </tr>\n    <tr>\n      <th>6</th>\n      <td>True</td>\n      <td>False</td>\n      <td>True</td>\n      <td>False</td>\n      <td>True</td>\n      <td>True</td>\n    </tr>\n  </tbody>\n</table>\n</div>"
     },
     "execution_count": 10,
     "metadata": {},
     "output_type": "execute_result"
    }
   ],
   "source": [
    "posthoc_results > 0.05"
   ],
   "metadata": {
    "collapsed": false,
    "ExecuteTime": {
     "end_time": "2023-06-11T13:39:57.270067560Z",
     "start_time": "2023-06-11T13:39:57.227900822Z"
    }
   }
  },
  {
   "cell_type": "markdown",
   "source": [
    "# Friedman's"
   ],
   "metadata": {
    "collapsed": false
   }
  },
  {
   "cell_type": "markdown",
   "source": [
    "## H1"
   ],
   "metadata": {
    "collapsed": false
   }
  },
  {
   "cell_type": "code",
   "execution_count": 16,
   "outputs": [
    {
     "data": {
      "text/plain": "FriedmanchisquareResult(statistic=3.1452991452991417, pvalue=0.5338111027888838)"
     },
     "execution_count": 16,
     "metadata": {},
     "output_type": "execute_result"
    }
   ],
   "source": [
    "stats.friedmanchisquare(glove_scores, word2vec_scores, bert_scores, roberta_scores, gpt2_scores)"
   ],
   "metadata": {
    "collapsed": false,
    "ExecuteTime": {
     "end_time": "2023-06-10T09:19:21.001874578Z",
     "start_time": "2023-06-10T09:19:20.993365571Z"
    }
   }
  },
  {
   "cell_type": "markdown",
   "source": [
    "## H2"
   ],
   "metadata": {
    "collapsed": false
   }
  },
  {
   "cell_type": "code",
   "execution_count": 15,
   "outputs": [
    {
     "data": {
      "text/plain": "FriedmanchisquareResult(statistic=20.65714285714286, pvalue=0.0009401983646974848)"
     },
     "execution_count": 15,
     "metadata": {},
     "output_type": "execute_result"
    }
   ],
   "source": [
    "#perform Friedman Test\n",
    "stats.friedmanchisquare(lr, knn, svm, rf, xgb, nn)"
   ],
   "metadata": {
    "collapsed": false,
    "ExecuteTime": {
     "end_time": "2023-06-10T09:18:44.014710085Z",
     "start_time": "2023-06-10T09:18:43.973141463Z"
    }
   }
  },
  {
   "cell_type": "code",
   "execution_count": 25,
   "outputs": [
    {
     "name": "stdout",
     "output_type": "stream",
     "text": [
      "       0      1      2      3      4      5\n",
      "0  1.000  0.326  0.900  0.430  0.900  0.533\n",
      "1  0.326  1.000  0.114  0.900  0.826  0.003\n",
      "2  0.900  0.114  1.000  0.168  0.728  0.826\n",
      "3  0.430  0.900  0.168  1.000  0.900  0.005\n",
      "4  0.900  0.826  0.728  0.900  1.000  0.114\n",
      "5  0.533  0.003  0.826  0.005  0.114  1.000\n"
     ]
    }
   ],
   "source": [
    "# Combine three groups into one array\n",
    "data_nemenyi = np.array([lr, knn, svm, rf, xgb, nn])\n",
    "\n",
    "# Conduct the Nemenyi post-hoc test\n",
    "p_value_nemenyi = round(sp.posthoc_nemenyi_friedman(data_nemenyi.T), 3)\n",
    "\n",
    "print(p_value_nemenyi)"
   ],
   "metadata": {
    "collapsed": false,
    "ExecuteTime": {
     "end_time": "2023-06-10T10:27:25.902858036Z",
     "start_time": "2023-06-10T10:27:25.791599421Z"
    }
   }
  },
  {
   "cell_type": "code",
   "execution_count": 24,
   "outputs": [
    {
     "data": {
      "text/plain": "      0      1     2      3     4      5\n0  True   True  True   True  True   True\n1  True   True  True   True  True  False\n2  True   True  True   True  True   True\n3  True   True  True   True  True  False\n4  True   True  True   True  True   True\n5  True  False  True  False  True   True",
      "text/html": "<div>\n<style scoped>\n    .dataframe tbody tr th:only-of-type {\n        vertical-align: middle;\n    }\n\n    .dataframe tbody tr th {\n        vertical-align: top;\n    }\n\n    .dataframe thead th {\n        text-align: right;\n    }\n</style>\n<table border=\"1\" class=\"dataframe\">\n  <thead>\n    <tr style=\"text-align: right;\">\n      <th></th>\n      <th>0</th>\n      <th>1</th>\n      <th>2</th>\n      <th>3</th>\n      <th>4</th>\n      <th>5</th>\n    </tr>\n  </thead>\n  <tbody>\n    <tr>\n      <th>0</th>\n      <td>True</td>\n      <td>True</td>\n      <td>True</td>\n      <td>True</td>\n      <td>True</td>\n      <td>True</td>\n    </tr>\n    <tr>\n      <th>1</th>\n      <td>True</td>\n      <td>True</td>\n      <td>True</td>\n      <td>True</td>\n      <td>True</td>\n      <td>False</td>\n    </tr>\n    <tr>\n      <th>2</th>\n      <td>True</td>\n      <td>True</td>\n      <td>True</td>\n      <td>True</td>\n      <td>True</td>\n      <td>True</td>\n    </tr>\n    <tr>\n      <th>3</th>\n      <td>True</td>\n      <td>True</td>\n      <td>True</td>\n      <td>True</td>\n      <td>True</td>\n      <td>False</td>\n    </tr>\n    <tr>\n      <th>4</th>\n      <td>True</td>\n      <td>True</td>\n      <td>True</td>\n      <td>True</td>\n      <td>True</td>\n      <td>True</td>\n    </tr>\n    <tr>\n      <th>5</th>\n      <td>True</td>\n      <td>False</td>\n      <td>True</td>\n      <td>False</td>\n      <td>True</td>\n      <td>True</td>\n    </tr>\n  </tbody>\n</table>\n</div>"
     },
     "execution_count": 24,
     "metadata": {},
     "output_type": "execute_result"
    }
   ],
   "source": [
    "p_value_nemenyi > 0.05"
   ],
   "metadata": {
    "collapsed": false,
    "ExecuteTime": {
     "end_time": "2023-06-10T10:27:11.578283936Z",
     "start_time": "2023-06-10T10:27:11.536442459Z"
    }
   }
  },
  {
   "cell_type": "code",
   "execution_count": null,
   "outputs": [],
   "source": [],
   "metadata": {
    "collapsed": false
   }
  }
 ]
}
