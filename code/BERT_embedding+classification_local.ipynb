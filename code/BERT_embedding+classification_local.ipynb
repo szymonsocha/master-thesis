{
 "cells": [
  {
   "cell_type": "markdown",
   "metadata": {
    "id": "vpFId1mjCySe"
   },
   "source": [
    "# Word Embeddings + various classification algorithms"
   ]
  },
  {
   "cell_type": "code",
   "execution_count": 1,
   "metadata": {
    "ExecuteTime": {
     "end_time": "2023-06-03T10:58:29.587869874Z",
     "start_time": "2023-06-03T10:58:29.528231993Z"
    },
    "id": "TCU7NPLUuQrU"
   },
   "outputs": [
    {
     "name": "stderr",
     "output_type": "stream",
     "text": [
      "C:\\Users\\Wesub\\anaconda3\\lib\\site-packages\\tqdm\\auto.py:21: TqdmWarning: IProgress not found. Please update jupyter and ipywidgets. See https://ipywidgets.readthedocs.io/en/stable/user_install.html\n",
      "  from .autonotebook import tqdm as notebook_tqdm\n"
     ]
    }
   ],
   "source": [
    "import pandas as pd\n",
    "import numpy as np\n",
    "\n",
    "import matplotlib.pyplot as plt\n",
    "\n",
    "import torch\n",
    "import torch.nn as nn\n",
    "import torch.optim as optim\n",
    "from transformers import AutoTokenizer, AutoModel\n",
    "import gensim\n",
    "from transformers import GPT2LMHeadModel\n",
    "from transformers import GPT2Tokenizer\n",
    "\n",
    "import time\n",
    "import csv\n",
    "from tqdm import tqdm\n",
    "from bs4 import BeautifulSoup\n",
    "import re, string\n",
    "import nltk\n",
    "from nltk.corpus import stopwords\n",
    "import pickle\n",
    "from tabulate import tabulate\n",
    "\n",
    "import xgboost as xgb\n",
    "\n",
    "from sklearn.neighbors import KNeighborsClassifier\n",
    "from sklearn import svm\n",
    "from sklearn.ensemble import RandomForestClassifier\n",
    "from sklearn.linear_model import LogisticRegression\n",
    "from sklearn.model_selection import RandomizedSearchCV\n",
    "# from sklearn.model_selection import train_test_split\n",
    "from sklearn.metrics import f1_score, accuracy_score, confusion_matrix, balanced_accuracy_score, roc_auc_score\n",
    "\n",
    "import warnings\n",
    "warnings.simplefilter(action='ignore', category=FutureWarning)"
   ]
  },
  {
   "cell_type": "code",
   "execution_count": 2,
   "metadata": {
    "ExecuteTime": {
     "end_time": "2023-06-03T10:58:29.747891438Z",
     "start_time": "2023-06-03T10:58:29.669982987Z"
    },
    "collapsed": false,
    "jupyter": {
     "outputs_hidden": false
    }
   },
   "outputs": [],
   "source": [
    "train = pd.read_csv('../../data/liar_dataset/train.tsv', sep=\"\\t\", usecols=[1, 2], names = [\"label\", \"text\"])\n",
    "test = pd.read_csv('../../data/liar_dataset/test.tsv', sep=\"\\t\", usecols=[1, 2], names = [\"label\", \"text\"])\n",
    "valid = pd.read_csv('../../data/liar_dataset/valid.tsv', sep=\"\\t\", usecols=[1, 2], names = [\"label\", \"text\"])\n",
    "\n",
    "train = pd.concat([train, valid])"
   ]
  },
  {
   "cell_type": "code",
   "execution_count": 3,
   "metadata": {
    "ExecuteTime": {
     "end_time": "2023-06-03T10:58:29.885040352Z",
     "start_time": "2023-06-03T10:58:29.803226787Z"
    },
    "collapsed": false,
    "jupyter": {
     "outputs_hidden": false
    }
   },
   "outputs": [
    {
     "data": {
      "text/plain": [
       "half-true      2362\n",
       "false          2258\n",
       "mostly-true    2213\n",
       "barely-true    1891\n",
       "true           1845\n",
       "pants-fire      955\n",
       "Name: label, dtype: int64"
      ]
     },
     "execution_count": 3,
     "metadata": {},
     "output_type": "execute_result"
    }
   ],
   "source": [
    "train['label'].value_counts()"
   ]
  },
  {
   "cell_type": "code",
   "execution_count": 4,
   "metadata": {
    "ExecuteTime": {
     "end_time": "2023-06-03T10:58:30.503732663Z",
     "start_time": "2023-06-03T10:58:30.477163787Z"
    },
    "collapsed": false,
    "jupyter": {
     "outputs_hidden": false
    }
   },
   "outputs": [],
   "source": [
    "convert_text_labels = lambda x: 0 if x in ['true', 'mostly-true', 'half-true'] else 1"
   ]
  },
  {
   "cell_type": "code",
   "execution_count": 5,
   "metadata": {
    "ExecuteTime": {
     "end_time": "2023-06-03T10:58:30.717908895Z",
     "start_time": "2023-06-03T10:58:30.633727455Z"
    },
    "collapsed": false,
    "jupyter": {
     "outputs_hidden": false
    }
   },
   "outputs": [],
   "source": [
    "train['label'] = train['label'].apply(convert_text_labels)\n",
    "test['label'] = test['label'].apply(convert_text_labels)"
   ]
  },
  {
   "cell_type": "code",
   "execution_count": 6,
   "metadata": {
    "ExecuteTime": {
     "end_time": "2023-06-03T10:58:30.984290446Z",
     "start_time": "2023-06-03T10:58:30.940366213Z"
    },
    "collapsed": false,
    "jupyter": {
     "outputs_hidden": false
    }
   },
   "outputs": [
    {
     "data": {
      "text/plain": [
       "0    6420\n",
       "1    5104\n",
       "Name: label, dtype: int64"
      ]
     },
     "execution_count": 6,
     "metadata": {},
     "output_type": "execute_result"
    }
   ],
   "source": [
    "train['label'].value_counts()"
   ]
  },
  {
   "cell_type": "code",
   "execution_count": 7,
   "metadata": {
    "ExecuteTime": {
     "end_time": "2023-06-03T10:58:31.418876561Z",
     "start_time": "2023-06-03T10:58:31.297142986Z"
    },
    "collapsed": false,
    "jupyter": {
     "outputs_hidden": false
    }
   },
   "outputs": [
    {
     "data": {
      "image/png": "[encoded data removed]",
      "text/plain": [
       "<Figure size 640x480 with 1 Axes>"
      ]
     },
     "metadata": {},
     "output_type": "display_data"
    }
   ],
   "source": [
    "plt.bar(train['label'].value_counts().index, train['label'].value_counts().values)\n",
    "\n",
    "plt.xticks(train['label'].value_counts().index)\n",
    "\n",
    "plt.title('Train')\n",
    "plt.xlabel('Label')\n",
    "plt.ylabel('Count')\n",
    "\n",
    "plt.show()"
   ]
  },
  {
   "cell_type": "code",
   "execution_count": 8,
   "metadata": {
    "ExecuteTime": {
     "end_time": "2023-06-03T10:58:31.939199988Z",
     "start_time": "2023-06-03T10:58:31.903140123Z"
    },
    "collapsed": false,
    "jupyter": {
     "outputs_hidden": false
    }
   },
   "outputs": [
    {
     "data": {
      "text/plain": [
       "0    714\n",
       "1    553\n",
       "Name: label, dtype: int64"
      ]
     },
     "execution_count": 8,
     "metadata": {},
     "output_type": "execute_result"
    }
   ],
   "source": [
    "test['label'].value_counts()"
   ]
  },
  {
   "cell_type": "code",
   "execution_count": 9,
   "metadata": {
    "ExecuteTime": {
     "end_time": "2023-06-03T10:58:32.435096966Z",
     "start_time": "2023-06-03T10:58:32.323299654Z"
    },
    "collapsed": false,
    "jupyter": {
     "outputs_hidden": false
    }
   },
   "outputs": [
    {
     "data": {
      "image/png": "[encoded data removed]",
      "text/plain": [
       "<Figure size 640x480 with 1 Axes>"
      ]
     },
     "metadata": {},
     "output_type": "display_data"
    }
   ],
   "source": [
    "plt.bar(test['label'].value_counts().index, test['label'].value_counts().values)\n",
    "\n",
    "plt.xticks(test['label'].value_counts().index)\n",
    "\n",
    "plt.title('Test')\n",
    "plt.xlabel('Label')\n",
    "plt.ylabel('Count')\n",
    "\n",
    "plt.show()"
   ]
  },
  {
   "cell_type": "code",
   "execution_count": 10,
   "metadata": {
    "ExecuteTime": {
     "end_time": "2023-06-03T10:58:32.714519185Z",
     "start_time": "2023-06-03T10:58:32.683315139Z"
    },
    "collapsed": false,
    "jupyter": {
     "outputs_hidden": false
    }
   },
   "outputs": [
    {
     "data": {
      "text/plain": [
       "count    11524.000000\n",
       "mean       106.895783\n",
       "std         58.415051\n",
       "min         11.000000\n",
       "25%         73.000000\n",
       "50%         99.000000\n",
       "75%        133.000000\n",
       "max       3192.000000\n",
       "Name: text, dtype: float64"
      ]
     },
     "execution_count": 10,
     "metadata": {},
     "output_type": "execute_result"
    }
   ],
   "source": [
    "train['text'].str.len().describe()"
   ]
  },
  {
   "cell_type": "code",
   "execution_count": 11,
   "metadata": {
    "ExecuteTime": {
     "end_time": "2023-06-03T10:58:33.157164231Z",
     "start_time": "2023-06-03T10:58:33.109327443Z"
    },
    "collapsed": false,
    "jupyter": {
     "outputs_hidden": false
    }
   },
   "outputs": [
    {
     "data": {
      "text/plain": [
       "count    1267.000000\n",
       "mean      109.578532\n",
       "std        98.031030\n",
       "min        12.000000\n",
       "25%        74.000000\n",
       "50%        98.000000\n",
       "75%       133.000000\n",
       "max      2941.000000\n",
       "Name: text, dtype: float64"
      ]
     },
     "execution_count": 11,
     "metadata": {},
     "output_type": "execute_result"
    }
   ],
   "source": [
    "test['text'].str.len().describe()"
   ]
  },
  {
   "cell_type": "code",
   "execution_count": 12,
   "metadata": {
    "ExecuteTime": {
     "end_time": "2023-06-03T10:58:33.478275240Z",
     "start_time": "2023-06-03T10:58:33.461453199Z"
    },
    "colab": {
     "base_uri": "https://localhost:8080/"
    },
    "id": "qaFYAFhluSCU",
    "outputId": "cf3c01ae-ba06-4501-d53b-8926d079f411"
   },
   "outputs": [],
   "source": [
    "# # OLD data\n",
    "# fake = pd.read_csv('../../data/Fake.csv')\n",
    "# true = pd.read_csv('../../data/True.csv')\n",
    "#\n",
    "# fake[\"label\"] = 0\n",
    "# true[\"label\"] = 1\n",
    "#\n",
    "# df = pd.concat([fake, true], ignore_index = True)\n",
    "#\n",
    "# df['text'] = df['title'] + \" \" + df['text']\n",
    "# df.drop(columns=['title', 'date', 'subject'], inplace = True)"
   ]
  },
  {
   "cell_type": "code",
   "execution_count": 13,
   "metadata": {
    "ExecuteTime": {
     "end_time": "2023-06-03T10:58:34.667521400Z",
     "start_time": "2023-06-03T10:58:33.781067708Z"
    },
    "colab": {
     "base_uri": "https://localhost:8080/"
    },
    "id": "ieOrxB_AuTwA",
    "outputId": "f5f4e1d6-b001-4dab-b81f-7b08125dcdfc"
   },
   "outputs": [
    {
     "name": "stderr",
     "output_type": "stream",
     "text": [
      "[nltk_data] Downloading package stopwords to\n",
      "[nltk_data]     C:\\Users\\Wesub\\AppData\\Roaming\\nltk_data...\n",
      "[nltk_data]   Unzipping corpora\\stopwords.zip.\n",
      "<timed exec>:8: MarkupResemblesLocatorWarning: The input looks more like a filename than markup. You may want to open this file and pass the filehandle into Beautiful Soup.\n"
     ]
    },
    {
     "name": "stdout",
     "output_type": "stream",
     "text": [
      "CPU times: total: 469 ms\n",
      "Wall time: 977 ms\n"
     ]
    }
   ],
   "source": [
    "%%time\n",
    "nltk.download('stopwords')\n",
    "stop = set(stopwords.words('english'))\n",
    "punctuation = list(string.punctuation)\n",
    "stop.update(punctuation)\n",
    "\n",
    "\n",
    "def strip_html(text):\n",
    "    soup = BeautifulSoup(text, \"html.parser\")\n",
    "    return soup.get_text()\n",
    "\n",
    "def remove_between_square_brackets(text):\n",
    "    text = re.sub('\\[[^]]*\\]', '', text)\n",
    "    return re.sub(r'http\\S+', '', text)\n",
    "\n",
    "def remove_stopwords(text):\n",
    "    final_text = []\n",
    "    for i in text.split():\n",
    "        if i.strip().lower() not in stop:\n",
    "            final_text.append(i.strip())\n",
    "    return \" \".join(final_text)\n",
    "    \n",
    "def denoise_text(text):\n",
    "    text = strip_html(text)\n",
    "    text = remove_between_square_brackets(text)\n",
    "    text = remove_stopwords(text)\n",
    "    return text\n",
    "\n",
    "train['text']=train['text'].apply(denoise_text)\n",
    "test['text']=test['text'].apply(denoise_text)\n",
    "\n",
    "train.to_csv(\"../../data/train.csv\", index=False)\n",
    "test.to_csv(\"../../data/test.csv\", index=False)\n",
    "\n",
    "\n",
    "X_train = train['text'].tolist()\n",
    "y_train = train['label'].tolist()\n",
    "with open(\"../../data/X_train\", \"wb\") as fp:\n",
    "    pickle.dump(X_train, fp)\n",
    "with open(\"../../data/y_train\", \"wb\") as fp:\n",
    "    pickle.dump(y_train, fp)\n",
    "\n",
    "X_test = test['text'].tolist()\n",
    "y_test = test['label'].tolist()\n",
    "with open(\"../../data/X_test\", \"wb\") as fp:\n",
    "    pickle.dump(X_test, fp)\n",
    "with open(\"../../data/y_test\", \"wb\") as fp:\n",
    "    pickle.dump(y_test, fp)\n",
    "\n",
    "\n",
    "train_small = train.sample(frac=1).reset_index(drop=True)[:1000]\n",
    "train_small.to_csv(\"../../data/train_small.csv\", index=False)\n",
    "\n",
    "X_train_small = train_small['text'].tolist()\n",
    "y_train_small = train_small['label'].tolist()\n",
    "with open(\"../../data/small/X_train\", \"wb\") as fp:\n",
    "    pickle.dump(X_train_small, fp)\n",
    "with open(\"../../data/small/y_train\", \"wb\") as fp:\n",
    "    pickle.dump(y_train_small, fp)\n",
    "with open(\"../../data/small/X_test\", \"wb\") as fp:\n",
    "    pickle.dump(X_test, fp)\n",
    "with open(\"../../data/small/y_test\", \"wb\") as fp:\n",
    "    pickle.dump(y_test, fp)"
   ]
  },
  {
   "cell_type": "markdown",
   "metadata": {
    "id": "QQMXCPQ97YRZ"
   },
   "source": [
    "---"
   ]
  },
  {
   "cell_type": "markdown",
   "metadata": {
    "id": "TIG7v_fk7jbE"
   },
   "source": [
    "Reduce dataset for testing purposes"
   ]
  },
  {
   "cell_type": "code",
   "execution_count": 14,
   "metadata": {
    "ExecuteTime": {
     "end_time": "2023-06-03T10:58:35.190752477Z",
     "start_time": "2023-06-03T10:58:35.162240642Z"
    },
    "id": "3OAKnGLyuVS0"
   },
   "outputs": [],
   "source": [
    "# df_original = df.copy()\n",
    "# df = df.sample(frac=1).reset_index(drop=True)[:1000]"
   ]
  },
  {
   "cell_type": "markdown",
   "metadata": {
    "id": "oA_tL8Sg7VWO"
   },
   "source": [
    "---"
   ]
  },
  {
   "cell_type": "markdown",
   "metadata": {
    "id": "E-lrFVWwGiwt"
   },
   "source": [
    "# Embedding"
   ]
  },
  {
   "cell_type": "code",
   "execution_count": 15,
   "metadata": {
    "ExecuteTime": {
     "end_time": "2023-06-03T10:58:36.219897278Z",
     "start_time": "2023-06-03T10:58:36.204952835Z"
    }
   },
   "outputs": [],
   "source": [
    "redo_embedding = False # recalculate embeddings\n",
    "fast = False # True if use reduced dataset (1000 obs) vs. False if full dataset (40000 obs)"
   ]
  },
  {
   "cell_type": "code",
   "execution_count": 16,
   "metadata": {
    "ExecuteTime": {
     "end_time": "2023-06-03T10:58:37.885660702Z",
     "start_time": "2023-06-03T10:58:37.836968179Z"
    }
   },
   "outputs": [
    {
     "name": "stdout",
     "output_type": "stream",
     "text": [
      "CPU times: total: 31.2 ms\n",
      "Wall time: 18.9 ms\n"
     ]
    }
   ],
   "source": [
    "%%time\n",
    "# Load data\n",
    "\n",
    "# OLD approach ------------------------\n",
    "# if fast:\n",
    "#     df_original = df.copy()\n",
    "#     df = df.sample(frac=1).reset_index(drop=True)[:1000]\n",
    "#\n",
    "# if redo_embedding:\n",
    "#     X = df['text'].tolist()\n",
    "#     y = df['label'].tolist()\n",
    "#\n",
    "#     with open(\"X\", \"wb\") as fp:\n",
    "#       pickle.dump(X, fp)\n",
    "#     with open(\"y\", \"wb\") as fp:\n",
    "#       pickle.dump(y, fp)\n",
    "# elif fast:\n",
    "#     with open(\"../../data/small/X\", \"rb\") as fp:\n",
    "#       X = pickle.load(fp)\n",
    "#     with open(\"../../data/small/y\", \"rb\") as fp:\n",
    "#       y = pickle.load(fp)\n",
    "# else:\n",
    "#     with open(\"../../data/X\", \"rb\") as fp:\n",
    "#       X = pickle.load(fp)\n",
    "#     with open(\"../../data/y\", \"rb\") as fp:\n",
    "#       y = pickle.load(fp)\n",
    "#\n",
    "# if redo_embedding:\n",
    "#     X_train, X_test, y_train, y_test = train_test_split(X, y, test_size=0.2, random_state=42, stratify=y)\n",
    "#     with open(\"X_train\", \"wb\") as fp:\n",
    "#       pickle.dump(X_train, fp)\n",
    "#     with open(\"X_test\", \"wb\") as fp:\n",
    "#       pickle.dump(X_test, fp)\n",
    "#     with open(\"y_train\", \"wb\") as fp:\n",
    "#       pickle.dump(y_train, fp)\n",
    "#     with open(\"y_test\", \"wb\") as fp:\n",
    "#       pickle.dump(y_test, fp)\n",
    "# elif fast:\n",
    "#     with open(\"../../data/small/X_train\", \"rb\") as fp:\n",
    "#       X_train = pickle.load(fp)\n",
    "#     with open(\"../../data/small/X_test\", \"rb\") as fp:\n",
    "#       X_test = pickle.load(fp)\n",
    "#     with open(\"../../data/small/y_train\", \"rb\") as fp:\n",
    "#       y_train = pickle.load(fp)\n",
    "#     with open(\"../../data/small/y_test\", \"rb\") as fp:\n",
    "#       y_test = pickle.load(fp)\n",
    "# else:\n",
    "#     with open(\"../../data/X_train\", \"rb\") as fp:\n",
    "#       X_train = pickle.load(fp)\n",
    "#     with open(\"../../data/X_test\", \"rb\") as fp:\n",
    "#       X_test = pickle.load(fp)\n",
    "#     with open(\"../../data/y_train\", \"rb\") as fp:\n",
    "#       y_train = pickle.load(fp)\n",
    "#     with open(\"../../data/y_test\", \"rb\") as fp:\n",
    "#       y_test = pickle.load(fp)\n",
    "\n",
    "\n",
    "# NEW approach ------------------------\n",
    "if fast:\n",
    "    with open(\"../../data/small/X_train\", \"rb\") as fp:\n",
    "      X_train = pickle.load(fp)\n",
    "    with open(\"../../data/small/X_test\", \"rb\") as fp:\n",
    "      X_test = pickle.load(fp)\n",
    "    with open(\"../../data/small/y_train\", \"rb\") as fp:\n",
    "      y_train = pickle.load(fp)\n",
    "    with open(\"../../data/small/y_test\", \"rb\") as fp:\n",
    "      y_test = pickle.load(fp)\n",
    "else:\n",
    "    with open(\"../../data/X_train\", \"rb\") as fp:\n",
    "      X_train = pickle.load(fp)\n",
    "    with open(\"../../data/X_test\", \"rb\") as fp:\n",
    "      X_test = pickle.load(fp)\n",
    "    with open(\"../../data/y_train\", \"rb\") as fp:\n",
    "      y_train = pickle.load(fp)\n",
    "    with open(\"../../data/y_test\", \"rb\") as fp:\n",
    "      y_test = pickle.load(fp)"
   ]
  },
  {
   "cell_type": "markdown",
   "metadata": {
    "id": "NqQEmeGREcUg"
   },
   "source": [
    "## BERT Embedding"
   ]
  },
  {
   "cell_type": "code",
   "execution_count": 17,
   "metadata": {
    "ExecuteTime": {
     "end_time": "2023-06-03T10:58:39.736095366Z",
     "start_time": "2023-06-03T10:58:38.605767163Z"
    },
    "colab": {
     "base_uri": "https://localhost:8080/"
    },
    "id": "pbSRaebguY2a",
    "outputId": "a3fc1906-e2a4-4a92-8d1c-a656f2fdd828",
    "tags": []
   },
   "outputs": [],
   "source": [
    "if redo_embedding:\n",
    "    tokenizer = AutoTokenizer.from_pretrained(\"bert-base-uncased\")\n",
    "    bert = AutoModel.from_pretrained(\"bert-base-uncased\", output_hidden_states=True)\n",
    "\n",
    "    device = torch.device(\"cuda\" if torch.cuda.is_available() else \"cpu\")\n",
    "    bert.to(device)\n",
    "\n",
    "    def _get_bert_embedding(text):\n",
    "        input_ids = tokenizer.encode(text, add_special_tokens=True, truncation=True, max_length=512)\n",
    "        input_ids = np.array(input_ids)\n",
    "        input_ids = np.expand_dims(input_ids, axis=0)\n",
    "        input_ids = torch.tensor(input_ids).to(device)\n",
    "\n",
    "        with torch.no_grad():\n",
    "            outputs = bert(input_ids)\n",
    "            last_hidden_state = outputs.last_hidden_state\n",
    "            last_hidden_state = last_hidden_state[:, 0, :].cpu().numpy()\n",
    "\n",
    "        return last_hidden_state\n",
    "\n",
    "    print(\"TRAIN\")\n",
    "    X_train_embeddings = []\n",
    "    for text in tqdm(X_train):\n",
    "        embedding = _get_bert_embedding(text)\n",
    "        X_train_embeddings.append(embedding)\n",
    "    X_train_embeddings = np.array(X_train_embeddings)\n",
    "    X_train_embeddings_bert = np.squeeze(X_train_embeddings, axis=1)\n",
    "\n",
    "    print(\"TEST\")\n",
    "    X_test_embeddings = []\n",
    "    for text in tqdm(X_test):\n",
    "        embedding = _get_bert_embedding(text)\n",
    "        X_test_embeddings.append(embedding)\n",
    "    X_test_embeddings = np.array(X_test_embeddings)\n",
    "    X_test_embeddings_bert = np.squeeze(X_test_embeddings, axis=1)\n",
    "    \n",
    "    if fast:\n",
    "        pd.DataFrame(X_train_embeddings_bert).to_csv(\"../../data/small/embeddings/X_train_embeddings_bert_\"+time.strftime(\"%Y%m%d-%H%M%S\")+\".csv\", index=False, header=False)\n",
    "        pd.DataFrame(X_test_embeddings_bert).to_csv(\"../../data/small/embeddings/X_test_embeddings_bert_\"+time.strftime(\"%Y%m%d-%H%M%S\")+\".csv\", index=False, header=False)\n",
    "    else:\n",
    "        pd.DataFrame(X_train_embeddings_bert).to_csv(\"../../data/embeddings/X_train_embeddings_bert_\"+time.strftime(\"%Y%m%d-%H%M%S\")+\".csv\", index=False, header=False)\n",
    "        pd.DataFrame(X_test_embeddings_bert).to_csv(\"../../data/embeddings/X_test_embeddings_bert_\"+time.strftime(\"%Y%m%d-%H%M%S\")+\".csv\", index=False, header=False)\n",
    "    \n",
    "elif fast:\n",
    "    X_train_embeddings_bert = pd.read_csv('../../data/small/embeddings/X_train_embeddings_bert.csv', sep=',', header=None).values\n",
    "    X_test_embeddings_bert = pd.read_csv('../../data/small/embeddings/X_test_embeddings_bert.csv', sep=',', header=None).values\n",
    "else:\n",
    "    X_train_embeddings_bert = pd.read_csv('../../data/embeddings/X_train_embeddings_bert.csv', sep=',', header=None).values\n",
    "    X_test_embeddings_bert = pd.read_csv('../../data/embeddings/X_test_embeddings_bert.csv', sep=',', header=None).values"
   ]
  },
  {
   "cell_type": "markdown",
   "metadata": {
    "id": "bhGA1YV7GaKD"
   },
   "source": [
    "## GloVe Embedding"
   ]
  },
  {
   "cell_type": "code",
   "execution_count": 18,
   "metadata": {
    "ExecuteTime": {
     "end_time": "2023-06-03T10:58:40.551452456Z",
     "start_time": "2023-06-03T10:58:39.743173091Z"
    }
   },
   "outputs": [],
   "source": [
    "if redo_embedding:\n",
    "\n",
    "    def load_glove_embeddings(filename):\n",
    "        embeddings_index = {}\n",
    "        with open(filename) as f:\n",
    "            for line in tqdm(f):\n",
    "                values = line.split()\n",
    "                word = values[0]\n",
    "                if len(values[1:]) == 300:\n",
    "                    coefs = np.asarray(values[1:], dtype='float32')\n",
    "                    embeddings_index[word] = coefs\n",
    "        return embeddings_index\n",
    "\n",
    "    glove_embeddings = load_glove_embeddings('../../glove/glove.840B.300d.txt')\n",
    "\n",
    "    def text_to_glove_embeddings(text, embeddings_index, embedding_dim):\n",
    "        embeddings = []\n",
    "        for sentence in text:\n",
    "            sentence_embeddings = []\n",
    "            for word in sentence.split():\n",
    "                if word in embeddings_index:\n",
    "                    sentence_embeddings.append(embeddings_index[word])\n",
    "            if len(sentence_embeddings) > 0:\n",
    "                embeddings.append(np.mean(sentence_embeddings, axis=0))\n",
    "            else:\n",
    "                embeddings.append(np.zeros(embedding_dim))\n",
    "        return np.array(embeddings)\n",
    "\n",
    "    X_train_embeddings_glove = text_to_glove_embeddings(X_train, glove_embeddings, embedding_dim=300)\n",
    "    X_test_embeddings_glove = text_to_glove_embeddings(X_test, glove_embeddings, embedding_dim=300)\n",
    "    \n",
    "    if fast:\n",
    "        pd.DataFrame(X_train_embeddings_glove).to_csv(\"../../data/small/embeddings/X_train_embeddings_glove_\"+time.strftime(\"%Y%m%d-%H%M%S\")+\".csv\", index=False, header=False)\n",
    "        pd.DataFrame(X_test_embeddings_glove).to_csv(\"../../data/small/embeddings/X_test_embeddings_glove_\"+time.strftime(\"%Y%m%d-%H%M%S\")+\".csv\", index=False, header=False)\n",
    "    else:\n",
    "        pd.DataFrame(X_train_embeddings_glove).to_csv(\"../../data/embeddings/X_train_embeddings_glove_\"+time.strftime(\"%Y%m%d-%H%M%S\")+\".csv\", index=False, header=False)\n",
    "        pd.DataFrame(X_test_embeddings_glove).to_csv(\"../../data/embeddings/X_test_embeddings_glove_\"+time.strftime(\"%Y%m%d-%H%M%S\")+\".csv\", index=False, header=False)\n",
    "\n",
    "elif fast:\n",
    "    X_train_embeddings_glove = pd.read_csv('../../data/small/embeddings/X_train_embeddings_glove.csv', sep=',', header=None).values\n",
    "    X_test_embeddings_glove = pd.read_csv('../../data/small/embeddings/X_test_embeddings_glove.csv', sep=',', header=None).values\n",
    "\n",
    "else:\n",
    "    X_train_embeddings_glove = pd.read_csv('../../data/embeddings/X_train_embeddings_glove.csv', sep=',', header=None).values\n",
    "    X_test_embeddings_glove = pd.read_csv('../../data/embeddings/X_test_embeddings_glove.csv', sep=',', header=None).values"
   ]
  },
  {
   "cell_type": "markdown",
   "metadata": {},
   "source": [
    "## Word2Vec"
   ]
  },
  {
   "cell_type": "code",
   "execution_count": 19,
   "metadata": {
    "ExecuteTime": {
     "end_time": "2023-06-03T10:58:41.963639819Z",
     "start_time": "2023-06-03T10:58:41.271486876Z"
    },
    "collapsed": false,
    "jupyter": {
     "outputs_hidden": false
    }
   },
   "outputs": [],
   "source": [
    "if redo_embedding:\n",
    "    model = gensim.models.KeyedVectors.load_word2vec_format('../../word2vec/GoogleNews-vectors-negative300.bin.gz', binary=True)\n",
    "\n",
    "def get_word2vec_embeddings(text):\n",
    "    embeddings = []\n",
    "    for sentence in tqdm(text):\n",
    "        tokens = sentence.split()\n",
    "        doc_vecs = [model[token] for token in tokens if token in model.key_to_index]\n",
    "        if len(doc_vecs) > 0:\n",
    "            doc_vec = np.mean(doc_vecs, axis=0)\n",
    "            embeddings.append(doc_vec)\n",
    "        else:\n",
    "            embeddings.append([0] * 300) # if vocabulary does not exist in Word2Vec append a vector of zeros\n",
    "    return np.array(embeddings)\n",
    "\n",
    "\n",
    "if redo_embedding:\n",
    "    # noinspection PyUnboundLocalVariable\n",
    "    X_train_embeddings_word2vec = get_word2vec_embeddings(X_train)\n",
    "    X_test_embeddings_word2vec = get_word2vec_embeddings(X_test)\n",
    "\n",
    "    if fast:\n",
    "        pd.DataFrame(X_train_embeddings_word2vec).to_csv(\"../../data/small/embeddings/X_train_embeddings_word2vec_\"+time.strftime(\"%Y%m%d-%H%M%S\")+\".csv\", index=False, header=False)\n",
    "        pd.DataFrame(X_test_embeddings_word2vec).to_csv(\"../../data/small/embeddings/X_test_embeddings_word2vec_\"+time.strftime(\"%Y%m%d-%H%M%S\")+\".csv\", index=False, header=False)\n",
    "    else:\n",
    "        pd.DataFrame(X_train_embeddings_word2vec).to_csv(\"../../data/embeddings/X_train_embeddings_word2vec_\"+time.strftime(\"%Y%m%d-%H%M%S\")+\".csv\", index=False, header=False)\n",
    "        pd.DataFrame(X_test_embeddings_word2vec).to_csv(\"../../data/embeddings/X_test_embeddings_word2vec_\"+time.strftime(\"%Y%m%d-%H%M%S\")+\".csv\", index=False, header=False)\n",
    "\n",
    "elif fast:\n",
    "    X_train_embeddings_word2vec = pd.read_csv('../../data/small/embeddings/X_train_embeddings_word2vec.csv', sep=',', header=None).values\n",
    "    X_test_embeddings_word2vec = pd.read_csv('../../data/small/embeddings/X_test_embeddings_word2vec.csv', sep=',', header=None).values\n",
    "\n",
    "else:\n",
    "    X_train_embeddings_word2vec = pd.read_csv('../../data/embeddings/X_train_embeddings_word2vec.csv', sep=',', header=None).values\n",
    "    X_test_embeddings_word2vec = pd.read_csv('../../data/embeddings/X_test_embeddings_word2vec.csv', sep=',', header=None).values"
   ]
  },
  {
   "cell_type": "markdown",
   "metadata": {},
   "source": [
    "## GPT2"
   ]
  },
  {
   "cell_type": "code",
   "execution_count": 20,
   "metadata": {
    "ExecuteTime": {
     "end_time": "2023-06-03T10:58:43.264496653Z",
     "start_time": "2023-06-03T10:58:42.024218748Z"
    },
    "collapsed": false,
    "jupyter": {
     "outputs_hidden": false
    }
   },
   "outputs": [],
   "source": [
    "if redo_embedding:\n",
    "    tokenizer = GPT2Tokenizer.from_pretrained(\"gpt2\")\n",
    "    gpt2 = GPT2LMHeadModel.from_pretrained(\"gpt2\", output_hidden_states=True)\n",
    "\n",
    "    device = torch.device(\"cuda\" if torch.cuda.is_available() else \"cpu\")\n",
    "    gpt2.to(device)\n",
    "\n",
    "    def _get_gpt2_embedding(text):\n",
    "        input_ids = tokenizer.encode(text, add_special_tokens=True, truncation=True, max_length=1024)\n",
    "        input_ids = torch.tensor(input_ids).unsqueeze(0).to(device).long()\n",
    "\n",
    "        with torch.no_grad():\n",
    "            embeddings = gpt2.transformer.wte(input_ids)\n",
    "            mean_embedding = embeddings.mean(dim=1)\n",
    "        #     outputs = bert(input_ids)\n",
    "        #     last_hidden_state = outputs.last_hidden_state\n",
    "        #     last_hidden_state = last_hidden_state[:, 0, :].cpu().numpy()\n",
    "\n",
    "            #vector = gpt2.transformer.wte.weight[input_ids,:]\n",
    "        mean_embedding = mean_embedding.cpu().numpy()\n",
    "        return mean_embedding\n",
    "\n",
    "    print(\"TRAIN\")\n",
    "    X_train_embeddings = []\n",
    "    for text in tqdm(X_train):\n",
    "        embedding = _get_gpt2_embedding(text)\n",
    "        X_train_embeddings.append(embedding)\n",
    "    X_train_embeddings = np.array(X_train_embeddings)\n",
    "    X_train_embeddings_gpt2 = np.squeeze(X_train_embeddings, axis=1)\n",
    "\n",
    "    print(\"TEST\")\n",
    "    X_test_embeddings = []\n",
    "    for text in tqdm(X_test):\n",
    "        embedding = _get_gpt2_embedding(text)\n",
    "        X_test_embeddings.append(embedding)\n",
    "    X_test_embeddings = np.array(X_test_embeddings)\n",
    "    X_test_embeddings_gpt2 = np.squeeze(X_test_embeddings, axis=1)\n",
    "\n",
    "    if fast:\n",
    "        pd.DataFrame(X_train_embeddings_gpt2).to_csv(\"../../data/small/embeddings/X_train_embeddings_gpt2_\"+time.strftime(\"%Y%m%d-%H%M%S\")+\".csv\", index=False, header=False)\n",
    "        pd.DataFrame(X_test_embeddings_gpt2).to_csv(\"../../data/small/embeddings/X_test_embeddings_gpt2_\"+time.strftime(\"%Y%m%d-%H%M%S\")+\".csv\", index=False, header=False)\n",
    "    else:\n",
    "        pd.DataFrame(X_train_embeddings_gpt2).to_csv(\"../../data/embeddings/X_train_embeddings_gpt2_\"+time.strftime(\"%Y%m%d-%H%M%S\")+\".csv\", index=False, header=False)\n",
    "        pd.DataFrame(X_test_embeddings_gpt2).to_csv(\"../../data/embeddings/X_test_embeddings_gpt2_\"+time.strftime(\"%Y%m%d-%H%M%S\")+\".csv\", index=False, header=False)\n",
    "\n",
    "elif fast:\n",
    "    X_train_embeddings_gpt2 = pd.read_csv('../../data/small/embeddings/X_train_embeddings_gpt2.csv', sep=',', header=None).values\n",
    "    X_test_embeddings_gpt2 = pd.read_csv('../../data/small/embeddings/X_test_embeddings_gpt2.csv', sep=',', header=None).values\n",
    "else:\n",
    "    X_train_embeddings_gpt2 = pd.read_csv('../../data/embeddings/X_train_embeddings_gpt2.csv', sep=',', header=None).values\n",
    "    X_test_embeddings_gpt2 = pd.read_csv('../../data/embeddings/X_test_embeddings_gpt2.csv', sep=',', header=None).values"
   ]
  },
  {
   "cell_type": "markdown",
   "metadata": {},
   "source": [
    "## RoBERTa"
   ]
  },
  {
   "cell_type": "code",
   "execution_count": 21,
   "metadata": {
    "ExecuteTime": {
     "end_time": "2023-06-03T10:58:44.748419263Z",
     "start_time": "2023-06-03T10:58:43.265323467Z"
    },
    "collapsed": false,
    "jupyter": {
     "outputs_hidden": false
    }
   },
   "outputs": [],
   "source": [
    "if redo_embedding:\n",
    "    tokenizer = AutoTokenizer.from_pretrained(\"roberta-base\")\n",
    "    roberta = AutoModel.from_pretrained(\"roberta-base\", output_hidden_states=True)\n",
    "\n",
    "    device = torch.device(\"cuda\" if torch.cuda.is_available() else \"cpu\")\n",
    "    roberta.to(device)\n",
    "\n",
    "    def _get_roberta_embedding(text):\n",
    "        input_ids = tokenizer.encode(text, add_special_tokens=True, truncation=True, max_length=512)\n",
    "        input_ids = np.array(input_ids)\n",
    "        input_ids = np.expand_dims(input_ids, axis=0)\n",
    "        input_ids = torch.tensor(input_ids).to(device)\n",
    "\n",
    "        with torch.no_grad():\n",
    "            outputs = roberta(input_ids)\n",
    "            last_hidden_state = outputs.last_hidden_state\n",
    "            last_hidden_state = last_hidden_state[:, 0, :].cpu().numpy()\n",
    "\n",
    "        return last_hidden_state\n",
    "\n",
    "    print(\"TRAIN\")\n",
    "    X_train_embeddings = []\n",
    "    for text in tqdm(X_train):\n",
    "        embedding = _get_roberta_embedding(text)\n",
    "        X_train_embeddings.append(embedding)\n",
    "    X_train_embeddings = np.array(X_train_embeddings)\n",
    "    X_train_embeddings_roberta = np.squeeze(X_train_embeddings, axis=1)\n",
    "\n",
    "    print(\"TEST\")\n",
    "    X_test_embeddings = []\n",
    "    for text in tqdm(X_test):\n",
    "        embedding = _get_roberta_embedding(text)\n",
    "        X_test_embeddings.append(embedding)\n",
    "    X_test_embeddings = np.array(X_test_embeddings)\n",
    "    X_test_embeddings_roberta = np.squeeze(X_test_embeddings, axis=1)\n",
    "\n",
    "    if fast:\n",
    "        pd.DataFrame(X_train_embeddings_roberta).to_csv(\"../../data/small/embeddings/X_train_embeddings_roberta_\"+time.strftime(\"%Y%m%d-%H%M%S\")+\".csv\", index=False, header=False)\n",
    "        pd.DataFrame(X_test_embeddings_roberta).to_csv(\"../../data/small/embeddings/X_test_embeddings_roberta_\"+time.strftime(\"%Y%m%d-%H%M%S\")+\".csv\", index=False, header=False)\n",
    "    else:\n",
    "        pd.DataFrame(X_train_embeddings_roberta).to_csv(\"../../data/embeddings/X_train_embeddings_roberta_\"+time.strftime(\"%Y%m%d-%H%M%S\")+\".csv\", index=False, header=False)\n",
    "        pd.DataFrame(X_test_embeddings_roberta).to_csv(\"../../data/embeddings/X_test_embeddings_roberta_\"+time.strftime(\"%Y%m%d-%H%M%S\")+\".csv\", index=False, header=False)\n",
    "\n",
    "elif fast:\n",
    "    X_train_embeddings_roberta = pd.read_csv('../../data/small/embeddings/X_train_embeddings_roberta.csv', sep=',', header=None).values\n",
    "    X_test_embeddings_roberta = pd.read_csv('../../data/small/embeddings/X_test_embeddings_roberta.csv', sep=',', header=None).values\n",
    "else:\n",
    "    X_train_embeddings_roberta = pd.read_csv('../../data/embeddings/X_train_embeddings_roberta.csv', sep=',', header=None).values\n",
    "    X_test_embeddings_roberta = pd.read_csv('../../data/embeddings/X_test_embeddings_roberta.csv', sep=',', header=None).values"
   ]
  },
  {
   "cell_type": "markdown",
   "metadata": {
    "id": "VMvpJtV-EiIo"
   },
   "source": [
    "# Classification"
   ]
  },
  {
   "cell_type": "markdown",
   "metadata": {},
   "source": [
    "## Wrappers"
   ]
  },
  {
   "cell_type": "markdown",
   "metadata": {},
   "source": [
    "### KNN"
   ]
  },
  {
   "cell_type": "code",
   "execution_count": 22,
   "metadata": {
    "ExecuteTime": {
     "end_time": "2023-06-03T10:58:52.817302627Z",
     "start_time": "2023-06-03T10:58:52.715551820Z"
    }
   },
   "outputs": [],
   "source": [
    "class KNNClassifier:\n",
    "    def __init__(self, n_neighbors=2, weights='uniform', metric='minkowski'):\n",
    "        self.n_neighbors = n_neighbors\n",
    "        self.weights = weights\n",
    "        self.metric = metric\n",
    "        self.model = None\n",
    "\n",
    "    def fit(self, X_train, y_train):\n",
    "        self.model = KNeighborsClassifier(n_neighbors=self.n_neighbors, weights=self.weights, metric=self.metric)\n",
    "        self.model.fit(X_train, y_train)\n",
    "\n",
    "    def predict(self, X_test):\n",
    "        if self.model is None:\n",
    "          raise ValueError(\"The model has not been trained yet. Please call 'fit' first.\")\n",
    "        y_pred = self.model.predict(X_test)\n",
    "        return y_pred\n",
    "\n",
    "    def randomized_search(self, X_train, y_train, param_distributions, cv=5, n_iter=20):\n",
    "        self.model = KNeighborsClassifier()\n",
    "        random_search = RandomizedSearchCV(self.model, param_distributions=param_distributions, cv=cv, n_iter=n_iter, scoring=\"f1\", verbose=3)\n",
    "        random_search.fit(X_train, y_train)\n",
    "\n",
    "        print('Best parameters:', random_search.best_params_, '\\n')\n",
    "        self.n_neighbors = random_search.best_params_['n_neighbors']\n",
    "        self.weights = random_search.best_params_['weights']\n",
    "        self.metric = random_search.best_params_['metric']\n",
    "\n",
    "        self.model = KNeighborsClassifier(n_neighbors=self.n_neighbors, weights=self.weights, metric=self.metric)\n",
    "\n",
    "    def evaluate(self, X_test, y_test):\n",
    "        if self.model is None:\n",
    "              raise ValueError(\"The model has not been trained yet. Please call 'fit' first.\")\n",
    "        y_pred = self.predict(X_test)\n",
    "\n",
    "        cm = confusion_matrix(y_test, y_pred)\n",
    "        accuracy = round(accuracy_score(y_test, y_pred)*100,1)\n",
    "        f1 = round(f1_score(y_test, y_pred)*100,1)\n",
    "        balanced_accuracy = round(balanced_accuracy_score(y_test, y_pred)*100,1)\n",
    "        auc = round(roc_auc_score(y_test, y_pred)*100, 1)\n",
    "\n",
    "        print('\\nConfusion matrix\\n', cm, '\\n')\n",
    "        print('Accuracy:', accuracy, '\\n')\n",
    "        print('F1 Score:', f1, '\\n')\n",
    "        print('Balanced accuracy:', f1, '\\n')\n",
    "        print('AUC Score:', auc, '\\n')\n",
    "\n",
    "        return cm, accuracy, f1, balanced_accuracy, auc"
   ]
  },
  {
   "cell_type": "markdown",
   "metadata": {
    "tags": []
   },
   "source": [
    "### XGBoost"
   ]
  },
  {
   "cell_type": "code",
   "execution_count": 23,
   "metadata": {
    "ExecuteTime": {
     "end_time": "2023-06-03T10:58:56.291014245Z",
     "start_time": "2023-06-03T10:58:56.265756686Z"
    }
   },
   "outputs": [],
   "source": [
    "class XGBoostClassifier:\n",
    "    def __init__(self, learning_rate=0.1, max_depth=5, min_child_weight=1, subsample=0.5, colsample_bytree=0.5, n_estimators=100, objective='req:squarederror'):\n",
    "        self.learning_rate = learning_rate\n",
    "        self.max_depth = max_depth\n",
    "        self.min_child_weight = min_child_weight\n",
    "        self.subsample = subsample\n",
    "        self.colsample_bytree = colsample_bytree\n",
    "        self.n_estimators = n_estimators\n",
    "        self.objective = objective\n",
    "        self.model = None\n",
    "\n",
    "    def fit(self, X_train, y_train):\n",
    "        self.model = xgb.XGBClassifier(learning_rate=self.learning_rate, max_depth=self.max_depth, min_child_weight=self.min_child_weight, subsample=self.subsample, colsample_bytree=self.colsample_bytree, n_estimators=self.n_estimators, objective=self.objective)\n",
    "        self.model.fit(X_train, y_train)\n",
    "\n",
    "    def predict(self, X_test):\n",
    "        if self.model is None:\n",
    "          raise ValueError(\"The model has not been trained yet. Please call 'fit' first.\")\n",
    "        y_pred = self.model.predict(X_test)\n",
    "\n",
    "        return y_pred\n",
    "\n",
    "    def randomized_search(self, X_train, y_train, param_distributions, cv=5, n_iter=20):\n",
    "        self.model = xgb.XGBClassifier()\n",
    "        random_search = RandomizedSearchCV(self.model, param_distributions=param_distributions, cv=cv, n_iter=n_iter, scoring=\"f1\", verbose=3)\n",
    "        random_search.fit(X_train, y_train)\n",
    "\n",
    "        print('Best parameters:', random_search.best_params_, '\\n')\n",
    "        self.learning_rate = random_search.best_params_['learning_rate']\n",
    "        self.max_depth = random_search.best_params_['max_depth']\n",
    "        self.min_child_weight = random_search.best_params_['min_child_weight']\n",
    "        self.subsample = random_search.best_params_['subsample']\n",
    "        self.colsample_bytree = random_search.best_params_['colsample_bytree']\n",
    "        self.n_estimators = random_search.best_params_['n_estimators']\n",
    "        self.objective = random_search.best_params_['objective']\n",
    "\n",
    "        self.model = xgb.XGBClassifier(learning_rate=self.learning_rate, max_depth=self.max_depth, min_child_weight=self.min_child_weight, subsample=self.subsample, colsample_bytree=self.colsample_bytree, n_estimators=self.n_estimators, objective=self.objective)\n",
    "\n",
    "    def evaluate(self, X_test, y_test):\n",
    "        if self.model is None:\n",
    "              raise ValueError(\"The model has not been trained yet. Please call 'fit' first.\")\n",
    "        y_pred = self.predict(X_test)\n",
    "\n",
    "        cm = confusion_matrix(y_test, y_pred)\n",
    "        accuracy = round(accuracy_score(y_test, y_pred)*100,1)\n",
    "        f1 = round(f1_score(y_test, y_pred)*100,1)\n",
    "        balanced_accuracy = round(balanced_accuracy_score(y_test, y_pred)*100,1)\n",
    "        auc = round(roc_auc_score(y_test, y_pred)*100, 1)\n",
    "\n",
    "        print('\\nConfusion matrix\\n', cm, '\\n')\n",
    "        print('Accuracy:', accuracy, '\\n')\n",
    "        print('F1 Score:', f1, '\\n')\n",
    "        print('Balanced accuracy:', f1, '\\n')\n",
    "        print('AUC Score:', auc, '\\n')\n",
    "\n",
    "        return cm, accuracy, f1, balanced_accuracy, auc"
   ]
  },
  {
   "cell_type": "markdown",
   "metadata": {},
   "source": [
    "### Random Forest"
   ]
  },
  {
   "cell_type": "code",
   "execution_count": 24,
   "metadata": {
    "ExecuteTime": {
     "end_time": "2023-06-03T10:58:57.504449313Z",
     "start_time": "2023-06-03T10:58:57.481635399Z"
    }
   },
   "outputs": [],
   "source": [
    "class RFClassifier:\n",
    "    def __init__(self, n_estimators=100, max_features='sqrt', max_depth='none', bootstrap=True):\n",
    "        self.n_estimators = n_estimators\n",
    "        self.max_features = max_features\n",
    "        self.max_depth = max_depth\n",
    "        self.bootstrap = bootstrap\n",
    "        self.model = None\n",
    "\n",
    "    def fit(self, X_train, y_train):\n",
    "        self.model = RandomForestClassifier(n_estimators=self.n_estimators, max_features=self.max_features, max_depth=self.max_depth, bootstrap=self.bootstrap, verbose=True)\n",
    "        self.model.fit(X_train, y_train)\n",
    "\n",
    "    def predict(self, X_test):\n",
    "        if self.model is None:\n",
    "          raise ValueError(\"The model has not been trained yet. Please call 'fit' first.\")\n",
    "        y_pred = self.model.predict(X_test)\n",
    "\n",
    "        return y_pred\n",
    "\n",
    "    def randomized_search(self, X_train, y_train, param_distributions, cv=5, n_iter=20):\n",
    "        self.model = RandomForestClassifier()\n",
    "        random_search = RandomizedSearchCV(self.model, param_distributions=param_distributions, cv=cv, n_iter=n_iter, scoring=\"f1\", verbose=3)\n",
    "        random_search.fit(X_train, y_train)\n",
    "\n",
    "        print('Best parameters:', random_search.best_params_, '\\n')\n",
    "        self.n_estimators = random_search.best_params_['n_estimators']\n",
    "        self.max_features = random_search.best_params_['max_features']\n",
    "        self.max_depth = random_search.best_params_['max_depth']\n",
    "        self.bootstrap = random_search.best_params_['bootstrap']\n",
    "\n",
    "        self.model = RandomForestClassifier(n_estimators=self.n_estimators, max_features=self.max_features, max_depth=self.max_depth, bootstrap=self.bootstrap)\n",
    "\n",
    "    def evaluate(self, X_test, y_test):\n",
    "        if self.model is None:\n",
    "              raise ValueError(\"The model has not been trained yet. Please call 'fit' first.\")\n",
    "        y_pred = self.predict(X_test)\n",
    "\n",
    "        cm = confusion_matrix(y_test, y_pred)\n",
    "        accuracy = round(accuracy_score(y_test, y_pred)*100,1)\n",
    "        f1 = round(f1_score(y_test, y_pred)*100,1)\n",
    "        balanced_accuracy = round(balanced_accuracy_score(y_test, y_pred)*100,1)\n",
    "        auc = round(roc_auc_score(y_test, y_pred)*100, 1)\n",
    "\n",
    "        print('\\nConfusion matrix\\n', cm, '\\n')\n",
    "        print('Accuracy:', accuracy, '\\n')\n",
    "        print('F1 Score:', f1, '\\n')\n",
    "        print('Balanced accuracy:', f1, '\\n')\n",
    "        print('AUC Score:', auc, '\\n')\n",
    "\n",
    "        return cm, accuracy, f1, balanced_accuracy, auc"
   ]
  },
  {
   "cell_type": "markdown",
   "metadata": {},
   "source": [
    "### SVC"
   ]
  },
  {
   "cell_type": "code",
   "execution_count": 25,
   "metadata": {
    "ExecuteTime": {
     "end_time": "2023-06-03T10:58:58.556356969Z",
     "start_time": "2023-06-03T10:58:58.476178251Z"
    }
   },
   "outputs": [],
   "source": [
    "class SVClassifier:\n",
    "    def __init__(self, C = 1, kernel='linear', gamma = 0.2):\n",
    "        self.C = C\n",
    "        self.kernel = kernel\n",
    "        self.gamma = gamma\n",
    "        self.model = None\n",
    "\n",
    "    def fit(self, X_train, y_train):\n",
    "        self.model = svm.SVC(C=self.C, kernel=self.kernel, gamma=self.gamma, verbose=True)\n",
    "        self.model.fit(X_train, y_train)\n",
    "\n",
    "    def predict(self, X_test):\n",
    "        if self.model is None:\n",
    "          raise ValueError(\"The model has not been trained yet. Please call 'fit' first.\")\n",
    "        y_pred = self.model.predict(X_test)\n",
    "\n",
    "        return y_pred\n",
    "\n",
    "    def randomized_search(self, X_train, y_train, param_distributions, cv=5, n_iter=20):\n",
    "        self.model = svm.SVC()\n",
    "        random_search = RandomizedSearchCV(self.model, param_distributions=param_distributions, cv=cv, n_iter=n_iter, scoring=\"f1\", verbose=3)\n",
    "        random_search.fit(X_train, y_train)\n",
    "\n",
    "        print('Best parameters:', random_search.best_params_, '\\n')\n",
    "        self.C = random_search.best_params_['C']\n",
    "        self.kernel = random_search.best_params_['kernel']\n",
    "        self.gamma = random_search.best_params_['gamma']\n",
    "\n",
    "        self.model = svm.SVC(C=self.C, kernel=self.kernel, gamma=self.gamma)\n",
    "\n",
    "    def evaluate(self, X_test, y_test):\n",
    "        if self.model is None:\n",
    "              raise ValueError(\"The model has not been trained yet. Please call 'fit' first.\")\n",
    "        y_pred = self.predict(X_test)\n",
    "\n",
    "        cm = confusion_matrix(y_test, y_pred)\n",
    "        accuracy = round(accuracy_score(y_test, y_pred)*100,1)\n",
    "        f1 = round(f1_score(y_test, y_pred)*100,1)\n",
    "        balanced_accuracy = round(balanced_accuracy_score(y_test, y_pred)*100,1)\n",
    "        auc = round(roc_auc_score(y_test, y_pred)*100, 1)\n",
    "\n",
    "        print('\\nConfusion matrix\\n', cm, '\\n')\n",
    "        print('Accuracy:', accuracy, '\\n')\n",
    "        print('F1 Score:', f1, '\\n')\n",
    "        print('Balanced accuracy:', f1, '\\n')\n",
    "        print('AUC Score:', auc, '\\n')\n",
    "\n",
    "        return cm, accuracy, f1, balanced_accuracy, auc"
   ]
  },
  {
   "cell_type": "markdown",
   "metadata": {},
   "source": [
    "### Logistic Regression"
   ]
  },
  {
   "cell_type": "code",
   "execution_count": 26,
   "metadata": {
    "ExecuteTime": {
     "end_time": "2023-06-03T10:59:00.687298447Z",
     "start_time": "2023-06-03T10:59:00.621633385Z"
    }
   },
   "outputs": [],
   "source": [
    "class LRClassifier:\n",
    "    def __init__(self, penalty = 'l2', solver = 'libinear', C = 0.5):\n",
    "        self.penalty = penalty\n",
    "        self.solver = solver\n",
    "        self.C = C\n",
    "        self.model = None\n",
    "\n",
    "    def fit(self, X_train, y_train):\n",
    "        self.model = LogisticRegression(penalty=self.penalty, solver=self.solver, C=self.C)\n",
    "        self.model.fit(X_train, y_train)\n",
    "\n",
    "    def predict(self, X_test):\n",
    "        if self.model is None:\n",
    "          raise ValueError(\"The model has not been trained yet. Please call 'fit' first.\")\n",
    "        y_pred = self.model.predict(X_test)\n",
    "\n",
    "        return y_pred\n",
    "\n",
    "    def randomized_search(self, X_train, y_train, param_distributions, cv=5, n_iter=20):\n",
    "        self.model = LogisticRegression()\n",
    "        random_search = RandomizedSearchCV(self.model, param_distributions=param_distributions, cv=cv, n_iter=n_iter, scoring=\"f1\", verbose=3)\n",
    "        random_search.fit(X_train, y_train)\n",
    "\n",
    "        print('Best parameters:', random_search.best_params_, '\\n')\n",
    "        self.penalty = random_search.best_params_['penalty']\n",
    "        self.solver = random_search.best_params_['solver']\n",
    "        self.C = random_search.best_params_['C']\n",
    "\n",
    "        self.model = LogisticRegression(penalty=self.penalty, solver=self.solver, C=self.C)\n",
    "\n",
    "    def evaluate(self, X_test, y_test):\n",
    "        if self.model is None:\n",
    "              raise ValueError(\"The model has not been trained yet. Please call 'fit' first.\")\n",
    "        y_pred = self.predict(X_test)\n",
    "\n",
    "        cm = confusion_matrix(y_test, y_pred)\n",
    "        accuracy = round(accuracy_score(y_test, y_pred)*100,1)\n",
    "        f1 = round(f1_score(y_test, y_pred)*100,1)\n",
    "        balanced_accuracy = round(balanced_accuracy_score(y_test, y_pred)*100,1)\n",
    "        auc = round(roc_auc_score(y_test, y_pred)*100, 1)\n",
    "\n",
    "        print('\\nConfusion matrix\\n', cm, '\\n')\n",
    "        print('Accuracy:', accuracy, '\\n')\n",
    "        print('F1 Score:', f1, '\\n')\n",
    "        print('Balanced accuracy:', f1, '\\n')\n",
    "        print('AUC Score:', auc, '\\n')\n",
    "\n",
    "        return cm, accuracy, f1, balanced_accuracy, auc"
   ]
  },
  {
   "cell_type": "markdown",
   "metadata": {},
   "source": [
    "### Neural Network"
   ]
  },
  {
   "cell_type": "code",
   "execution_count": 27,
   "metadata": {
    "ExecuteTime": {
     "end_time": "2023-06-03T10:59:01.711727205Z",
     "start_time": "2023-06-03T10:59:01.670615767Z"
    },
    "collapsed": false,
    "jupyter": {
     "outputs_hidden": false
    }
   },
   "outputs": [],
   "source": [
    "class FakeNewsClassifier(nn.Module):\n",
    "    def __init__(self, embedding_dim, hidden_dim, output_dim, dropout):\n",
    "        super(FakeNewsClassifier, self).__init__()\n",
    "        self.fc1 = nn.Linear(embedding_dim, hidden_dim)\n",
    "        self.dropout = nn.Dropout(dropout)\n",
    "        self.fc2 = nn.Linear(hidden_dim, output_dim)\n",
    "        self.relu = nn.ReLU()\n",
    "\n",
    "    def forward(self, x):\n",
    "        hidden = self.relu(self.fc1(x))\n",
    "        hidden = self.dropout(hidden)\n",
    "        output = self.fc2(hidden)\n",
    "        return output\n",
    "\n",
    "class NeuralNetworkClassifier:\n",
    "    def __init__(self, input_dim, hidden_dim, dropout, output_dim=2):\n",
    "        self.input_dim = input_dim\n",
    "        self.hidden_dim = hidden_dim\n",
    "        self.output_dim = output_dim\n",
    "        self.dropout = dropout\n",
    "        self.model = None\n",
    "\n",
    "    def fit(self, X_train, y_train, X_val, y_val, patience, num_epochs=10, lr=0.001):\n",
    "        self.model = None\n",
    "\n",
    "        self.model = FakeNewsClassifier(self.input_dim, self.hidden_dim, self.output_dim, self.dropout)\n",
    "        self.model = self.model.float()\n",
    "\n",
    "        class_counts = np.bincount(y_train)\n",
    "        num_classes = len(class_counts)\n",
    "        class_weights = torch.tensor(class_counts.sum() / (num_classes * class_counts), dtype=torch.float)\n",
    "\n",
    "        criterion = nn.CrossEntropyLoss(weight=class_weights)\n",
    "        optimizer = optim.Adam(self.model.parameters(), lr=lr)\n",
    "\n",
    "        best_loss = float('inf')\n",
    "        early_stop_counter = 0\n",
    "\n",
    "        train_losses = []\n",
    "        val_losses = []\n",
    "        f1_scores = []\n",
    "\n",
    "        for epoch in range(num_epochs):\n",
    "            train_loss = 0.0\n",
    "\n",
    "            self.model.train()\n",
    "\n",
    "            for embedding, label in zip(X_train, y_train):\n",
    "                embedding_tensor = torch.from_numpy(embedding).float().unsqueeze(0)\n",
    "                label_tensor = torch.tensor([label])\n",
    "                optimizer.zero_grad()\n",
    "                outputs = self.model(embedding_tensor)\n",
    "                loss = criterion(outputs, label_tensor)\n",
    "                loss.backward()\n",
    "                optimizer.step()\n",
    "                train_loss += loss.item()\n",
    "\n",
    "            avg_train_loss = train_loss / len(X_train)\n",
    "\n",
    "            self.model.eval()\n",
    "\n",
    "            with torch.no_grad():\n",
    "                val_loss = 0.0\n",
    "\n",
    "                for embedding, label in zip(X_val, y_val):\n",
    "                    embedding_tensor = torch.from_numpy(embedding).float().unsqueeze(0)\n",
    "                    label_tensor = torch.tensor([label])\n",
    "                    outputs = self.model(embedding_tensor)\n",
    "                    loss = criterion(outputs, label_tensor)\n",
    "                    val_loss += loss.item()\n",
    "\n",
    "                avg_val_loss = val_loss / len(X_val)\n",
    "\n",
    "                train_losses.append(avg_train_loss)\n",
    "                val_losses.append(avg_val_loss)\n",
    "\n",
    "                y_pred = self.predict(X_val)\n",
    "                f1 = f1_score(y_val, y_pred)\n",
    "                f1_scores.append(f1)\n",
    "\n",
    "                print(f\"Epoch {epoch + 1}/{num_epochs} | Train Loss: {avg_train_loss:.4f} | Val Loss: {avg_val_loss:.4f} | F1 Score: {f1:.4f} | Balanced Accuracy: {balanced_accuracy_score(y_val, y_pred):.4f} | AUC: {roc_auc_score(y_val, y_pred):.4f}\")\n",
    "\n",
    "                if avg_val_loss < best_loss:\n",
    "                    best_loss = avg_val_loss\n",
    "                    early_stop_counter = 0\n",
    "                else:\n",
    "                    early_stop_counter += 1\n",
    "                    if early_stop_counter >= patience:\n",
    "                        print(f\"Early stopping triggered. No improvement in {patience} epochs.\")\n",
    "                        break\n",
    "\n",
    "        plt.figure(figsize=(12, 4))\n",
    "        epochs = np.arange(1, len(train_losses) + 1)\n",
    "        plt.subplot(1, 2, 1)\n",
    "        plt.plot(epochs, train_losses, label='Train Loss')\n",
    "        plt.plot(epochs, val_losses, label='Val Loss')\n",
    "        plt.plot(epochs, f1_scores, label='F1 Score')\n",
    "        plt.xlabel('Epochs')\n",
    "        plt.ylabel('Loss')  # Adding the y-axis label\n",
    "        plt.legend()  # Adding the legend\n",
    "        plt.show()\n",
    "\n",
    "    def predict(self, X_test):\n",
    "        if self.model is None:\n",
    "            raise ValueError(\"The model has not been trained yet. Please call 'fit' first.\")\n",
    "        test_inputs = torch.from_numpy(X_test).float()\n",
    "        predictions = self.model(test_inputs)\n",
    "        predicted_classes = torch.argmax(predictions, dim=1)\n",
    "        predicted_classes = predicted_classes.numpy()\n",
    "        return predicted_classes\n",
    "\n",
    "    def evaluate(self, X_test, y_test):\n",
    "        if self.model is None:\n",
    "            raise ValueError(\"The model has not been trained yet. Please call 'fit' first.\")\n",
    "        y_pred = self.predict(X_test)\n",
    "\n",
    "        cm = confusion_matrix(y_test, y_pred)\n",
    "        accuracy = round(accuracy_score(y_test, y_pred) * 100, 1)\n",
    "        f1 = round(f1_score(y_test, y_pred) * 100, 1)\n",
    "        balanced_accuracy = round(balanced_accuracy_score(y_test, y_pred) * 100, 1)\n",
    "        auc = round(roc_auc_score(y_test, y_pred) * 100, 1)\n",
    "\n",
    "        print('\\nConfusion matrix\\n', cm, '\\n')\n",
    "        print('Accuracy:', accuracy, '\\n')\n",
    "        print('F1 Score:', f1, '\\n')\n",
    "        print('Balanced accuracy:', balanced_accuracy, '\\n')\n",
    "        print('AUC Score:', auc, '\\n')\n",
    "\n",
    "        return cm, accuracy, f1, balanced_accuracy, auc"
   ]
  },
  {
   "cell_type": "markdown",
   "metadata": {},
   "source": [
    "OLD NN Wrapper"
   ]
  },
  {
   "cell_type": "code",
   "execution_count": 46,
   "metadata": {
    "ExecuteTime": {
     "end_time": "2023-06-03T10:59:02.981138131Z",
     "start_time": "2023-06-03T10:59:02.952267725Z"
    },
    "collapsed": false,
    "jupyter": {
     "outputs_hidden": false
    }
   },
   "outputs": [],
   "source": [
    "# class FakeNewsClassifier(nn.Module):\n",
    "#     def __init__(self, embedding_dim, hidden_dim, output_dim):\n",
    "#         super(FakeNewsClassifier, self).__init__()\n",
    "#         self.fc1 = nn.Linear(embedding_dim, hidden_dim)\n",
    "#         self.fc2 = nn.Linear(hidden_dim, output_dim)\n",
    "#         self.relu = nn.ReLU()\n",
    "#\n",
    "#     def forward(self, x):\n",
    "#         hidden = self.relu(self.fc1(x))\n",
    "#         output = self.fc2(hidden)\n",
    "#         return output\n",
    "#\n",
    "# class NeuralNetworkClassifier:\n",
    "#     def __init__(self, input_dim, hidden_dim, output_dim=2):\n",
    "#         self.input_dim = input_dim\n",
    "#         self.hidden_dim = hidden_dim\n",
    "#         self.output_dim = output_dim\n",
    "#         self.model = None\n",
    "#\n",
    "#     def fit(self, X_train, y_train, num_epochs=10, lr=0.001):\n",
    "#         self.model = FakeNewsClassifier(self.input_dim, self.hidden_dim, self.output_dim)\n",
    "#         self.model = self.model.double()\n",
    "#\n",
    "#         criterion = nn.CrossEntropyLoss()\n",
    "#         optimizer = optim.Adam(self.model.parameters(), lr=lr)\n",
    "#\n",
    "#         for _ in tqdm(range(num_epochs), desc=\"Epoch\"):\n",
    "#             for embedding, label in zip(X_train, y_train):\n",
    "#                 embedding_tensor = torch.from_numpy(embedding).double().unsqueeze(0)\n",
    "#                 label_tensor = torch.tensor([label])\n",
    "#                 optimizer.zero_grad()\n",
    "#                 outputs = self.model(embedding_tensor)\n",
    "#                 loss = criterion(outputs, label_tensor)\n",
    "#                 loss.backward()\n",
    "#                 optimizer.step()\n",
    "#\n",
    "#     def predict(self, X_test):\n",
    "#         if self.model is None:\n",
    "#             raise ValueError(\"The model has not been trained yet. Please call 'fit' first.\")\n",
    "#         test_inputs = torch.from_numpy(X_test).double()\n",
    "#         predictions = self.model(test_inputs)\n",
    "#         predicted_classes = torch.argmax(predictions, dim=1)\n",
    "#         predicted_classes = predicted_classes.numpy()\n",
    "#         return predicted_classes\n",
    "#\n",
    "#     def evaluate(self, X_test, y_test):\n",
    "#         if self.model is None:\n",
    "#             raise ValueError(\"The model has not been trained yet. Please call 'fit' first.\")\n",
    "#         y_pred = self.predict(X_test)\n",
    "#\n",
    "#         cm = confusion_matrix(y_test, y_pred)\n",
    "#         accuracy = round(accuracy_score(y_test, y_pred)*100, 1)\n",
    "#         f1 = round(f1_score(y_test, y_pred)*100, 1)\n",
    "#         balanced_accuracy = round(balanced_accuracy_score(y_test, y_pred)*100,1)\n",
    "#         auc = round(roc_auc_score(y_test, y_pred)*100, 1)\n",
    "#\n",
    "#         print('\\nConfusion matrix\\n', cm, '\\n')\n",
    "#         print('Accuracy:', accuracy, '\\n')\n",
    "#         print('F1 Score:', f1, '\\n')\n",
    "#         print('Balanced accuracy:', f1, '\\n')\n",
    "#         print('AUC Score:', auc, '\\n')\n",
    "#\n",
    "#         return cm, accuracy, f1, balanced_accuracy, auc"
   ]
  },
  {
   "cell_type": "markdown",
   "metadata": {
    "id": "VlaJrgisGNfg"
   },
   "source": [
    "## BERT embeddings"
   ]
  },
  {
   "cell_type": "markdown",
   "metadata": {
    "id": "XMOZaIWp0_oy"
   },
   "source": [
    "### BERT + KNN"
   ]
  },
  {
   "cell_type": "code",
   "execution_count": 77,
   "metadata": {
    "ExecuteTime": {
     "end_time": "2023-06-03T11:10:35.608071393Z",
     "start_time": "2023-06-03T10:59:05.171551719Z"
    },
    "colab": {
     "base_uri": "https://localhost:8080/",
     "height": 380
    },
    "id": "7HzI3FV7zy6t",
    "outputId": "8ca1830c-a309-4f27-f6dd-cee648ee0978"
   },
   "outputs": [
    {
     "name": "stdout",
     "output_type": "stream",
     "text": [
      "Fitting 5 folds for each of 20 candidates, totalling 100 fits\n",
      "[CV 1/5] END metric=minkowski, n_neighbors=2, weights=uniform;, score=0.352 total time=   0.3s\n",
      "[CV 2/5] END metric=minkowski, n_neighbors=2, weights=uniform;, score=0.363 total time=   0.3s\n",
      "[CV 3/5] END metric=minkowski, n_neighbors=2, weights=uniform;, score=0.357 total time=   0.3s\n",
      "[CV 4/5] END metric=minkowski, n_neighbors=2, weights=uniform;, score=0.316 total time=   0.3s\n",
      "[CV 5/5] END metric=minkowski, n_neighbors=2, weights=uniform;, score=0.333 total time=   0.3s\n",
      "[CV 1/5] END metric=manhattan, n_neighbors=3, weights=uniform;, score=0.520 total time=   7.7s\n",
      "[CV 2/5] END metric=manhattan, n_neighbors=3, weights=uniform;, score=0.514 total time=   7.6s\n",
      "[CV 3/5] END metric=manhattan, n_neighbors=3, weights=uniform;, score=0.512 total time=   7.8s\n",
      "[CV 4/5] END metric=manhattan, n_neighbors=3, weights=uniform;, score=0.471 total time=   7.5s\n",
      "[CV 5/5] END metric=manhattan, n_neighbors=3, weights=uniform;, score=0.487 total time=   7.5s\n",
      "[CV 1/5] END metric=euclidean, n_neighbors=7, weights=distance;, score=0.515 total time=   0.2s\n",
      "[CV 2/5] END metric=euclidean, n_neighbors=7, weights=distance;, score=0.520 total time=   0.3s\n",
      "[CV 3/5] END metric=euclidean, n_neighbors=7, weights=distance;, score=0.501 total time=   0.2s\n",
      "[CV 4/5] END metric=euclidean, n_neighbors=7, weights=distance;, score=0.474 total time=   0.2s\n",
      "[CV 5/5] END metric=euclidean, n_neighbors=7, weights=distance;, score=0.477 total time=   0.3s\n",
      "[CV 1/5] END metric=euclidean, n_neighbors=6, weights=uniform;, score=0.429 total time=   0.3s\n",
      "[CV 2/5] END metric=euclidean, n_neighbors=6, weights=uniform;, score=0.458 total time=   0.3s\n",
      "[CV 3/5] END metric=euclidean, n_neighbors=6, weights=uniform;, score=0.436 total time=   0.3s\n",
      "[CV 4/5] END metric=euclidean, n_neighbors=6, weights=uniform;, score=0.391 total time=   0.3s\n",
      "[CV 5/5] END metric=euclidean, n_neighbors=6, weights=uniform;, score=0.401 total time=   0.3s\n",
      "[CV 1/5] END metric=minkowski, n_neighbors=3, weights=distance;, score=0.519 total time=   0.3s\n",
      "[CV 2/5] END metric=minkowski, n_neighbors=3, weights=distance;, score=0.499 total time=   0.2s\n",
      "[CV 3/5] END metric=minkowski, n_neighbors=3, weights=distance;, score=0.507 total time=   0.3s\n",
      "[CV 4/5] END metric=minkowski, n_neighbors=3, weights=distance;, score=0.480 total time=   0.2s\n",
      "[CV 5/5] END metric=minkowski, n_neighbors=3, weights=distance;, score=0.477 total time=   0.3s\n",
      "[CV 1/5] END metric=minkowski, n_neighbors=6, weights=distance;, score=0.522 total time=   0.2s\n",
      "[CV 2/5] END metric=minkowski, n_neighbors=6, weights=distance;, score=0.526 total time=   0.3s\n",
      "[CV 3/5] END metric=minkowski, n_neighbors=6, weights=distance;, score=0.501 total time=   0.2s\n",
      "[CV 4/5] END metric=minkowski, n_neighbors=6, weights=distance;, score=0.494 total time=   0.3s\n",
      "[CV 5/5] END metric=minkowski, n_neighbors=6, weights=distance;, score=0.473 total time=   0.2s\n",
      "[CV 1/5] END metric=minkowski, n_neighbors=7, weights=uniform;, score=0.512 total time=   0.3s\n",
      "[CV 2/5] END metric=minkowski, n_neighbors=7, weights=uniform;, score=0.519 total time=   0.3s\n",
      "[CV 3/5] END metric=minkowski, n_neighbors=7, weights=uniform;, score=0.501 total time=   0.3s\n",
      "[CV 4/5] END metric=minkowski, n_neighbors=7, weights=uniform;, score=0.474 total time=   0.3s\n",
      "[CV 5/5] END metric=minkowski, n_neighbors=7, weights=uniform;, score=0.476 total time=   0.3s\n",
      "[CV 1/5] END metric=euclidean, n_neighbors=3, weights=uniform;, score=0.519 total time=   0.3s\n",
      "[CV 2/5] END metric=euclidean, n_neighbors=3, weights=uniform;, score=0.498 total time=   0.3s\n",
      "[CV 3/5] END metric=euclidean, n_neighbors=3, weights=uniform;, score=0.507 total time=   0.3s\n",
      "[CV 4/5] END metric=euclidean, n_neighbors=3, weights=uniform;, score=0.480 total time=   0.3s\n",
      "[CV 5/5] END metric=euclidean, n_neighbors=3, weights=uniform;, score=0.478 total time=   0.3s\n",
      "[CV 1/5] END metric=manhattan, n_neighbors=6, weights=uniform;, score=0.435 total time=   7.5s\n",
      "[CV 2/5] END metric=manhattan, n_neighbors=6, weights=uniform;, score=0.431 total time=   7.5s\n",
      "[CV 3/5] END metric=manhattan, n_neighbors=6, weights=uniform;, score=0.445 total time=   7.6s\n",
      "[CV 4/5] END metric=manhattan, n_neighbors=6, weights=uniform;, score=0.386 total time=   7.6s\n",
      "[CV 5/5] END metric=manhattan, n_neighbors=6, weights=uniform;, score=0.419 total time=   7.5s\n",
      "[CV 1/5] END metric=minkowski, n_neighbors=9, weights=distance;, score=0.502 total time=   0.3s\n",
      "[CV 2/5] END metric=minkowski, n_neighbors=9, weights=distance;, score=0.515 total time=   0.2s\n",
      "[CV 3/5] END metric=minkowski, n_neighbors=9, weights=distance;, score=0.486 total time=   0.3s\n",
      "[CV 4/5] END metric=minkowski, n_neighbors=9, weights=distance;, score=0.493 total time=   0.3s\n",
      "[CV 5/5] END metric=minkowski, n_neighbors=9, weights=distance;, score=0.492 total time=   0.3s\n",
      "[CV 1/5] END metric=manhattan, n_neighbors=5, weights=uniform;, score=0.504 total time=   7.5s\n",
      "[CV 2/5] END metric=manhattan, n_neighbors=5, weights=uniform;, score=0.513 total time=   7.6s\n",
      "[CV 3/5] END metric=manhattan, n_neighbors=5, weights=uniform;, score=0.501 total time=   7.5s\n",
      "[CV 4/5] END metric=manhattan, n_neighbors=5, weights=uniform;, score=0.485 total time=   7.5s\n",
      "[CV 5/5] END metric=manhattan, n_neighbors=5, weights=uniform;, score=0.492 total time=   7.5s\n",
      "[CV 1/5] END metric=euclidean, n_neighbors=2, weights=distance;, score=0.499 total time=   0.2s\n",
      "[CV 2/5] END metric=euclidean, n_neighbors=2, weights=distance;, score=0.511 total time=   0.3s\n",
      "[CV 3/5] END metric=euclidean, n_neighbors=2, weights=distance;, score=0.498 total time=   0.3s\n",
      "[CV 4/5] END metric=euclidean, n_neighbors=2, weights=distance;, score=0.488 total time=   0.3s\n",
      "[CV 5/5] END metric=euclidean, n_neighbors=2, weights=distance;, score=0.475 total time=   0.3s\n",
      "[CV 1/5] END metric=euclidean, n_neighbors=4, weights=uniform;, score=0.408 total time=   0.3s\n",
      "[CV 2/5] END metric=euclidean, n_neighbors=4, weights=uniform;, score=0.409 total time=   0.3s\n",
      "[CV 3/5] END metric=euclidean, n_neighbors=4, weights=uniform;, score=0.398 total time=   0.3s\n",
      "[CV 4/5] END metric=euclidean, n_neighbors=4, weights=uniform;, score=0.364 total time=   0.3s\n",
      "[CV 5/5] END metric=euclidean, n_neighbors=4, weights=uniform;, score=0.384 total time=   0.3s\n",
      "[CV 1/5] END metric=minkowski, n_neighbors=9, weights=uniform;, score=0.499 total time=   0.3s\n",
      "[CV 2/5] END metric=minkowski, n_neighbors=9, weights=uniform;, score=0.515 total time=   0.3s\n",
      "[CV 3/5] END metric=minkowski, n_neighbors=9, weights=uniform;, score=0.485 total time=   0.3s\n",
      "[CV 4/5] END metric=minkowski, n_neighbors=9, weights=uniform;, score=0.492 total time=   0.3s\n",
      "[CV 5/5] END metric=minkowski, n_neighbors=9, weights=uniform;, score=0.492 total time=   0.3s\n",
      "[CV 1/5] END metric=euclidean, n_neighbors=3, weights=distance;, score=0.519 total time=   0.3s\n",
      "[CV 2/5] END metric=euclidean, n_neighbors=3, weights=distance;, score=0.499 total time=   0.3s\n",
      "[CV 3/5] END metric=euclidean, n_neighbors=3, weights=distance;, score=0.507 total time=   0.2s\n",
      "[CV 4/5] END metric=euclidean, n_neighbors=3, weights=distance;, score=0.480 total time=   0.3s\n",
      "[CV 5/5] END metric=euclidean, n_neighbors=3, weights=distance;, score=0.477 total time=   0.3s\n",
      "[CV 1/5] END metric=euclidean, n_neighbors=8, weights=uniform;, score=0.451 total time=   0.3s\n",
      "[CV 2/5] END metric=euclidean, n_neighbors=8, weights=uniform;, score=0.455 total time=   0.3s\n",
      "[CV 3/5] END metric=euclidean, n_neighbors=8, weights=uniform;, score=0.427 total time=   0.3s\n",
      "[CV 4/5] END metric=euclidean, n_neighbors=8, weights=uniform;, score=0.415 total time=   0.3s\n",
      "[CV 5/5] END metric=euclidean, n_neighbors=8, weights=uniform;, score=0.419 total time=   0.3s\n",
      "[CV 1/5] END metric=euclidean, n_neighbors=5, weights=distance;, score=0.506 total time=   0.2s\n",
      "[CV 2/5] END metric=euclidean, n_neighbors=5, weights=distance;, score=0.517 total time=   0.3s\n",
      "[CV 3/5] END metric=euclidean, n_neighbors=5, weights=distance;, score=0.504 total time=   0.3s\n",
      "[CV 4/5] END metric=euclidean, n_neighbors=5, weights=distance;, score=0.468 total time=   0.2s\n",
      "[CV 5/5] END metric=euclidean, n_neighbors=5, weights=distance;, score=0.487 total time=   0.3s\n",
      "[CV 1/5] END metric=euclidean, n_neighbors=4, weights=distance;, score=0.512 total time=   0.3s\n",
      "[CV 2/5] END metric=euclidean, n_neighbors=4, weights=distance;, score=0.510 total time=   0.3s\n",
      "[CV 3/5] END metric=euclidean, n_neighbors=4, weights=distance;, score=0.498 total time=   0.3s\n",
      "[CV 4/5] END metric=euclidean, n_neighbors=4, weights=distance;, score=0.489 total time=   0.2s\n",
      "[CV 5/5] END metric=euclidean, n_neighbors=4, weights=distance;, score=0.478 total time=   0.3s\n",
      "[CV 1/5] END metric=manhattan, n_neighbors=8, weights=uniform;, score=0.429 total time=   7.5s\n",
      "[CV 2/5] END metric=manhattan, n_neighbors=8, weights=uniform;, score=0.463 total time=   7.5s\n",
      "[CV 3/5] END metric=manhattan, n_neighbors=8, weights=uniform;, score=0.431 total time=   7.5s\n",
      "[CV 4/5] END metric=manhattan, n_neighbors=8, weights=uniform;, score=0.403 total time=   7.5s\n",
      "[CV 5/5] END metric=manhattan, n_neighbors=8, weights=uniform;, score=0.420 total time=   7.5s\n",
      "[CV 1/5] END metric=minkowski, n_neighbors=7, weights=distance;, score=0.515 total time=   0.3s\n",
      "[CV 2/5] END metric=minkowski, n_neighbors=7, weights=distance;, score=0.520 total time=   0.2s\n",
      "[CV 3/5] END metric=minkowski, n_neighbors=7, weights=distance;, score=0.501 total time=   0.2s\n",
      "[CV 4/5] END metric=minkowski, n_neighbors=7, weights=distance;, score=0.474 total time=   0.3s\n",
      "[CV 5/5] END metric=minkowski, n_neighbors=7, weights=distance;, score=0.477 total time=   0.3s\n",
      "Best parameters: {'weights': 'distance', 'n_neighbors': 6, 'metric': 'minkowski'} \n",
      "\n",
      "\n",
      "\n",
      "\n",
      "_______________________________________________________________________\n",
      "EVALUATION\n",
      "\n",
      "----- TRAIN -----\n",
      "\n",
      "Confusion matrix\n",
      " [[6420    0]\n",
      " [   4 5100]] \n",
      "\n",
      "Accuracy: 100.0 \n",
      "\n",
      "F1 Score: 100.0 \n",
      "\n",
      "Balanced accuracy: 100.0 \n",
      "\n",
      "AUC Score: 100.0 \n",
      "\n",
      "\n",
      "----- TEST -----\n",
      "\n",
      "Confusion matrix\n",
      " [[447 267]\n",
      " [292 261]] \n",
      "\n",
      "Accuracy: 55.9 \n",
      "\n",
      "F1 Score: 48.3 \n",
      "\n",
      "Balanced accuracy: 48.3 \n",
      "\n",
      "AUC Score: 54.9 \n",
      "\n",
      "_______________________________________________________________________\n"
     ]
    }
   ],
   "source": [
    "# Instantiate classifier\n",
    "classifier = KNNClassifier()\n",
    "\n",
    "# Perform randomized search over hyperparameters\n",
    "param_distributions = {\n",
    "    'n_neighbors': [2, 3, 4, 5, 6, 7, 8, 9],\n",
    "    'weights' : ['uniform','distance'],\n",
    "    'metric' : ['minkowski','euclidean','manhattan']\n",
    "}\n",
    "classifier.randomized_search(X_train_embeddings_bert, y_train, param_distributions)\n",
    "\n",
    "# Train classifier on training data\n",
    "classifier.fit(X_train_embeddings_bert, y_train)\n",
    "\n",
    "# Evaluate classifier\n",
    "print('\\n')\n",
    "print('\\n_______________________________________________________________________')\n",
    "print('EVALUATION')\n",
    "\n",
    "print('\\n----- TRAIN -----')\n",
    "cm_knn_bert_train, accuracy_knn_bert_train, f1_knn_bert_train, balaccuracy_knn_bert_train, rocauc_knn_bert_train = classifier.evaluate(X_train_embeddings_bert, y_train)\n",
    "\n",
    "print('\\n----- TEST -----')\n",
    "cm_knn_bert_test, accuracy_knn_bert_test, f1_knn_bert_test, balaccuracy_knn_bert_test, rocauc_knn_bert_test = classifier.evaluate(X_test_embeddings_bert, y_test)\n",
    "print('_______________________________________________________________________')"
   ]
  },
  {
   "cell_type": "code",
   "execution_count": 78,
   "metadata": {
    "ExecuteTime": {
     "end_time": "2023-06-03T12:09:11.253497226Z",
     "start_time": "2023-06-03T12:09:11.233274895Z"
    },
    "collapsed": false,
    "jupyter": {
     "outputs_hidden": false
    }
   },
   "outputs": [],
   "source": [
    "cm_knn_bert_train_tosave = repr(cm_knn_bert_train)\n",
    "accuracy_knn_bert_train_tosave = repr(accuracy_knn_bert_train)\n",
    "f1_knn_bert_train_tosave = repr(f1_knn_bert_train)\n",
    "balaccuracy_knn_bert_train_tosave = repr(balaccuracy_knn_bert_train)\n",
    "rocauc_knn_bert_train_tosave = repr(rocauc_knn_bert_train)\n",
    "\n",
    "cm_knn_bert_test_tosave = repr(cm_knn_bert_test)\n",
    "accuracy_knn_bert_test_tosave = repr(accuracy_knn_bert_test)\n",
    "f1_knn_bert_test_tosave = repr(f1_knn_bert_test)\n",
    "balaccuracy_knn_bert_test_tosave = repr(balaccuracy_knn_bert_test)\n",
    "rocauc_knn_bert_test_tosave = repr(rocauc_knn_bert_test)\n",
    "\n",
    "\n",
    "file = open(\"results_split/knn_bert_\"+time.strftime(\"%Y%m%d-%H%M%S\")+\".txt\", \"w\")\n",
    "\n",
    "file.write(\"Train CM = \"+cm_knn_bert_train_tosave + \"\\n\" +\n",
    "           \"Train Accuracy = \" + accuracy_knn_bert_train_tosave + \"\\n\" +\n",
    "           \"Train F1 = \"+f1_knn_bert_train_tosave + \"\\n\"+\n",
    "           \"Train Balanced Accuracy = \"+balaccuracy_knn_bert_train_tosave + \"\\n\" +\n",
    "           \"Train ROCAUC = \"+rocauc_knn_bert_train_tosave + \"\\n\"+\n",
    "           \"Test CM = \"+cm_knn_bert_test_tosave + \"\\n\"+\n",
    "           \"Test Accuracy = \"+accuracy_knn_bert_test_tosave + \"\\n\"+\n",
    "           \"Test F1 = \"+f1_knn_bert_test_tosave + \"\\n\"+\n",
    "           \"Test Balanced Accuracy = \"+balaccuracy_knn_bert_test_tosave + \"\\n\"+\n",
    "           \"Test ROCAUC = \"+rocauc_knn_bert_test_tosave)\n",
    "\n",
    "file.close()"
   ]
  },
  {
   "cell_type": "markdown",
   "metadata": {
    "id": "bg4FzG2htmwr"
   },
   "source": [
    "### BERT + XGBoost"
   ]
  },
  {
   "cell_type": "code",
   "execution_count": 79,
   "metadata": {
    "ExecuteTime": {
     "end_time": "2023-06-03T11:44:02.413415076Z",
     "start_time": "2023-06-03T11:10:44.583290995Z"
    },
    "colab": {
     "base_uri": "https://localhost:8080/"
    },
    "id": "psJLbuc_win3",
    "outputId": "554936c2-e2c5-4b6f-df80-f9e4054f0dbe"
   },
   "outputs": [
    {
     "name": "stdout",
     "output_type": "stream",
     "text": [
      "Fitting 5 folds for each of 20 candidates, totalling 100 fits\n",
      "[CV 1/5] END colsample_bytree=0.7, learning_rate=0.3, max_depth=5, min_child_weight=3, n_estimators=100, objective=reg:squarederror, subsample=0.5;, score=0.488 total time=  19.1s\n",
      "[CV 2/5] END colsample_bytree=0.7, learning_rate=0.3, max_depth=5, min_child_weight=3, n_estimators=100, objective=reg:squarederror, subsample=0.5;, score=0.475 total time=  19.1s\n",
      "[CV 3/5] END colsample_bytree=0.7, learning_rate=0.3, max_depth=5, min_child_weight=3, n_estimators=100, objective=reg:squarederror, subsample=0.5;, score=0.489 total time=  19.5s\n",
      "[CV 4/5] END colsample_bytree=0.7, learning_rate=0.3, max_depth=5, min_child_weight=3, n_estimators=100, objective=reg:squarederror, subsample=0.5;, score=0.461 total time=  19.5s\n",
      "[CV 5/5] END colsample_bytree=0.7, learning_rate=0.3, max_depth=5, min_child_weight=3, n_estimators=100, objective=reg:squarederror, subsample=0.5;, score=0.496 total time=  19.3s\n",
      "[CV 1/5] END colsample_bytree=0.7, learning_rate=0.1, max_depth=9, min_child_weight=3, n_estimators=50, objective=reg:squarederror, subsample=0.7;, score=0.481 total time=  22.5s\n",
      "[CV 2/5] END colsample_bytree=0.7, learning_rate=0.1, max_depth=9, min_child_weight=3, n_estimators=50, objective=reg:squarederror, subsample=0.7;, score=0.491 total time=  22.4s\n",
      "[CV 3/5] END colsample_bytree=0.7, learning_rate=0.1, max_depth=9, min_child_weight=3, n_estimators=50, objective=reg:squarederror, subsample=0.7;, score=0.463 total time=  22.0s\n",
      "[CV 4/5] END colsample_bytree=0.7, learning_rate=0.1, max_depth=9, min_child_weight=3, n_estimators=50, objective=reg:squarederror, subsample=0.7;, score=0.473 total time=  22.3s\n",
      "[CV 5/5] END colsample_bytree=0.7, learning_rate=0.1, max_depth=9, min_child_weight=3, n_estimators=50, objective=reg:squarederror, subsample=0.7;, score=0.466 total time=  22.3s\n",
      "[CV 1/5] END colsample_bytree=0.7, learning_rate=0.3, max_depth=5, min_child_weight=3, n_estimators=500, objective=reg:squarederror, subsample=0.5;, score=0.482 total time= 1.6min\n",
      "[CV 2/5] END colsample_bytree=0.7, learning_rate=0.3, max_depth=5, min_child_weight=3, n_estimators=500, objective=reg:squarederror, subsample=0.5;, score=0.474 total time= 1.5min\n",
      "[CV 3/5] END colsample_bytree=0.7, learning_rate=0.3, max_depth=5, min_child_weight=3, n_estimators=500, objective=reg:squarederror, subsample=0.5;, score=0.492 total time= 1.6min\n",
      "[CV 4/5] END colsample_bytree=0.7, learning_rate=0.3, max_depth=5, min_child_weight=3, n_estimators=500, objective=reg:squarederror, subsample=0.5;, score=0.469 total time= 1.6min\n",
      "[CV 5/5] END colsample_bytree=0.7, learning_rate=0.3, max_depth=5, min_child_weight=3, n_estimators=500, objective=reg:squarederror, subsample=0.5;, score=0.499 total time= 1.5min\n",
      "[CV 1/5] END colsample_bytree=0.7, learning_rate=0.01, max_depth=3, min_child_weight=5, n_estimators=50, objective=reg:squarederror, subsample=0.7;, score=0.375 total time=   7.2s\n",
      "[CV 2/5] END colsample_bytree=0.7, learning_rate=0.01, max_depth=3, min_child_weight=5, n_estimators=50, objective=reg:squarederror, subsample=0.7;, score=0.347 total time=   7.2s\n",
      "[CV 3/5] END colsample_bytree=0.7, learning_rate=0.01, max_depth=3, min_child_weight=5, n_estimators=50, objective=reg:squarederror, subsample=0.7;, score=0.360 total time=   7.3s\n",
      "[CV 4/5] END colsample_bytree=0.7, learning_rate=0.01, max_depth=3, min_child_weight=5, n_estimators=50, objective=reg:squarederror, subsample=0.7;, score=0.346 total time=   7.3s\n",
      "[CV 5/5] END colsample_bytree=0.7, learning_rate=0.01, max_depth=3, min_child_weight=5, n_estimators=50, objective=reg:squarederror, subsample=0.7;, score=0.339 total time=   7.1s\n",
      "[CV 1/5] END colsample_bytree=0.7, learning_rate=0.01, max_depth=3, min_child_weight=5, n_estimators=200, objective=reg:squarederror, subsample=0.7;, score=0.422 total time=  28.4s\n",
      "[CV 2/5] END colsample_bytree=0.7, learning_rate=0.01, max_depth=3, min_child_weight=5, n_estimators=200, objective=reg:squarederror, subsample=0.7;, score=0.403 total time=  28.1s\n",
      "[CV 3/5] END colsample_bytree=0.7, learning_rate=0.01, max_depth=3, min_child_weight=5, n_estimators=200, objective=reg:squarederror, subsample=0.7;, score=0.404 total time=  28.2s\n",
      "[CV 4/5] END colsample_bytree=0.7, learning_rate=0.01, max_depth=3, min_child_weight=5, n_estimators=200, objective=reg:squarederror, subsample=0.7;, score=0.417 total time=  28.9s\n",
      "[CV 5/5] END colsample_bytree=0.7, learning_rate=0.01, max_depth=3, min_child_weight=5, n_estimators=200, objective=reg:squarederror, subsample=0.7;, score=0.422 total time=  28.5s\n",
      "[CV 1/5] END colsample_bytree=0.5, learning_rate=0.1, max_depth=7, min_child_weight=1, n_estimators=500, objective=reg:squarederror, subsample=0.7;, score=0.484 total time= 2.1min\n",
      "[CV 2/5] END colsample_bytree=0.5, learning_rate=0.1, max_depth=7, min_child_weight=1, n_estimators=500, objective=reg:squarederror, subsample=0.7;, score=0.512 total time= 2.0min\n",
      "[CV 3/5] END colsample_bytree=0.5, learning_rate=0.1, max_depth=7, min_child_weight=1, n_estimators=500, objective=reg:squarederror, subsample=0.7;, score=0.473 total time= 2.0min\n",
      "[CV 4/5] END colsample_bytree=0.5, learning_rate=0.1, max_depth=7, min_child_weight=1, n_estimators=500, objective=reg:squarederror, subsample=0.7;, score=0.476 total time= 2.0min\n",
      "[CV 5/5] END colsample_bytree=0.5, learning_rate=0.1, max_depth=7, min_child_weight=1, n_estimators=500, objective=reg:squarederror, subsample=0.7;, score=0.491 total time= 2.0min\n",
      "[CV 1/5] END colsample_bytree=0.7, learning_rate=0.5, max_depth=9, min_child_weight=5, n_estimators=500, objective=reg:squarederror, subsample=0.7;, score=0.486 total time= 3.2min\n",
      "[CV 2/5] END colsample_bytree=0.7, learning_rate=0.5, max_depth=9, min_child_weight=5, n_estimators=500, objective=reg:squarederror, subsample=0.7;, score=0.473 total time= 3.3min\n",
      "[CV 3/5] END colsample_bytree=0.7, learning_rate=0.5, max_depth=9, min_child_weight=5, n_estimators=500, objective=reg:squarederror, subsample=0.7;, score=0.487 total time= 3.2min\n",
      "[CV 4/5] END colsample_bytree=0.7, learning_rate=0.5, max_depth=9, min_child_weight=5, n_estimators=500, objective=reg:squarederror, subsample=0.7;, score=0.486 total time= 3.2min\n",
      "[CV 5/5] END colsample_bytree=0.7, learning_rate=0.5, max_depth=9, min_child_weight=5, n_estimators=500, objective=reg:squarederror, subsample=0.7;, score=0.472 total time= 3.2min\n",
      "[CV 1/5] END colsample_bytree=0.7, learning_rate=0.5, max_depth=5, min_child_weight=3, n_estimators=50, objective=reg:squarederror, subsample=0.5;, score=0.476 total time=   9.8s\n",
      "[CV 2/5] END colsample_bytree=0.7, learning_rate=0.5, max_depth=5, min_child_weight=3, n_estimators=50, objective=reg:squarederror, subsample=0.5;, score=0.464 total time=  10.1s\n",
      "[CV 3/5] END colsample_bytree=0.7, learning_rate=0.5, max_depth=5, min_child_weight=3, n_estimators=50, objective=reg:squarederror, subsample=0.5;, score=0.484 total time=   9.6s\n",
      "[CV 4/5] END colsample_bytree=0.7, learning_rate=0.5, max_depth=5, min_child_weight=3, n_estimators=50, objective=reg:squarederror, subsample=0.5;, score=0.468 total time=   9.7s\n",
      "[CV 5/5] END colsample_bytree=0.7, learning_rate=0.5, max_depth=5, min_child_weight=3, n_estimators=50, objective=reg:squarederror, subsample=0.5;, score=0.505 total time=   9.9s\n",
      "[CV 1/5] END colsample_bytree=0.5, learning_rate=0.01, max_depth=3, min_child_weight=1, n_estimators=200, objective=reg:squarederror, subsample=0.5;, score=0.421 total time=  17.0s\n",
      "[CV 2/5] END colsample_bytree=0.5, learning_rate=0.01, max_depth=3, min_child_weight=1, n_estimators=200, objective=reg:squarederror, subsample=0.5;, score=0.385 total time=  16.8s\n",
      "[CV 3/5] END colsample_bytree=0.5, learning_rate=0.01, max_depth=3, min_child_weight=1, n_estimators=200, objective=reg:squarederror, subsample=0.5;, score=0.414 total time=  17.3s\n",
      "[CV 4/5] END colsample_bytree=0.5, learning_rate=0.01, max_depth=3, min_child_weight=1, n_estimators=200, objective=reg:squarederror, subsample=0.5;, score=0.398 total time=  16.9s\n",
      "[CV 5/5] END colsample_bytree=0.5, learning_rate=0.01, max_depth=3, min_child_weight=1, n_estimators=200, objective=reg:squarederror, subsample=0.5;, score=0.420 total time=  16.8s\n",
      "[CV 1/5] END colsample_bytree=0.5, learning_rate=0.01, max_depth=7, min_child_weight=5, n_estimators=50, objective=reg:squarederror, subsample=0.5;, score=0.445 total time=  10.0s\n",
      "[CV 2/5] END colsample_bytree=0.5, learning_rate=0.01, max_depth=7, min_child_weight=5, n_estimators=50, objective=reg:squarederror, subsample=0.5;, score=0.427 total time=  10.0s\n",
      "[CV 3/5] END colsample_bytree=0.5, learning_rate=0.01, max_depth=7, min_child_weight=5, n_estimators=50, objective=reg:squarederror, subsample=0.5;, score=0.456 total time=  10.3s\n",
      "[CV 4/5] END colsample_bytree=0.5, learning_rate=0.01, max_depth=7, min_child_weight=5, n_estimators=50, objective=reg:squarederror, subsample=0.5;, score=0.429 total time=   9.9s\n",
      "[CV 5/5] END colsample_bytree=0.5, learning_rate=0.01, max_depth=7, min_child_weight=5, n_estimators=50, objective=reg:squarederror, subsample=0.5;, score=0.463 total time=  10.0s\n",
      "[CV 1/5] END colsample_bytree=0.5, learning_rate=0.01, max_depth=5, min_child_weight=3, n_estimators=500, objective=reg:squarederror, subsample=0.7;, score=0.479 total time= 1.4min\n",
      "[CV 2/5] END colsample_bytree=0.5, learning_rate=0.01, max_depth=5, min_child_weight=3, n_estimators=500, objective=reg:squarederror, subsample=0.7;, score=0.482 total time= 1.4min\n",
      "[CV 3/5] END colsample_bytree=0.5, learning_rate=0.01, max_depth=5, min_child_weight=3, n_estimators=500, objective=reg:squarederror, subsample=0.7;, score=0.487 total time= 1.5min\n",
      "[CV 4/5] END colsample_bytree=0.5, learning_rate=0.01, max_depth=5, min_child_weight=3, n_estimators=500, objective=reg:squarederror, subsample=0.7;, score=0.488 total time= 1.4min\n",
      "[CV 5/5] END colsample_bytree=0.5, learning_rate=0.01, max_depth=5, min_child_weight=3, n_estimators=500, objective=reg:squarederror, subsample=0.7;, score=0.500 total time= 1.4min\n",
      "[CV 1/5] END colsample_bytree=0.5, learning_rate=0.3, max_depth=5, min_child_weight=1, n_estimators=500, objective=reg:squarederror, subsample=0.7;, score=0.483 total time= 1.4min\n",
      "[CV 2/5] END colsample_bytree=0.5, learning_rate=0.3, max_depth=5, min_child_weight=1, n_estimators=500, objective=reg:squarederror, subsample=0.7;, score=0.500 total time= 1.4min\n",
      "[CV 3/5] END colsample_bytree=0.5, learning_rate=0.3, max_depth=5, min_child_weight=1, n_estimators=500, objective=reg:squarederror, subsample=0.7;, score=0.497 total time= 1.4min\n",
      "[CV 4/5] END colsample_bytree=0.5, learning_rate=0.3, max_depth=5, min_child_weight=1, n_estimators=500, objective=reg:squarederror, subsample=0.7;, score=0.477 total time= 1.4min\n",
      "[CV 5/5] END colsample_bytree=0.5, learning_rate=0.3, max_depth=5, min_child_weight=1, n_estimators=500, objective=reg:squarederror, subsample=0.7;, score=0.487 total time= 1.4min\n",
      "[CV 1/5] END colsample_bytree=0.5, learning_rate=0.1, max_depth=7, min_child_weight=3, n_estimators=500, objective=reg:squarederror, subsample=0.5;, score=0.468 total time= 1.6min\n",
      "[CV 2/5] END colsample_bytree=0.5, learning_rate=0.1, max_depth=7, min_child_weight=3, n_estimators=500, objective=reg:squarederror, subsample=0.5;, score=0.496 total time= 1.6min\n",
      "[CV 3/5] END colsample_bytree=0.5, learning_rate=0.1, max_depth=7, min_child_weight=3, n_estimators=500, objective=reg:squarederror, subsample=0.5;, score=0.479 total time= 1.6min\n",
      "[CV 4/5] END colsample_bytree=0.5, learning_rate=0.1, max_depth=7, min_child_weight=3, n_estimators=500, objective=reg:squarederror, subsample=0.5;, score=0.485 total time= 1.6min\n",
      "[CV 5/5] END colsample_bytree=0.5, learning_rate=0.1, max_depth=7, min_child_weight=3, n_estimators=500, objective=reg:squarederror, subsample=0.5;, score=0.480 total time= 1.6min\n",
      "[CV 1/5] END colsample_bytree=0.5, learning_rate=0.1, max_depth=7, min_child_weight=1, n_estimators=100, objective=reg:squarederror, subsample=0.7;, score=0.481 total time=  24.6s\n",
      "[CV 2/5] END colsample_bytree=0.5, learning_rate=0.1, max_depth=7, min_child_weight=1, n_estimators=100, objective=reg:squarederror, subsample=0.7;, score=0.504 total time=  23.9s\n",
      "[CV 3/5] END colsample_bytree=0.5, learning_rate=0.1, max_depth=7, min_child_weight=1, n_estimators=100, objective=reg:squarederror, subsample=0.7;, score=0.456 total time=  23.7s\n",
      "[CV 4/5] END colsample_bytree=0.5, learning_rate=0.1, max_depth=7, min_child_weight=1, n_estimators=100, objective=reg:squarederror, subsample=0.7;, score=0.484 total time=  23.9s\n",
      "[CV 5/5] END colsample_bytree=0.5, learning_rate=0.1, max_depth=7, min_child_weight=1, n_estimators=100, objective=reg:squarederror, subsample=0.7;, score=0.496 total time=  24.7s\n",
      "[CV 1/5] END colsample_bytree=0.7, learning_rate=0.3, max_depth=7, min_child_weight=1, n_estimators=50, objective=reg:squarederror, subsample=0.7;, score=0.496 total time=  16.9s\n",
      "[CV 2/5] END colsample_bytree=0.7, learning_rate=0.3, max_depth=7, min_child_weight=1, n_estimators=50, objective=reg:squarederror, subsample=0.7;, score=0.469 total time=  16.8s\n",
      "[CV 3/5] END colsample_bytree=0.7, learning_rate=0.3, max_depth=7, min_child_weight=1, n_estimators=50, objective=reg:squarederror, subsample=0.7;, score=0.467 total time=  16.9s\n",
      "[CV 4/5] END colsample_bytree=0.7, learning_rate=0.3, max_depth=7, min_child_weight=1, n_estimators=50, objective=reg:squarederror, subsample=0.7;, score=0.489 total time=  17.2s\n",
      "[CV 5/5] END colsample_bytree=0.7, learning_rate=0.3, max_depth=7, min_child_weight=1, n_estimators=50, objective=reg:squarederror, subsample=0.7;, score=0.488 total time=  16.9s\n",
      "[CV 1/5] END colsample_bytree=0.5, learning_rate=0.3, max_depth=3, min_child_weight=3, n_estimators=500, objective=reg:squarederror, subsample=0.5;, score=0.507 total time=  40.0s\n",
      "[CV 2/5] END colsample_bytree=0.5, learning_rate=0.3, max_depth=3, min_child_weight=3, n_estimators=500, objective=reg:squarederror, subsample=0.5;, score=0.476 total time=  40.3s\n",
      "[CV 3/5] END colsample_bytree=0.5, learning_rate=0.3, max_depth=3, min_child_weight=3, n_estimators=500, objective=reg:squarederror, subsample=0.5;, score=0.482 total time=  39.8s\n",
      "[CV 4/5] END colsample_bytree=0.5, learning_rate=0.3, max_depth=3, min_child_weight=3, n_estimators=500, objective=reg:squarederror, subsample=0.5;, score=0.491 total time=  40.0s\n",
      "[CV 5/5] END colsample_bytree=0.5, learning_rate=0.3, max_depth=3, min_child_weight=3, n_estimators=500, objective=reg:squarederror, subsample=0.5;, score=0.508 total time=  40.1s\n",
      "[CV 1/5] END colsample_bytree=0.5, learning_rate=0.01, max_depth=7, min_child_weight=3, n_estimators=200, objective=reg:squarederror, subsample=0.5;, score=0.466 total time=  39.0s\n",
      "[CV 2/5] END colsample_bytree=0.5, learning_rate=0.01, max_depth=7, min_child_weight=3, n_estimators=200, objective=reg:squarederror, subsample=0.5;, score=0.464 total time=  39.3s\n",
      "[CV 3/5] END colsample_bytree=0.5, learning_rate=0.01, max_depth=7, min_child_weight=3, n_estimators=200, objective=reg:squarederror, subsample=0.5;, score=0.474 total time=  39.0s\n",
      "[CV 4/5] END colsample_bytree=0.5, learning_rate=0.01, max_depth=7, min_child_weight=3, n_estimators=200, objective=reg:squarederror, subsample=0.5;, score=0.446 total time=  39.1s\n",
      "[CV 5/5] END colsample_bytree=0.5, learning_rate=0.01, max_depth=7, min_child_weight=3, n_estimators=200, objective=reg:squarederror, subsample=0.5;, score=0.486 total time=  39.1s\n",
      "[CV 1/5] END colsample_bytree=0.5, learning_rate=0.5, max_depth=5, min_child_weight=5, n_estimators=100, objective=reg:squarederror, subsample=0.5;, score=0.496 total time=  13.8s\n",
      "[CV 2/5] END colsample_bytree=0.5, learning_rate=0.5, max_depth=5, min_child_weight=5, n_estimators=100, objective=reg:squarederror, subsample=0.5;, score=0.491 total time=  14.1s\n",
      "[CV 3/5] END colsample_bytree=0.5, learning_rate=0.5, max_depth=5, min_child_weight=5, n_estimators=100, objective=reg:squarederror, subsample=0.5;, score=0.481 total time=  13.8s\n",
      "[CV 4/5] END colsample_bytree=0.5, learning_rate=0.5, max_depth=5, min_child_weight=5, n_estimators=100, objective=reg:squarederror, subsample=0.5;, score=0.493 total time=  13.6s\n",
      "[CV 5/5] END colsample_bytree=0.5, learning_rate=0.5, max_depth=5, min_child_weight=5, n_estimators=100, objective=reg:squarederror, subsample=0.5;, score=0.475 total time=  13.9s\n",
      "[CV 1/5] END colsample_bytree=0.7, learning_rate=0.01, max_depth=3, min_child_weight=5, n_estimators=500, objective=reg:squarederror, subsample=0.7;, score=0.472 total time= 1.1min\n",
      "[CV 2/5] END colsample_bytree=0.7, learning_rate=0.01, max_depth=3, min_child_weight=5, n_estimators=500, objective=reg:squarederror, subsample=0.7;, score=0.453 total time= 1.1min\n",
      "[CV 3/5] END colsample_bytree=0.7, learning_rate=0.01, max_depth=3, min_child_weight=5, n_estimators=500, objective=reg:squarederror, subsample=0.7;, score=0.462 total time= 1.1min\n",
      "[CV 4/5] END colsample_bytree=0.7, learning_rate=0.01, max_depth=3, min_child_weight=5, n_estimators=500, objective=reg:squarederror, subsample=0.7;, score=0.468 total time= 1.2min\n",
      "[CV 5/5] END colsample_bytree=0.7, learning_rate=0.01, max_depth=3, min_child_weight=5, n_estimators=500, objective=reg:squarederror, subsample=0.7;, score=0.483 total time= 1.2min\n",
      "[CV 1/5] END colsample_bytree=0.5, learning_rate=0.1, max_depth=7, min_child_weight=5, n_estimators=500, objective=reg:squarederror, subsample=0.7;, score=0.497 total time= 2.0min\n",
      "[CV 2/5] END colsample_bytree=0.5, learning_rate=0.1, max_depth=7, min_child_weight=5, n_estimators=500, objective=reg:squarederror, subsample=0.7;, score=0.496 total time= 2.0min\n",
      "[CV 3/5] END colsample_bytree=0.5, learning_rate=0.1, max_depth=7, min_child_weight=5, n_estimators=500, objective=reg:squarederror, subsample=0.7;, score=0.509 total time= 2.0min\n",
      "[CV 4/5] END colsample_bytree=0.5, learning_rate=0.1, max_depth=7, min_child_weight=5, n_estimators=500, objective=reg:squarederror, subsample=0.7;, score=0.495 total time= 2.0min\n",
      "[CV 5/5] END colsample_bytree=0.5, learning_rate=0.1, max_depth=7, min_child_weight=5, n_estimators=500, objective=reg:squarederror, subsample=0.7;, score=0.497 total time= 2.0min\n",
      "Best parameters: {'subsample': 0.7, 'objective': 'reg:squarederror', 'n_estimators': 500, 'min_child_weight': 5, 'max_depth': 7, 'learning_rate': 0.1, 'colsample_bytree': 0.5} \n",
      "\n",
      "\n",
      "\n",
      "\n",
      "_______________________________________________________________________\n",
      "EVALUATION\n",
      "\n",
      "----- TRAIN -----\n",
      "\n",
      "Confusion matrix\n",
      " [[6419    1]\n",
      " [   3 5101]] \n",
      "\n",
      "Accuracy: 100.0 \n",
      "\n",
      "F1 Score: 100.0 \n",
      "\n",
      "Balanced accuracy: 100.0 \n",
      "\n",
      "AUC Score: 100.0 \n",
      "\n",
      "\n",
      "----- TEST -----\n",
      "\n",
      "Confusion matrix\n",
      " [[495 219]\n",
      " [295 258]] \n",
      "\n",
      "Accuracy: 59.4 \n",
      "\n",
      "F1 Score: 50.1 \n",
      "\n",
      "Balanced accuracy: 50.1 \n",
      "\n",
      "AUC Score: 58.0 \n",
      "\n",
      "_______________________________________________________________________\n"
     ]
    }
   ],
   "source": [
    "# Instantiate classifier\n",
    "classifier = XGBoostClassifier()\n",
    "\n",
    "# Perform randomized search over hyperparameters\n",
    "param_distributions = {\n",
    "    'learning_rate': [0.01, 0.1, 0.3, 0.5],\n",
    "    'max_depth': [3, 5, 7, 9],\n",
    "    'min_child_weight': [1, 3, 5],\n",
    "    'subsample': [0.5, 0.7],\n",
    "    'colsample_bytree': [0.5, 0.7],\n",
    "    'n_estimators': [50, 100, 200, 500],\n",
    "    'objective': ['reg:squarederror']\n",
    "}\n",
    "classifier.randomized_search(X_train_embeddings_bert, y_train, param_distributions)\n",
    "\n",
    "# Train classifier on training data\n",
    "classifier.fit(X_train_embeddings_bert, y_train)\n",
    "\n",
    "# Evaluate classifier\n",
    "print('\\n')\n",
    "print('\\n_______________________________________________________________________')\n",
    "print('EVALUATION')\n",
    "\n",
    "print('\\n----- TRAIN -----')\n",
    "cm_xgb_bert_train, accuracy_xgb_bert_train, f1_xgb_bert_train, balaccuracy_xgb_bert_train, rocauc_xgb_bert_train = classifier.evaluate(X_train_embeddings_bert, y_train)\n",
    "\n",
    "print('\\n----- TEST -----')\n",
    "cm_xgb_bert_test, accuracy_xgb_bert_test, f1_xgb_bert_test, balaccuracy_xgb_bert_test, rocauc_xgb_bert_test = classifier.evaluate(X_test_embeddings_bert, y_test)\n",
    "print('_______________________________________________________________________')"
   ]
  },
  {
   "cell_type": "code",
   "execution_count": 80,
   "metadata": {
    "ExecuteTime": {
     "end_time": "2023-06-03T12:09:29.973114803Z",
     "start_time": "2023-06-03T12:09:29.915390746Z"
    },
    "collapsed": false,
    "jupyter": {
     "outputs_hidden": false
    }
   },
   "outputs": [],
   "source": [
    "cm_xgb_bert_train_tosave = repr(cm_xgb_bert_train)\n",
    "accuracy_xgb_bert_train_tosave = repr(accuracy_xgb_bert_train)\n",
    "f1_xgb_bert_train_tosave = repr(f1_xgb_bert_train)\n",
    "balaccuracy_xgb_bert_train_tosave = repr(balaccuracy_xgb_bert_train)\n",
    "rocauc_xgb_bert_train_tosave = repr(rocauc_xgb_bert_train)\n",
    "\n",
    "cm_xgb_bert_test_tosave = repr(cm_xgb_bert_test)\n",
    "accuracy_xgb_bert_test_tosave = repr(accuracy_xgb_bert_test)\n",
    "f1_xgb_bert_test_tosave = repr(f1_xgb_bert_test)\n",
    "balaccuracy_xgb_bert_test_tosave = repr(balaccuracy_xgb_bert_test)\n",
    "rocauc_xgb_bert_test_tosave = repr(rocauc_xgb_bert_test)\n",
    "\n",
    "\n",
    "file = open(\"results_split/xgb_bert_\"+time.strftime(\"%Y%m%d-%H%M%S\")+\".txt\", \"w\")\n",
    "\n",
    "file.write(\"Train CM = \"+cm_xgb_bert_train_tosave + \"\\n\" +\n",
    "           \"Train Accuracy = \" + accuracy_xgb_bert_train_tosave + \"\\n\" +\n",
    "           \"Train F1 = \"+f1_xgb_bert_train_tosave + \"\\n\"+\n",
    "           \"Train Balanced Accuracy = \"+balaccuracy_xgb_bert_train_tosave + \"\\n\" +\n",
    "           \"Train ROCAUC = \"+rocauc_xgb_bert_train_tosave + \"\\n\"+\n",
    "           \"Test CM = \"+cm_xgb_bert_test_tosave + \"\\n\"+\n",
    "           \"Test Accuracy = \"+accuracy_xgb_bert_test_tosave + \"\\n\"+\n",
    "           \"Test F1 = \"+f1_xgb_bert_test_tosave + \"\\n\"+\n",
    "           \"Test Balanced Accuracy = \"+balaccuracy_xgb_bert_test_tosave + \"\\n\"+\n",
    "           \"Test ROCAUC = \"+rocauc_xgb_bert_test_tosave)\n",
    "\n",
    "file.close()"
   ]
  },
  {
   "cell_type": "markdown",
   "metadata": {
    "id": "ekftGhJPFFFX"
   },
   "source": [
    "### BERT + Random Forest"
   ]
  },
  {
   "cell_type": "code",
   "execution_count": 81,
   "metadata": {
    "ExecuteTime": {
     "end_time": "2023-06-03T12:12:18.888634451Z",
     "start_time": "2023-06-03T12:09:51.129280194Z"
    },
    "colab": {
     "base_uri": "https://localhost:8080/"
    },
    "id": "_ks6w5IOrJYG",
    "outputId": "0341c3cf-975e-4e0c-8a26-01064b132ae1"
   },
   "outputs": [
    {
     "name": "stdout",
     "output_type": "stream",
     "text": [
      "Fitting 5 folds for each of 20 candidates, totalling 100 fits\n",
      "[CV 1/5] END bootstrap=True, max_depth=50, max_features=5, n_estimators=10;, score=0.405 total time=   0.4s\n",
      "[CV 2/5] END bootstrap=True, max_depth=50, max_features=5, n_estimators=10;, score=0.369 total time=   0.4s\n",
      "[CV 3/5] END bootstrap=True, max_depth=50, max_features=5, n_estimators=10;, score=0.384 total time=   0.4s\n",
      "[CV 4/5] END bootstrap=True, max_depth=50, max_features=5, n_estimators=10;, score=0.379 total time=   0.4s\n",
      "[CV 5/5] END bootstrap=True, max_depth=50, max_features=5, n_estimators=10;, score=0.393 total time=   0.4s\n",
      "[CV 1/5] END bootstrap=True, max_depth=None, max_features=10, n_estimators=25;, score=0.437 total time=   2.2s\n",
      "[CV 2/5] END bootstrap=True, max_depth=None, max_features=10, n_estimators=25;, score=0.442 total time=   2.2s\n",
      "[CV 3/5] END bootstrap=True, max_depth=None, max_features=10, n_estimators=25;, score=0.461 total time=   2.4s\n",
      "[CV 4/5] END bootstrap=True, max_depth=None, max_features=10, n_estimators=25;, score=0.451 total time=   2.3s\n",
      "[CV 5/5] END bootstrap=True, max_depth=None, max_features=10, n_estimators=25;, score=0.460 total time=   2.3s\n",
      "[CV 1/5] END bootstrap=True, max_depth=None, max_features=5, n_estimators=10;, score=0.369 total time=   0.4s\n",
      "[CV 2/5] END bootstrap=True, max_depth=None, max_features=5, n_estimators=10;, score=0.412 total time=   0.4s\n",
      "[CV 3/5] END bootstrap=True, max_depth=None, max_features=5, n_estimators=10;, score=0.373 total time=   0.4s\n",
      "[CV 4/5] END bootstrap=True, max_depth=None, max_features=5, n_estimators=10;, score=0.362 total time=   0.4s\n",
      "[CV 5/5] END bootstrap=True, max_depth=None, max_features=5, n_estimators=10;, score=0.350 total time=   0.5s\n",
      "[CV 1/5] END bootstrap=False, max_depth=None, max_features=5, n_estimators=10;, score=0.384 total time=   0.5s\n",
      "[CV 2/5] END bootstrap=False, max_depth=None, max_features=5, n_estimators=10;, score=0.401 total time=   0.5s\n",
      "[CV 3/5] END bootstrap=False, max_depth=None, max_features=5, n_estimators=10;, score=0.398 total time=   0.4s\n",
      "[CV 4/5] END bootstrap=False, max_depth=None, max_features=5, n_estimators=10;, score=0.392 total time=   0.4s\n",
      "[CV 5/5] END bootstrap=False, max_depth=None, max_features=5, n_estimators=10;, score=0.413 total time=   0.4s\n",
      "[CV 1/5] END bootstrap=False, max_depth=None, max_features=10, n_estimators=10;, score=0.370 total time=   0.9s\n",
      "[CV 2/5] END bootstrap=False, max_depth=None, max_features=10, n_estimators=10;, score=0.383 total time=   0.9s\n",
      "[CV 3/5] END bootstrap=False, max_depth=None, max_features=10, n_estimators=10;, score=0.382 total time=   0.9s\n",
      "[CV 4/5] END bootstrap=False, max_depth=None, max_features=10, n_estimators=10;, score=0.388 total time=   0.9s\n",
      "[CV 5/5] END bootstrap=False, max_depth=None, max_features=10, n_estimators=10;, score=0.385 total time=   0.8s\n",
      "[CV 1/5] END bootstrap=False, max_depth=None, max_features=5, n_estimators=25;, score=0.475 total time=   1.2s\n",
      "[CV 2/5] END bootstrap=False, max_depth=None, max_features=5, n_estimators=25;, score=0.451 total time=   1.2s\n",
      "[CV 3/5] END bootstrap=False, max_depth=None, max_features=5, n_estimators=25;, score=0.463 total time=   1.2s\n",
      "[CV 4/5] END bootstrap=False, max_depth=None, max_features=5, n_estimators=25;, score=0.479 total time=   1.2s\n",
      "[CV 5/5] END bootstrap=False, max_depth=None, max_features=5, n_estimators=25;, score=0.439 total time=   1.2s\n",
      "[CV 1/5] END bootstrap=True, max_depth=50, max_features=10, n_estimators=25;, score=0.462 total time=   2.2s\n",
      "[CV 2/5] END bootstrap=True, max_depth=50, max_features=10, n_estimators=25;, score=0.440 total time=   2.2s\n",
      "[CV 3/5] END bootstrap=True, max_depth=50, max_features=10, n_estimators=25;, score=0.444 total time=   2.2s\n",
      "[CV 4/5] END bootstrap=True, max_depth=50, max_features=10, n_estimators=25;, score=0.413 total time=   2.2s\n",
      "[CV 5/5] END bootstrap=True, max_depth=50, max_features=10, n_estimators=25;, score=0.426 total time=   2.2s\n",
      "[CV 1/5] END bootstrap=True, max_depth=10, max_features=5, n_estimators=25;, score=0.369 total time=   0.8s\n",
      "[CV 2/5] END bootstrap=True, max_depth=10, max_features=5, n_estimators=25;, score=0.381 total time=   0.8s\n",
      "[CV 3/5] END bootstrap=True, max_depth=10, max_features=5, n_estimators=25;, score=0.375 total time=   0.8s\n",
      "[CV 4/5] END bootstrap=True, max_depth=10, max_features=5, n_estimators=25;, score=0.402 total time=   0.8s\n",
      "[CV 5/5] END bootstrap=True, max_depth=10, max_features=5, n_estimators=25;, score=0.382 total time=   0.8s\n",
      "[CV 1/5] END bootstrap=True, max_depth=None, max_features=5, n_estimators=25;, score=0.442 total time=   1.1s\n",
      "[CV 2/5] END bootstrap=True, max_depth=None, max_features=5, n_estimators=25;, score=0.431 total time=   1.2s\n",
      "[CV 3/5] END bootstrap=True, max_depth=None, max_features=5, n_estimators=25;, score=0.433 total time=   1.2s\n",
      "[CV 4/5] END bootstrap=True, max_depth=None, max_features=5, n_estimators=25;, score=0.423 total time=   1.2s\n",
      "[CV 5/5] END bootstrap=True, max_depth=None, max_features=5, n_estimators=25;, score=0.433 total time=   1.2s\n",
      "[CV 1/5] END bootstrap=False, max_depth=10, max_features=10, n_estimators=10;, score=0.423 total time=   0.6s\n",
      "[CV 2/5] END bootstrap=False, max_depth=10, max_features=10, n_estimators=10;, score=0.450 total time=   0.6s\n",
      "[CV 3/5] END bootstrap=False, max_depth=10, max_features=10, n_estimators=10;, score=0.432 total time=   0.6s\n",
      "[CV 4/5] END bootstrap=False, max_depth=10, max_features=10, n_estimators=10;, score=0.430 total time=   0.6s\n",
      "[CV 5/5] END bootstrap=False, max_depth=10, max_features=10, n_estimators=10;, score=0.446 total time=   0.6s\n",
      "[CV 1/5] END bootstrap=True, max_depth=10, max_features=5, n_estimators=10;, score=0.391 total time=   0.3s\n",
      "[CV 2/5] END bootstrap=True, max_depth=10, max_features=5, n_estimators=10;, score=0.410 total time=   0.3s\n",
      "[CV 3/5] END bootstrap=True, max_depth=10, max_features=5, n_estimators=10;, score=0.410 total time=   0.3s\n",
      "[CV 4/5] END bootstrap=True, max_depth=10, max_features=5, n_estimators=10;, score=0.406 total time=   0.3s\n",
      "[CV 5/5] END bootstrap=True, max_depth=10, max_features=5, n_estimators=10;, score=0.409 total time=   0.3s\n",
      "[CV 1/5] END bootstrap=False, max_depth=10, max_features=10, n_estimators=25;, score=0.436 total time=   1.7s\n",
      "[CV 2/5] END bootstrap=False, max_depth=10, max_features=10, n_estimators=25;, score=0.410 total time=   1.6s\n",
      "[CV 3/5] END bootstrap=False, max_depth=10, max_features=10, n_estimators=25;, score=0.433 total time=   1.6s\n",
      "[CV 4/5] END bootstrap=False, max_depth=10, max_features=10, n_estimators=25;, score=0.394 total time=   1.6s\n",
      "[CV 5/5] END bootstrap=False, max_depth=10, max_features=10, n_estimators=25;, score=0.420 total time=   1.6s\n",
      "[CV 1/5] END bootstrap=True, max_depth=10, max_features=10, n_estimators=10;, score=0.408 total time=   0.6s\n",
      "[CV 2/5] END bootstrap=True, max_depth=10, max_features=10, n_estimators=10;, score=0.424 total time=   0.6s\n",
      "[CV 3/5] END bootstrap=True, max_depth=10, max_features=10, n_estimators=10;, score=0.424 total time=   0.6s\n",
      "[CV 4/5] END bootstrap=True, max_depth=10, max_features=10, n_estimators=10;, score=0.428 total time=   0.6s\n",
      "[CV 5/5] END bootstrap=True, max_depth=10, max_features=10, n_estimators=10;, score=0.434 total time=   0.6s\n",
      "[CV 1/5] END bootstrap=False, max_depth=50, max_features=5, n_estimators=25;, score=0.431 total time=   1.3s\n",
      "[CV 2/5] END bootstrap=False, max_depth=50, max_features=5, n_estimators=25;, score=0.433 total time=   1.4s\n",
      "[CV 3/5] END bootstrap=False, max_depth=50, max_features=5, n_estimators=25;, score=0.465 total time=   1.2s\n",
      "[CV 4/5] END bootstrap=False, max_depth=50, max_features=5, n_estimators=25;, score=0.444 total time=   1.2s\n",
      "[CV 5/5] END bootstrap=False, max_depth=50, max_features=5, n_estimators=25;, score=0.455 total time=   1.3s\n",
      "[CV 1/5] END bootstrap=False, max_depth=10, max_features=5, n_estimators=10;, score=0.415 total time=   0.3s\n",
      "[CV 2/5] END bootstrap=False, max_depth=10, max_features=5, n_estimators=10;, score=0.410 total time=   0.3s\n",
      "[CV 3/5] END bootstrap=False, max_depth=10, max_features=5, n_estimators=10;, score=0.445 total time=   0.3s\n",
      "[CV 4/5] END bootstrap=False, max_depth=10, max_features=5, n_estimators=10;, score=0.406 total time=   0.3s\n",
      "[CV 5/5] END bootstrap=False, max_depth=10, max_features=5, n_estimators=10;, score=0.402 total time=   0.3s\n",
      "[CV 1/5] END bootstrap=True, max_depth=50, max_features=5, n_estimators=25;, score=0.437 total time=   1.2s\n",
      "[CV 2/5] END bootstrap=True, max_depth=50, max_features=5, n_estimators=25;, score=0.440 total time=   1.2s\n",
      "[CV 3/5] END bootstrap=True, max_depth=50, max_features=5, n_estimators=25;, score=0.439 total time=   1.2s\n",
      "[CV 4/5] END bootstrap=True, max_depth=50, max_features=5, n_estimators=25;, score=0.437 total time=   1.1s\n",
      "[CV 5/5] END bootstrap=True, max_depth=50, max_features=5, n_estimators=25;, score=0.423 total time=   1.1s\n",
      "[CV 1/5] END bootstrap=False, max_depth=None, max_features=10, n_estimators=25;, score=0.446 total time=   2.3s\n",
      "[CV 2/5] END bootstrap=False, max_depth=None, max_features=10, n_estimators=25;, score=0.462 total time=   2.3s\n",
      "[CV 3/5] END bootstrap=False, max_depth=None, max_features=10, n_estimators=25;, score=0.452 total time=   2.3s\n",
      "[CV 4/5] END bootstrap=False, max_depth=None, max_features=10, n_estimators=25;, score=0.443 total time=   2.2s\n",
      "[CV 5/5] END bootstrap=False, max_depth=None, max_features=10, n_estimators=25;, score=0.454 total time=   2.2s\n",
      "[CV 1/5] END bootstrap=False, max_depth=50, max_features=10, n_estimators=25;, score=0.451 total time=   2.2s\n",
      "[CV 2/5] END bootstrap=False, max_depth=50, max_features=10, n_estimators=25;, score=0.463 total time=   2.2s\n",
      "[CV 3/5] END bootstrap=False, max_depth=50, max_features=10, n_estimators=25;, score=0.466 total time=   2.2s\n",
      "[CV 4/5] END bootstrap=False, max_depth=50, max_features=10, n_estimators=25;, score=0.423 total time=   2.2s\n",
      "[CV 5/5] END bootstrap=False, max_depth=50, max_features=10, n_estimators=25;, score=0.430 total time=   2.3s\n",
      "[CV 1/5] END bootstrap=False, max_depth=10, max_features=5, n_estimators=25;, score=0.378 total time=   0.8s\n",
      "[CV 2/5] END bootstrap=False, max_depth=10, max_features=5, n_estimators=25;, score=0.387 total time=   0.8s\n",
      "[CV 3/5] END bootstrap=False, max_depth=10, max_features=5, n_estimators=25;, score=0.389 total time=   0.8s\n",
      "[CV 4/5] END bootstrap=False, max_depth=10, max_features=5, n_estimators=25;, score=0.355 total time=   0.8s\n",
      "[CV 5/5] END bootstrap=False, max_depth=10, max_features=5, n_estimators=25;, score=0.388 total time=   0.8s\n",
      "[CV 1/5] END bootstrap=False, max_depth=50, max_features=5, n_estimators=10;, score=0.368 total time=   0.4s\n",
      "[CV 2/5] END bootstrap=False, max_depth=50, max_features=5, n_estimators=10;, score=0.372 total time=   0.4s\n",
      "[CV 3/5] END bootstrap=False, max_depth=50, max_features=5, n_estimators=10;, score=0.375 total time=   0.5s\n",
      "[CV 4/5] END bootstrap=False, max_depth=50, max_features=5, n_estimators=10;, score=0.379 total time=   0.4s\n",
      "[CV 5/5] END bootstrap=False, max_depth=50, max_features=5, n_estimators=10;, score=0.385 total time=   0.5s\n",
      "Best parameters: {'n_estimators': 25, 'max_features': 5, 'max_depth': None, 'bootstrap': False} \n",
      "\n"
     ]
    },
    {
     "name": "stderr",
     "output_type": "stream",
     "text": [
      "[Parallel(n_jobs=1)]: Using backend SequentialBackend with 1 concurrent workers.\n"
     ]
    },
    {
     "name": "stdout",
     "output_type": "stream",
     "text": [
      "\n",
      "\n",
      "\n",
      "_______________________________________________________________________\n",
      "EVALUATION\n",
      "\n",
      "----- TRAIN -----\n",
      "\n",
      "Confusion matrix\n",
      " [[6420    0]\n",
      " [   4 5100]] \n",
      "\n",
      "Accuracy: 100.0 \n",
      "\n",
      "F1 Score: 100.0 \n",
      "\n",
      "Balanced accuracy: 100.0 \n",
      "\n",
      "AUC Score: 100.0 \n",
      "\n",
      "\n",
      "----- TEST -----\n",
      "\n",
      "Confusion matrix\n",
      " [[504 210]\n",
      " [327 226]] \n",
      "\n",
      "Accuracy: 57.6 \n",
      "\n",
      "F1 Score: 45.7 \n",
      "\n",
      "Balanced accuracy: 45.7 \n",
      "\n",
      "AUC Score: 55.7 \n",
      "\n",
      "_______________________________________________________________________\n"
     ]
    },
    {
     "name": "stderr",
     "output_type": "stream",
     "text": [
      "[Parallel(n_jobs=1)]: Done  25 out of  25 | elapsed:    1.5s finished\n",
      "[Parallel(n_jobs=1)]: Using backend SequentialBackend with 1 concurrent workers.\n",
      "[Parallel(n_jobs=1)]: Done  25 out of  25 | elapsed:    0.0s finished\n",
      "[Parallel(n_jobs=1)]: Using backend SequentialBackend with 1 concurrent workers.\n",
      "[Parallel(n_jobs=1)]: Done  25 out of  25 | elapsed:    0.0s finished\n"
     ]
    }
   ],
   "source": [
    "# Instantiate classifier\n",
    "classifier = RFClassifier()\n",
    "\n",
    "# Perform randomized search over hyperparameters\n",
    "param_distributions = {\n",
    "    'n_estimators': [10, 25], \n",
    "    'max_features': [5, 10],\n",
    "    'max_depth': [10, 50, None], \n",
    "    'bootstrap': [True, False]\n",
    "}\n",
    "classifier.randomized_search(X_train_embeddings_bert, y_train, param_distributions)\n",
    "\n",
    "# Train classifier on training data\n",
    "classifier.fit(X_train_embeddings_bert, y_train)\n",
    "\n",
    "# Evaluate classifier\n",
    "print('\\n')\n",
    "print('\\n_______________________________________________________________________')\n",
    "print('EVALUATION')\n",
    "\n",
    "print('\\n----- TRAIN -----')\n",
    "cm_rf_bert_train, accuracy_rf_bert_train, f1_rf_bert_train, balaccuracy_rf_bert_train, rocauc_rf_bert_train = classifier.evaluate(X_train_embeddings_bert, y_train)\n",
    "\n",
    "print('\\n----- TEST -----')\n",
    "cm_rf_bert_test, accuracy_rf_bert_test, f1_rf_bert_test, balaccuracy_rf_bert_test, rocauc_rf_bert_test = classifier.evaluate(X_test_embeddings_bert, y_test)\n",
    "print('_______________________________________________________________________')"
   ]
  },
  {
   "cell_type": "code",
   "execution_count": 82,
   "metadata": {
    "ExecuteTime": {
     "end_time": "2023-06-03T12:19:45.764024124Z",
     "start_time": "2023-06-03T12:19:45.719117462Z"
    },
    "collapsed": false,
    "jupyter": {
     "outputs_hidden": false
    }
   },
   "outputs": [],
   "source": [
    "cm_rf_bert_train_tosave = repr(cm_rf_bert_train)\n",
    "accuracy_rf_bert_train_tosave = repr(accuracy_rf_bert_train)\n",
    "f1_rf_bert_train_tosave = repr(f1_rf_bert_train)\n",
    "balaccuracy_rf_bert_train_tosave = repr(balaccuracy_rf_bert_train)\n",
    "rocauc_rf_bert_train_tosave = repr(rocauc_rf_bert_train)\n",
    "\n",
    "cm_rf_bert_test_tosave = repr(cm_rf_bert_test)\n",
    "accuracy_rf_bert_test_tosave = repr(accuracy_rf_bert_test)\n",
    "f1_rf_bert_test_tosave = repr(f1_rf_bert_test)\n",
    "balaccuracy_rf_bert_test_tosave = repr(balaccuracy_rf_bert_test)\n",
    "rocauc_rf_bert_test_tosave = repr(rocauc_rf_bert_test)\n",
    "\n",
    "\n",
    "file = open(\"results_split/rf_bert_\"+time.strftime(\"%Y%m%d-%H%M%S\")+\".txt\", \"w\")\n",
    "\n",
    "file.write(\"Train CM = \"+cm_rf_bert_train_tosave + \"\\n\" +\n",
    "           \"Train Accuracy = \" + accuracy_rf_bert_train_tosave + \"\\n\" +\n",
    "           \"Train F1 = \"+f1_rf_bert_train_tosave + \"\\n\"+\n",
    "           \"Train Balanced Accuracy = \"+balaccuracy_rf_bert_train_tosave + \"\\n\" +\n",
    "           \"Train ROCAUC = \"+rocauc_rf_bert_train_tosave + \"\\n\"+\n",
    "           \"Test CM = \"+cm_rf_bert_test_tosave + \"\\n\"+\n",
    "           \"Test Accuracy = \"+accuracy_rf_bert_test_tosave + \"\\n\"+\n",
    "           \"Test F1 = \"+f1_rf_bert_test_tosave + \"\\n\"+\n",
    "           \"Test Balanced Accuracy = \"+balaccuracy_rf_bert_test_tosave + \"\\n\"+\n",
    "           \"Test ROCAUC = \"+rocauc_rf_bert_test_tosave)\n",
    "\n",
    "file.close()"
   ]
  },
  {
   "cell_type": "markdown",
   "metadata": {
    "id": "fbX9j48J1a9j"
   },
   "source": [
    "### BERT + SVC"
   ]
  },
  {
   "cell_type": "code",
   "execution_count": null,
   "metadata": {
    "ExecuteTime": {
     "start_time": "2023-06-03T12:19:51.649534269Z"
    },
    "colab": {
     "base_uri": "https://localhost:8080/"
    },
    "id": "fSTFuYyH63Mk",
    "is_executing": true,
    "outputId": "6ba15a33-8e98-4a4e-9113-8c771dc0dede"
   },
   "outputs": [
    {
     "name": "stderr",
     "output_type": "stream",
     "text": [
      "C:\\Users\\Wesub\\anaconda3\\lib\\site-packages\\sklearn\\model_selection\\_search.py:305: UserWarning: The total space of parameters 16 is smaller than n_iter=20. Running 16 iterations. For exhaustive searches, use GridSearchCV.\n",
      "  warnings.warn(\n"
     ]
    },
    {
     "name": "stdout",
     "output_type": "stream",
     "text": [
      "Fitting 5 folds for each of 16 candidates, totalling 80 fits\n",
      "[CV 1/5] END ...C=1, gamma=scale, kernel=linear;, score=0.507 total time= 1.6min\n",
      "[CV 2/5] END ...C=1, gamma=scale, kernel=linear;, score=0.510 total time= 1.6min\n",
      "[CV 3/5] END ...C=1, gamma=scale, kernel=linear;, score=0.482 total time= 1.5min\n",
      "[CV 4/5] END ...C=1, gamma=scale, kernel=linear;, score=0.508 total time= 1.6min\n",
      "[CV 5/5] END ...C=1, gamma=scale, kernel=linear;, score=0.522 total time= 1.6min\n",
      "[CV 1/5] END .....C=1, gamma=scale, kernel=poly;, score=0.494 total time=  25.7s\n",
      "[CV 2/5] END .....C=1, gamma=scale, kernel=poly;, score=0.506 total time=  26.0s\n",
      "[CV 3/5] END .....C=1, gamma=scale, kernel=poly;, score=0.491 total time=  25.7s\n",
      "[CV 4/5] END .....C=1, gamma=scale, kernel=poly;, score=0.494 total time=  25.8s\n",
      "[CV 5/5] END .....C=1, gamma=scale, kernel=poly;, score=0.520 total time=  26.1s\n",
      "[CV 1/5] END ......C=1, gamma=scale, kernel=rbf;, score=0.490 total time=  30.4s\n",
      "[CV 2/5] END ......C=1, gamma=scale, kernel=rbf;, score=0.508 total time=  30.6s\n",
      "[CV 3/5] END ......C=1, gamma=scale, kernel=rbf;, score=0.486 total time=  30.4s\n",
      "[CV 4/5] END ......C=1, gamma=scale, kernel=rbf;, score=0.496 total time=  30.4s\n",
      "[CV 5/5] END ......C=1, gamma=scale, kernel=rbf;, score=0.516 total time=  30.7s\n",
      "[CV 1/5] END ..C=1, gamma=scale, kernel=sigmoid;, score=0.463 total time=  29.4s\n",
      "[CV 2/5] END ..C=1, gamma=scale, kernel=sigmoid;, score=0.494 total time=  29.5s\n",
      "[CV 3/5] END ..C=1, gamma=scale, kernel=sigmoid;, score=0.469 total time=  28.4s\n",
      "[CV 4/5] END ..C=1, gamma=scale, kernel=sigmoid;, score=0.448 total time=  27.4s\n",
      "[CV 5/5] END ..C=1, gamma=scale, kernel=sigmoid;, score=0.470 total time=  29.3s\n",
      "[CV 1/5] END ..C=10, gamma=scale, kernel=linear;, score=0.509 total time=12.2min\n",
      "[CV 2/5] END ..C=10, gamma=scale, kernel=linear;, score=0.514 total time=12.4min\n",
      "[CV 3/5] END ..C=10, gamma=scale, kernel=linear;, score=0.479 total time=12.2min\n",
      "[CV 4/5] END ..C=10, gamma=scale, kernel=linear;, score=0.503 total time=12.2min\n",
      "[CV 5/5] END ..C=10, gamma=scale, kernel=linear;, score=0.518 total time=12.5min\n",
      "[CV 1/5] END ....C=10, gamma=scale, kernel=poly;, score=0.512 total time=  36.8s\n",
      "[CV 2/5] END ....C=10, gamma=scale, kernel=poly;, score=0.524 total time=  37.0s\n",
      "[CV 3/5] END ....C=10, gamma=scale, kernel=poly;, score=0.511 total time=  36.7s\n",
      "[CV 4/5] END ....C=10, gamma=scale, kernel=poly;, score=0.502 total time=  36.9s\n",
      "[CV 5/5] END ....C=10, gamma=scale, kernel=poly;, score=0.536 total time=  38.1s\n",
      "[CV 1/5] END .....C=10, gamma=scale, kernel=rbf;, score=0.500 total time=  38.7s\n",
      "[CV 2/5] END .....C=10, gamma=scale, kernel=rbf;, score=0.525 total time=  39.2s\n",
      "[CV 3/5] END .....C=10, gamma=scale, kernel=rbf;, score=0.510 total time=  39.6s\n",
      "[CV 4/5] END .....C=10, gamma=scale, kernel=rbf;, score=0.515 total time=  39.0s\n",
      "[CV 5/5] END .....C=10, gamma=scale, kernel=rbf;, score=0.533 total time=  39.3s\n",
      "[CV 1/5] END .C=10, gamma=scale, kernel=sigmoid;, score=0.480 total time=  17.4s\n",
      "[CV 2/5] END .C=10, gamma=scale, kernel=sigmoid;, score=0.463 total time=  16.9s\n",
      "[CV 3/5] END .C=10, gamma=scale, kernel=sigmoid;, score=0.477 total time=  16.7s\n",
      "[CV 4/5] END .C=10, gamma=scale, kernel=sigmoid;, score=0.471 total time=  16.9s\n",
      "[CV 5/5] END .C=10, gamma=scale, kernel=sigmoid;, score=0.455 total time=  17.1s\n",
      "[CV 1/5] END C=100, gamma=scale, kernel=linear;, score=0.514 total time=119.5min\n",
      "[CV 2/5] END C=100, gamma=scale, kernel=linear;, score=0.507 total time=119.8min\n",
      "[CV 3/5] END C=100, gamma=scale, kernel=linear;, score=0.478 total time=116.2min\n",
      "[CV 4/5] END C=100, gamma=scale, kernel=linear;, score=0.502 total time=117.7min\n",
      "[CV 5/5] END C=100, gamma=scale, kernel=linear;, score=0.515 total time=118.8min\n",
      "[CV 1/5] END ...C=100, gamma=scale, kernel=poly;, score=0.503 total time= 2.1min\n",
      "[CV 2/5] END ...C=100, gamma=scale, kernel=poly;, score=0.507 total time= 2.1min\n",
      "[CV 3/5] END ...C=100, gamma=scale, kernel=poly;, score=0.513 total time= 2.2min\n",
      "[CV 4/5] END ...C=100, gamma=scale, kernel=poly;, score=0.502 total time= 2.1min\n",
      "[CV 5/5] END ...C=100, gamma=scale, kernel=poly;, score=0.538 total time= 2.1min\n",
      "[CV 1/5] END ....C=100, gamma=scale, kernel=rbf;, score=0.503 total time= 2.6min\n",
      "[CV 2/5] END ....C=100, gamma=scale, kernel=rbf;, score=0.511 total time= 2.6min\n",
      "[CV 3/5] END ....C=100, gamma=scale, kernel=rbf;, score=0.518 total time= 2.7min\n",
      "[CV 4/5] END ....C=100, gamma=scale, kernel=rbf;, score=0.503 total time= 2.6min\n",
      "[CV 5/5] END ....C=100, gamma=scale, kernel=rbf;, score=0.535 total time= 2.7min\n",
      "[CV 1/5] END C=100, gamma=scale, kernel=sigmoid;, score=0.472 total time=  15.1s\n",
      "[CV 2/5] END C=100, gamma=scale, kernel=sigmoid;, score=0.465 total time=  15.1s\n",
      "[CV 3/5] END C=100, gamma=scale, kernel=sigmoid;, score=0.474 total time=  15.1s\n",
      "[CV 4/5] END C=100, gamma=scale, kernel=sigmoid;, score=0.469 total time=  15.0s\n",
      "[CV 5/5] END C=100, gamma=scale, kernel=sigmoid;, score=0.460 total time=  15.0s\n",
      "[CV 1/5] END C=1000, gamma=scale, kernel=linear;, score=0.507 total time=794.7min\n"
     ]
    }
   ],
   "source": [
    "# Instantiate classifier\n",
    "classifier = SVClassifier()\n",
    "\n",
    "# Perform randomized search over hyperparameters\n",
    "param_distributions = {\n",
    "    'C': [1, 10, 100, 1000],\n",
    "    'kernel': ['linear', 'poly', 'rbf', 'sigmoid'],\n",
    "    'gamma': ['scale']\n",
    "    #'gamma': [0.1, 0.2, 0.3, 0.4, 0.5, 0.6, 0.7, 0.8, 0.9]\n",
    "}\n",
    "classifier.randomized_search(X_train_embeddings_bert, y_train, param_distributions)\n",
    "\n",
    "# Train classifier on training data\n",
    "classifier.fit(X_train_embeddings_bert, y_train)\n",
    "\n",
    "# Evaluate classifier\n",
    "print('\\n')\n",
    "print('\\n_______________________________________________________________________')\n",
    "print('EVALUATION')\n",
    "\n",
    "print('\\n----- TRAIN -----')\n",
    "cm_svc_bert_train, accuracy_svc_bert_train, f1_svc_bert_train, balaccuracy_svc_bert_train, rocauc_svc_bert_train = classifier.evaluate(X_train_embeddings_bert, y_train)\n",
    "\n",
    "print('\\n----- TEST -----')\n",
    "cm_svc_bert_test, accuracy_svc_bert_test, f1_svc_bert_test, balaccuracy_svc_bert_test, rocauc_svc_bert_test = classifier.evaluate(X_test_embeddings_bert, y_test)\n",
    "print('_______________________________________________________________________')"
   ]
  },
  {
   "cell_type": "code",
   "execution_count": null,
   "metadata": {
    "collapsed": false,
    "is_executing": true,
    "jupyter": {
     "outputs_hidden": false
    }
   },
   "outputs": [],
   "source": [
    "cm_svc_bert_train_tosave = repr(cm_svc_bert_train)\n",
    "accuracy_svc_bert_train_tosave = repr(accuracy_svc_bert_train)\n",
    "f1_svc_bert_train_tosave = repr(f1_svc_bert_train)\n",
    "balaccuracy_svc_bert_train_tosave = repr(balaccuracy_svc_bert_train)\n",
    "rocauc_svc_bert_train_tosave = repr(rocauc_svc_bert_train)\n",
    "\n",
    "cm_svc_bert_test_tosave = repr(cm_svc_bert_test)\n",
    "accuracy_svc_bert_test_tosave = repr(accuracy_svc_bert_test)\n",
    "f1_svc_bert_test_tosave = repr(f1_svc_bert_test)\n",
    "balaccuracy_svc_bert_test_tosave = repr(balaccuracy_svc_bert_test)\n",
    "rocauc_svc_bert_test_tosave = repr(rocauc_svc_bert_test)\n",
    "\n",
    "\n",
    "file = open(\"results_split/svc_bert_\"+time.strftime(\"%Y%m%d-%H%M%S\")+\".txt\", \"w\")\n",
    "\n",
    "file.write(\"Train CM = \"+cm_svc_bert_train_tosave + \"\\n\" +\n",
    "           \"Train Accuracy = \" + accuracy_svc_bert_train_tosave + \"\\n\" +\n",
    "           \"Train F1 = \"+f1_svc_bert_train_tosave + \"\\n\"+\n",
    "           \"Train Balanced Accuracy = \"+balaccuracy_svc_bert_train_tosave + \"\\n\" +\n",
    "           \"Train ROCAUC = \"+rocauc_svc_bert_train_tosave + \"\\n\"+\n",
    "           \"Test CM = \"+cm_svc_bert_test_tosave + \"\\n\"+\n",
    "           \"Test Accuracy = \"+accuracy_svc_bert_test_tosave + \"\\n\"+\n",
    "           \"Test F1 = \"+f1_svc_bert_test_tosave + \"\\n\"+\n",
    "           \"Test Balanced Accuracy = \"+balaccuracy_svc_bert_test_tosave + \"\\n\"+\n",
    "           \"Test ROCAUC = \"+rocauc_svc_bert_test_tosave)\n",
    "\n",
    "file.close()"
   ]
  },
  {
   "cell_type": "markdown",
   "metadata": {
    "id": "yYoz0OB11ayT"
   },
   "source": [
    "### BERT + Logistic Regression"
   ]
  },
  {
   "cell_type": "code",
   "execution_count": null,
   "metadata": {
    "colab": {
     "base_uri": "https://localhost:8080/"
    },
    "id": "YijN0v7JCFbG",
    "is_executing": true,
    "outputId": "4bf95058-f264-43c2-e84d-1572b4814428"
   },
   "outputs": [],
   "source": [
    "# Instantiate classifier\n",
    "classifier = LRClassifier()\n",
    "\n",
    "# Perform randomized search over hyperparameters\n",
    "param_distributions = {\n",
    "    'penalty': ['l1', 'l2', 'elasticnet', 'none'],\n",
    "    'solver' : ['newton-cg', 'lbfgs', 'liblinear', 'sag', 'saga'],\n",
    "    'C' : np.arange(0, 1, 0.01)\n",
    "}\n",
    "classifier.randomized_search(X_train_embeddings_bert, y_train, param_distributions)\n",
    "\n",
    "# Train classifier on training data\n",
    "classifier.fit(X_train_embeddings_bert, y_train)\n",
    "\n",
    "# Evaluate classifier\n",
    "print('\\n')\n",
    "print('\\n_______________________________________________________________________')\n",
    "print('EVALUATION')\n",
    "\n",
    "print('\\n----- TRAIN -----')\n",
    "cm_lr_bert_train, accuracy_lr_bert_train, f1_lr_bert_train, balaccuracy_lr_bert_train, rocauc_lr_bert_train = classifier.evaluate(X_train_embeddings_bert, y_train)\n",
    "\n",
    "print('\\n----- TEST -----')\n",
    "cm_lr_bert_test, accuracy_lr_bert_test, f1_lr_bert_test, balaccuracy_lr_bert_test, rocauc_lr_bert_test = classifier.evaluate(X_test_embeddings_bert, y_test)\n",
    "print('_______________________________________________________________________')"
   ]
  },
  {
   "cell_type": "code",
   "execution_count": null,
   "metadata": {
    "collapsed": false,
    "is_executing": true,
    "jupyter": {
     "outputs_hidden": false
    }
   },
   "outputs": [],
   "source": [
    "cm_lr_bert_train_tosave = repr(cm_lr_bert_train)\n",
    "accuracy_lr_bert_train_tosave = repr(accuracy_lr_bert_train)\n",
    "f1_lr_bert_train_tosave = repr(f1_lr_bert_train)\n",
    "balaccuracy_lr_bert_train_tosave = repr(balaccuracy_lr_bert_train)\n",
    "rocauc_lr_bert_train_tosave = repr(rocauc_lr_bert_train)\n",
    "\n",
    "cm_lr_bert_test_tosave = repr(cm_lr_bert_test)\n",
    "accuracy_lr_bert_test_tosave = repr(accuracy_lr_bert_test)\n",
    "f1_lr_bert_test_tosave = repr(f1_lr_bert_test)\n",
    "balaccuracy_lr_bert_test_tosave = repr(balaccuracy_lr_bert_test)\n",
    "rocauc_lr_bert_test_tosave = repr(rocauc_lr_bert_test)\n",
    "\n",
    "\n",
    "file = open(\"results_split/lr_bert_\"+time.strftime(\"%Y%m%d-%H%M%S\")+\".txt\", \"w\")\n",
    "\n",
    "file.write(\"Train CM = \"+cm_lr_bert_train_tosave + \"\\n\" +\n",
    "           \"Train Accuracy = \" + accuracy_lr_bert_train_tosave + \"\\n\" +\n",
    "           \"Train F1 = \"+f1_lr_bert_train_tosave + \"\\n\"+\n",
    "           \"Train Balanced Accuracy = \"+balaccuracy_lr_bert_train_tosave + \"\\n\" +\n",
    "           \"Train ROCAUC = \"+rocauc_lr_bert_train_tosave + \"\\n\"+\n",
    "           \"Test CM = \"+cm_lr_bert_test_tosave + \"\\n\"+\n",
    "           \"Test Accuracy = \"+accuracy_lr_bert_test_tosave + \"\\n\"+\n",
    "           \"Test F1 = \"+f1_lr_bert_test_tosave + \"\\n\"+\n",
    "           \"Test Balanced Accuracy = \"+balaccuracy_lr_bert_test_tosave + \"\\n\"+\n",
    "           \"Test ROCAUC = \"+rocauc_lr_bert_test_tosave)\n",
    "\n",
    "file.close()"
   ]
  },
  {
   "cell_type": "markdown",
   "metadata": {},
   "source": [
    "### BERT + Neural Network"
   ]
  },
  {
   "cell_type": "code",
   "execution_count": null,
   "metadata": {
    "collapsed": false,
    "is_executing": true,
    "jupyter": {
     "outputs_hidden": false
    }
   },
   "outputs": [],
   "source": [
    "# --------------------\n",
    "# SET PARAMETERS\n",
    "dropout_rate = 0.1\n",
    "epochs_number = 15\n",
    "learning_rate = 0.0001\n",
    "early_stopping = 5\n",
    "# --------------------\n",
    "\n",
    "input_dim = X_train_embeddings_bert.shape[1]  # Dimensionality of word embeddings\n",
    "hidden_dim = X_train_embeddings_bert.shape[1]*2  # Number of units in the hidden layer\n",
    "\n",
    "classifier = NeuralNetworkClassifier(input_dim, hidden_dim, dropout=dropout_rate)\n",
    "\n",
    "# Fit the model\n",
    "classifier.fit(X_train_embeddings_bert, y_train, X_test_embeddings_bert, y_test, num_epochs=epochs_number, lr=learning_rate, patience=early_stopping)\n",
    "\n",
    "# Evaluate classifier\n",
    "print('\\n')\n",
    "print('\\n_______________________________________________________________________')\n",
    "print('EVALUATION')\n",
    "\n",
    "print('\\n----- TRAIN -----')\n",
    "cm_nn_bert_train, accuracy_nn_bert_train, f1_nn_bert_train, balaccuracy_nn_bert_train, rocauc_nn_bert_train = classifier.evaluate(X_train_embeddings_bert, y_train)\n",
    "\n",
    "print('\\n----- TEST -----')\n",
    "cm_nn_bert_test, accuracy_nn_bert_test, f1_nn_bert_test, balaccuracy_nn_bert_test, rocauc_nn_bert_test = classifier.evaluate(X_test_embeddings_bert, y_test)\n",
    "print('_______________________________________________________________________')"
   ]
  },
  {
   "cell_type": "code",
   "execution_count": null,
   "metadata": {
    "collapsed": false,
    "is_executing": true,
    "jupyter": {
     "outputs_hidden": false
    }
   },
   "outputs": [],
   "source": [
    "cm_nn_bert_train_tosave = repr(cm_nn_bert_train)\n",
    "accuracy_nn_bert_train_tosave = repr(accuracy_nn_bert_train)\n",
    "f1_nn_bert_train_tosave = repr(f1_nn_bert_train)\n",
    "balaccuracy_nn_bert_train_tosave = repr(balaccuracy_nn_bert_train)\n",
    "rocauc_nn_bert_train_tosave = repr(rocauc_nn_bert_train)\n",
    "\n",
    "cm_nn_bert_test_tosave = repr(cm_nn_bert_test)\n",
    "accuracy_nn_bert_test_tosave = repr(accuracy_nn_bert_test)\n",
    "f1_nn_bert_test_tosave = repr(f1_nn_bert_test)\n",
    "balaccuracy_nn_bert_test_tosave = repr(balaccuracy_nn_bert_test)\n",
    "rocauc_nn_bert_test_tosave = repr(rocauc_nn_bert_test)\n",
    "\n",
    "\n",
    "file = open(\"results_split/nn_bert_\"+time.strftime(\"%Y%m%d-%H%M%S\")+\".txt\", \"w\")\n",
    "\n",
    "file.write(\"Train CM = \"+cm_nn_bert_train_tosave + \"\\n\" +\n",
    "           \"Train Accuracy = \" + accuracy_nn_bert_train_tosave + \"\\n\" +\n",
    "           \"Train F1 = \"+f1_nn_bert_train_tosave + \"\\n\"+\n",
    "           \"Train Balanced Accuracy = \"+balaccuracy_nn_bert_train_tosave + \"\\n\" +\n",
    "           \"Train ROCAUC = \"+rocauc_nn_bert_train_tosave + \"\\n\"+\n",
    "           \"Test CM = \"+cm_nn_bert_test_tosave + \"\\n\"+\n",
    "           \"Test Accuracy = \"+accuracy_nn_bert_test_tosave + \"\\n\"+\n",
    "           \"Test F1 = \"+f1_nn_bert_test_tosave + \"\\n\"+\n",
    "           \"Test Balanced Accuracy = \"+balaccuracy_nn_bert_test_tosave + \"\\n\"+\n",
    "           \"Test ROCAUC = \"+rocauc_nn_bert_test_tosave)\n",
    "\n",
    "file.close()"
   ]
  },
  {
   "cell_type": "markdown",
   "metadata": {
    "id": "0uSk7WKhGB1v"
   },
   "source": [
    "## GloVe embeddings"
   ]
  },
  {
   "cell_type": "markdown",
   "metadata": {
    "id": "h1D_jiR2GI7H"
   },
   "source": [
    "### GloVe + KNN"
   ]
  },
  {
   "cell_type": "code",
   "execution_count": 65,
   "metadata": {
    "id": "LA5swddzG28v",
    "is_executing": true
   },
   "outputs": [
    {
     "name": "stdout",
     "output_type": "stream",
     "text": [
      "Fitting 5 folds for each of 20 candidates, totalling 100 fits\n",
      "[CV 1/5] END metric=manhattan, n_neighbors=9, weights=distance;, score=0.460 total time=   2.8s\n",
      "[CV 2/5] END metric=manhattan, n_neighbors=9, weights=distance;, score=0.466 total time=   2.8s\n",
      "[CV 3/5] END metric=manhattan, n_neighbors=9, weights=distance;, score=0.488 total time=   2.8s\n",
      "[CV 4/5] END metric=manhattan, n_neighbors=9, weights=distance;, score=0.481 total time=   2.8s\n",
      "[CV 5/5] END metric=manhattan, n_neighbors=9, weights=distance;, score=0.513 total time=   2.7s\n",
      "[CV 1/5] END metric=minkowski, n_neighbors=6, weights=distance;, score=0.471 total time=   0.1s\n",
      "[CV 2/5] END metric=minkowski, n_neighbors=6, weights=distance;, score=0.490 total time=   0.1s\n",
      "[CV 3/5] END metric=minkowski, n_neighbors=6, weights=distance;, score=0.508 total time=   0.1s\n",
      "[CV 4/5] END metric=minkowski, n_neighbors=6, weights=distance;, score=0.482 total time=   0.1s\n",
      "[CV 5/5] END metric=minkowski, n_neighbors=6, weights=distance;, score=0.515 total time=   0.1s\n",
      "[CV 1/5] END metric=minkowski, n_neighbors=8, weights=distance;, score=0.485 total time=   0.1s\n",
      "[CV 2/5] END metric=minkowski, n_neighbors=8, weights=distance;, score=0.490 total time=   0.1s\n",
      "[CV 3/5] END metric=minkowski, n_neighbors=8, weights=distance;, score=0.508 total time=   0.1s\n",
      "[CV 4/5] END metric=minkowski, n_neighbors=8, weights=distance;, score=0.476 total time=   0.1s\n",
      "[CV 5/5] END metric=minkowski, n_neighbors=8, weights=distance;, score=0.519 total time=   0.1s\n",
      "[CV 1/5] END metric=manhattan, n_neighbors=8, weights=distance;, score=0.477 total time=   2.8s\n",
      "[CV 2/5] END metric=manhattan, n_neighbors=8, weights=distance;, score=0.468 total time=   2.7s\n",
      "[CV 3/5] END metric=manhattan, n_neighbors=8, weights=distance;, score=0.506 total time=   2.8s\n",
      "[CV 4/5] END metric=manhattan, n_neighbors=8, weights=distance;, score=0.499 total time=   2.8s\n",
      "[CV 5/5] END metric=manhattan, n_neighbors=8, weights=distance;, score=0.517 total time=   2.7s\n",
      "[CV 1/5] END metric=euclidean, n_neighbors=6, weights=distance;, score=0.471 total time=   0.0s\n",
      "[CV 2/5] END metric=euclidean, n_neighbors=6, weights=distance;, score=0.490 total time=   0.0s\n",
      "[CV 3/5] END metric=euclidean, n_neighbors=6, weights=distance;, score=0.508 total time=   0.0s\n",
      "[CV 4/5] END metric=euclidean, n_neighbors=6, weights=distance;, score=0.482 total time=   0.1s\n",
      "[CV 5/5] END metric=euclidean, n_neighbors=6, weights=distance;, score=0.515 total time=   0.1s\n",
      "[CV 1/5] END metric=euclidean, n_neighbors=3, weights=uniform;, score=0.493 total time=   0.1s\n",
      "[CV 2/5] END metric=euclidean, n_neighbors=3, weights=uniform;, score=0.493 total time=   0.1s\n",
      "[CV 3/5] END metric=euclidean, n_neighbors=3, weights=uniform;, score=0.514 total time=   0.1s\n",
      "[CV 4/5] END metric=euclidean, n_neighbors=3, weights=uniform;, score=0.486 total time=   0.1s\n",
      "[CV 5/5] END metric=euclidean, n_neighbors=3, weights=uniform;, score=0.511 total time=   0.1s\n",
      "[CV 1/5] END metric=minkowski, n_neighbors=4, weights=uniform;, score=0.394 total time=   0.1s\n",
      "[CV 2/5] END metric=minkowski, n_neighbors=4, weights=uniform;, score=0.355 total time=   0.1s\n",
      "[CV 3/5] END metric=minkowski, n_neighbors=4, weights=uniform;, score=0.421 total time=   0.1s\n",
      "[CV 4/5] END metric=minkowski, n_neighbors=4, weights=uniform;, score=0.379 total time=   0.1s\n",
      "[CV 5/5] END metric=minkowski, n_neighbors=4, weights=uniform;, score=0.408 total time=   0.1s\n",
      "[CV 1/5] END metric=euclidean, n_neighbors=2, weights=uniform;, score=0.339 total time=   0.1s\n",
      "[CV 2/5] END metric=euclidean, n_neighbors=2, weights=uniform;, score=0.322 total time=   0.1s\n",
      "[CV 3/5] END metric=euclidean, n_neighbors=2, weights=uniform;, score=0.356 total time=   0.1s\n",
      "[CV 4/5] END metric=euclidean, n_neighbors=2, weights=uniform;, score=0.353 total time=   0.1s\n",
      "[CV 5/5] END metric=euclidean, n_neighbors=2, weights=uniform;, score=0.359 total time=   0.1s\n",
      "[CV 1/5] END metric=manhattan, n_neighbors=5, weights=uniform;, score=0.480 total time=   2.8s\n",
      "[CV 2/5] END metric=manhattan, n_neighbors=5, weights=uniform;, score=0.470 total time=   2.8s\n",
      "[CV 3/5] END metric=manhattan, n_neighbors=5, weights=uniform;, score=0.508 total time=   2.8s\n",
      "[CV 4/5] END metric=manhattan, n_neighbors=5, weights=uniform;, score=0.487 total time=   2.8s\n",
      "[CV 5/5] END metric=manhattan, n_neighbors=5, weights=uniform;, score=0.510 total time=   2.8s\n",
      "[CV 1/5] END metric=euclidean, n_neighbors=2, weights=distance;, score=0.476 total time=   0.1s\n",
      "[CV 2/5] END metric=euclidean, n_neighbors=2, weights=distance;, score=0.482 total time=   0.1s\n",
      "[CV 3/5] END metric=euclidean, n_neighbors=2, weights=distance;, score=0.499 total time=   0.1s\n",
      "[CV 4/5] END metric=euclidean, n_neighbors=2, weights=distance;, score=0.487 total time=   0.0s\n",
      "[CV 5/5] END metric=euclidean, n_neighbors=2, weights=distance;, score=0.512 total time=   0.1s\n",
      "[CV 1/5] END metric=minkowski, n_neighbors=6, weights=uniform;, score=0.385 total time=   0.1s\n",
      "[CV 2/5] END metric=minkowski, n_neighbors=6, weights=uniform;, score=0.401 total time=   0.1s\n",
      "[CV 3/5] END metric=minkowski, n_neighbors=6, weights=uniform;, score=0.432 total time=   0.1s\n",
      "[CV 4/5] END metric=minkowski, n_neighbors=6, weights=uniform;, score=0.397 total time=   0.1s\n",
      "[CV 5/5] END metric=minkowski, n_neighbors=6, weights=uniform;, score=0.427 total time=   0.1s\n",
      "[CV 1/5] END metric=manhattan, n_neighbors=6, weights=distance;, score=0.475 total time=   2.8s\n",
      "[CV 2/5] END metric=manhattan, n_neighbors=6, weights=distance;, score=0.476 total time=   2.7s\n",
      "[CV 3/5] END metric=manhattan, n_neighbors=6, weights=distance;, score=0.505 total time=   2.7s\n",
      "[CV 4/5] END metric=manhattan, n_neighbors=6, weights=distance;, score=0.494 total time=   2.7s\n",
      "[CV 5/5] END metric=manhattan, n_neighbors=6, weights=distance;, score=0.516 total time=   2.7s\n",
      "[CV 1/5] END metric=minkowski, n_neighbors=2, weights=distance;, score=0.476 total time=   0.0s\n",
      "[CV 2/5] END metric=minkowski, n_neighbors=2, weights=distance;, score=0.482 total time=   0.1s\n",
      "[CV 3/5] END metric=minkowski, n_neighbors=2, weights=distance;, score=0.499 total time=   0.0s\n",
      "[CV 4/5] END metric=minkowski, n_neighbors=2, weights=distance;, score=0.487 total time=   0.1s\n",
      "[CV 5/5] END metric=minkowski, n_neighbors=2, weights=distance;, score=0.512 total time=   0.1s\n",
      "[CV 1/5] END metric=minkowski, n_neighbors=8, weights=uniform;, score=0.405 total time=   0.1s\n",
      "[CV 2/5] END metric=minkowski, n_neighbors=8, weights=uniform;, score=0.410 total time=   0.1s\n",
      "[CV 3/5] END metric=minkowski, n_neighbors=8, weights=uniform;, score=0.445 total time=   0.1s\n",
      "[CV 4/5] END metric=minkowski, n_neighbors=8, weights=uniform;, score=0.399 total time=   0.1s\n",
      "[CV 5/5] END metric=minkowski, n_neighbors=8, weights=uniform;, score=0.437 total time=   0.1s\n",
      "[CV 1/5] END metric=manhattan, n_neighbors=7, weights=uniform;, score=0.470 total time=   2.8s\n",
      "[CV 2/5] END metric=manhattan, n_neighbors=7, weights=uniform;, score=0.480 total time=   2.8s\n",
      "[CV 3/5] END metric=manhattan, n_neighbors=7, weights=uniform;, score=0.510 total time=   2.8s\n",
      "[CV 4/5] END metric=manhattan, n_neighbors=7, weights=uniform;, score=0.490 total time=   2.8s\n",
      "[CV 5/5] END metric=manhattan, n_neighbors=7, weights=uniform;, score=0.506 total time=   2.8s\n",
      "[CV 1/5] END metric=euclidean, n_neighbors=9, weights=uniform;, score=0.472 total time=   0.1s\n",
      "[CV 2/5] END metric=euclidean, n_neighbors=9, weights=uniform;, score=0.478 total time=   0.1s\n",
      "[CV 3/5] END metric=euclidean, n_neighbors=9, weights=uniform;, score=0.513 total time=   0.1s\n",
      "[CV 4/5] END metric=euclidean, n_neighbors=9, weights=uniform;, score=0.463 total time=   0.1s\n",
      "[CV 5/5] END metric=euclidean, n_neighbors=9, weights=uniform;, score=0.505 total time=   0.1s\n",
      "[CV 1/5] END metric=euclidean, n_neighbors=8, weights=distance;, score=0.485 total time=   0.1s\n",
      "[CV 2/5] END metric=euclidean, n_neighbors=8, weights=distance;, score=0.490 total time=   0.1s\n",
      "[CV 3/5] END metric=euclidean, n_neighbors=8, weights=distance;, score=0.508 total time=   0.1s\n",
      "[CV 4/5] END metric=euclidean, n_neighbors=8, weights=distance;, score=0.476 total time=   0.1s\n",
      "[CV 5/5] END metric=euclidean, n_neighbors=8, weights=distance;, score=0.519 total time=   0.1s\n",
      "[CV 1/5] END metric=manhattan, n_neighbors=5, weights=distance;, score=0.482 total time=   2.7s\n",
      "[CV 2/5] END metric=manhattan, n_neighbors=5, weights=distance;, score=0.472 total time=   2.7s\n",
      "[CV 3/5] END metric=manhattan, n_neighbors=5, weights=distance;, score=0.510 total time=   2.7s\n",
      "[CV 4/5] END metric=manhattan, n_neighbors=5, weights=distance;, score=0.488 total time=   2.8s\n",
      "[CV 5/5] END metric=manhattan, n_neighbors=5, weights=distance;, score=0.512 total time=   2.7s\n",
      "[CV 1/5] END metric=minkowski, n_neighbors=9, weights=distance;, score=0.473 total time=   0.0s\n",
      "[CV 2/5] END metric=minkowski, n_neighbors=9, weights=distance;, score=0.480 total time=   0.1s\n",
      "[CV 3/5] END metric=minkowski, n_neighbors=9, weights=distance;, score=0.515 total time=   0.1s\n",
      "[CV 4/5] END metric=minkowski, n_neighbors=9, weights=distance;, score=0.462 total time=   0.1s\n",
      "[CV 5/5] END metric=minkowski, n_neighbors=9, weights=distance;, score=0.507 total time=   0.1s\n",
      "[CV 1/5] END metric=minkowski, n_neighbors=4, weights=distance;, score=0.485 total time=   0.1s\n",
      "[CV 2/5] END metric=minkowski, n_neighbors=4, weights=distance;, score=0.491 total time=   0.1s\n",
      "[CV 3/5] END metric=minkowski, n_neighbors=4, weights=distance;, score=0.506 total time=   0.1s\n",
      "[CV 4/5] END metric=minkowski, n_neighbors=4, weights=distance;, score=0.480 total time=   0.0s\n",
      "[CV 5/5] END metric=minkowski, n_neighbors=4, weights=distance;, score=0.506 total time=   0.1s\n",
      "Best parameters: {'weights': 'uniform', 'n_neighbors': 3, 'metric': 'euclidean'} \n",
      "\n",
      "\n",
      "\n",
      "\n",
      "_______________________________________________________________________\n",
      "EVALUATION\n",
      "\n",
      "----- TRAIN -----\n",
      "\n",
      "Confusion matrix\n",
      " [[5402 1018]\n",
      " [1424 3680]] \n",
      "\n",
      "Accuracy: 78.8 \n",
      "\n",
      "F1 Score: 75.1 \n",
      "\n",
      "Balanced accuracy: 75.1 \n",
      "\n",
      "AUC Score: 78.1 \n",
      "\n",
      "\n",
      "----- TEST -----\n",
      "\n",
      "Confusion matrix\n",
      " [[465 249]\n",
      " [317 236]] \n",
      "\n",
      "Accuracy: 55.3 \n",
      "\n",
      "F1 Score: 45.5 \n",
      "\n",
      "Balanced accuracy: 45.5 \n",
      "\n",
      "AUC Score: 53.9 \n",
      "\n",
      "_______________________________________________________________________\n"
     ]
    }
   ],
   "source": [
    "# Instantiate classifier\n",
    "classifier = KNNClassifier()\n",
    "\n",
    "# Perform randomized search over hyperparameters\n",
    "param_distributions = {\n",
    "    'n_neighbors': [2, 3, 4, 5, 6, 7, 8, 9],\n",
    "    'weights' : ['uniform','distance'],\n",
    "    'metric' : ['minkowski','euclidean','manhattan']\n",
    "}\n",
    "classifier.randomized_search(X_train_embeddings_glove, y_train, param_distributions)\n",
    "\n",
    "# Train classifier on training data\n",
    "classifier.fit(X_train_embeddings_glove, y_train)\n",
    "\n",
    "# Evaluate classifier\n",
    "print('\\n')\n",
    "print('\\n_______________________________________________________________________')\n",
    "print('EVALUATION')\n",
    "\n",
    "print('\\n----- TRAIN -----')\n",
    "cm_knn_glove_train, accuracy_knn_glove_train, f1_knn_glove_train, balaccuracy_knn_glove_train, rocauc_knn_glove_train = classifier.evaluate(X_train_embeddings_glove, y_train)\n",
    "\n",
    "print('\\n----- TEST -----')\n",
    "cm_knn_glove_test, accuracy_knn_glove_test, f1_knn_glove_test, balaccuracy_knn_glove_test, rocauc_knn_glove_test = classifier.evaluate(X_test_embeddings_glove, y_test)\n",
    "print('_______________________________________________________________________')"
   ]
  },
  {
   "cell_type": "code",
   "execution_count": 66,
   "metadata": {
    "collapsed": false,
    "is_executing": true,
    "jupyter": {
     "outputs_hidden": false
    }
   },
   "outputs": [],
   "source": [
    "cm_knn_glove_train_tosave = repr(cm_knn_glove_train)\n",
    "accuracy_knn_glove_train_tosave = repr(accuracy_knn_glove_train)\n",
    "f1_knn_glove_train_tosave = repr(f1_knn_glove_train)\n",
    "balaccuracy_knn_glove_train_tosave = repr(balaccuracy_knn_glove_train)\n",
    "rocauc_knn_glove_train_tosave = repr(rocauc_knn_glove_train)\n",
    "\n",
    "cm_knn_glove_test_tosave = repr(cm_knn_glove_test)\n",
    "accuracy_knn_glove_test_tosave = repr(accuracy_knn_glove_test)\n",
    "f1_knn_glove_test_tosave = repr(f1_knn_glove_test)\n",
    "balaccuracy_knn_glove_test_tosave = repr(balaccuracy_knn_glove_test)\n",
    "rocauc_knn_glove_test_tosave = repr(rocauc_knn_glove_test)\n",
    "\n",
    "\n",
    "file = open(\"results_split/knn_glove_\"+time.strftime(\"%Y%m%d-%H%M%S\")+\".txt\", \"w\")\n",
    "\n",
    "file.write(\"Train CM = \"+cm_knn_glove_train_tosave + \"\\n\" +\n",
    "           \"Train Accuracy = \" + accuracy_knn_glove_train_tosave + \"\\n\" +\n",
    "           \"Train F1 = \"+f1_knn_glove_train_tosave + \"\\n\"+\n",
    "           \"Train Balanced Accuracy = \"+balaccuracy_knn_glove_train_tosave + \"\\n\" +\n",
    "           \"Train ROCAUC = \"+rocauc_knn_glove_train_tosave + \"\\n\"+\n",
    "           \"Test CM = \"+cm_knn_glove_test_tosave + \"\\n\"+\n",
    "           \"Test Accuracy = \"+accuracy_knn_glove_test_tosave + \"\\n\"+\n",
    "           \"Test F1 = \"+f1_knn_glove_test_tosave + \"\\n\"+\n",
    "           \"Test Balanced Accuracy = \"+balaccuracy_knn_glove_test_tosave + \"\\n\"+\n",
    "           \"Test ROCAUC = \"+rocauc_knn_glove_test_tosave)\n",
    "\n",
    "file.close()"
   ]
  },
  {
   "cell_type": "markdown",
   "metadata": {
    "id": "-Lfsat69GIoJ"
   },
   "source": [
    "### GloVe + XGBoost"
   ]
  },
  {
   "cell_type": "code",
   "execution_count": 67,
   "metadata": {
    "id": "rt7c3MSPG3PP",
    "is_executing": true
   },
   "outputs": [
    {
     "name": "stdout",
     "output_type": "stream",
     "text": [
      "Fitting 5 folds for each of 20 candidates, totalling 100 fits\n",
      "[CV 1/5] END colsample_bytree=0.7, learning_rate=0.3, max_depth=9, min_child_weight=3, n_estimators=100, objective=reg:squarederror, subsample=0.7;, score=0.501 total time=  17.6s\n",
      "[CV 2/5] END colsample_bytree=0.7, learning_rate=0.3, max_depth=9, min_child_weight=3, n_estimators=100, objective=reg:squarederror, subsample=0.7;, score=0.480 total time=  18.2s\n",
      "[CV 3/5] END colsample_bytree=0.7, learning_rate=0.3, max_depth=9, min_child_weight=3, n_estimators=100, objective=reg:squarederror, subsample=0.7;, score=0.480 total time=  17.3s\n",
      "[CV 4/5] END colsample_bytree=0.7, learning_rate=0.3, max_depth=9, min_child_weight=3, n_estimators=100, objective=reg:squarederror, subsample=0.7;, score=0.500 total time=  17.4s\n",
      "[CV 5/5] END colsample_bytree=0.7, learning_rate=0.3, max_depth=9, min_child_weight=3, n_estimators=100, objective=reg:squarederror, subsample=0.7;, score=0.499 total time=  18.1s\n",
      "[CV 1/5] END colsample_bytree=0.5, learning_rate=0.1, max_depth=3, min_child_weight=1, n_estimators=200, objective=reg:squarederror, subsample=0.7;, score=0.513 total time=   7.9s\n",
      "[CV 2/5] END colsample_bytree=0.5, learning_rate=0.1, max_depth=3, min_child_weight=1, n_estimators=200, objective=reg:squarederror, subsample=0.7;, score=0.494 total time=   7.9s\n",
      "[CV 3/5] END colsample_bytree=0.5, learning_rate=0.1, max_depth=3, min_child_weight=1, n_estimators=200, objective=reg:squarederror, subsample=0.7;, score=0.503 total time=   7.9s\n",
      "[CV 4/5] END colsample_bytree=0.5, learning_rate=0.1, max_depth=3, min_child_weight=1, n_estimators=200, objective=reg:squarederror, subsample=0.7;, score=0.493 total time=   7.9s\n",
      "[CV 5/5] END colsample_bytree=0.5, learning_rate=0.1, max_depth=3, min_child_weight=1, n_estimators=200, objective=reg:squarederror, subsample=0.7;, score=0.507 total time=   7.9s\n",
      "[CV 1/5] END colsample_bytree=0.5, learning_rate=0.1, max_depth=7, min_child_weight=3, n_estimators=50, objective=reg:squarederror, subsample=0.5;, score=0.488 total time=   4.0s\n",
      "[CV 2/5] END colsample_bytree=0.5, learning_rate=0.1, max_depth=7, min_child_weight=3, n_estimators=50, objective=reg:squarederror, subsample=0.5;, score=0.490 total time=   4.1s\n",
      "[CV 3/5] END colsample_bytree=0.5, learning_rate=0.1, max_depth=7, min_child_weight=3, n_estimators=50, objective=reg:squarederror, subsample=0.5;, score=0.484 total time=   4.1s\n",
      "[CV 4/5] END colsample_bytree=0.5, learning_rate=0.1, max_depth=7, min_child_weight=3, n_estimators=50, objective=reg:squarederror, subsample=0.5;, score=0.489 total time=   4.0s\n",
      "[CV 5/5] END colsample_bytree=0.5, learning_rate=0.1, max_depth=7, min_child_weight=3, n_estimators=50, objective=reg:squarederror, subsample=0.5;, score=0.494 total time=   4.0s\n",
      "[CV 1/5] END colsample_bytree=0.5, learning_rate=0.1, max_depth=5, min_child_weight=5, n_estimators=100, objective=reg:squarederror, subsample=0.7;, score=0.519 total time=   6.9s\n",
      "[CV 2/5] END colsample_bytree=0.5, learning_rate=0.1, max_depth=5, min_child_weight=5, n_estimators=100, objective=reg:squarederror, subsample=0.7;, score=0.494 total time=   6.9s\n",
      "[CV 3/5] END colsample_bytree=0.5, learning_rate=0.1, max_depth=5, min_child_weight=5, n_estimators=100, objective=reg:squarederror, subsample=0.7;, score=0.506 total time=   6.9s\n",
      "[CV 4/5] END colsample_bytree=0.5, learning_rate=0.1, max_depth=5, min_child_weight=5, n_estimators=100, objective=reg:squarederror, subsample=0.7;, score=0.504 total time=   6.8s\n",
      "[CV 5/5] END colsample_bytree=0.5, learning_rate=0.1, max_depth=5, min_child_weight=5, n_estimators=100, objective=reg:squarederror, subsample=0.7;, score=0.517 total time=   6.9s\n",
      "[CV 1/5] END colsample_bytree=0.7, learning_rate=0.1, max_depth=5, min_child_weight=1, n_estimators=50, objective=reg:squarederror, subsample=0.7;, score=0.498 total time=   4.8s\n",
      "[CV 2/5] END colsample_bytree=0.7, learning_rate=0.1, max_depth=5, min_child_weight=1, n_estimators=50, objective=reg:squarederror, subsample=0.7;, score=0.473 total time=   4.8s\n",
      "[CV 3/5] END colsample_bytree=0.7, learning_rate=0.1, max_depth=5, min_child_weight=1, n_estimators=50, objective=reg:squarederror, subsample=0.7;, score=0.490 total time=   4.8s\n",
      "[CV 4/5] END colsample_bytree=0.7, learning_rate=0.1, max_depth=5, min_child_weight=1, n_estimators=50, objective=reg:squarederror, subsample=0.7;, score=0.486 total time=   4.7s\n",
      "[CV 5/5] END colsample_bytree=0.7, learning_rate=0.1, max_depth=5, min_child_weight=1, n_estimators=50, objective=reg:squarederror, subsample=0.7;, score=0.484 total time=   4.9s\n",
      "[CV 1/5] END colsample_bytree=0.7, learning_rate=0.1, max_depth=3, min_child_weight=3, n_estimators=200, objective=reg:squarederror, subsample=0.7;, score=0.510 total time=  11.0s\n",
      "[CV 2/5] END colsample_bytree=0.7, learning_rate=0.1, max_depth=3, min_child_weight=3, n_estimators=200, objective=reg:squarederror, subsample=0.7;, score=0.492 total time=  10.8s\n",
      "[CV 3/5] END colsample_bytree=0.7, learning_rate=0.1, max_depth=3, min_child_weight=3, n_estimators=200, objective=reg:squarederror, subsample=0.7;, score=0.494 total time=  11.0s\n",
      "[CV 4/5] END colsample_bytree=0.7, learning_rate=0.1, max_depth=3, min_child_weight=3, n_estimators=200, objective=reg:squarederror, subsample=0.7;, score=0.485 total time=  10.8s\n",
      "[CV 5/5] END colsample_bytree=0.7, learning_rate=0.1, max_depth=3, min_child_weight=3, n_estimators=200, objective=reg:squarederror, subsample=0.7;, score=0.521 total time=  10.9s\n",
      "[CV 1/5] END colsample_bytree=0.5, learning_rate=0.01, max_depth=9, min_child_weight=1, n_estimators=500, objective=reg:squarederror, subsample=0.5;, score=0.510 total time=  52.7s\n",
      "[CV 2/5] END colsample_bytree=0.5, learning_rate=0.01, max_depth=9, min_child_weight=1, n_estimators=500, objective=reg:squarederror, subsample=0.5;, score=0.505 total time=  52.6s\n",
      "[CV 3/5] END colsample_bytree=0.5, learning_rate=0.01, max_depth=9, min_child_weight=1, n_estimators=500, objective=reg:squarederror, subsample=0.5;, score=0.507 total time=  52.7s\n",
      "[CV 4/5] END colsample_bytree=0.5, learning_rate=0.01, max_depth=9, min_child_weight=1, n_estimators=500, objective=reg:squarederror, subsample=0.5;, score=0.493 total time=  52.8s\n",
      "[CV 5/5] END colsample_bytree=0.5, learning_rate=0.01, max_depth=9, min_child_weight=1, n_estimators=500, objective=reg:squarederror, subsample=0.5;, score=0.516 total time=  52.2s\n",
      "[CV 1/5] END colsample_bytree=0.7, learning_rate=0.3, max_depth=7, min_child_weight=1, n_estimators=200, objective=reg:squarederror, subsample=0.5;, score=0.475 total time=  21.5s\n",
      "[CV 2/5] END colsample_bytree=0.7, learning_rate=0.3, max_depth=7, min_child_weight=1, n_estimators=200, objective=reg:squarederror, subsample=0.5;, score=0.494 total time=  21.5s\n",
      "[CV 3/5] END colsample_bytree=0.7, learning_rate=0.3, max_depth=7, min_child_weight=1, n_estimators=200, objective=reg:squarederror, subsample=0.5;, score=0.495 total time=  21.2s\n",
      "[CV 4/5] END colsample_bytree=0.7, learning_rate=0.3, max_depth=7, min_child_weight=1, n_estimators=200, objective=reg:squarederror, subsample=0.5;, score=0.468 total time=  21.0s\n",
      "[CV 5/5] END colsample_bytree=0.7, learning_rate=0.3, max_depth=7, min_child_weight=1, n_estimators=200, objective=reg:squarederror, subsample=0.5;, score=0.520 total time=  20.9s\n",
      "[CV 1/5] END colsample_bytree=0.7, learning_rate=0.3, max_depth=9, min_child_weight=5, n_estimators=500, objective=reg:squarederror, subsample=0.7;, score=0.486 total time= 1.3min\n",
      "[CV 2/5] END colsample_bytree=0.7, learning_rate=0.3, max_depth=9, min_child_weight=5, n_estimators=500, objective=reg:squarederror, subsample=0.7;, score=0.494 total time= 1.3min\n",
      "[CV 3/5] END colsample_bytree=0.7, learning_rate=0.3, max_depth=9, min_child_weight=5, n_estimators=500, objective=reg:squarederror, subsample=0.7;, score=0.506 total time= 1.3min\n",
      "[CV 4/5] END colsample_bytree=0.7, learning_rate=0.3, max_depth=9, min_child_weight=5, n_estimators=500, objective=reg:squarederror, subsample=0.7;, score=0.498 total time= 1.3min\n",
      "[CV 5/5] END colsample_bytree=0.7, learning_rate=0.3, max_depth=9, min_child_weight=5, n_estimators=500, objective=reg:squarederror, subsample=0.7;, score=0.493 total time= 1.3min\n",
      "[CV 1/5] END colsample_bytree=0.5, learning_rate=0.1, max_depth=7, min_child_weight=1, n_estimators=50, objective=reg:squarederror, subsample=0.5;, score=0.495 total time=   4.0s\n",
      "[CV 2/5] END colsample_bytree=0.5, learning_rate=0.1, max_depth=7, min_child_weight=1, n_estimators=50, objective=reg:squarederror, subsample=0.5;, score=0.497 total time=   4.0s\n",
      "[CV 3/5] END colsample_bytree=0.5, learning_rate=0.1, max_depth=7, min_child_weight=1, n_estimators=50, objective=reg:squarederror, subsample=0.5;, score=0.482 total time=   4.0s\n",
      "[CV 4/5] END colsample_bytree=0.5, learning_rate=0.1, max_depth=7, min_child_weight=1, n_estimators=50, objective=reg:squarederror, subsample=0.5;, score=0.487 total time=   4.0s\n",
      "[CV 5/5] END colsample_bytree=0.5, learning_rate=0.1, max_depth=7, min_child_weight=1, n_estimators=50, objective=reg:squarederror, subsample=0.5;, score=0.499 total time=   4.0s\n",
      "[CV 1/5] END colsample_bytree=0.5, learning_rate=0.1, max_depth=9, min_child_weight=1, n_estimators=50, objective=reg:squarederror, subsample=0.7;, score=0.500 total time=   6.6s\n",
      "[CV 2/5] END colsample_bytree=0.5, learning_rate=0.1, max_depth=9, min_child_weight=1, n_estimators=50, objective=reg:squarederror, subsample=0.7;, score=0.477 total time=   6.6s\n",
      "[CV 3/5] END colsample_bytree=0.5, learning_rate=0.1, max_depth=9, min_child_weight=1, n_estimators=50, objective=reg:squarederror, subsample=0.7;, score=0.487 total time=   6.5s\n",
      "[CV 4/5] END colsample_bytree=0.5, learning_rate=0.1, max_depth=9, min_child_weight=1, n_estimators=50, objective=reg:squarederror, subsample=0.7;, score=0.487 total time=   6.5s\n",
      "[CV 5/5] END colsample_bytree=0.5, learning_rate=0.1, max_depth=9, min_child_weight=1, n_estimators=50, objective=reg:squarederror, subsample=0.7;, score=0.502 total time=   6.5s\n",
      "[CV 1/5] END colsample_bytree=0.7, learning_rate=0.5, max_depth=3, min_child_weight=1, n_estimators=200, objective=reg:squarederror, subsample=0.7;, score=0.497 total time=  10.7s\n",
      "[CV 2/5] END colsample_bytree=0.7, learning_rate=0.5, max_depth=3, min_child_weight=1, n_estimators=200, objective=reg:squarederror, subsample=0.7;, score=0.503 total time=  10.6s\n",
      "[CV 3/5] END colsample_bytree=0.7, learning_rate=0.5, max_depth=3, min_child_weight=1, n_estimators=200, objective=reg:squarederror, subsample=0.7;, score=0.499 total time=  10.6s\n",
      "[CV 4/5] END colsample_bytree=0.7, learning_rate=0.5, max_depth=3, min_child_weight=1, n_estimators=200, objective=reg:squarederror, subsample=0.7;, score=0.505 total time=  10.6s\n",
      "[CV 5/5] END colsample_bytree=0.7, learning_rate=0.5, max_depth=3, min_child_weight=1, n_estimators=200, objective=reg:squarederror, subsample=0.7;, score=0.477 total time=  10.6s\n",
      "[CV 1/5] END colsample_bytree=0.5, learning_rate=0.01, max_depth=5, min_child_weight=1, n_estimators=500, objective=reg:squarederror, subsample=0.7;, score=0.513 total time=  33.6s\n",
      "[CV 2/5] END colsample_bytree=0.5, learning_rate=0.01, max_depth=5, min_child_weight=1, n_estimators=500, objective=reg:squarederror, subsample=0.7;, score=0.490 total time=  33.7s\n",
      "[CV 3/5] END colsample_bytree=0.5, learning_rate=0.01, max_depth=5, min_child_weight=1, n_estimators=500, objective=reg:squarederror, subsample=0.7;, score=0.495 total time=  33.6s\n",
      "[CV 4/5] END colsample_bytree=0.5, learning_rate=0.01, max_depth=5, min_child_weight=1, n_estimators=500, objective=reg:squarederror, subsample=0.7;, score=0.497 total time=  33.7s\n",
      "[CV 5/5] END colsample_bytree=0.5, learning_rate=0.01, max_depth=5, min_child_weight=1, n_estimators=500, objective=reg:squarederror, subsample=0.7;, score=0.511 total time=  33.8s\n",
      "[CV 1/5] END colsample_bytree=0.5, learning_rate=0.01, max_depth=9, min_child_weight=3, n_estimators=100, objective=reg:squarederror, subsample=0.7;, score=0.503 total time=  12.7s\n",
      "[CV 2/5] END colsample_bytree=0.5, learning_rate=0.01, max_depth=9, min_child_weight=3, n_estimators=100, objective=reg:squarederror, subsample=0.7;, score=0.489 total time=  12.8s\n",
      "[CV 3/5] END colsample_bytree=0.5, learning_rate=0.01, max_depth=9, min_child_weight=3, n_estimators=100, objective=reg:squarederror, subsample=0.7;, score=0.482 total time=  12.8s\n",
      "[CV 4/5] END colsample_bytree=0.5, learning_rate=0.01, max_depth=9, min_child_weight=3, n_estimators=100, objective=reg:squarederror, subsample=0.7;, score=0.477 total time=  12.8s\n",
      "[CV 5/5] END colsample_bytree=0.5, learning_rate=0.01, max_depth=9, min_child_weight=3, n_estimators=100, objective=reg:squarederror, subsample=0.7;, score=0.516 total time=  12.8s\n",
      "[CV 1/5] END colsample_bytree=0.5, learning_rate=0.3, max_depth=3, min_child_weight=1, n_estimators=50, objective=reg:squarederror, subsample=0.7;, score=0.490 total time=   2.0s\n",
      "[CV 2/5] END colsample_bytree=0.5, learning_rate=0.3, max_depth=3, min_child_weight=1, n_estimators=50, objective=reg:squarederror, subsample=0.7;, score=0.476 total time=   2.0s\n",
      "[CV 3/5] END colsample_bytree=0.5, learning_rate=0.3, max_depth=3, min_child_weight=1, n_estimators=50, objective=reg:squarederror, subsample=0.7;, score=0.486 total time=   2.0s\n",
      "[CV 4/5] END colsample_bytree=0.5, learning_rate=0.3, max_depth=3, min_child_weight=1, n_estimators=50, objective=reg:squarederror, subsample=0.7;, score=0.483 total time=   2.0s\n",
      "[CV 5/5] END colsample_bytree=0.5, learning_rate=0.3, max_depth=3, min_child_weight=1, n_estimators=50, objective=reg:squarederror, subsample=0.7;, score=0.500 total time=   2.0s\n",
      "[CV 1/5] END colsample_bytree=0.5, learning_rate=0.01, max_depth=3, min_child_weight=1, n_estimators=200, objective=reg:squarederror, subsample=0.5;, score=0.432 total time=   6.5s\n",
      "[CV 2/5] END colsample_bytree=0.5, learning_rate=0.01, max_depth=3, min_child_weight=1, n_estimators=200, objective=reg:squarederror, subsample=0.5;, score=0.433 total time=   6.7s\n",
      "[CV 3/5] END colsample_bytree=0.5, learning_rate=0.01, max_depth=3, min_child_weight=1, n_estimators=200, objective=reg:squarederror, subsample=0.5;, score=0.417 total time=   6.5s\n",
      "[CV 4/5] END colsample_bytree=0.5, learning_rate=0.01, max_depth=3, min_child_weight=1, n_estimators=200, objective=reg:squarederror, subsample=0.5;, score=0.429 total time=   6.5s\n",
      "[CV 5/5] END colsample_bytree=0.5, learning_rate=0.01, max_depth=3, min_child_weight=1, n_estimators=200, objective=reg:squarederror, subsample=0.5;, score=0.449 total time=   6.5s\n",
      "[CV 1/5] END colsample_bytree=0.5, learning_rate=0.3, max_depth=3, min_child_weight=1, n_estimators=500, objective=reg:squarederror, subsample=0.7;, score=0.502 total time=  19.6s\n",
      "[CV 2/5] END colsample_bytree=0.5, learning_rate=0.3, max_depth=3, min_child_weight=1, n_estimators=500, objective=reg:squarederror, subsample=0.7;, score=0.497 total time=  19.5s\n",
      "[CV 3/5] END colsample_bytree=0.5, learning_rate=0.3, max_depth=3, min_child_weight=1, n_estimators=500, objective=reg:squarederror, subsample=0.7;, score=0.508 total time=  19.6s\n",
      "[CV 4/5] END colsample_bytree=0.5, learning_rate=0.3, max_depth=3, min_child_weight=1, n_estimators=500, objective=reg:squarederror, subsample=0.7;, score=0.495 total time=  19.5s\n",
      "[CV 5/5] END colsample_bytree=0.5, learning_rate=0.3, max_depth=3, min_child_weight=1, n_estimators=500, objective=reg:squarederror, subsample=0.7;, score=0.517 total time=  19.5s\n",
      "[CV 1/5] END colsample_bytree=0.5, learning_rate=0.01, max_depth=9, min_child_weight=3, n_estimators=500, objective=reg:squarederror, subsample=0.7;, score=0.523 total time= 1.1min\n",
      "[CV 2/5] END colsample_bytree=0.5, learning_rate=0.01, max_depth=9, min_child_weight=3, n_estimators=500, objective=reg:squarederror, subsample=0.7;, score=0.496 total time= 1.1min\n",
      "[CV 3/5] END colsample_bytree=0.5, learning_rate=0.01, max_depth=9, min_child_weight=3, n_estimators=500, objective=reg:squarederror, subsample=0.7;, score=0.510 total time= 1.1min\n",
      "[CV 4/5] END colsample_bytree=0.5, learning_rate=0.01, max_depth=9, min_child_weight=3, n_estimators=500, objective=reg:squarederror, subsample=0.7;, score=0.489 total time= 1.1min\n",
      "[CV 5/5] END colsample_bytree=0.5, learning_rate=0.01, max_depth=9, min_child_weight=3, n_estimators=500, objective=reg:squarederror, subsample=0.7;, score=0.533 total time= 1.1min\n",
      "[CV 1/5] END colsample_bytree=0.5, learning_rate=0.3, max_depth=5, min_child_weight=1, n_estimators=100, objective=reg:squarederror, subsample=0.5;, score=0.478 total time=   5.5s\n",
      "[CV 2/5] END colsample_bytree=0.5, learning_rate=0.3, max_depth=5, min_child_weight=1, n_estimators=100, objective=reg:squarederror, subsample=0.5;, score=0.493 total time=   5.6s\n",
      "[CV 3/5] END colsample_bytree=0.5, learning_rate=0.3, max_depth=5, min_child_weight=1, n_estimators=100, objective=reg:squarederror, subsample=0.5;, score=0.512 total time=   5.5s\n",
      "[CV 4/5] END colsample_bytree=0.5, learning_rate=0.3, max_depth=5, min_child_weight=1, n_estimators=100, objective=reg:squarederror, subsample=0.5;, score=0.481 total time=   5.5s\n",
      "[CV 5/5] END colsample_bytree=0.5, learning_rate=0.3, max_depth=5, min_child_weight=1, n_estimators=100, objective=reg:squarederror, subsample=0.5;, score=0.515 total time=   5.6s\n",
      "[CV 1/5] END colsample_bytree=0.7, learning_rate=0.1, max_depth=3, min_child_weight=5, n_estimators=50, objective=reg:squarederror, subsample=0.5;, score=0.464 total time=   2.2s\n",
      "[CV 2/5] END colsample_bytree=0.7, learning_rate=0.1, max_depth=3, min_child_weight=5, n_estimators=50, objective=reg:squarederror, subsample=0.5;, score=0.475 total time=   2.3s\n",
      "[CV 3/5] END colsample_bytree=0.7, learning_rate=0.1, max_depth=3, min_child_weight=5, n_estimators=50, objective=reg:squarederror, subsample=0.5;, score=0.470 total time=   2.2s\n",
      "[CV 4/5] END colsample_bytree=0.7, learning_rate=0.1, max_depth=3, min_child_weight=5, n_estimators=50, objective=reg:squarederror, subsample=0.5;, score=0.453 total time=   2.3s\n",
      "[CV 5/5] END colsample_bytree=0.7, learning_rate=0.1, max_depth=3, min_child_weight=5, n_estimators=50, objective=reg:squarederror, subsample=0.5;, score=0.475 total time=   2.3s\n",
      "Best parameters: {'subsample': 0.7, 'objective': 'reg:squarederror', 'n_estimators': 500, 'min_child_weight': 3, 'max_depth': 9, 'learning_rate': 0.01, 'colsample_bytree': 0.5} \n",
      "\n",
      "\n",
      "\n",
      "\n",
      "_______________________________________________________________________\n",
      "EVALUATION\n",
      "\n",
      "----- TRAIN -----\n",
      "\n",
      "Confusion matrix\n",
      " [[6414    6]\n",
      " [  10 5094]] \n",
      "\n",
      "Accuracy: 99.9 \n",
      "\n",
      "F1 Score: 99.8 \n",
      "\n",
      "Balanced accuracy: 99.8 \n",
      "\n",
      "AUC Score: 99.9 \n",
      "\n",
      "\n",
      "----- TEST -----\n",
      "\n",
      "Confusion matrix\n",
      " [[533 181]\n",
      " [310 243]] \n",
      "\n",
      "Accuracy: 61.2 \n",
      "\n",
      "F1 Score: 49.7 \n",
      "\n",
      "Balanced accuracy: 49.7 \n",
      "\n",
      "AUC Score: 59.3 \n",
      "\n",
      "_______________________________________________________________________\n"
     ]
    }
   ],
   "source": [
    "# Instantiate classifier\n",
    "classifier = XGBoostClassifier()\n",
    "\n",
    "# Perform randomized search over hyperparameters\n",
    "param_distributions = {\n",
    "    'learning_rate': [0.01, 0.1, 0.3, 0.5],\n",
    "    'max_depth': [3, 5, 7, 9],\n",
    "    'min_child_weight': [1, 3, 5],\n",
    "    'subsample': [0.5, 0.7],\n",
    "    'colsample_bytree': [0.5, 0.7],\n",
    "    'n_estimators': [50, 100, 200, 500],\n",
    "    'objective': ['reg:squarederror']\n",
    "}\n",
    "classifier.randomized_search(X_train_embeddings_glove, y_train, param_distributions)\n",
    "\n",
    "# Train classifier on training data\n",
    "classifier.fit(X_train_embeddings_glove, y_train)\n",
    "\n",
    "# Evaluate classifier\n",
    "print('\\n')\n",
    "print('\\n_______________________________________________________________________')\n",
    "print('EVALUATION')\n",
    "\n",
    "print('\\n----- TRAIN -----')\n",
    "cm_xgb_glove_train, accuracy_xgb_glove_train, f1_xgb_glove_train, balaccuracy_xgb_glove_train, rocauc_xgb_glove_train = classifier.evaluate(X_train_embeddings_glove, y_train)\n",
    "\n",
    "print('\\n----- TEST -----')\n",
    "cm_xgb_glove_test, accuracy_xgb_glove_test, f1_xgb_glove_test, balaccuracy_xgb_glove_test, rocauc_xgb_glove_test = classifier.evaluate(X_test_embeddings_glove, y_test)\n",
    "print('_______________________________________________________________________')"
   ]
  },
  {
   "cell_type": "code",
   "execution_count": 68,
   "metadata": {
    "collapsed": false,
    "is_executing": true,
    "jupyter": {
     "outputs_hidden": false
    }
   },
   "outputs": [],
   "source": [
    "cm_xgb_glove_train_tosave = repr(cm_xgb_glove_train)\n",
    "accuracy_xgb_glove_train_tosave = repr(accuracy_xgb_glove_train)\n",
    "f1_xgb_glove_train_tosave = repr(f1_xgb_glove_train)\n",
    "balaccuracy_xgb_glove_train_tosave = repr(balaccuracy_xgb_glove_train)\n",
    "rocauc_xgb_glove_train_tosave = repr(rocauc_xgb_glove_train)\n",
    "\n",
    "cm_xgb_glove_test_tosave = repr(cm_xgb_glove_test)\n",
    "accuracy_xgb_glove_test_tosave = repr(accuracy_xgb_glove_test)\n",
    "f1_xgb_glove_test_tosave = repr(f1_xgb_glove_test)\n",
    "balaccuracy_xgb_glove_test_tosave = repr(balaccuracy_xgb_glove_test)\n",
    "rocauc_xgb_glove_test_tosave = repr(rocauc_xgb_glove_test)\n",
    "\n",
    "\n",
    "file = open(\"results_split/xgb_glove_\"+time.strftime(\"%Y%m%d-%H%M%S\")+\".txt\", \"w\")\n",
    "\n",
    "file.write(\"Train CM = \"+cm_xgb_glove_train_tosave + \"\\n\" +\n",
    "           \"Train Accuracy = \" + accuracy_xgb_glove_train_tosave + \"\\n\" +\n",
    "           \"Train F1 = \"+f1_xgb_glove_train_tosave + \"\\n\"+\n",
    "           \"Train Balanced Accuracy = \"+balaccuracy_xgb_glove_train_tosave + \"\\n\" +\n",
    "           \"Train ROCAUC = \"+rocauc_xgb_glove_train_tosave + \"\\n\"+\n",
    "           \"Test CM = \"+cm_xgb_glove_test_tosave + \"\\n\"+\n",
    "           \"Test Accuracy = \"+accuracy_xgb_glove_test_tosave + \"\\n\"+\n",
    "           \"Test F1 = \"+f1_xgb_glove_test_tosave + \"\\n\"+\n",
    "           \"Test Balanced Accuracy = \"+balaccuracy_xgb_glove_test_tosave + \"\\n\"+\n",
    "           \"Test ROCAUC = \"+rocauc_xgb_glove_test_tosave)\n",
    "\n",
    "file.close()"
   ]
  },
  {
   "cell_type": "markdown",
   "metadata": {
    "id": "YUCEQAQXGIl5"
   },
   "source": [
    "### GloVe + Random Forest"
   ]
  },
  {
   "cell_type": "code",
   "execution_count": 69,
   "metadata": {
    "id": "GLutlbgvG3f8",
    "is_executing": true
   },
   "outputs": [
    {
     "name": "stdout",
     "output_type": "stream",
     "text": [
      "Fitting 5 folds for each of 20 candidates, totalling 100 fits\n",
      "[CV 1/5] END bootstrap=False, max_depth=None, max_features=10, n_estimators=10;, score=0.426 total time=   0.8s\n",
      "[CV 2/5] END bootstrap=False, max_depth=None, max_features=10, n_estimators=10;, score=0.418 total time=   0.8s\n",
      "[CV 3/5] END bootstrap=False, max_depth=None, max_features=10, n_estimators=10;, score=0.435 total time=   0.8s\n",
      "[CV 4/5] END bootstrap=False, max_depth=None, max_features=10, n_estimators=10;, score=0.409 total time=   0.8s\n",
      "[CV 5/5] END bootstrap=False, max_depth=None, max_features=10, n_estimators=10;, score=0.425 total time=   0.8s\n",
      "[CV 1/5] END bootstrap=True, max_depth=None, max_features=5, n_estimators=10;, score=0.391 total time=   0.4s\n",
      "[CV 2/5] END bootstrap=True, max_depth=None, max_features=5, n_estimators=10;, score=0.414 total time=   0.4s\n",
      "[CV 3/5] END bootstrap=True, max_depth=None, max_features=5, n_estimators=10;, score=0.391 total time=   0.4s\n",
      "[CV 4/5] END bootstrap=True, max_depth=None, max_features=5, n_estimators=10;, score=0.405 total time=   0.4s\n",
      "[CV 5/5] END bootstrap=True, max_depth=None, max_features=5, n_estimators=10;, score=0.412 total time=   0.4s\n",
      "[CV 1/5] END bootstrap=True, max_depth=None, max_features=10, n_estimators=25;, score=0.481 total time=   2.1s\n",
      "[CV 2/5] END bootstrap=True, max_depth=None, max_features=10, n_estimators=25;, score=0.453 total time=   2.0s\n",
      "[CV 3/5] END bootstrap=True, max_depth=None, max_features=10, n_estimators=25;, score=0.471 total time=   2.1s\n",
      "[CV 4/5] END bootstrap=True, max_depth=None, max_features=10, n_estimators=25;, score=0.452 total time=   2.1s\n",
      "[CV 5/5] END bootstrap=True, max_depth=None, max_features=10, n_estimators=25;, score=0.471 total time=   2.1s\n",
      "[CV 1/5] END bootstrap=True, max_depth=10, max_features=5, n_estimators=10;, score=0.454 total time=   0.2s\n",
      "[CV 2/5] END bootstrap=True, max_depth=10, max_features=5, n_estimators=10;, score=0.440 total time=   0.2s\n",
      "[CV 3/5] END bootstrap=True, max_depth=10, max_features=5, n_estimators=10;, score=0.463 total time=   0.2s\n",
      "[CV 4/5] END bootstrap=True, max_depth=10, max_features=5, n_estimators=10;, score=0.429 total time=   0.2s\n",
      "[CV 5/5] END bootstrap=True, max_depth=10, max_features=5, n_estimators=10;, score=0.433 total time=   0.2s\n",
      "[CV 1/5] END bootstrap=False, max_depth=50, max_features=10, n_estimators=25;, score=0.483 total time=   2.1s\n",
      "[CV 2/5] END bootstrap=False, max_depth=50, max_features=10, n_estimators=25;, score=0.475 total time=   2.1s\n",
      "[CV 3/5] END bootstrap=False, max_depth=50, max_features=10, n_estimators=25;, score=0.482 total time=   2.1s\n",
      "[CV 4/5] END bootstrap=False, max_depth=50, max_features=10, n_estimators=25;, score=0.480 total time=   2.1s\n",
      "[CV 5/5] END bootstrap=False, max_depth=50, max_features=10, n_estimators=25;, score=0.474 total time=   2.1s\n",
      "[CV 1/5] END bootstrap=False, max_depth=50, max_features=5, n_estimators=10;, score=0.413 total time=   0.4s\n",
      "[CV 2/5] END bootstrap=False, max_depth=50, max_features=5, n_estimators=10;, score=0.394 total time=   0.4s\n",
      "[CV 3/5] END bootstrap=False, max_depth=50, max_features=5, n_estimators=10;, score=0.408 total time=   0.4s\n",
      "[CV 4/5] END bootstrap=False, max_depth=50, max_features=5, n_estimators=10;, score=0.415 total time=   0.4s\n",
      "[CV 5/5] END bootstrap=False, max_depth=50, max_features=5, n_estimators=10;, score=0.440 total time=   0.4s\n",
      "[CV 1/5] END bootstrap=True, max_depth=None, max_features=10, n_estimators=10;, score=0.386 total time=   0.8s\n",
      "[CV 2/5] END bootstrap=True, max_depth=None, max_features=10, n_estimators=10;, score=0.418 total time=   0.8s\n",
      "[CV 3/5] END bootstrap=True, max_depth=None, max_features=10, n_estimators=10;, score=0.407 total time=   0.7s\n",
      "[CV 4/5] END bootstrap=True, max_depth=None, max_features=10, n_estimators=10;, score=0.390 total time=   0.8s\n",
      "[CV 5/5] END bootstrap=True, max_depth=None, max_features=10, n_estimators=10;, score=0.413 total time=   0.8s\n",
      "[CV 1/5] END bootstrap=False, max_depth=None, max_features=10, n_estimators=25;, score=0.492 total time=   2.1s\n",
      "[CV 2/5] END bootstrap=False, max_depth=None, max_features=10, n_estimators=25;, score=0.454 total time=   2.0s\n",
      "[CV 3/5] END bootstrap=False, max_depth=None, max_features=10, n_estimators=25;, score=0.452 total time=   2.1s\n",
      "[CV 4/5] END bootstrap=False, max_depth=None, max_features=10, n_estimators=25;, score=0.465 total time=   2.1s\n",
      "[CV 5/5] END bootstrap=False, max_depth=None, max_features=10, n_estimators=25;, score=0.514 total time=   2.1s\n",
      "[CV 1/5] END bootstrap=False, max_depth=None, max_features=5, n_estimators=10;, score=0.418 total time=   0.4s\n",
      "[CV 2/5] END bootstrap=False, max_depth=None, max_features=5, n_estimators=10;, score=0.412 total time=   0.4s\n",
      "[CV 3/5] END bootstrap=False, max_depth=None, max_features=5, n_estimators=10;, score=0.429 total time=   0.4s\n",
      "[CV 4/5] END bootstrap=False, max_depth=None, max_features=5, n_estimators=10;, score=0.399 total time=   0.4s\n",
      "[CV 5/5] END bootstrap=False, max_depth=None, max_features=5, n_estimators=10;, score=0.421 total time=   0.4s\n",
      "[CV 1/5] END bootstrap=True, max_depth=10, max_features=10, n_estimators=10;, score=0.440 total time=   0.5s\n",
      "[CV 2/5] END bootstrap=True, max_depth=10, max_features=10, n_estimators=10;, score=0.460 total time=   0.5s\n",
      "[CV 3/5] END bootstrap=True, max_depth=10, max_features=10, n_estimators=10;, score=0.452 total time=   0.5s\n",
      "[CV 4/5] END bootstrap=True, max_depth=10, max_features=10, n_estimators=10;, score=0.431 total time=   0.5s\n",
      "[CV 5/5] END bootstrap=True, max_depth=10, max_features=10, n_estimators=10;, score=0.482 total time=   0.5s\n",
      "[CV 1/5] END bootstrap=True, max_depth=50, max_features=5, n_estimators=10;, score=0.390 total time=   0.4s\n",
      "[CV 2/5] END bootstrap=True, max_depth=50, max_features=5, n_estimators=10;, score=0.407 total time=   0.4s\n",
      "[CV 3/5] END bootstrap=True, max_depth=50, max_features=5, n_estimators=10;, score=0.380 total time=   0.4s\n",
      "[CV 4/5] END bootstrap=True, max_depth=50, max_features=5, n_estimators=10;, score=0.392 total time=   0.4s\n",
      "[CV 5/5] END bootstrap=True, max_depth=50, max_features=5, n_estimators=10;, score=0.421 total time=   0.4s\n",
      "[CV 1/5] END bootstrap=True, max_depth=50, max_features=10, n_estimators=10;, score=0.391 total time=   0.8s\n",
      "[CV 2/5] END bootstrap=True, max_depth=50, max_features=10, n_estimators=10;, score=0.410 total time=   0.8s\n",
      "[CV 3/5] END bootstrap=True, max_depth=50, max_features=10, n_estimators=10;, score=0.407 total time=   0.8s\n",
      "[CV 4/5] END bootstrap=True, max_depth=50, max_features=10, n_estimators=10;, score=0.411 total time=   0.8s\n",
      "[CV 5/5] END bootstrap=True, max_depth=50, max_features=10, n_estimators=10;, score=0.418 total time=   0.8s\n",
      "[CV 1/5] END bootstrap=False, max_depth=10, max_features=10, n_estimators=25;, score=0.464 total time=   1.5s\n",
      "[CV 2/5] END bootstrap=False, max_depth=10, max_features=10, n_estimators=25;, score=0.457 total time=   1.5s\n",
      "[CV 3/5] END bootstrap=False, max_depth=10, max_features=10, n_estimators=25;, score=0.441 total time=   1.5s\n",
      "[CV 4/5] END bootstrap=False, max_depth=10, max_features=10, n_estimators=25;, score=0.459 total time=   1.5s\n",
      "[CV 5/5] END bootstrap=False, max_depth=10, max_features=10, n_estimators=25;, score=0.468 total time=   1.5s\n",
      "[CV 1/5] END bootstrap=False, max_depth=10, max_features=5, n_estimators=25;, score=0.449 total time=   0.7s\n",
      "[CV 2/5] END bootstrap=False, max_depth=10, max_features=5, n_estimators=25;, score=0.452 total time=   0.7s\n",
      "[CV 3/5] END bootstrap=False, max_depth=10, max_features=5, n_estimators=25;, score=0.399 total time=   0.7s\n",
      "[CV 4/5] END bootstrap=False, max_depth=10, max_features=5, n_estimators=25;, score=0.422 total time=   0.7s\n",
      "[CV 5/5] END bootstrap=False, max_depth=10, max_features=5, n_estimators=25;, score=0.462 total time=   0.7s\n",
      "[CV 1/5] END bootstrap=False, max_depth=None, max_features=5, n_estimators=25;, score=0.498 total time=   1.1s\n",
      "[CV 2/5] END bootstrap=False, max_depth=None, max_features=5, n_estimators=25;, score=0.466 total time=   1.1s\n",
      "[CV 3/5] END bootstrap=False, max_depth=None, max_features=5, n_estimators=25;, score=0.472 total time=   1.1s\n",
      "[CV 4/5] END bootstrap=False, max_depth=None, max_features=5, n_estimators=25;, score=0.472 total time=   1.1s\n",
      "[CV 5/5] END bootstrap=False, max_depth=None, max_features=5, n_estimators=25;, score=0.466 total time=   1.1s\n",
      "[CV 1/5] END bootstrap=True, max_depth=10, max_features=5, n_estimators=25;, score=0.447 total time=   0.7s\n",
      "[CV 2/5] END bootstrap=True, max_depth=10, max_features=5, n_estimators=25;, score=0.440 total time=   0.7s\n",
      "[CV 3/5] END bootstrap=True, max_depth=10, max_features=5, n_estimators=25;, score=0.421 total time=   0.7s\n",
      "[CV 4/5] END bootstrap=True, max_depth=10, max_features=5, n_estimators=25;, score=0.435 total time=   0.7s\n",
      "[CV 5/5] END bootstrap=True, max_depth=10, max_features=5, n_estimators=25;, score=0.433 total time=   0.7s\n",
      "[CV 1/5] END bootstrap=True, max_depth=50, max_features=10, n_estimators=25;, score=0.460 total time=   2.1s\n",
      "[CV 2/5] END bootstrap=True, max_depth=50, max_features=10, n_estimators=25;, score=0.466 total time=   2.1s\n",
      "[CV 3/5] END bootstrap=True, max_depth=50, max_features=10, n_estimators=25;, score=0.467 total time=   2.1s\n",
      "[CV 4/5] END bootstrap=True, max_depth=50, max_features=10, n_estimators=25;, score=0.480 total time=   2.1s\n",
      "[CV 5/5] END bootstrap=True, max_depth=50, max_features=10, n_estimators=25;, score=0.484 total time=   2.1s\n",
      "[CV 1/5] END bootstrap=False, max_depth=10, max_features=5, n_estimators=10;, score=0.428 total time=   0.2s\n",
      "[CV 2/5] END bootstrap=False, max_depth=10, max_features=5, n_estimators=10;, score=0.442 total time=   0.2s\n",
      "[CV 3/5] END bootstrap=False, max_depth=10, max_features=5, n_estimators=10;, score=0.410 total time=   0.2s\n",
      "[CV 4/5] END bootstrap=False, max_depth=10, max_features=5, n_estimators=10;, score=0.432 total time=   0.2s\n",
      "[CV 5/5] END bootstrap=False, max_depth=10, max_features=5, n_estimators=10;, score=0.438 total time=   0.2s\n",
      "[CV 1/5] END bootstrap=True, max_depth=None, max_features=5, n_estimators=25;, score=0.467 total time=   1.1s\n",
      "[CV 2/5] END bootstrap=True, max_depth=None, max_features=5, n_estimators=25;, score=0.463 total time=   1.1s\n",
      "[CV 3/5] END bootstrap=True, max_depth=None, max_features=5, n_estimators=25;, score=0.445 total time=   1.0s\n",
      "[CV 4/5] END bootstrap=True, max_depth=None, max_features=5, n_estimators=25;, score=0.461 total time=   1.1s\n",
      "[CV 5/5] END bootstrap=True, max_depth=None, max_features=5, n_estimators=25;, score=0.462 total time=   1.1s\n",
      "[CV 1/5] END bootstrap=True, max_depth=10, max_features=10, n_estimators=25;, score=0.458 total time=   1.5s\n",
      "[CV 2/5] END bootstrap=True, max_depth=10, max_features=10, n_estimators=25;, score=0.462 total time=   1.4s\n",
      "[CV 3/5] END bootstrap=True, max_depth=10, max_features=10, n_estimators=25;, score=0.431 total time=   1.4s\n",
      "[CV 4/5] END bootstrap=True, max_depth=10, max_features=10, n_estimators=25;, score=0.426 total time=   1.5s\n",
      "[CV 5/5] END bootstrap=True, max_depth=10, max_features=10, n_estimators=25;, score=0.448 total time=   1.4s\n",
      "Best parameters: {'n_estimators': 25, 'max_features': 10, 'max_depth': 50, 'bootstrap': False} \n",
      "\n"
     ]
    },
    {
     "name": "stderr",
     "output_type": "stream",
     "text": [
      "[Parallel(n_jobs=1)]: Using backend SequentialBackend with 1 concurrent workers.\n"
     ]
    },
    {
     "name": "stdout",
     "output_type": "stream",
     "text": [
      "\n",
      "\n",
      "\n",
      "_______________________________________________________________________\n",
      "EVALUATION\n",
      "\n",
      "----- TRAIN -----\n",
      "\n",
      "Confusion matrix\n",
      " [[6420    0]\n",
      " [   7 5097]] \n",
      "\n",
      "Accuracy: 99.9 \n",
      "\n",
      "F1 Score: 99.9 \n",
      "\n",
      "Balanced accuracy: 99.9 \n",
      "\n",
      "AUC Score: 99.9 \n",
      "\n",
      "\n",
      "----- TEST -----\n",
      "\n",
      "Confusion matrix\n",
      " [[508 206]\n",
      " [301 252]] \n",
      "\n",
      "Accuracy: 60.0 \n",
      "\n",
      "F1 Score: 49.9 \n",
      "\n",
      "Balanced accuracy: 49.9 \n",
      "\n",
      "AUC Score: 58.4 \n",
      "\n",
      "_______________________________________________________________________\n"
     ]
    },
    {
     "name": "stderr",
     "output_type": "stream",
     "text": [
      "[Parallel(n_jobs=1)]: Done  25 out of  25 | elapsed:    2.7s finished\n",
      "[Parallel(n_jobs=1)]: Using backend SequentialBackend with 1 concurrent workers.\n",
      "[Parallel(n_jobs=1)]: Done  25 out of  25 | elapsed:    0.0s finished\n",
      "[Parallel(n_jobs=1)]: Using backend SequentialBackend with 1 concurrent workers.\n",
      "[Parallel(n_jobs=1)]: Done  25 out of  25 | elapsed:    0.0s finished\n"
     ]
    }
   ],
   "source": [
    "# Instantiate classifier\n",
    "classifier = RFClassifier()\n",
    "\n",
    "# Perform randomized search over hyperparameters\n",
    "param_distributions = {\n",
    "    'n_estimators': [10, 25], \n",
    "    'max_features': [5, 10],\n",
    "    'max_depth': [10, 50, None], \n",
    "    'bootstrap': [True, False]\n",
    "}\n",
    "classifier.randomized_search(X_train_embeddings_glove, y_train, param_distributions)\n",
    "\n",
    "# Train classifier on training data\n",
    "classifier.fit(X_train_embeddings_glove, y_train)\n",
    "\n",
    "# Evaluate classifier\n",
    "print('\\n')\n",
    "print('\\n_______________________________________________________________________')\n",
    "print('EVALUATION')\n",
    "\n",
    "print('\\n----- TRAIN -----')\n",
    "cm_rf_glove_train, accuracy_rf_glove_train, f1_rf_glove_train, balaccuracy_rf_glove_train, rocauc_rf_glove_train = classifier.evaluate(X_train_embeddings_glove, y_train)\n",
    "\n",
    "print('\\n----- TEST -----')\n",
    "cm_rf_glove_test, accuracy_rf_glove_test, f1_rf_glove_test, balaccuracy_rf_glove_test, rocauc_rf_glove_test = classifier.evaluate(X_test_embeddings_glove, y_test)\n",
    "print('_______________________________________________________________________')"
   ]
  },
  {
   "cell_type": "code",
   "execution_count": 70,
   "metadata": {
    "collapsed": false,
    "is_executing": true,
    "jupyter": {
     "outputs_hidden": false
    }
   },
   "outputs": [],
   "source": [
    "cm_rf_glove_train_tosave = repr(cm_rf_glove_train)\n",
    "accuracy_rf_glove_train_tosave = repr(accuracy_rf_glove_train)\n",
    "f1_rf_glove_train_tosave = repr(f1_rf_glove_train)\n",
    "balaccuracy_rf_glove_train_tosave = repr(balaccuracy_rf_glove_train)\n",
    "rocauc_rf_glove_train_tosave = repr(rocauc_rf_glove_train)\n",
    "\n",
    "cm_rf_glove_test_tosave = repr(cm_rf_glove_test)\n",
    "accuracy_rf_glove_test_tosave = repr(accuracy_rf_glove_test)\n",
    "f1_rf_glove_test_tosave = repr(f1_rf_glove_test)\n",
    "balaccuracy_rf_glove_test_tosave = repr(balaccuracy_rf_glove_test)\n",
    "rocauc_rf_glove_test_tosave = repr(rocauc_rf_glove_test)\n",
    "\n",
    "\n",
    "file = open(\"results_split/rf_glove_\"+time.strftime(\"%Y%m%d-%H%M%S\")+\".txt\", \"w\")\n",
    "\n",
    "file.write(\"Train CM = \"+cm_rf_glove_train_tosave + \"\\n\" +\n",
    "           \"Train Accuracy = \" + accuracy_rf_glove_train_tosave + \"\\n\" +\n",
    "           \"Train F1 = \"+f1_rf_glove_train_tosave + \"\\n\"+\n",
    "           \"Train Balanced Accuracy = \"+balaccuracy_rf_glove_train_tosave + \"\\n\" +\n",
    "           \"Train ROCAUC = \"+rocauc_rf_glove_train_tosave + \"\\n\"+\n",
    "           \"Test CM = \"+cm_rf_glove_test_tosave + \"\\n\"+\n",
    "           \"Test Accuracy = \"+accuracy_rf_glove_test_tosave + \"\\n\"+\n",
    "           \"Test F1 = \"+f1_rf_glove_test_tosave + \"\\n\"+\n",
    "           \"Test Balanced Accuracy = \"+balaccuracy_rf_glove_test_tosave + \"\\n\"+\n",
    "           \"Test ROCAUC = \"+rocauc_rf_glove_test_tosave)\n",
    "\n",
    "file.close()"
   ]
  },
  {
   "cell_type": "markdown",
   "metadata": {
    "id": "vldrLVlwGIg9"
   },
   "source": [
    "### GloVe + SVC"
   ]
  },
  {
   "cell_type": "code",
   "execution_count": 71,
   "metadata": {
    "id": "MqqebdmmG3qI",
    "is_executing": true
   },
   "outputs": [
    {
     "name": "stderr",
     "output_type": "stream",
     "text": [
      "C:\\Users\\Wesub\\anaconda3\\lib\\site-packages\\sklearn\\model_selection\\_search.py:305: UserWarning: The total space of parameters 16 is smaller than n_iter=20. Running 16 iterations. For exhaustive searches, use GridSearchCV.\n",
      "  warnings.warn(\n"
     ]
    },
    {
     "name": "stdout",
     "output_type": "stream",
     "text": [
      "Fitting 5 folds for each of 16 candidates, totalling 80 fits\n",
      "[CV 1/5] END ...C=1, gamma=scale, kernel=linear;, score=0.484 total time=  13.0s\n",
      "[CV 2/5] END ...C=1, gamma=scale, kernel=linear;, score=0.484 total time=  13.1s\n",
      "[CV 3/5] END ...C=1, gamma=scale, kernel=linear;, score=0.485 total time=  13.1s\n",
      "[CV 4/5] END ...C=1, gamma=scale, kernel=linear;, score=0.497 total time=  13.0s\n",
      "[CV 5/5] END ...C=1, gamma=scale, kernel=linear;, score=0.504 total time=  13.0s\n",
      "[CV 1/5] END .....C=1, gamma=scale, kernel=poly;, score=0.476 total time=  12.0s\n",
      "[CV 2/5] END .....C=1, gamma=scale, kernel=poly;, score=0.493 total time=  11.9s\n",
      "[CV 3/5] END .....C=1, gamma=scale, kernel=poly;, score=0.478 total time=  11.9s\n",
      "[CV 4/5] END .....C=1, gamma=scale, kernel=poly;, score=0.464 total time=  11.9s\n",
      "[CV 5/5] END .....C=1, gamma=scale, kernel=poly;, score=0.472 total time=  12.0s\n",
      "[CV 1/5] END ......C=1, gamma=scale, kernel=rbf;, score=0.514 total time=  14.4s\n",
      "[CV 2/5] END ......C=1, gamma=scale, kernel=rbf;, score=0.499 total time=  14.4s\n",
      "[CV 3/5] END ......C=1, gamma=scale, kernel=rbf;, score=0.488 total time=  14.3s\n",
      "[CV 4/5] END ......C=1, gamma=scale, kernel=rbf;, score=0.495 total time=  14.2s\n",
      "[CV 5/5] END ......C=1, gamma=scale, kernel=rbf;, score=0.511 total time=  14.6s\n",
      "[CV 1/5] END ..C=1, gamma=scale, kernel=sigmoid;, score=0.472 total time=   9.3s\n",
      "[CV 2/5] END ..C=1, gamma=scale, kernel=sigmoid;, score=0.470 total time=  12.7s\n",
      "[CV 3/5] END ..C=1, gamma=scale, kernel=sigmoid;, score=0.494 total time=   8.9s\n",
      "[CV 4/5] END ..C=1, gamma=scale, kernel=sigmoid;, score=0.488 total time=   8.9s\n",
      "[CV 5/5] END ..C=1, gamma=scale, kernel=sigmoid;, score=0.461 total time=   8.5s\n",
      "[CV 1/5] END ..C=10, gamma=scale, kernel=linear;, score=0.489 total time=  23.8s\n",
      "[CV 2/5] END ..C=10, gamma=scale, kernel=linear;, score=0.481 total time=  24.7s\n",
      "[CV 3/5] END ..C=10, gamma=scale, kernel=linear;, score=0.485 total time=  24.3s\n",
      "[CV 4/5] END ..C=10, gamma=scale, kernel=linear;, score=0.492 total time=  24.3s\n",
      "[CV 5/5] END ..C=10, gamma=scale, kernel=linear;, score=0.501 total time=  24.2s\n",
      "[CV 1/5] END ....C=10, gamma=scale, kernel=poly;, score=0.519 total time=  24.7s\n",
      "[CV 2/5] END ....C=10, gamma=scale, kernel=poly;, score=0.524 total time=  23.7s\n",
      "[CV 3/5] END ....C=10, gamma=scale, kernel=poly;, score=0.537 total time=  27.2s\n",
      "[CV 4/5] END ....C=10, gamma=scale, kernel=poly;, score=0.519 total time=  23.9s\n",
      "[CV 5/5] END ....C=10, gamma=scale, kernel=poly;, score=0.537 total time=  25.9s\n",
      "[CV 1/5] END .....C=10, gamma=scale, kernel=rbf;, score=0.526 total time=  25.1s\n",
      "[CV 2/5] END .....C=10, gamma=scale, kernel=rbf;, score=0.530 total time=  25.2s\n",
      "[CV 3/5] END .....C=10, gamma=scale, kernel=rbf;, score=0.529 total time=  26.6s\n",
      "[CV 4/5] END .....C=10, gamma=scale, kernel=rbf;, score=0.531 total time=  26.8s\n",
      "[CV 5/5] END .....C=10, gamma=scale, kernel=rbf;, score=0.539 total time=  25.3s\n",
      "[CV 1/5] END .C=10, gamma=scale, kernel=sigmoid;, score=0.460 total time=   7.2s\n",
      "[CV 2/5] END .C=10, gamma=scale, kernel=sigmoid;, score=0.483 total time=   7.0s\n",
      "[CV 3/5] END .C=10, gamma=scale, kernel=sigmoid;, score=0.496 total time=   7.1s\n",
      "[CV 4/5] END .C=10, gamma=scale, kernel=sigmoid;, score=0.483 total time=   7.2s\n",
      "[CV 5/5] END .C=10, gamma=scale, kernel=sigmoid;, score=0.476 total time=   7.1s\n",
      "[CV 1/5] END .C=100, gamma=scale, kernel=linear;, score=0.490 total time= 2.0min\n",
      "[CV 2/5] END .C=100, gamma=scale, kernel=linear;, score=0.479 total time= 2.0min\n",
      "[CV 3/5] END .C=100, gamma=scale, kernel=linear;, score=0.487 total time= 1.9min\n",
      "[CV 4/5] END .C=100, gamma=scale, kernel=linear;, score=0.493 total time= 2.0min\n",
      "[CV 5/5] END .C=100, gamma=scale, kernel=linear;, score=0.505 total time= 2.1min\n",
      "[CV 1/5] END ...C=100, gamma=scale, kernel=poly;, score=0.519 total time=  39.0s\n",
      "[CV 2/5] END ...C=100, gamma=scale, kernel=poly;, score=0.514 total time=  41.2s\n",
      "[CV 3/5] END ...C=100, gamma=scale, kernel=poly;, score=0.529 total time=  39.9s\n",
      "[CV 4/5] END ...C=100, gamma=scale, kernel=poly;, score=0.527 total time=  38.1s\n",
      "[CV 5/5] END ...C=100, gamma=scale, kernel=poly;, score=0.539 total time=  42.6s\n",
      "[CV 1/5] END ....C=100, gamma=scale, kernel=rbf;, score=0.519 total time=  54.4s\n",
      "[CV 2/5] END ....C=100, gamma=scale, kernel=rbf;, score=0.520 total time=  52.9s\n",
      "[CV 3/5] END ....C=100, gamma=scale, kernel=rbf;, score=0.538 total time=  53.4s\n",
      "[CV 4/5] END ....C=100, gamma=scale, kernel=rbf;, score=0.535 total time=  52.2s\n",
      "[CV 5/5] END ....C=100, gamma=scale, kernel=rbf;, score=0.537 total time=  55.0s\n",
      "[CV 1/5] END C=100, gamma=scale, kernel=sigmoid;, score=0.456 total time=   6.9s\n",
      "[CV 2/5] END C=100, gamma=scale, kernel=sigmoid;, score=0.458 total time=   7.7s\n",
      "[CV 3/5] END C=100, gamma=scale, kernel=sigmoid;, score=0.494 total time=   6.8s\n",
      "[CV 4/5] END C=100, gamma=scale, kernel=sigmoid;, score=0.476 total time=   7.8s\n",
      "[CV 5/5] END C=100, gamma=scale, kernel=sigmoid;, score=0.477 total time=   7.1s\n",
      "[CV 1/5] END C=1000, gamma=scale, kernel=linear;, score=0.489 total time=16.0min\n",
      "[CV 2/5] END C=1000, gamma=scale, kernel=linear;, score=0.482 total time=18.6min\n",
      "[CV 3/5] END C=1000, gamma=scale, kernel=linear;, score=0.489 total time=16.1min\n",
      "[CV 4/5] END C=1000, gamma=scale, kernel=linear;, score=0.495 total time=16.5min\n",
      "[CV 5/5] END C=1000, gamma=scale, kernel=linear;, score=0.497 total time=17.4min\n",
      "[CV 1/5] END ..C=1000, gamma=scale, kernel=poly;, score=0.525 total time=  38.4s\n",
      "[CV 2/5] END ..C=1000, gamma=scale, kernel=poly;, score=0.516 total time=  41.4s\n",
      "[CV 3/5] END ..C=1000, gamma=scale, kernel=poly;, score=0.523 total time=  38.8s\n",
      "[CV 4/5] END ..C=1000, gamma=scale, kernel=poly;, score=0.521 total time=  38.9s\n",
      "[CV 5/5] END ..C=1000, gamma=scale, kernel=poly;, score=0.541 total time=  40.9s\n",
      "[CV 1/5] END ...C=1000, gamma=scale, kernel=rbf;, score=0.519 total time=  54.2s\n",
      "[CV 2/5] END ...C=1000, gamma=scale, kernel=rbf;, score=0.519 total time=  54.3s\n",
      "[CV 3/5] END ...C=1000, gamma=scale, kernel=rbf;, score=0.536 total time=  53.8s\n",
      "[CV 4/5] END ...C=1000, gamma=scale, kernel=rbf;, score=0.535 total time=  54.2s\n",
      "[CV 5/5] END ...C=1000, gamma=scale, kernel=rbf;, score=0.533 total time=  55.9s\n",
      "[CV 1/5] END C=1000, gamma=scale, kernel=sigmoid;, score=0.458 total time=   6.9s\n",
      "[CV 2/5] END C=1000, gamma=scale, kernel=sigmoid;, score=0.457 total time=   8.8s\n",
      "[CV 3/5] END C=1000, gamma=scale, kernel=sigmoid;, score=0.492 total time=   6.7s\n",
      "[CV 4/5] END C=1000, gamma=scale, kernel=sigmoid;, score=0.472 total time=   7.5s\n",
      "[CV 5/5] END C=1000, gamma=scale, kernel=sigmoid;, score=0.475 total time=   6.9s\n",
      "Best parameters: {'kernel': 'rbf', 'gamma': 'scale', 'C': 10} \n",
      "\n",
      "[LibSVM]\n",
      "\n",
      "\n",
      "_______________________________________________________________________\n",
      "EVALUATION\n",
      "\n",
      "----- TRAIN -----\n",
      "\n",
      "Confusion matrix\n",
      " [[6247  173]\n",
      " [ 458 4646]] \n",
      "\n",
      "Accuracy: 94.5 \n",
      "\n",
      "F1 Score: 93.6 \n",
      "\n",
      "Balanced accuracy: 93.6 \n",
      "\n",
      "AUC Score: 94.2 \n",
      "\n",
      "\n",
      "----- TEST -----\n",
      "\n",
      "Confusion matrix\n",
      " [[488 226]\n",
      " [291 262]] \n",
      "\n",
      "Accuracy: 59.2 \n",
      "\n",
      "F1 Score: 50.3 \n",
      "\n",
      "Balanced accuracy: 50.3 \n",
      "\n",
      "AUC Score: 57.9 \n",
      "\n",
      "_______________________________________________________________________\n"
     ]
    }
   ],
   "source": [
    "# Instantiate classifier\n",
    "classifier = SVClassifier()\n",
    "\n",
    "# Perform randomized search over hyperparameters\n",
    "param_distributions = {\n",
    "    'C': [1, 10, 100, 1000],\n",
    "    'kernel': ['linear', 'poly', 'rbf', 'sigmoid'],\n",
    "    'gamma': ['scale']\n",
    "    #'gamma': [0.1, 0.2, 0.3, 0.4, 0.5, 0.6, 0.7, 0.8, 0.9]\n",
    "}\n",
    "classifier.randomized_search(X_train_embeddings_glove, y_train, param_distributions)\n",
    "\n",
    "# Train classifier on training data\n",
    "classifier.fit(X_train_embeddings_glove, y_train)\n",
    "\n",
    "# Evaluate classifier\n",
    "print('\\n')\n",
    "print('\\n_______________________________________________________________________')\n",
    "print('EVALUATION')\n",
    "\n",
    "print('\\n----- TRAIN -----')\n",
    "cm_svc_glove_train, accuracy_svc_glove_train, f1_svc_glove_train, balaccuracy_svc_glove_train, rocauc_svc_glove_train = classifier.evaluate(X_train_embeddings_glove, y_train)\n",
    "\n",
    "print('\\n----- TEST -----')\n",
    "cm_svc_glove_test, accuracy_svc_glove_test, f1_svc_glove_test, balaccuracy_svc_glove_test, rocauc_svc_glove_test = classifier.evaluate(X_test_embeddings_glove, y_test)\n",
    "print('_______________________________________________________________________')"
   ]
  },
  {
   "cell_type": "code",
   "execution_count": 72,
   "metadata": {
    "collapsed": false,
    "is_executing": true,
    "jupyter": {
     "outputs_hidden": false
    }
   },
   "outputs": [],
   "source": [
    "cm_svc_glove_train_tosave = repr(cm_svc_glove_train)\n",
    "accuracy_svc_glove_train_tosave = repr(accuracy_svc_glove_train)\n",
    "f1_svc_glove_train_tosave = repr(f1_svc_glove_train)\n",
    "balaccuracy_svc_glove_train_tosave = repr(balaccuracy_svc_glove_train)\n",
    "rocauc_svc_glove_train_tosave = repr(rocauc_svc_glove_train)\n",
    "\n",
    "cm_svc_glove_test_tosave = repr(cm_svc_glove_test)\n",
    "accuracy_svc_glove_test_tosave = repr(accuracy_svc_glove_test)\n",
    "f1_svc_glove_test_tosave = repr(f1_svc_glove_test)\n",
    "balaccuracy_svc_glove_test_tosave = repr(balaccuracy_svc_glove_test)\n",
    "rocauc_svc_glove_test_tosave = repr(rocauc_svc_glove_test)\n",
    "\n",
    "\n",
    "file = open(\"results_split/svc_glove_\"+time.strftime(\"%Y%m%d-%H%M%S\")+\".txt\", \"w\")\n",
    "\n",
    "file.write(\"Train CM = \"+cm_svc_glove_train_tosave + \"\\n\" +\n",
    "           \"Train Accuracy = \" + accuracy_svc_glove_train_tosave + \"\\n\" +\n",
    "           \"Train F1 = \"+f1_svc_glove_train_tosave + \"\\n\"+\n",
    "           \"Train Balanced Accuracy = \"+balaccuracy_svc_glove_train_tosave + \"\\n\" +\n",
    "           \"Train ROCAUC = \"+rocauc_svc_glove_train_tosave + \"\\n\"+\n",
    "           \"Test CM = \"+cm_svc_glove_test_tosave + \"\\n\"+\n",
    "           \"Test Accuracy = \"+accuracy_svc_glove_test_tosave + \"\\n\"+\n",
    "           \"Test F1 = \"+f1_svc_glove_test_tosave + \"\\n\"+\n",
    "           \"Test Balanced Accuracy = \"+balaccuracy_svc_glove_test_tosave + \"\\n\"+\n",
    "           \"Test ROCAUC = \"+rocauc_svc_glove_test_tosave)\n",
    "\n",
    "file.close()"
   ]
  },
  {
   "cell_type": "markdown",
   "metadata": {
    "id": "d8IPkDvHGIZw"
   },
   "source": [
    "### GloVe + Logistic Regression"
   ]
  },
  {
   "cell_type": "code",
   "execution_count": 73,
   "metadata": {
    "id": "7j_OebkkG32s",
    "is_executing": true
   },
   "outputs": [
    {
     "name": "stdout",
     "output_type": "stream",
     "text": [
      "Fitting 5 folds for each of 20 candidates, totalling 100 fits\n",
      "[CV 1/5] END ....C=0.21, penalty=l2, solver=sag;, score=0.494 total time=   0.3s\n",
      "[CV 2/5] END ....C=0.21, penalty=l2, solver=sag;, score=0.501 total time=   0.3s\n",
      "[CV 3/5] END ....C=0.21, penalty=l2, solver=sag;, score=0.485 total time=   0.3s\n",
      "[CV 4/5] END ....C=0.21, penalty=l2, solver=sag;, score=0.487 total time=   0.3s\n",
      "[CV 5/5] END ....C=0.21, penalty=l2, solver=sag;, score=0.508 total time=   0.3s\n",
      "[CV 1/5] END C=0.33, penalty=l2, solver=liblinear;, score=0.495 total time=   0.4s\n",
      "[CV 2/5] END C=0.33, penalty=l2, solver=liblinear;, score=0.497 total time=   0.4s\n",
      "[CV 3/5] END C=0.33, penalty=l2, solver=liblinear;, score=0.493 total time=   0.3s\n",
      "[CV 4/5] END C=0.33, penalty=l2, solver=liblinear;, score=0.493 total time=   0.3s\n",
      "[CV 5/5] END C=0.33, penalty=l2, solver=liblinear;, score=0.510 total time=   0.4s\n"
     ]
    },
    {
     "name": "stderr",
     "output_type": "stream",
     "text": [
      "C:\\Users\\Wesub\\anaconda3\\lib\\site-packages\\sklearn\\linear_model\\_logistic.py:1181: UserWarning: Setting penalty=None will ignore the C and l1_ratio parameters\n",
      "  warnings.warn(\n"
     ]
    },
    {
     "name": "stdout",
     "output_type": "stream",
     "text": [
      "[CV 1/5] END ..C=0.12, penalty=none, solver=sag;, score=0.495 total time=   1.2s\n"
     ]
    },
    {
     "name": "stderr",
     "output_type": "stream",
     "text": [
      "C:\\Users\\Wesub\\anaconda3\\lib\\site-packages\\sklearn\\linear_model\\_logistic.py:1181: UserWarning: Setting penalty=None will ignore the C and l1_ratio parameters\n",
      "  warnings.warn(\n"
     ]
    },
    {
     "name": "stdout",
     "output_type": "stream",
     "text": [
      "[CV 2/5] END ..C=0.12, penalty=none, solver=sag;, score=0.500 total time=   1.1s\n"
     ]
    },
    {
     "name": "stderr",
     "output_type": "stream",
     "text": [
      "C:\\Users\\Wesub\\anaconda3\\lib\\site-packages\\sklearn\\linear_model\\_logistic.py:1181: UserWarning: Setting penalty=None will ignore the C and l1_ratio parameters\n",
      "  warnings.warn(\n"
     ]
    },
    {
     "name": "stdout",
     "output_type": "stream",
     "text": [
      "[CV 3/5] END ..C=0.12, penalty=none, solver=sag;, score=0.497 total time=   1.2s\n"
     ]
    },
    {
     "name": "stderr",
     "output_type": "stream",
     "text": [
      "C:\\Users\\Wesub\\anaconda3\\lib\\site-packages\\sklearn\\linear_model\\_logistic.py:1181: UserWarning: Setting penalty=None will ignore the C and l1_ratio parameters\n",
      "  warnings.warn(\n"
     ]
    },
    {
     "name": "stdout",
     "output_type": "stream",
     "text": [
      "[CV 4/5] END ..C=0.12, penalty=none, solver=sag;, score=0.499 total time=   1.0s\n"
     ]
    },
    {
     "name": "stderr",
     "output_type": "stream",
     "text": [
      "C:\\Users\\Wesub\\anaconda3\\lib\\site-packages\\sklearn\\linear_model\\_logistic.py:1181: UserWarning: Setting penalty=None will ignore the C and l1_ratio parameters\n",
      "  warnings.warn(\n"
     ]
    },
    {
     "name": "stdout",
     "output_type": "stream",
     "text": [
      "[CV 5/5] END ..C=0.12, penalty=none, solver=sag;, score=0.505 total time=   1.1s\n",
      "[CV 1/5] END C=0.54, penalty=l1, solver=newton-cg;, score=nan total time=   0.0s\n",
      "[CV 2/5] END C=0.54, penalty=l1, solver=newton-cg;, score=nan total time=   0.0s\n",
      "[CV 3/5] END C=0.54, penalty=l1, solver=newton-cg;, score=nan total time=   0.0s\n",
      "[CV 4/5] END C=0.54, penalty=l1, solver=newton-cg;, score=nan total time=   0.0s\n",
      "[CV 5/5] END C=0.54, penalty=l1, solver=newton-cg;, score=nan total time=   0.0s\n",
      "[CV 1/5] END C=0.06, penalty=l2, solver=liblinear;, score=0.496 total time=   0.2s\n",
      "[CV 2/5] END C=0.06, penalty=l2, solver=liblinear;, score=0.484 total time=   0.2s\n",
      "[CV 3/5] END C=0.06, penalty=l2, solver=liblinear;, score=0.478 total time=   0.2s\n",
      "[CV 4/5] END C=0.06, penalty=l2, solver=liblinear;, score=0.481 total time=   0.2s\n",
      "[CV 5/5] END C=0.06, penalty=l2, solver=liblinear;, score=0.501 total time=   0.2s\n",
      "[CV 1/5] END C=0.61, penalty=elasticnet, solver=liblinear;, score=nan total time=   0.0s\n",
      "[CV 2/5] END C=0.61, penalty=elasticnet, solver=liblinear;, score=nan total time=   0.0s\n",
      "[CV 3/5] END C=0.61, penalty=elasticnet, solver=liblinear;, score=nan total time=   0.0s\n",
      "[CV 4/5] END C=0.61, penalty=elasticnet, solver=liblinear;, score=nan total time=   0.0s\n",
      "[CV 5/5] END C=0.61, penalty=elasticnet, solver=liblinear;, score=nan total time=   0.0s\n",
      "[CV 1/5] END ......C=0.58, penalty=l1, solver=sag;, score=nan total time=   0.0s\n",
      "[CV 2/5] END ......C=0.58, penalty=l1, solver=sag;, score=nan total time=   0.0s\n",
      "[CV 3/5] END ......C=0.58, penalty=l1, solver=sag;, score=nan total time=   0.0s\n",
      "[CV 4/5] END ......C=0.58, penalty=l1, solver=sag;, score=nan total time=   0.0s\n",
      "[CV 5/5] END ......C=0.58, penalty=l1, solver=sag;, score=nan total time=   0.0s\n",
      "[CV 1/5] END C=0.11, penalty=elasticnet, solver=newton-cg;, score=nan total time=   0.0s\n",
      "[CV 2/5] END C=0.11, penalty=elasticnet, solver=newton-cg;, score=nan total time=   0.0s\n",
      "[CV 3/5] END C=0.11, penalty=elasticnet, solver=newton-cg;, score=nan total time=   0.0s\n",
      "[CV 4/5] END C=0.11, penalty=elasticnet, solver=newton-cg;, score=nan total time=   0.0s\n",
      "[CV 5/5] END C=0.11, penalty=elasticnet, solver=newton-cg;, score=nan total time=   0.0s\n",
      "[CV 1/5] END ....C=0.33, penalty=l1, solver=lbfgs;, score=nan total time=   0.0s\n",
      "[CV 2/5] END ....C=0.33, penalty=l1, solver=lbfgs;, score=nan total time=   0.0s\n",
      "[CV 3/5] END ....C=0.33, penalty=l1, solver=lbfgs;, score=nan total time=   0.0s\n",
      "[CV 4/5] END ....C=0.33, penalty=l1, solver=lbfgs;, score=nan total time=   0.0s\n",
      "[CV 5/5] END ....C=0.33, penalty=l1, solver=lbfgs;, score=nan total time=   0.0s\n",
      "[CV 1/5] END ......C=0.37, penalty=l1, solver=sag;, score=nan total time=   0.0s\n",
      "[CV 2/5] END ......C=0.37, penalty=l1, solver=sag;, score=nan total time=   0.0s\n",
      "[CV 3/5] END ......C=0.37, penalty=l1, solver=sag;, score=nan total time=   0.0s\n",
      "[CV 4/5] END ......C=0.37, penalty=l1, solver=sag;, score=nan total time=   0.0s\n",
      "[CV 5/5] END ......C=0.37, penalty=l1, solver=sag;, score=nan total time=   0.0s\n"
     ]
    },
    {
     "name": "stderr",
     "output_type": "stream",
     "text": [
      "C:\\Users\\Wesub\\anaconda3\\lib\\site-packages\\sklearn\\linear_model\\_logistic.py:1181: UserWarning: Setting penalty=None will ignore the C and l1_ratio parameters\n",
      "  warnings.warn(\n",
      "C:\\Users\\Wesub\\anaconda3\\lib\\site-packages\\sklearn\\linear_model\\_sag.py:350: ConvergenceWarning: The max_iter was reached which means the coef_ did not converge\n",
      "  warnings.warn(\n",
      "C:\\Users\\Wesub\\anaconda3\\lib\\site-packages\\sklearn\\linear_model\\_logistic.py:1181: UserWarning: Setting penalty=None will ignore the C and l1_ratio parameters\n",
      "  warnings.warn(\n"
     ]
    },
    {
     "name": "stdout",
     "output_type": "stream",
     "text": [
      "[CV 1/5] END ..C=0.6, penalty=none, solver=saga;, score=0.496 total time=   1.6s\n"
     ]
    },
    {
     "name": "stderr",
     "output_type": "stream",
     "text": [
      "C:\\Users\\Wesub\\anaconda3\\lib\\site-packages\\sklearn\\linear_model\\_sag.py:350: ConvergenceWarning: The max_iter was reached which means the coef_ did not converge\n",
      "  warnings.warn(\n",
      "C:\\Users\\Wesub\\anaconda3\\lib\\site-packages\\sklearn\\linear_model\\_logistic.py:1181: UserWarning: Setting penalty=None will ignore the C and l1_ratio parameters\n",
      "  warnings.warn(\n"
     ]
    },
    {
     "name": "stdout",
     "output_type": "stream",
     "text": [
      "[CV 2/5] END ..C=0.6, penalty=none, solver=saga;, score=0.500 total time=   1.6s\n"
     ]
    },
    {
     "name": "stderr",
     "output_type": "stream",
     "text": [
      "C:\\Users\\Wesub\\anaconda3\\lib\\site-packages\\sklearn\\linear_model\\_sag.py:350: ConvergenceWarning: The max_iter was reached which means the coef_ did not converge\n",
      "  warnings.warn(\n",
      "C:\\Users\\Wesub\\anaconda3\\lib\\site-packages\\sklearn\\linear_model\\_logistic.py:1181: UserWarning: Setting penalty=None will ignore the C and l1_ratio parameters\n",
      "  warnings.warn(\n"
     ]
    },
    {
     "name": "stdout",
     "output_type": "stream",
     "text": [
      "[CV 3/5] END ..C=0.6, penalty=none, solver=saga;, score=0.496 total time=   1.7s\n"
     ]
    },
    {
     "name": "stderr",
     "output_type": "stream",
     "text": [
      "C:\\Users\\Wesub\\anaconda3\\lib\\site-packages\\sklearn\\linear_model\\_sag.py:350: ConvergenceWarning: The max_iter was reached which means the coef_ did not converge\n",
      "  warnings.warn(\n",
      "C:\\Users\\Wesub\\anaconda3\\lib\\site-packages\\sklearn\\linear_model\\_logistic.py:1181: UserWarning: Setting penalty=None will ignore the C and l1_ratio parameters\n",
      "  warnings.warn(\n"
     ]
    },
    {
     "name": "stdout",
     "output_type": "stream",
     "text": [
      "[CV 4/5] END ..C=0.6, penalty=none, solver=saga;, score=0.499 total time=   1.7s\n"
     ]
    },
    {
     "name": "stderr",
     "output_type": "stream",
     "text": [
      "C:\\Users\\Wesub\\anaconda3\\lib\\site-packages\\sklearn\\linear_model\\_sag.py:350: ConvergenceWarning: The max_iter was reached which means the coef_ did not converge\n",
      "  warnings.warn(\n"
     ]
    },
    {
     "name": "stdout",
     "output_type": "stream",
     "text": [
      "[CV 5/5] END ..C=0.6, penalty=none, solver=saga;, score=0.505 total time=   1.7s\n",
      "[CV 1/5] END C=0.8300000000000001, penalty=l1, solver=lbfgs;, score=nan total time=   0.0s\n",
      "[CV 2/5] END C=0.8300000000000001, penalty=l1, solver=lbfgs;, score=nan total time=   0.0s\n",
      "[CV 3/5] END C=0.8300000000000001, penalty=l1, solver=lbfgs;, score=nan total time=   0.0s\n",
      "[CV 4/5] END C=0.8300000000000001, penalty=l1, solver=lbfgs;, score=nan total time=   0.0s\n",
      "[CV 5/5] END C=0.8300000000000001, penalty=l1, solver=lbfgs;, score=nan total time=   0.0s\n",
      "[CV 1/5] END ....C=0.87, penalty=l1, solver=lbfgs;, score=nan total time=   0.0s\n",
      "[CV 2/5] END ....C=0.87, penalty=l1, solver=lbfgs;, score=nan total time=   0.0s\n",
      "[CV 3/5] END ....C=0.87, penalty=l1, solver=lbfgs;, score=nan total time=   0.0s\n",
      "[CV 4/5] END ....C=0.87, penalty=l1, solver=lbfgs;, score=nan total time=   0.0s\n",
      "[CV 5/5] END ....C=0.87, penalty=l1, solver=lbfgs;, score=nan total time=   0.0s\n",
      "[CV 1/5] END ......C=0.49, penalty=l1, solver=sag;, score=nan total time=   0.0s\n",
      "[CV 2/5] END ......C=0.49, penalty=l1, solver=sag;, score=nan total time=   0.0s\n",
      "[CV 3/5] END ......C=0.49, penalty=l1, solver=sag;, score=nan total time=   0.0s\n",
      "[CV 4/5] END ......C=0.49, penalty=l1, solver=sag;, score=nan total time=   0.0s\n",
      "[CV 5/5] END ......C=0.49, penalty=l1, solver=sag;, score=nan total time=   0.0s\n",
      "[CV 1/5] END C=0.9, penalty=l2, solver=liblinear;, score=0.489 total time=   0.5s\n",
      "[CV 2/5] END C=0.9, penalty=l2, solver=liblinear;, score=0.499 total time=   0.4s\n",
      "[CV 3/5] END C=0.9, penalty=l2, solver=liblinear;, score=0.493 total time=   0.5s\n",
      "[CV 4/5] END C=0.9, penalty=l2, solver=liblinear;, score=0.500 total time=   0.5s\n",
      "[CV 5/5] END C=0.9, penalty=l2, solver=liblinear;, score=0.506 total time=   0.5s\n",
      "[CV 1/5] END C=0.33, penalty=l1, solver=liblinear;, score=0.493 total time=   0.9s\n",
      "[CV 2/5] END C=0.33, penalty=l1, solver=liblinear;, score=0.492 total time=   0.3s\n",
      "[CV 3/5] END C=0.33, penalty=l1, solver=liblinear;, score=0.486 total time=   0.4s\n",
      "[CV 4/5] END C=0.33, penalty=l1, solver=liblinear;, score=0.475 total time=   0.7s\n",
      "[CV 5/5] END C=0.33, penalty=l1, solver=liblinear;, score=0.502 total time=   0.9s\n",
      "[CV 1/5] END ....C=0.06, penalty=l1, solver=lbfgs;, score=nan total time=   0.0s\n",
      "[CV 2/5] END ....C=0.06, penalty=l1, solver=lbfgs;, score=nan total time=   0.0s\n",
      "[CV 3/5] END ....C=0.06, penalty=l1, solver=lbfgs;, score=nan total time=   0.0s\n",
      "[CV 4/5] END ....C=0.06, penalty=l1, solver=lbfgs;, score=nan total time=   0.0s\n",
      "[CV 5/5] END ....C=0.06, penalty=l1, solver=lbfgs;, score=nan total time=   0.0s\n"
     ]
    },
    {
     "name": "stderr",
     "output_type": "stream",
     "text": [
      "C:\\Users\\Wesub\\anaconda3\\lib\\site-packages\\sklearn\\linear_model\\_logistic.py:1181: UserWarning: Setting penalty=None will ignore the C and l1_ratio parameters\n",
      "  warnings.warn(\n",
      "C:\\Users\\Wesub\\anaconda3\\lib\\site-packages\\sklearn\\linear_model\\_sag.py:350: ConvergenceWarning: The max_iter was reached which means the coef_ did not converge\n",
      "  warnings.warn(\n",
      "C:\\Users\\Wesub\\anaconda3\\lib\\site-packages\\sklearn\\linear_model\\_logistic.py:1181: UserWarning: Setting penalty=None will ignore the C and l1_ratio parameters\n",
      "  warnings.warn(\n"
     ]
    },
    {
     "name": "stdout",
     "output_type": "stream",
     "text": [
      "[CV 1/5] END ..C=0.3, penalty=none, solver=saga;, score=0.496 total time=   1.7s\n"
     ]
    },
    {
     "name": "stderr",
     "output_type": "stream",
     "text": [
      "C:\\Users\\Wesub\\anaconda3\\lib\\site-packages\\sklearn\\linear_model\\_sag.py:350: ConvergenceWarning: The max_iter was reached which means the coef_ did not converge\n",
      "  warnings.warn(\n",
      "C:\\Users\\Wesub\\anaconda3\\lib\\site-packages\\sklearn\\linear_model\\_logistic.py:1181: UserWarning: Setting penalty=None will ignore the C and l1_ratio parameters\n",
      "  warnings.warn(\n"
     ]
    },
    {
     "name": "stdout",
     "output_type": "stream",
     "text": [
      "[CV 2/5] END ..C=0.3, penalty=none, solver=saga;, score=0.500 total time=   1.7s\n"
     ]
    },
    {
     "name": "stderr",
     "output_type": "stream",
     "text": [
      "C:\\Users\\Wesub\\anaconda3\\lib\\site-packages\\sklearn\\linear_model\\_sag.py:350: ConvergenceWarning: The max_iter was reached which means the coef_ did not converge\n",
      "  warnings.warn(\n",
      "C:\\Users\\Wesub\\anaconda3\\lib\\site-packages\\sklearn\\linear_model\\_logistic.py:1181: UserWarning: Setting penalty=None will ignore the C and l1_ratio parameters\n",
      "  warnings.warn(\n"
     ]
    },
    {
     "name": "stdout",
     "output_type": "stream",
     "text": [
      "[CV 3/5] END ..C=0.3, penalty=none, solver=saga;, score=0.496 total time=   1.7s\n"
     ]
    },
    {
     "name": "stderr",
     "output_type": "stream",
     "text": [
      "C:\\Users\\Wesub\\anaconda3\\lib\\site-packages\\sklearn\\linear_model\\_sag.py:350: ConvergenceWarning: The max_iter was reached which means the coef_ did not converge\n",
      "  warnings.warn(\n",
      "C:\\Users\\Wesub\\anaconda3\\lib\\site-packages\\sklearn\\linear_model\\_logistic.py:1181: UserWarning: Setting penalty=None will ignore the C and l1_ratio parameters\n",
      "  warnings.warn(\n"
     ]
    },
    {
     "name": "stdout",
     "output_type": "stream",
     "text": [
      "[CV 4/5] END ..C=0.3, penalty=none, solver=saga;, score=0.499 total time=   1.7s\n"
     ]
    },
    {
     "name": "stderr",
     "output_type": "stream",
     "text": [
      "C:\\Users\\Wesub\\anaconda3\\lib\\site-packages\\sklearn\\linear_model\\_sag.py:350: ConvergenceWarning: The max_iter was reached which means the coef_ did not converge\n",
      "  warnings.warn(\n"
     ]
    },
    {
     "name": "stdout",
     "output_type": "stream",
     "text": [
      "[CV 5/5] END ..C=0.3, penalty=none, solver=saga;, score=0.505 total time=   1.7s\n",
      "[CV 1/5] END C=0.62, penalty=elasticnet, solver=sag;, score=nan total time=   0.0s\n",
      "[CV 2/5] END C=0.62, penalty=elasticnet, solver=sag;, score=nan total time=   0.0s\n",
      "[CV 3/5] END C=0.62, penalty=elasticnet, solver=sag;, score=nan total time=   0.0s\n",
      "[CV 4/5] END C=0.62, penalty=elasticnet, solver=sag;, score=nan total time=   0.0s\n",
      "[CV 5/5] END C=0.62, penalty=elasticnet, solver=sag;, score=nan total time=   0.0s\n",
      "[CV 1/5] END ...C=0.79, penalty=l2, solver=saga;, score=0.490 total time=   1.4s\n",
      "[CV 2/5] END ...C=0.79, penalty=l2, solver=saga;, score=0.499 total time=   1.3s\n",
      "[CV 3/5] END ...C=0.79, penalty=l2, solver=saga;, score=0.494 total time=   1.3s\n",
      "[CV 4/5] END ...C=0.79, penalty=l2, solver=saga;, score=0.500 total time=   1.3s\n",
      "[CV 5/5] END ...C=0.79, penalty=l2, solver=saga;, score=0.507 total time=   1.3s\n"
     ]
    },
    {
     "name": "stderr",
     "output_type": "stream",
     "text": [
      "C:\\Users\\Wesub\\anaconda3\\lib\\site-packages\\sklearn\\model_selection\\_validation.py:378: FitFailedWarning: \n",
      "55 fits failed out of a total of 100.\n",
      "The score on these train-test partitions for these parameters will be set to nan.\n",
      "If these failures are not expected, you can try to debug them by setting error_score='raise'.\n",
      "\n",
      "Below are more details about the failures:\n",
      "--------------------------------------------------------------------------------\n",
      "5 fits failed with the following error:\n",
      "Traceback (most recent call last):\n",
      "  File \"C:\\Users\\Wesub\\anaconda3\\lib\\site-packages\\sklearn\\model_selection\\_validation.py\", line 686, in _fit_and_score\n",
      "    estimator.fit(X_train, y_train, **fit_params)\n",
      "  File \"C:\\Users\\Wesub\\anaconda3\\lib\\site-packages\\sklearn\\linear_model\\_logistic.py\", line 1162, in fit\n",
      "    solver = _check_solver(self.solver, self.penalty, self.dual)\n",
      "  File \"C:\\Users\\Wesub\\anaconda3\\lib\\site-packages\\sklearn\\linear_model\\_logistic.py\", line 54, in _check_solver\n",
      "    raise ValueError(\n",
      "ValueError: Solver newton-cg supports only 'l2' or 'none' penalties, got l1 penalty.\n",
      "\n",
      "--------------------------------------------------------------------------------\n",
      "5 fits failed with the following error:\n",
      "Traceback (most recent call last):\n",
      "  File \"C:\\Users\\Wesub\\anaconda3\\lib\\site-packages\\sklearn\\model_selection\\_validation.py\", line 686, in _fit_and_score\n",
      "    estimator.fit(X_train, y_train, **fit_params)\n",
      "  File \"C:\\Users\\Wesub\\anaconda3\\lib\\site-packages\\sklearn\\linear_model\\_logistic.py\", line 1162, in fit\n",
      "    solver = _check_solver(self.solver, self.penalty, self.dual)\n",
      "  File \"C:\\Users\\Wesub\\anaconda3\\lib\\site-packages\\sklearn\\linear_model\\_logistic.py\", line 64, in _check_solver\n",
      "    raise ValueError(\n",
      "ValueError: Only 'saga' solver supports elasticnet penalty, got solver=liblinear.\n",
      "\n",
      "--------------------------------------------------------------------------------\n",
      "15 fits failed with the following error:\n",
      "Traceback (most recent call last):\n",
      "  File \"C:\\Users\\Wesub\\anaconda3\\lib\\site-packages\\sklearn\\model_selection\\_validation.py\", line 686, in _fit_and_score\n",
      "    estimator.fit(X_train, y_train, **fit_params)\n",
      "  File \"C:\\Users\\Wesub\\anaconda3\\lib\\site-packages\\sklearn\\linear_model\\_logistic.py\", line 1162, in fit\n",
      "    solver = _check_solver(self.solver, self.penalty, self.dual)\n",
      "  File \"C:\\Users\\Wesub\\anaconda3\\lib\\site-packages\\sklearn\\linear_model\\_logistic.py\", line 54, in _check_solver\n",
      "    raise ValueError(\n",
      "ValueError: Solver sag supports only 'l2' or 'none' penalties, got l1 penalty.\n",
      "\n",
      "--------------------------------------------------------------------------------\n",
      "5 fits failed with the following error:\n",
      "Traceback (most recent call last):\n",
      "  File \"C:\\Users\\Wesub\\anaconda3\\lib\\site-packages\\sklearn\\model_selection\\_validation.py\", line 686, in _fit_and_score\n",
      "    estimator.fit(X_train, y_train, **fit_params)\n",
      "  File \"C:\\Users\\Wesub\\anaconda3\\lib\\site-packages\\sklearn\\linear_model\\_logistic.py\", line 1162, in fit\n",
      "    solver = _check_solver(self.solver, self.penalty, self.dual)\n",
      "  File \"C:\\Users\\Wesub\\anaconda3\\lib\\site-packages\\sklearn\\linear_model\\_logistic.py\", line 54, in _check_solver\n",
      "    raise ValueError(\n",
      "ValueError: Solver newton-cg supports only 'l2' or 'none' penalties, got elasticnet penalty.\n",
      "\n",
      "--------------------------------------------------------------------------------\n",
      "20 fits failed with the following error:\n",
      "Traceback (most recent call last):\n",
      "  File \"C:\\Users\\Wesub\\anaconda3\\lib\\site-packages\\sklearn\\model_selection\\_validation.py\", line 686, in _fit_and_score\n",
      "    estimator.fit(X_train, y_train, **fit_params)\n",
      "  File \"C:\\Users\\Wesub\\anaconda3\\lib\\site-packages\\sklearn\\linear_model\\_logistic.py\", line 1162, in fit\n",
      "    solver = _check_solver(self.solver, self.penalty, self.dual)\n",
      "  File \"C:\\Users\\Wesub\\anaconda3\\lib\\site-packages\\sklearn\\linear_model\\_logistic.py\", line 54, in _check_solver\n",
      "    raise ValueError(\n",
      "ValueError: Solver lbfgs supports only 'l2' or 'none' penalties, got l1 penalty.\n",
      "\n",
      "--------------------------------------------------------------------------------\n",
      "5 fits failed with the following error:\n",
      "Traceback (most recent call last):\n",
      "  File \"C:\\Users\\Wesub\\anaconda3\\lib\\site-packages\\sklearn\\model_selection\\_validation.py\", line 686, in _fit_and_score\n",
      "    estimator.fit(X_train, y_train, **fit_params)\n",
      "  File \"C:\\Users\\Wesub\\anaconda3\\lib\\site-packages\\sklearn\\linear_model\\_logistic.py\", line 1162, in fit\n",
      "    solver = _check_solver(self.solver, self.penalty, self.dual)\n",
      "  File \"C:\\Users\\Wesub\\anaconda3\\lib\\site-packages\\sklearn\\linear_model\\_logistic.py\", line 54, in _check_solver\n",
      "    raise ValueError(\n",
      "ValueError: Solver sag supports only 'l2' or 'none' penalties, got elasticnet penalty.\n",
      "\n",
      "  warnings.warn(some_fits_failed_message, FitFailedWarning)\n",
      "C:\\Users\\Wesub\\anaconda3\\lib\\site-packages\\sklearn\\model_selection\\_search.py:952: UserWarning: One or more of the test scores are non-finite: [0.49483874 0.4977102  0.49924962        nan 0.48815291        nan\n",
      "        nan        nan        nan        nan 0.49919473        nan\n",
      "        nan        nan 0.49754244 0.4895753         nan 0.49919473\n",
      "        nan 0.49819384]\n",
      "  warnings.warn(\n",
      "C:\\Users\\Wesub\\anaconda3\\lib\\site-packages\\sklearn\\linear_model\\_logistic.py:1181: UserWarning: Setting penalty=None will ignore the C and l1_ratio parameters\n",
      "  warnings.warn(\n"
     ]
    },
    {
     "name": "stdout",
     "output_type": "stream",
     "text": [
      "Best parameters: {'solver': 'sag', 'penalty': 'none', 'C': 0.12} \n",
      "\n"
     ]
    },
    {
     "name": "stderr",
     "output_type": "stream",
     "text": [
      "C:\\Users\\Wesub\\anaconda3\\lib\\site-packages\\sklearn\\linear_model\\_logistic.py:1181: UserWarning: Setting penalty=None will ignore the C and l1_ratio parameters\n",
      "  warnings.warn(\n"
     ]
    },
    {
     "name": "stdout",
     "output_type": "stream",
     "text": [
      "\n",
      "\n",
      "\n",
      "_______________________________________________________________________\n",
      "EVALUATION\n",
      "\n",
      "----- TRAIN -----\n",
      "\n",
      "Confusion matrix\n",
      " [[4863 1557]\n",
      " [2624 2480]] \n",
      "\n",
      "Accuracy: 63.7 \n",
      "\n",
      "F1 Score: 54.3 \n",
      "\n",
      "Balanced accuracy: 54.3 \n",
      "\n",
      "AUC Score: 62.2 \n",
      "\n",
      "\n",
      "----- TEST -----\n",
      "\n",
      "Confusion matrix\n",
      " [[516 198]\n",
      " [307 246]] \n",
      "\n",
      "Accuracy: 60.1 \n",
      "\n",
      "F1 Score: 49.3 \n",
      "\n",
      "Balanced accuracy: 49.3 \n",
      "\n",
      "AUC Score: 58.4 \n",
      "\n",
      "_______________________________________________________________________\n"
     ]
    }
   ],
   "source": [
    "# Instantiate classifier\n",
    "classifier = LRClassifier()\n",
    "\n",
    "# Perform randomized search over hyperparameters\n",
    "param_distributions = {\n",
    "    'penalty': ['l1', 'l2', 'elasticnet', 'none'],\n",
    "    'solver' : ['newton-cg', 'lbfgs', 'liblinear', 'sag', 'saga'],\n",
    "    'C' : np.arange(0, 1, 0.01)\n",
    "}\n",
    "classifier.randomized_search(X_train_embeddings_glove, y_train, param_distributions)\n",
    "\n",
    "# Train classifier on training data\n",
    "classifier.fit(X_train_embeddings_glove, y_train)\n",
    "\n",
    "# Evaluate classifier\n",
    "print('\\n')\n",
    "print('\\n_______________________________________________________________________')\n",
    "print('EVALUATION')\n",
    "\n",
    "print('\\n----- TRAIN -----')\n",
    "cm_lr_glove_train, accuracy_lr_glove_train, f1_lr_glove_train, balaccuracy_lr_glove_train, rocauc_lr_glove_train = classifier.evaluate(X_train_embeddings_glove, y_train)\n",
    "\n",
    "print('\\n----- TEST -----')\n",
    "cm_lr_glove_test, accuracy_lr_glove_test, f1_lr_glove_test, balaccuracy_lr_glove_test, rocauc_lr_glove_test = classifier.evaluate(X_test_embeddings_glove, y_test)\n",
    "print('_______________________________________________________________________')"
   ]
  },
  {
   "cell_type": "code",
   "execution_count": 74,
   "metadata": {
    "collapsed": false,
    "is_executing": true,
    "jupyter": {
     "outputs_hidden": false
    }
   },
   "outputs": [],
   "source": [
    "cm_lr_glove_train_tosave = repr(cm_lr_glove_train)\n",
    "accuracy_lr_glove_train_tosave = repr(accuracy_lr_glove_train)\n",
    "f1_lr_glove_train_tosave = repr(f1_lr_glove_train)\n",
    "balaccuracy_lr_glove_train_tosave = repr(balaccuracy_lr_glove_train)\n",
    "rocauc_lr_glove_train_tosave = repr(rocauc_lr_glove_train)\n",
    "\n",
    "cm_lr_glove_test_tosave = repr(cm_lr_glove_test)\n",
    "accuracy_lr_glove_test_tosave = repr(accuracy_lr_glove_test)\n",
    "f1_lr_glove_test_tosave = repr(f1_lr_glove_test)\n",
    "balaccuracy_lr_glove_test_tosave = repr(balaccuracy_lr_glove_test)\n",
    "rocauc_lr_glove_test_tosave = repr(rocauc_lr_glove_test)\n",
    "\n",
    "\n",
    "file = open(\"results_split/lr_glove_\"+time.strftime(\"%Y%m%d-%H%M%S\")+\".txt\", \"w\")\n",
    "\n",
    "file.write(\"Train CM = \"+cm_lr_glove_train_tosave + \"\\n\" +\n",
    "           \"Train Accuracy = \" + accuracy_lr_glove_train_tosave + \"\\n\" +\n",
    "           \"Train F1 = \"+f1_lr_glove_train_tosave + \"\\n\"+\n",
    "           \"Train Balanced Accuracy = \"+balaccuracy_lr_glove_train_tosave + \"\\n\" +\n",
    "           \"Train ROCAUC = \"+rocauc_lr_glove_train_tosave + \"\\n\"+\n",
    "           \"Test CM = \"+cm_lr_glove_test_tosave + \"\\n\"+\n",
    "           \"Test Accuracy = \"+accuracy_lr_glove_test_tosave + \"\\n\"+\n",
    "           \"Test F1 = \"+f1_lr_glove_test_tosave + \"\\n\"+\n",
    "           \"Test Balanced Accuracy = \"+balaccuracy_lr_glove_test_tosave + \"\\n\"+\n",
    "           \"Test ROCAUC = \"+rocauc_lr_glove_test_tosave)\n",
    "\n",
    "file.close()"
   ]
  },
  {
   "cell_type": "markdown",
   "metadata": {},
   "source": [
    "### GloVe + Neural Network"
   ]
  },
  {
   "cell_type": "code",
   "execution_count": 75,
   "metadata": {
    "collapsed": false,
    "is_executing": true,
    "jupyter": {
     "outputs_hidden": false
    }
   },
   "outputs": [
    {
     "name": "stdout",
     "output_type": "stream",
     "text": [
      "Epoch 1/15 | Train Loss: 0.6625 | Val Loss: 0.6656 | F1 Score: 0.5401 | Balanced Accuracy: 0.5947 | AUC: 0.5947\n",
      "Epoch 2/15 | Train Loss: 0.6442 | Val Loss: 0.6688 | F1 Score: 0.5408 | Balanced Accuracy: 0.5966 | AUC: 0.5966\n",
      "Epoch 3/15 | Train Loss: 0.6248 | Val Loss: 0.6756 | F1 Score: 0.5421 | Balanced Accuracy: 0.5975 | AUC: 0.5975\n",
      "Epoch 4/15 | Train Loss: 0.6022 | Val Loss: 0.6829 | F1 Score: 0.5474 | Balanced Accuracy: 0.6011 | AUC: 0.6011\n",
      "Epoch 5/15 | Train Loss: 0.5762 | Val Loss: 0.6947 | F1 Score: 0.5529 | Balanced Accuracy: 0.5984 | AUC: 0.5984\n",
      "Epoch 6/15 | Train Loss: 0.5465 | Val Loss: 0.7073 | F1 Score: 0.5572 | Balanced Accuracy: 0.6018 | AUC: 0.6018\n",
      "Early stopping triggered. No improvement in 5 epochs.\n"
     ]
    },
    {
     "data": {
      "image/png": "[encoded data removed]",
      "text/plain": [
       "<Figure size 1200x400 with 1 Axes>"
      ]
     },
     "metadata": {},
     "output_type": "display_data"
    },
    {
     "name": "stdout",
     "output_type": "stream",
     "text": [
      "\n",
      "\n",
      "\n",
      "_______________________________________________________________________\n",
      "EVALUATION\n",
      "\n",
      "----- TRAIN -----\n",
      "\n",
      "Confusion matrix\n",
      " [[5043 1377]\n",
      " [1380 3724]] \n",
      "\n",
      "Accuracy: 76.1 \n",
      "\n",
      "F1 Score: 73.0 \n",
      "\n",
      "Balanced accuracy: 75.8 \n",
      "\n",
      "AUC Score: 75.8 \n",
      "\n",
      "\n",
      "----- TEST -----\n",
      "\n",
      "Confusion matrix\n",
      " [[454 260]\n",
      " [239 314]] \n",
      "\n",
      "Accuracy: 60.6 \n",
      "\n",
      "F1 Score: 55.7 \n",
      "\n",
      "Balanced accuracy: 60.2 \n",
      "\n",
      "AUC Score: 60.2 \n",
      "\n",
      "_______________________________________________________________________\n"
     ]
    }
   ],
   "source": [
    "# --------------------\n",
    "# SET PARAMETERS\n",
    "dropout_rate = 0.1\n",
    "epochs_number = 15\n",
    "learning_rate = 0.0001\n",
    "early_stopping = 5\n",
    "# --------------------\n",
    "\n",
    "input_dim = X_train_embeddings_glove.shape[1]  # Dimensionality of word embeddings\n",
    "hidden_dim = X_train_embeddings_glove.shape[1]*2  # Number of units in the hidden layer\n",
    "\n",
    "classifier = NeuralNetworkClassifier(input_dim, hidden_dim, dropout=dropout_rate)\n",
    "\n",
    "# Fit the model\n",
    "classifier.fit(X_train_embeddings_glove, y_train, X_test_embeddings_glove, y_test, num_epochs=epochs_number, lr=learning_rate, patience=early_stopping)\n",
    "\n",
    "# Evaluate classifier\n",
    "print('\\n')\n",
    "print('\\n_______________________________________________________________________')\n",
    "print('EVALUATION')\n",
    "\n",
    "print('\\n----- TRAIN -----')\n",
    "cm_nn_glove_train, accuracy_nn_glove_train, f1_nn_glove_train, balaccuracy_nn_glove_train, rocauc_nn_glove_train = classifier.evaluate(X_train_embeddings_glove, y_train)\n",
    "\n",
    "print('\\n----- TEST -----')\n",
    "cm_nn_glove_test, accuracy_nn_glove_test, f1_nn_glove_test, balaccuracy_nn_glove_test, rocauc_nn_glove_test = classifier.evaluate(X_test_embeddings_glove, y_test)\n",
    "print('_______________________________________________________________________')"
   ]
  },
  {
   "cell_type": "code",
   "execution_count": 76,
   "metadata": {
    "collapsed": false,
    "is_executing": true,
    "jupyter": {
     "outputs_hidden": false
    }
   },
   "outputs": [],
   "source": [
    "cm_nn_glove_train_tosave = repr(cm_nn_glove_train)\n",
    "accuracy_nn_glove_train_tosave = repr(accuracy_nn_glove_train)\n",
    "f1_nn_glove_train_tosave = repr(f1_nn_glove_train)\n",
    "balaccuracy_nn_glove_train_tosave = repr(balaccuracy_nn_glove_train)\n",
    "rocauc_nn_glove_train_tosave = repr(rocauc_nn_glove_train)\n",
    "\n",
    "cm_nn_glove_test_tosave = repr(cm_nn_glove_test)\n",
    "accuracy_nn_glove_test_tosave = repr(accuracy_nn_glove_test)\n",
    "f1_nn_glove_test_tosave = repr(f1_nn_glove_test)\n",
    "balaccuracy_nn_glove_test_tosave = repr(balaccuracy_nn_glove_test)\n",
    "rocauc_nn_glove_test_tosave = repr(rocauc_nn_glove_test)\n",
    "\n",
    "\n",
    "file = open(\"results_split/nn_glove_\"+time.strftime(\"%Y%m%d-%H%M%S\")+\".txt\", \"w\")\n",
    "\n",
    "file.write(\"Train CM = \"+cm_nn_glove_train_tosave + \"\\n\" +\n",
    "           \"Train Accuracy = \" + accuracy_nn_glove_train_tosave + \"\\n\" +\n",
    "           \"Train F1 = \"+f1_nn_glove_train_tosave + \"\\n\"+\n",
    "           \"Train Balanced Accuracy = \"+balaccuracy_nn_glove_train_tosave + \"\\n\" +\n",
    "           \"Train ROCAUC = \"+rocauc_nn_glove_train_tosave + \"\\n\"+\n",
    "           \"Test CM = \"+cm_nn_glove_test_tosave + \"\\n\"+\n",
    "           \"Test Accuracy = \"+accuracy_nn_glove_test_tosave + \"\\n\"+\n",
    "           \"Test F1 = \"+f1_nn_glove_test_tosave + \"\\n\"+\n",
    "           \"Test Balanced Accuracy = \"+balaccuracy_nn_glove_test_tosave + \"\\n\"+\n",
    "           \"Test ROCAUC = \"+rocauc_nn_glove_test_tosave)\n",
    "\n",
    "file.close()"
   ]
  },
  {
   "cell_type": "markdown",
   "metadata": {},
   "source": [
    "## Word2Vec"
   ]
  },
  {
   "cell_type": "markdown",
   "metadata": {},
   "source": [
    "### Word2Vec + KNN"
   ]
  },
  {
   "cell_type": "code",
   "execution_count": 28,
   "metadata": {
    "ExecuteTime": {
     "end_time": "2023-05-22T01:00:41.587553598Z",
     "start_time": "2023-05-22T01:00:39.813202873Z"
    }
   },
   "outputs": [
    {
     "name": "stdout",
     "output_type": "stream",
     "text": [
      "Fitting 5 folds for each of 20 candidates, totalling 100 fits\n",
      "[CV 1/5] END metric=euclidean, n_neighbors=6, weights=uniform;, score=0.429 total time=   0.2s\n",
      "[CV 2/5] END metric=euclidean, n_neighbors=6, weights=uniform;, score=0.380 total time=   0.1s\n",
      "[CV 3/5] END metric=euclidean, n_neighbors=6, weights=uniform;, score=0.407 total time=   0.1s\n",
      "[CV 4/5] END metric=euclidean, n_neighbors=6, weights=uniform;, score=0.387 total time=   0.1s\n",
      "[CV 5/5] END metric=euclidean, n_neighbors=6, weights=uniform;, score=0.419 total time=   0.1s\n",
      "[CV 1/5] END metric=manhattan, n_neighbors=2, weights=distance;, score=0.509 total time=   3.0s\n",
      "[CV 2/5] END metric=manhattan, n_neighbors=2, weights=distance;, score=0.494 total time=   3.0s\n",
      "[CV 3/5] END metric=manhattan, n_neighbors=2, weights=distance;, score=0.508 total time=   3.0s\n",
      "[CV 4/5] END metric=manhattan, n_neighbors=2, weights=distance;, score=0.478 total time=   3.0s\n",
      "[CV 5/5] END metric=manhattan, n_neighbors=2, weights=distance;, score=0.514 total time=   3.0s\n",
      "[CV 1/5] END metric=euclidean, n_neighbors=2, weights=distance;, score=0.518 total time=   0.1s\n",
      "[CV 2/5] END metric=euclidean, n_neighbors=2, weights=distance;, score=0.493 total time=   0.1s\n",
      "[CV 3/5] END metric=euclidean, n_neighbors=2, weights=distance;, score=0.517 total time=   0.1s\n",
      "[CV 4/5] END metric=euclidean, n_neighbors=2, weights=distance;, score=0.482 total time=   0.1s\n",
      "[CV 5/5] END metric=euclidean, n_neighbors=2, weights=distance;, score=0.505 total time=   0.1s\n",
      "[CV 1/5] END metric=manhattan, n_neighbors=7, weights=distance;, score=0.503 total time=   3.0s\n",
      "[CV 2/5] END metric=manhattan, n_neighbors=7, weights=distance;, score=0.464 total time=   3.0s\n",
      "[CV 3/5] END metric=manhattan, n_neighbors=7, weights=distance;, score=0.490 total time=   3.0s\n",
      "[CV 4/5] END metric=manhattan, n_neighbors=7, weights=distance;, score=0.476 total time=   3.0s\n",
      "[CV 5/5] END metric=manhattan, n_neighbors=7, weights=distance;, score=0.494 total time=   2.9s\n",
      "[CV 1/5] END metric=minkowski, n_neighbors=7, weights=uniform;, score=0.523 total time=   0.1s\n",
      "[CV 2/5] END metric=minkowski, n_neighbors=7, weights=uniform;, score=0.467 total time=   0.1s\n",
      "[CV 3/5] END metric=minkowski, n_neighbors=7, weights=uniform;, score=0.493 total time=   0.1s\n",
      "[CV 4/5] END metric=minkowski, n_neighbors=7, weights=uniform;, score=0.475 total time=   0.1s\n",
      "[CV 5/5] END metric=minkowski, n_neighbors=7, weights=uniform;, score=0.500 total time=   0.1s\n",
      "[CV 1/5] END metric=euclidean, n_neighbors=8, weights=distance;, score=0.526 total time=   0.0s\n",
      "[CV 2/5] END metric=euclidean, n_neighbors=8, weights=distance;, score=0.471 total time=   0.1s\n",
      "[CV 3/5] END metric=euclidean, n_neighbors=8, weights=distance;, score=0.491 total time=   0.0s\n",
      "[CV 4/5] END metric=euclidean, n_neighbors=8, weights=distance;, score=0.490 total time=   0.1s\n",
      "[CV 5/5] END metric=euclidean, n_neighbors=8, weights=distance;, score=0.511 total time=   0.1s\n",
      "[CV 1/5] END metric=euclidean, n_neighbors=5, weights=uniform;, score=0.505 total time=   0.1s\n",
      "[CV 2/5] END metric=euclidean, n_neighbors=5, weights=uniform;, score=0.477 total time=   0.1s\n",
      "[CV 3/5] END metric=euclidean, n_neighbors=5, weights=uniform;, score=0.476 total time=   0.1s\n",
      "[CV 4/5] END metric=euclidean, n_neighbors=5, weights=uniform;, score=0.467 total time=   0.1s\n",
      "[CV 5/5] END metric=euclidean, n_neighbors=5, weights=uniform;, score=0.497 total time=   0.1s\n",
      "[CV 1/5] END metric=minkowski, n_neighbors=6, weights=uniform;, score=0.429 total time=   0.1s\n",
      "[CV 2/5] END metric=minkowski, n_neighbors=6, weights=uniform;, score=0.380 total time=   0.1s\n",
      "[CV 3/5] END metric=minkowski, n_neighbors=6, weights=uniform;, score=0.407 total time=   0.1s\n",
      "[CV 4/5] END metric=minkowski, n_neighbors=6, weights=uniform;, score=0.387 total time=   0.1s\n",
      "[CV 5/5] END metric=minkowski, n_neighbors=6, weights=uniform;, score=0.419 total time=   0.1s\n",
      "[CV 1/5] END metric=euclidean, n_neighbors=9, weights=distance;, score=0.517 total time=   0.1s\n",
      "[CV 2/5] END metric=euclidean, n_neighbors=9, weights=distance;, score=0.467 total time=   0.1s\n",
      "[CV 3/5] END metric=euclidean, n_neighbors=9, weights=distance;, score=0.487 total time=   0.1s\n",
      "[CV 4/5] END metric=euclidean, n_neighbors=9, weights=distance;, score=0.482 total time=   0.1s\n",
      "[CV 5/5] END metric=euclidean, n_neighbors=9, weights=distance;, score=0.495 total time=   0.1s\n",
      "[CV 1/5] END metric=minkowski, n_neighbors=4, weights=uniform;, score=0.400 total time=   0.1s\n",
      "[CV 2/5] END metric=minkowski, n_neighbors=4, weights=uniform;, score=0.368 total time=   0.1s\n",
      "[CV 3/5] END metric=minkowski, n_neighbors=4, weights=uniform;, score=0.393 total time=   0.1s\n",
      "[CV 4/5] END metric=minkowski, n_neighbors=4, weights=uniform;, score=0.366 total time=   0.1s\n",
      "[CV 5/5] END metric=minkowski, n_neighbors=4, weights=uniform;, score=0.391 total time=   0.1s\n",
      "[CV 1/5] END metric=euclidean, n_neighbors=6, weights=distance;, score=0.519 total time=   0.1s\n",
      "[CV 2/5] END metric=euclidean, n_neighbors=6, weights=distance;, score=0.479 total time=   0.1s\n",
      "[CV 3/5] END metric=euclidean, n_neighbors=6, weights=distance;, score=0.488 total time=   0.1s\n",
      "[CV 4/5] END metric=euclidean, n_neighbors=6, weights=distance;, score=0.486 total time=   0.1s\n",
      "[CV 5/5] END metric=euclidean, n_neighbors=6, weights=distance;, score=0.505 total time=   0.1s\n",
      "[CV 1/5] END metric=manhattan, n_neighbors=6, weights=distance;, score=0.512 total time=   2.9s\n",
      "[CV 2/5] END metric=manhattan, n_neighbors=6, weights=distance;, score=0.470 total time=   2.9s\n",
      "[CV 3/5] END metric=manhattan, n_neighbors=6, weights=distance;, score=0.500 total time=   2.9s\n",
      "[CV 4/5] END metric=manhattan, n_neighbors=6, weights=distance;, score=0.487 total time=   2.9s\n",
      "[CV 5/5] END metric=manhattan, n_neighbors=6, weights=distance;, score=0.509 total time=   2.9s\n",
      "[CV 1/5] END metric=manhattan, n_neighbors=4, weights=distance;, score=0.507 total time=   2.9s\n",
      "[CV 2/5] END metric=manhattan, n_neighbors=4, weights=distance;, score=0.469 total time=   2.9s\n",
      "[CV 3/5] END metric=manhattan, n_neighbors=4, weights=distance;, score=0.507 total time=   3.0s\n",
      "[CV 4/5] END metric=manhattan, n_neighbors=4, weights=distance;, score=0.477 total time=   3.0s\n",
      "[CV 5/5] END metric=manhattan, n_neighbors=4, weights=distance;, score=0.521 total time=   3.1s\n",
      "[CV 1/5] END metric=minkowski, n_neighbors=4, weights=distance;, score=0.514 total time=   0.1s\n",
      "[CV 2/5] END metric=minkowski, n_neighbors=4, weights=distance;, score=0.478 total time=   0.1s\n",
      "[CV 3/5] END metric=minkowski, n_neighbors=4, weights=distance;, score=0.494 total time=   0.1s\n",
      "[CV 4/5] END metric=minkowski, n_neighbors=4, weights=distance;, score=0.483 total time=   0.1s\n",
      "[CV 5/5] END metric=minkowski, n_neighbors=4, weights=distance;, score=0.510 total time=   0.1s\n",
      "[CV 1/5] END metric=euclidean, n_neighbors=9, weights=uniform;, score=0.516 total time=   0.1s\n",
      "[CV 2/5] END metric=euclidean, n_neighbors=9, weights=uniform;, score=0.462 total time=   0.1s\n",
      "[CV 3/5] END metric=euclidean, n_neighbors=9, weights=uniform;, score=0.483 total time=   0.1s\n",
      "[CV 4/5] END metric=euclidean, n_neighbors=9, weights=uniform;, score=0.482 total time=   0.1s\n",
      "[CV 5/5] END metric=euclidean, n_neighbors=9, weights=uniform;, score=0.494 total time=   0.1s\n",
      "[CV 1/5] END metric=manhattan, n_neighbors=8, weights=distance;, score=0.510 total time=   3.0s\n",
      "[CV 2/5] END metric=manhattan, n_neighbors=8, weights=distance;, score=0.474 total time=   3.0s\n",
      "[CV 3/5] END metric=manhattan, n_neighbors=8, weights=distance;, score=0.500 total time=   3.0s\n",
      "[CV 4/5] END metric=manhattan, n_neighbors=8, weights=distance;, score=0.489 total time=   3.0s\n",
      "[CV 5/5] END metric=manhattan, n_neighbors=8, weights=distance;, score=0.497 total time=   3.0s\n",
      "[CV 1/5] END metric=manhattan, n_neighbors=9, weights=distance;, score=0.521 total time=   3.0s\n",
      "[CV 2/5] END metric=manhattan, n_neighbors=9, weights=distance;, score=0.475 total time=   3.1s\n",
      "[CV 3/5] END metric=manhattan, n_neighbors=9, weights=distance;, score=0.477 total time=   3.0s\n",
      "[CV 4/5] END metric=manhattan, n_neighbors=9, weights=distance;, score=0.484 total time=   3.0s\n",
      "[CV 5/5] END metric=manhattan, n_neighbors=9, weights=distance;, score=0.508 total time=   3.0s\n",
      "[CV 1/5] END metric=euclidean, n_neighbors=8, weights=uniform;, score=0.439 total time=   0.1s\n",
      "[CV 2/5] END metric=euclidean, n_neighbors=8, weights=uniform;, score=0.401 total time=   0.1s\n",
      "[CV 3/5] END metric=euclidean, n_neighbors=8, weights=uniform;, score=0.410 total time=   0.1s\n",
      "[CV 4/5] END metric=euclidean, n_neighbors=8, weights=uniform;, score=0.403 total time=   0.1s\n",
      "[CV 5/5] END metric=euclidean, n_neighbors=8, weights=uniform;, score=0.422 total time=   0.1s\n",
      "[CV 1/5] END metric=euclidean, n_neighbors=7, weights=uniform;, score=0.523 total time=   0.1s\n",
      "[CV 2/5] END metric=euclidean, n_neighbors=7, weights=uniform;, score=0.467 total time=   0.1s\n",
      "[CV 3/5] END metric=euclidean, n_neighbors=7, weights=uniform;, score=0.493 total time=   0.1s\n",
      "[CV 4/5] END metric=euclidean, n_neighbors=7, weights=uniform;, score=0.475 total time=   0.1s\n",
      "[CV 5/5] END metric=euclidean, n_neighbors=7, weights=uniform;, score=0.500 total time=   0.1s\n",
      "[CV 1/5] END metric=euclidean, n_neighbors=2, weights=uniform;, score=0.369 total time=   0.1s\n",
      "[CV 2/5] END metric=euclidean, n_neighbors=2, weights=uniform;, score=0.352 total time=   0.1s\n",
      "[CV 3/5] END metric=euclidean, n_neighbors=2, weights=uniform;, score=0.365 total time=   0.1s\n",
      "[CV 4/5] END metric=euclidean, n_neighbors=2, weights=uniform;, score=0.335 total time=   0.1s\n",
      "[CV 5/5] END metric=euclidean, n_neighbors=2, weights=uniform;, score=0.343 total time=   0.1s\n",
      "Best parameters: {'weights': 'distance', 'n_neighbors': 2, 'metric': 'euclidean'} \n",
      "\n",
      "\n",
      "\n",
      "\n",
      "_______________________________________________________________________\n",
      "EVALUATION\n",
      "\n",
      "----- TRAIN -----\n",
      "\n",
      "Confusion matrix\n",
      " [[6420    0]\n",
      " [  17 5087]] \n",
      "\n",
      "Accuracy: 99.9 \n",
      "\n",
      "F1 Score: 99.8 \n",
      "\n",
      "Balanced accuracy: 99.8 \n",
      "\n",
      "AUC Score: 99.8 \n",
      "\n",
      "\n",
      "----- TEST -----\n",
      "\n",
      "Confusion matrix\n",
      " [[416 298]\n",
      " [285 268]] \n",
      "\n",
      "Accuracy: 54.0 \n",
      "\n",
      "F1 Score: 47.9 \n",
      "\n",
      "Balanced accuracy: 47.9 \n",
      "\n",
      "AUC Score: 53.4 \n",
      "\n",
      "_______________________________________________________________________\n"
     ]
    }
   ],
   "source": [
    "# Instantiate classifier\n",
    "classifier = KNNClassifier()\n",
    "\n",
    "# Perform randomized search over hyperparameters\n",
    "param_distributions = {\n",
    "    'n_neighbors': [2, 3, 4, 5, 6, 7, 8, 9],\n",
    "    'weights' : ['uniform','distance'],\n",
    "    'metric' : ['minkowski','euclidean','manhattan']\n",
    "}\n",
    "classifier.randomized_search(X_train_embeddings_word2vec, y_train, param_distributions)\n",
    "\n",
    "# Train classifier on training data\n",
    "classifier.fit(X_train_embeddings_word2vec, y_train)\n",
    "\n",
    "# Evaluate classifier\n",
    "print('\\n')\n",
    "print('\\n_______________________________________________________________________')\n",
    "print('EVALUATION')\n",
    "\n",
    "print('\\n----- TRAIN -----')\n",
    "cm_knn_w2v_train, accuracy_knn_w2v_train, f1_knn_w2v_train, balaccuracy_knn_w2v_train, rocauc_knn_w2v_train = classifier.evaluate(X_train_embeddings_word2vec, y_train)\n",
    "\n",
    "print('\\n----- TEST -----')\n",
    "cm_knn_w2v_test, accuracy_knn_w2v_test, f1_knn_w2v_test, balaccuracy_knn_w2v_test, rocauc_knn_w2v_test = classifier.evaluate(X_test_embeddings_word2vec, y_test)\n",
    "print('_______________________________________________________________________')"
   ]
  },
  {
   "cell_type": "code",
   "execution_count": 29,
   "metadata": {
    "collapsed": false,
    "jupyter": {
     "outputs_hidden": false
    }
   },
   "outputs": [],
   "source": [
    "cm_knn_w2v_train_tosave = repr(cm_knn_w2v_train)\n",
    "accuracy_knn_w2v_train_tosave = repr(accuracy_knn_w2v_train)\n",
    "f1_knn_w2v_train_tosave = repr(f1_knn_w2v_train)\n",
    "balaccuracy_knn_w2v_train_tosave = repr(balaccuracy_knn_w2v_train)\n",
    "rocauc_knn_w2v_train_tosave = repr(rocauc_knn_w2v_train)\n",
    "\n",
    "cm_knn_w2v_test_tosave = repr(cm_knn_w2v_test)\n",
    "accuracy_knn_w2v_test_tosave = repr(accuracy_knn_w2v_test)\n",
    "f1_knn_w2v_test_tosave = repr(f1_knn_w2v_test)\n",
    "balaccuracy_knn_w2v_test_tosave = repr(balaccuracy_knn_w2v_test)\n",
    "rocauc_knn_w2v_test_tosave = repr(rocauc_knn_w2v_test)\n",
    "\n",
    "\n",
    "file = open(\"results_split/knn_w2v_\"+time.strftime(\"%Y%m%d-%H%M%S\")+\".txt\", \"w\")\n",
    "\n",
    "file.write(\"Train CM = \"+cm_knn_w2v_train_tosave + \"\\n\" +\n",
    "           \"Train Accuracy = \" + accuracy_knn_w2v_train_tosave + \"\\n\" +\n",
    "           \"Train F1 = \"+f1_knn_w2v_train_tosave + \"\\n\"+\n",
    "           \"Train Balanced Accuracy = \"+balaccuracy_knn_w2v_train_tosave + \"\\n\" +\n",
    "           \"Train ROCAUC = \"+rocauc_knn_w2v_train_tosave + \"\\n\"+\n",
    "           \"Test CM = \"+cm_knn_w2v_test_tosave + \"\\n\"+\n",
    "           \"Test Accuracy = \"+accuracy_knn_w2v_test_tosave + \"\\n\"+\n",
    "           \"Test F1 = \"+f1_knn_w2v_test_tosave + \"\\n\"+\n",
    "           \"Test Balanced Accuracy = \"+balaccuracy_knn_w2v_test_tosave + \"\\n\"+\n",
    "           \"Test ROCAUC = \"+rocauc_knn_w2v_test_tosave)\n",
    "\n",
    "file.close()"
   ]
  },
  {
   "cell_type": "markdown",
   "metadata": {},
   "source": [
    "### Word2Vec + XGBoost"
   ]
  },
  {
   "cell_type": "code",
   "execution_count": 30,
   "metadata": {
    "ExecuteTime": {
     "end_time": "2023-05-22T01:01:42.307248583Z",
     "start_time": "2023-05-22T01:00:41.593893391Z"
    }
   },
   "outputs": [
    {
     "name": "stdout",
     "output_type": "stream",
     "text": [
      "Fitting 5 folds for each of 20 candidates, totalling 100 fits\n",
      "[CV 1/5] END colsample_bytree=0.7, learning_rate=0.5, max_depth=3, min_child_weight=5, n_estimators=50, objective=reg:squarederror, subsample=0.5;, score=0.471 total time=   3.7s\n",
      "[CV 2/5] END colsample_bytree=0.7, learning_rate=0.5, max_depth=3, min_child_weight=5, n_estimators=50, objective=reg:squarederror, subsample=0.5;, score=0.488 total time=   2.4s\n",
      "[CV 3/5] END colsample_bytree=0.7, learning_rate=0.5, max_depth=3, min_child_weight=5, n_estimators=50, objective=reg:squarederror, subsample=0.5;, score=0.487 total time=   2.4s\n",
      "[CV 4/5] END colsample_bytree=0.7, learning_rate=0.5, max_depth=3, min_child_weight=5, n_estimators=50, objective=reg:squarederror, subsample=0.5;, score=0.495 total time=   2.4s\n",
      "[CV 5/5] END colsample_bytree=0.7, learning_rate=0.5, max_depth=3, min_child_weight=5, n_estimators=50, objective=reg:squarederror, subsample=0.5;, score=0.503 total time=   2.4s\n",
      "[CV 1/5] END colsample_bytree=0.5, learning_rate=0.01, max_depth=5, min_child_weight=3, n_estimators=50, objective=reg:squarederror, subsample=0.7;, score=0.432 total time=   3.9s\n",
      "[CV 2/5] END colsample_bytree=0.5, learning_rate=0.01, max_depth=5, min_child_weight=3, n_estimators=50, objective=reg:squarederror, subsample=0.7;, score=0.414 total time=   4.2s\n",
      "[CV 3/5] END colsample_bytree=0.5, learning_rate=0.01, max_depth=5, min_child_weight=3, n_estimators=50, objective=reg:squarederror, subsample=0.7;, score=0.400 total time=   4.4s\n",
      "[CV 4/5] END colsample_bytree=0.5, learning_rate=0.01, max_depth=5, min_child_weight=3, n_estimators=50, objective=reg:squarederror, subsample=0.7;, score=0.397 total time=   4.3s\n",
      "[CV 5/5] END colsample_bytree=0.5, learning_rate=0.01, max_depth=5, min_child_weight=3, n_estimators=50, objective=reg:squarederror, subsample=0.7;, score=0.428 total time=   4.2s\n",
      "[CV 1/5] END colsample_bytree=0.5, learning_rate=0.3, max_depth=7, min_child_weight=1, n_estimators=50, objective=reg:squarederror, subsample=0.7;, score=0.464 total time=   5.9s\n",
      "[CV 2/5] END colsample_bytree=0.5, learning_rate=0.3, max_depth=7, min_child_weight=1, n_estimators=50, objective=reg:squarederror, subsample=0.7;, score=0.486 total time=   5.9s\n",
      "[CV 3/5] END colsample_bytree=0.5, learning_rate=0.3, max_depth=7, min_child_weight=1, n_estimators=50, objective=reg:squarederror, subsample=0.7;, score=0.485 total time=   6.4s\n",
      "[CV 4/5] END colsample_bytree=0.5, learning_rate=0.3, max_depth=7, min_child_weight=1, n_estimators=50, objective=reg:squarederror, subsample=0.7;, score=0.506 total time=   6.3s\n",
      "[CV 5/5] END colsample_bytree=0.5, learning_rate=0.3, max_depth=7, min_child_weight=1, n_estimators=50, objective=reg:squarederror, subsample=0.7;, score=0.485 total time=   5.9s\n",
      "[CV 1/5] END colsample_bytree=0.5, learning_rate=0.3, max_depth=3, min_child_weight=1, n_estimators=500, objective=reg:squarederror, subsample=0.7;, score=0.502 total time=  23.8s\n",
      "[CV 2/5] END colsample_bytree=0.5, learning_rate=0.3, max_depth=3, min_child_weight=1, n_estimators=500, objective=reg:squarederror, subsample=0.7;, score=0.467 total time=  23.3s\n",
      "[CV 3/5] END colsample_bytree=0.5, learning_rate=0.3, max_depth=3, min_child_weight=1, n_estimators=500, objective=reg:squarederror, subsample=0.7;, score=0.491 total time=  23.6s\n",
      "[CV 4/5] END colsample_bytree=0.5, learning_rate=0.3, max_depth=3, min_child_weight=1, n_estimators=500, objective=reg:squarederror, subsample=0.7;, score=0.504 total time=  23.1s\n",
      "[CV 5/5] END colsample_bytree=0.5, learning_rate=0.3, max_depth=3, min_child_weight=1, n_estimators=500, objective=reg:squarederror, subsample=0.7;, score=0.498 total time=  23.4s\n",
      "[CV 1/5] END colsample_bytree=0.5, learning_rate=0.3, max_depth=5, min_child_weight=5, n_estimators=200, objective=reg:squarederror, subsample=0.5;, score=0.487 total time=  13.4s\n",
      "[CV 2/5] END colsample_bytree=0.5, learning_rate=0.3, max_depth=5, min_child_weight=5, n_estimators=200, objective=reg:squarederror, subsample=0.5;, score=0.488 total time=  13.1s\n",
      "[CV 3/5] END colsample_bytree=0.5, learning_rate=0.3, max_depth=5, min_child_weight=5, n_estimators=200, objective=reg:squarederror, subsample=0.5;, score=0.497 total time= 1.8min\n",
      "[CV 4/5] END colsample_bytree=0.5, learning_rate=0.3, max_depth=5, min_child_weight=5, n_estimators=200, objective=reg:squarederror, subsample=0.5;, score=0.477 total time=  11.0s\n",
      "[CV 5/5] END colsample_bytree=0.5, learning_rate=0.3, max_depth=5, min_child_weight=5, n_estimators=200, objective=reg:squarederror, subsample=0.5;, score=0.510 total time=  11.1s\n",
      "[CV 1/5] END colsample_bytree=0.5, learning_rate=0.1, max_depth=3, min_child_weight=3, n_estimators=100, objective=reg:squarederror, subsample=0.7;, score=0.506 total time=   3.9s\n",
      "[CV 2/5] END colsample_bytree=0.5, learning_rate=0.1, max_depth=3, min_child_weight=3, n_estimators=100, objective=reg:squarederror, subsample=0.7;, score=0.477 total time=   4.2s\n",
      "[CV 3/5] END colsample_bytree=0.5, learning_rate=0.1, max_depth=3, min_child_weight=3, n_estimators=100, objective=reg:squarederror, subsample=0.7;, score=0.493 total time=   4.3s\n",
      "[CV 4/5] END colsample_bytree=0.5, learning_rate=0.1, max_depth=3, min_child_weight=3, n_estimators=100, objective=reg:squarederror, subsample=0.7;, score=0.468 total time=   4.7s\n",
      "[CV 5/5] END colsample_bytree=0.5, learning_rate=0.1, max_depth=3, min_child_weight=3, n_estimators=100, objective=reg:squarederror, subsample=0.7;, score=0.503 total time=   4.7s\n",
      "[CV 1/5] END colsample_bytree=0.5, learning_rate=0.1, max_depth=9, min_child_weight=1, n_estimators=500, objective=reg:squarederror, subsample=0.7;, score=0.469 total time= 1.2min\n",
      "[CV 2/5] END colsample_bytree=0.5, learning_rate=0.1, max_depth=9, min_child_weight=1, n_estimators=500, objective=reg:squarederror, subsample=0.7;, score=0.472 total time= 1.1min\n",
      "[CV 3/5] END colsample_bytree=0.5, learning_rate=0.1, max_depth=9, min_child_weight=1, n_estimators=500, objective=reg:squarederror, subsample=0.7;, score=0.480 total time= 1.0min\n",
      "[CV 4/5] END colsample_bytree=0.5, learning_rate=0.1, max_depth=9, min_child_weight=1, n_estimators=500, objective=reg:squarederror, subsample=0.7;, score=0.494 total time= 1.0min\n",
      "[CV 5/5] END colsample_bytree=0.5, learning_rate=0.1, max_depth=9, min_child_weight=1, n_estimators=500, objective=reg:squarederror, subsample=0.7;, score=0.515 total time= 1.0min\n",
      "[CV 1/5] END colsample_bytree=0.7, learning_rate=0.5, max_depth=7, min_child_weight=1, n_estimators=200, objective=reg:squarederror, subsample=0.7;, score=0.493 total time=  26.6s\n",
      "[CV 2/5] END colsample_bytree=0.7, learning_rate=0.5, max_depth=7, min_child_weight=1, n_estimators=200, objective=reg:squarederror, subsample=0.7;, score=0.460 total time=  26.0s\n",
      "[CV 3/5] END colsample_bytree=0.7, learning_rate=0.5, max_depth=7, min_child_weight=1, n_estimators=200, objective=reg:squarederror, subsample=0.7;, score=0.468 total time=  26.2s\n",
      "[CV 4/5] END colsample_bytree=0.7, learning_rate=0.5, max_depth=7, min_child_weight=1, n_estimators=200, objective=reg:squarederror, subsample=0.7;, score=0.489 total time=  26.2s\n",
      "[CV 5/5] END colsample_bytree=0.7, learning_rate=0.5, max_depth=7, min_child_weight=1, n_estimators=200, objective=reg:squarederror, subsample=0.7;, score=0.477 total time=  26.2s\n",
      "[CV 1/5] END colsample_bytree=0.7, learning_rate=0.5, max_depth=5, min_child_weight=5, n_estimators=100, objective=reg:squarederror, subsample=0.5;, score=0.490 total time=   8.3s\n",
      "[CV 2/5] END colsample_bytree=0.7, learning_rate=0.5, max_depth=5, min_child_weight=5, n_estimators=100, objective=reg:squarederror, subsample=0.5;, score=0.470 total time=   7.9s\n",
      "[CV 3/5] END colsample_bytree=0.7, learning_rate=0.5, max_depth=5, min_child_weight=5, n_estimators=100, objective=reg:squarederror, subsample=0.5;, score=0.479 total time=   8.1s\n",
      "[CV 4/5] END colsample_bytree=0.7, learning_rate=0.5, max_depth=5, min_child_weight=5, n_estimators=100, objective=reg:squarederror, subsample=0.5;, score=0.487 total time=   7.9s\n",
      "[CV 5/5] END colsample_bytree=0.7, learning_rate=0.5, max_depth=5, min_child_weight=5, n_estimators=100, objective=reg:squarederror, subsample=0.5;, score=0.489 total time=   8.0s\n",
      "[CV 1/5] END colsample_bytree=0.5, learning_rate=0.01, max_depth=9, min_child_weight=3, n_estimators=100, objective=reg:squarederror, subsample=0.5;, score=0.491 total time=  11.0s\n",
      "[CV 2/5] END colsample_bytree=0.5, learning_rate=0.01, max_depth=9, min_child_weight=3, n_estimators=100, objective=reg:squarederror, subsample=0.5;, score=0.464 total time=  11.9s\n",
      "[CV 3/5] END colsample_bytree=0.5, learning_rate=0.01, max_depth=9, min_child_weight=3, n_estimators=100, objective=reg:squarederror, subsample=0.5;, score=0.468 total time=  11.6s\n",
      "[CV 4/5] END colsample_bytree=0.5, learning_rate=0.01, max_depth=9, min_child_weight=3, n_estimators=100, objective=reg:squarederror, subsample=0.5;, score=0.445 total time=  12.2s\n",
      "[CV 5/5] END colsample_bytree=0.5, learning_rate=0.01, max_depth=9, min_child_weight=3, n_estimators=100, objective=reg:squarederror, subsample=0.5;, score=0.493 total time=  11.8s\n",
      "[CV 1/5] END colsample_bytree=0.7, learning_rate=0.01, max_depth=9, min_child_weight=5, n_estimators=200, objective=reg:squarederror, subsample=0.7;, score=0.504 total time=  35.3s\n",
      "[CV 2/5] END colsample_bytree=0.7, learning_rate=0.01, max_depth=9, min_child_weight=5, n_estimators=200, objective=reg:squarederror, subsample=0.7;, score=0.496 total time=  36.3s\n",
      "[CV 3/5] END colsample_bytree=0.7, learning_rate=0.01, max_depth=9, min_child_weight=5, n_estimators=200, objective=reg:squarederror, subsample=0.7;, score=0.495 total time=  36.1s\n",
      "[CV 4/5] END colsample_bytree=0.7, learning_rate=0.01, max_depth=9, min_child_weight=5, n_estimators=200, objective=reg:squarederror, subsample=0.7;, score=0.469 total time=  35.0s\n",
      "[CV 5/5] END colsample_bytree=0.7, learning_rate=0.01, max_depth=9, min_child_weight=5, n_estimators=200, objective=reg:squarederror, subsample=0.7;, score=0.521 total time=  34.7s\n",
      "[CV 1/5] END colsample_bytree=0.5, learning_rate=0.5, max_depth=3, min_child_weight=1, n_estimators=100, objective=reg:squarederror, subsample=0.5;, score=0.491 total time=   3.3s\n",
      "[CV 2/5] END colsample_bytree=0.5, learning_rate=0.5, max_depth=3, min_child_weight=1, n_estimators=100, objective=reg:squarederror, subsample=0.5;, score=0.491 total time=   3.3s\n",
      "[CV 3/5] END colsample_bytree=0.5, learning_rate=0.5, max_depth=3, min_child_weight=1, n_estimators=100, objective=reg:squarederror, subsample=0.5;, score=0.487 total time=   3.2s\n",
      "[CV 4/5] END colsample_bytree=0.5, learning_rate=0.5, max_depth=3, min_child_weight=1, n_estimators=100, objective=reg:squarederror, subsample=0.5;, score=0.474 total time=   3.3s\n",
      "[CV 5/5] END colsample_bytree=0.5, learning_rate=0.5, max_depth=3, min_child_weight=1, n_estimators=100, objective=reg:squarederror, subsample=0.5;, score=0.513 total time=   3.2s\n",
      "[CV 1/5] END colsample_bytree=0.7, learning_rate=0.5, max_depth=3, min_child_weight=5, n_estimators=100, objective=reg:squarederror, subsample=0.5;, score=0.472 total time=   4.4s\n",
      "[CV 2/5] END colsample_bytree=0.7, learning_rate=0.5, max_depth=3, min_child_weight=5, n_estimators=100, objective=reg:squarederror, subsample=0.5;, score=0.496 total time=   4.4s\n",
      "[CV 3/5] END colsample_bytree=0.7, learning_rate=0.5, max_depth=3, min_child_weight=5, n_estimators=100, objective=reg:squarederror, subsample=0.5;, score=0.486 total time=   4.5s\n",
      "[CV 4/5] END colsample_bytree=0.7, learning_rate=0.5, max_depth=3, min_child_weight=5, n_estimators=100, objective=reg:squarederror, subsample=0.5;, score=0.491 total time=   4.7s\n",
      "[CV 5/5] END colsample_bytree=0.7, learning_rate=0.5, max_depth=3, min_child_weight=5, n_estimators=100, objective=reg:squarederror, subsample=0.5;, score=0.503 total time=   4.9s\n",
      "[CV 1/5] END colsample_bytree=0.7, learning_rate=0.1, max_depth=3, min_child_weight=3, n_estimators=50, objective=reg:squarederror, subsample=0.5;, score=0.464 total time=   2.3s\n",
      "[CV 2/5] END colsample_bytree=0.7, learning_rate=0.1, max_depth=3, min_child_weight=3, n_estimators=50, objective=reg:squarederror, subsample=0.5;, score=0.470 total time=   2.2s\n",
      "[CV 3/5] END colsample_bytree=0.7, learning_rate=0.1, max_depth=3, min_child_weight=3, n_estimators=50, objective=reg:squarederror, subsample=0.5;, score=0.462 total time=   2.3s\n",
      "[CV 4/5] END colsample_bytree=0.7, learning_rate=0.1, max_depth=3, min_child_weight=3, n_estimators=50, objective=reg:squarederror, subsample=0.5;, score=0.458 total time=   2.2s\n",
      "[CV 5/5] END colsample_bytree=0.7, learning_rate=0.1, max_depth=3, min_child_weight=3, n_estimators=50, objective=reg:squarederror, subsample=0.5;, score=0.484 total time=   2.3s\n",
      "[CV 1/5] END colsample_bytree=0.7, learning_rate=0.5, max_depth=7, min_child_weight=1, n_estimators=100, objective=reg:squarederror, subsample=0.5;, score=0.464 total time=  11.3s\n",
      "[CV 2/5] END colsample_bytree=0.7, learning_rate=0.5, max_depth=7, min_child_weight=1, n_estimators=100, objective=reg:squarederror, subsample=0.5;, score=0.496 total time=  10.8s\n",
      "[CV 3/5] END colsample_bytree=0.7, learning_rate=0.5, max_depth=7, min_child_weight=1, n_estimators=100, objective=reg:squarederror, subsample=0.5;, score=0.472 total time=  10.7s\n",
      "[CV 4/5] END colsample_bytree=0.7, learning_rate=0.5, max_depth=7, min_child_weight=1, n_estimators=100, objective=reg:squarederror, subsample=0.5;, score=0.476 total time=  10.7s\n",
      "[CV 5/5] END colsample_bytree=0.7, learning_rate=0.5, max_depth=7, min_child_weight=1, n_estimators=100, objective=reg:squarederror, subsample=0.5;, score=0.472 total time=  10.7s\n",
      "[CV 1/5] END colsample_bytree=0.5, learning_rate=0.3, max_depth=7, min_child_weight=5, n_estimators=200, objective=reg:squarederror, subsample=0.7;, score=0.489 total time=  19.3s\n",
      "[CV 2/5] END colsample_bytree=0.5, learning_rate=0.3, max_depth=7, min_child_weight=5, n_estimators=200, objective=reg:squarederror, subsample=0.7;, score=0.483 total time=  19.9s\n",
      "[CV 3/5] END colsample_bytree=0.5, learning_rate=0.3, max_depth=7, min_child_weight=5, n_estimators=200, objective=reg:squarederror, subsample=0.7;, score=0.508 total time=  18.8s\n",
      "[CV 4/5] END colsample_bytree=0.5, learning_rate=0.3, max_depth=7, min_child_weight=5, n_estimators=200, objective=reg:squarederror, subsample=0.7;, score=0.492 total time=  18.7s\n",
      "[CV 5/5] END colsample_bytree=0.5, learning_rate=0.3, max_depth=7, min_child_weight=5, n_estimators=200, objective=reg:squarederror, subsample=0.7;, score=0.518 total time=  18.6s\n",
      "[CV 1/5] END colsample_bytree=0.5, learning_rate=0.1, max_depth=9, min_child_weight=5, n_estimators=200, objective=reg:squarederror, subsample=0.5;, score=0.505 total time=  20.4s\n",
      "[CV 2/5] END colsample_bytree=0.5, learning_rate=0.1, max_depth=9, min_child_weight=5, n_estimators=200, objective=reg:squarederror, subsample=0.5;, score=0.498 total time=  20.2s\n",
      "[CV 3/5] END colsample_bytree=0.5, learning_rate=0.1, max_depth=9, min_child_weight=5, n_estimators=200, objective=reg:squarederror, subsample=0.5;, score=0.482 total time=  20.3s\n",
      "[CV 4/5] END colsample_bytree=0.5, learning_rate=0.1, max_depth=9, min_child_weight=5, n_estimators=200, objective=reg:squarederror, subsample=0.5;, score=0.485 total time=  20.0s\n",
      "[CV 5/5] END colsample_bytree=0.5, learning_rate=0.1, max_depth=9, min_child_weight=5, n_estimators=200, objective=reg:squarederror, subsample=0.5;, score=0.505 total time=  20.2s\n",
      "[CV 1/5] END colsample_bytree=0.7, learning_rate=0.01, max_depth=3, min_child_weight=1, n_estimators=50, objective=reg:squarederror, subsample=0.7;, score=0.368 total time=   2.7s\n",
      "[CV 2/5] END colsample_bytree=0.7, learning_rate=0.01, max_depth=3, min_child_weight=1, n_estimators=50, objective=reg:squarederror, subsample=0.7;, score=0.346 total time=   2.8s\n",
      "[CV 3/5] END colsample_bytree=0.7, learning_rate=0.01, max_depth=3, min_child_weight=1, n_estimators=50, objective=reg:squarederror, subsample=0.7;, score=0.363 total time=   2.9s\n",
      "[CV 4/5] END colsample_bytree=0.7, learning_rate=0.01, max_depth=3, min_child_weight=1, n_estimators=50, objective=reg:squarederror, subsample=0.7;, score=0.353 total time=   3.0s\n",
      "[CV 5/5] END colsample_bytree=0.7, learning_rate=0.01, max_depth=3, min_child_weight=1, n_estimators=50, objective=reg:squarederror, subsample=0.7;, score=0.360 total time=   2.7s\n",
      "[CV 1/5] END colsample_bytree=0.5, learning_rate=0.01, max_depth=7, min_child_weight=1, n_estimators=100, objective=reg:squarederror, subsample=0.7;, score=0.475 total time=   9.8s\n",
      "[CV 2/5] END colsample_bytree=0.5, learning_rate=0.01, max_depth=7, min_child_weight=1, n_estimators=100, objective=reg:squarederror, subsample=0.7;, score=0.451 total time=   9.8s\n",
      "[CV 3/5] END colsample_bytree=0.5, learning_rate=0.01, max_depth=7, min_child_weight=1, n_estimators=100, objective=reg:squarederror, subsample=0.7;, score=0.458 total time=   9.8s\n",
      "[CV 4/5] END colsample_bytree=0.5, learning_rate=0.01, max_depth=7, min_child_weight=1, n_estimators=100, objective=reg:squarederror, subsample=0.7;, score=0.446 total time=   9.7s\n",
      "[CV 5/5] END colsample_bytree=0.5, learning_rate=0.01, max_depth=7, min_child_weight=1, n_estimators=100, objective=reg:squarederror, subsample=0.7;, score=0.471 total time=   9.7s\n",
      "[CV 1/5] END colsample_bytree=0.5, learning_rate=0.3, max_depth=7, min_child_weight=1, n_estimators=500, objective=reg:squarederror, subsample=0.5;, score=0.460 total time=  37.0s\n",
      "[CV 2/5] END colsample_bytree=0.5, learning_rate=0.3, max_depth=7, min_child_weight=1, n_estimators=500, objective=reg:squarederror, subsample=0.5;, score=0.512 total time=  37.3s\n",
      "[CV 3/5] END colsample_bytree=0.5, learning_rate=0.3, max_depth=7, min_child_weight=1, n_estimators=500, objective=reg:squarederror, subsample=0.5;, score=0.494 total time=  36.0s\n",
      "[CV 4/5] END colsample_bytree=0.5, learning_rate=0.3, max_depth=7, min_child_weight=1, n_estimators=500, objective=reg:squarederror, subsample=0.5;, score=0.491 total time=  35.9s\n",
      "[CV 5/5] END colsample_bytree=0.5, learning_rate=0.3, max_depth=7, min_child_weight=1, n_estimators=500, objective=reg:squarederror, subsample=0.5;, score=0.497 total time=  35.8s\n",
      "Best parameters: {'subsample': 0.7, 'objective': 'reg:squarederror', 'n_estimators': 200, 'min_child_weight': 5, 'max_depth': 7, 'learning_rate': 0.3, 'colsample_bytree': 0.5} \n",
      "\n",
      "\n",
      "\n",
      "\n",
      "_______________________________________________________________________\n",
      "EVALUATION\n",
      "\n",
      "----- TRAIN -----\n",
      "\n",
      "Confusion matrix\n",
      " [[6413    7]\n",
      " [   5 5099]] \n",
      "\n",
      "Accuracy: 99.9 \n",
      "\n",
      "F1 Score: 99.9 \n",
      "\n",
      "Balanced accuracy: 99.9 \n",
      "\n",
      "AUC Score: 99.9 \n",
      "\n",
      "\n",
      "----- TEST -----\n",
      "\n",
      "Confusion matrix\n",
      " [[466 248]\n",
      " [295 258]] \n",
      "\n",
      "Accuracy: 57.1 \n",
      "\n",
      "F1 Score: 48.7 \n",
      "\n",
      "Balanced accuracy: 48.7 \n",
      "\n",
      "AUC Score: 56.0 \n",
      "\n",
      "_______________________________________________________________________\n"
     ]
    }
   ],
   "source": [
    "# Instantiate classifier\n",
    "classifier = XGBoostClassifier()\n",
    "\n",
    "# Perform randomized search over hyperparameters\n",
    "param_distributions = {\n",
    "    'learning_rate': [0.01, 0.1, 0.3, 0.5],\n",
    "    'max_depth': [3, 5, 7, 9],\n",
    "    'min_child_weight': [1, 3, 5],\n",
    "    'subsample': [0.5, 0.7],\n",
    "    'colsample_bytree': [0.5, 0.7],\n",
    "    'n_estimators': [50, 100, 200, 500],\n",
    "    'objective': ['reg:squarederror']\n",
    "}\n",
    "classifier.randomized_search(X_train_embeddings_word2vec, y_train, param_distributions)\n",
    "\n",
    "# Train classifier on training data\n",
    "classifier.fit(X_train_embeddings_word2vec, y_train)\n",
    "\n",
    "# Evaluate classifier\n",
    "print('\\n')\n",
    "print('\\n_______________________________________________________________________')\n",
    "print('EVALUATION')\n",
    "\n",
    "print('\\n----- TRAIN -----')\n",
    "cm_xgb_w2v_train, accuracy_xgb_w2v_train, f1_xgb_w2v_train, balaccuracy_xgb_w2v_train, rocauc_xgb_w2v_train = classifier.evaluate(X_train_embeddings_word2vec, y_train)\n",
    "\n",
    "print('\\n----- TEST -----')\n",
    "cm_xgb_w2v_test, accuracy_xgb_w2v_test, f1_xgb_w2v_test, balaccuracy_xgb_w2v_test, rocauc_xgb_w2v_test = classifier.evaluate(X_test_embeddings_word2vec, y_test)\n",
    "print('_______________________________________________________________________')"
   ]
  },
  {
   "cell_type": "code",
   "execution_count": 39,
   "metadata": {
    "collapsed": false,
    "jupyter": {
     "outputs_hidden": false
    }
   },
   "outputs": [],
   "source": [
    "cm_xgb_w2v_train_tosave = repr(cm_xgb_w2v_train)\n",
    "accuracy_xgb_w2v_train_tosave = repr(accuracy_xgb_w2v_train)\n",
    "f1_xgb_w2v_train_tosave = repr(f1_xgb_w2v_train)\n",
    "balaccuracy_xgb_w2v_train_tosave = repr(balaccuracy_xgb_w2v_train)\n",
    "rocauc_xgb_w2v_train_tosave = repr(rocauc_xgb_w2v_train)\n",
    "\n",
    "cm_xgb_w2v_test_tosave = repr(cm_xgb_w2v_test)\n",
    "accuracy_xgb_w2v_test_tosave = repr(accuracy_xgb_w2v_test)\n",
    "f1_xgb_w2v_test_tosave = repr(f1_xgb_w2v_test)\n",
    "balaccuracy_xgb_w2v_test_tosave = repr(balaccuracy_xgb_w2v_test)\n",
    "rocauc_xgb_w2v_test_tosave = repr(rocauc_xgb_w2v_test)\n",
    "\n",
    "\n",
    "file = open(\"results_split/xgb_w2v_\"+time.strftime(\"%Y%m%d-%H%M%S\")+\".txt\", \"w\")\n",
    "\n",
    "file.write(\"Train CM = \"+cm_xgb_w2v_train_tosave + \"\\n\" +\n",
    "           \"Train Accuracy = \" + accuracy_xgb_w2v_train_tosave + \"\\n\" +\n",
    "           \"Train F1 = \"+f1_xgb_w2v_train_tosave + \"\\n\"+\n",
    "           \"Train Balanced Accuracy = \"+balaccuracy_xgb_w2v_train_tosave + \"\\n\" +\n",
    "           \"Train ROCAUC = \"+rocauc_xgb_w2v_train_tosave + \"\\n\"+\n",
    "           \"Test CM = \"+cm_xgb_w2v_test_tosave + \"\\n\"+\n",
    "           \"Test Accuracy = \"+accuracy_xgb_w2v_test_tosave + \"\\n\"+\n",
    "           \"Test F1 = \"+f1_xgb_w2v_test_tosave + \"\\n\"+\n",
    "           \"Test Balanced Accuracy = \"+balaccuracy_xgb_w2v_test_tosave + \"\\n\"+\n",
    "           \"Test ROCAUC = \"+rocauc_xgb_w2v_test_tosave)\n",
    "\n",
    "file.close()"
   ]
  },
  {
   "cell_type": "markdown",
   "metadata": {},
   "source": [
    "### Word2Vec + Random Forest"
   ]
  },
  {
   "cell_type": "code",
   "execution_count": null,
   "metadata": {
    "ExecuteTime": {
     "end_time": "2023-05-22T01:01:50.494926763Z",
     "start_time": "2023-05-22T01:01:42.307473981Z"
    }
   },
   "outputs": [
    {
     "name": "stdout",
     "output_type": "stream",
     "text": [
      "Fitting 5 folds for each of 20 candidates, totalling 100 fits\n",
      "[CV 1/5] END bootstrap=True, max_depth=None, max_features=5, n_estimators=25;, score=0.446 total time=   1.1s\n",
      "[CV 2/5] END bootstrap=True, max_depth=None, max_features=5, n_estimators=25;, score=0.458 total time=   1.1s\n",
      "[CV 3/5] END bootstrap=True, max_depth=None, max_features=5, n_estimators=25;, score=0.480 total time=   1.1s\n",
      "[CV 4/5] END bootstrap=True, max_depth=None, max_features=5, n_estimators=25;, score=0.422 total time=   1.1s\n",
      "[CV 5/5] END bootstrap=True, max_depth=None, max_features=5, n_estimators=25;, score=0.471 total time=   1.1s\n",
      "[CV 1/5] END bootstrap=True, max_depth=10, max_features=5, n_estimators=10;, score=0.408 total time=   0.2s\n",
      "[CV 2/5] END bootstrap=True, max_depth=10, max_features=5, n_estimators=10;, score=0.421 total time=   0.2s\n",
      "[CV 3/5] END bootstrap=True, max_depth=10, max_features=5, n_estimators=10;, score=0.397 total time=   0.2s\n",
      "[CV 4/5] END bootstrap=True, max_depth=10, max_features=5, n_estimators=10;, score=0.406 total time=   0.2s\n",
      "[CV 5/5] END bootstrap=True, max_depth=10, max_features=5, n_estimators=10;, score=0.424 total time=   0.3s\n",
      "[CV 1/5] END bootstrap=True, max_depth=None, max_features=10, n_estimators=25;, score=0.449 total time=   2.2s\n",
      "[CV 2/5] END bootstrap=True, max_depth=None, max_features=10, n_estimators=25;, score=0.455 total time=   2.1s\n",
      "[CV 3/5] END bootstrap=True, max_depth=None, max_features=10, n_estimators=25;, score=0.474 total time=   2.1s\n",
      "[CV 4/5] END bootstrap=True, max_depth=None, max_features=10, n_estimators=25;, score=0.451 total time=   2.1s\n",
      "[CV 5/5] END bootstrap=True, max_depth=None, max_features=10, n_estimators=25;, score=0.469 total time=   2.1s\n",
      "[CV 1/5] END bootstrap=True, max_depth=50, max_features=10, n_estimators=10;, score=0.421 total time=   0.8s\n",
      "[CV 2/5] END bootstrap=True, max_depth=50, max_features=10, n_estimators=10;, score=0.386 total time=   0.8s\n",
      "[CV 3/5] END bootstrap=True, max_depth=50, max_features=10, n_estimators=10;, score=0.372 total time=   0.8s\n",
      "[CV 4/5] END bootstrap=True, max_depth=50, max_features=10, n_estimators=10;, score=0.393 total time=   0.8s\n",
      "[CV 5/5] END bootstrap=True, max_depth=50, max_features=10, n_estimators=10;, score=0.404 total time=   0.8s\n",
      "[CV 1/5] END bootstrap=False, max_depth=50, max_features=10, n_estimators=25;, score=0.474 total time=   2.1s\n",
      "[CV 2/5] END bootstrap=False, max_depth=50, max_features=10, n_estimators=25;, score=0.465 total time=   2.1s\n",
      "[CV 3/5] END bootstrap=False, max_depth=50, max_features=10, n_estimators=25;, score=0.457 total time=   2.0s\n",
      "[CV 4/5] END bootstrap=False, max_depth=50, max_features=10, n_estimators=25;, score=0.457 total time=   2.1s\n",
      "[CV 5/5] END bootstrap=False, max_depth=50, max_features=10, n_estimators=25;, score=0.494 total time=   2.1s\n",
      "[CV 1/5] END bootstrap=False, max_depth=10, max_features=10, n_estimators=10;, score=0.446 total time=   0.5s\n",
      "[CV 2/5] END bootstrap=False, max_depth=10, max_features=10, n_estimators=10;, score=0.421 total time=   0.5s\n",
      "[CV 3/5] END bootstrap=False, max_depth=10, max_features=10, n_estimators=10;, score=0.438 total time=   0.5s\n",
      "[CV 4/5] END bootstrap=False, max_depth=10, max_features=10, n_estimators=10;, score=0.431 total time=   0.5s\n",
      "[CV 5/5] END bootstrap=False, max_depth=10, max_features=10, n_estimators=10;, score=0.441 total time=   0.5s\n",
      "[CV 1/5] END bootstrap=True, max_depth=50, max_features=5, n_estimators=10;, score=0.402 total time=   0.4s\n",
      "[CV 2/5] END bootstrap=True, max_depth=50, max_features=5, n_estimators=10;, score=0.374 total time=   0.4s\n",
      "[CV 3/5] END bootstrap=True, max_depth=50, max_features=5, n_estimators=10;, score=0.376 total time=   0.4s\n",
      "[CV 4/5] END bootstrap=True, max_depth=50, max_features=5, n_estimators=10;, score=0.399 total time=   0.4s\n",
      "[CV 5/5] END bootstrap=True, max_depth=50, max_features=5, n_estimators=10;, score=0.395 total time=   0.4s\n",
      "[CV 1/5] END bootstrap=False, max_depth=50, max_features=5, n_estimators=10;, score=0.384 total time=   0.4s\n",
      "[CV 2/5] END bootstrap=False, max_depth=50, max_features=5, n_estimators=10;, score=0.428 total time=   0.4s\n",
      "[CV 3/5] END bootstrap=False, max_depth=50, max_features=5, n_estimators=10;, score=0.435 total time=   0.4s\n",
      "[CV 4/5] END bootstrap=False, max_depth=50, max_features=5, n_estimators=10;, score=0.405 total time=   0.4s\n",
      "[CV 5/5] END bootstrap=False, max_depth=50, max_features=5, n_estimators=10;, score=0.400 total time=   0.4s\n",
      "[CV 1/5] END bootstrap=False, max_depth=10, max_features=10, n_estimators=25;, score=0.444 total time=   1.5s\n",
      "[CV 2/5] END bootstrap=False, max_depth=10, max_features=10, n_estimators=25;, score=0.424 total time=   1.5s\n",
      "[CV 3/5] END bootstrap=False, max_depth=10, max_features=10, n_estimators=25;, score=0.424 total time=   1.5s\n",
      "[CV 4/5] END bootstrap=False, max_depth=10, max_features=10, n_estimators=25;, score=0.430 total time=   1.5s\n",
      "[CV 5/5] END bootstrap=False, max_depth=10, max_features=10, n_estimators=25;, score=0.440 total time=   1.5s\n",
      "[CV 1/5] END bootstrap=True, max_depth=10, max_features=10, n_estimators=25;, score=0.445 total time=   1.5s\n",
      "[CV 2/5] END bootstrap=True, max_depth=10, max_features=10, n_estimators=25;, score=0.413 total time=   1.5s\n",
      "[CV 3/5] END bootstrap=True, max_depth=10, max_features=10, n_estimators=25;, score=0.404 total time=   1.5s\n",
      "[CV 4/5] END bootstrap=True, max_depth=10, max_features=10, n_estimators=25;, score=0.431 total time=   1.4s\n",
      "[CV 5/5] END bootstrap=True, max_depth=10, max_features=10, n_estimators=25;, score=0.439 total time=   1.6s\n",
      "[CV 1/5] END bootstrap=False, max_depth=50, max_features=10, n_estimators=10;, score=0.390 total time=   0.8s\n",
      "[CV 2/5] END bootstrap=False, max_depth=50, max_features=10, n_estimators=10;, score=0.407 total time=   0.8s\n",
      "[CV 3/5] END bootstrap=False, max_depth=50, max_features=10, n_estimators=10;, score=0.410 total time=   0.8s\n",
      "[CV 4/5] END bootstrap=False, max_depth=50, max_features=10, n_estimators=10;, score=0.391 total time=   0.8s\n",
      "[CV 5/5] END bootstrap=False, max_depth=50, max_features=10, n_estimators=10;, score=0.421 total time=   0.8s\n",
      "[CV 1/5] END bootstrap=False, max_depth=None, max_features=10, n_estimators=10;, score=0.402 total time=   0.8s\n",
      "[CV 2/5] END bootstrap=False, max_depth=None, max_features=10, n_estimators=10;, score=0.398 total time=   0.8s\n",
      "[CV 3/5] END bootstrap=False, max_depth=None, max_features=10, n_estimators=10;, score=0.397 total time=   0.8s\n",
      "[CV 4/5] END bootstrap=False, max_depth=None, max_features=10, n_estimators=10;, score=0.407 total time=   0.8s\n",
      "[CV 5/5] END bootstrap=False, max_depth=None, max_features=10, n_estimators=10;, score=0.441 total time=   0.8s\n",
      "[CV 1/5] END bootstrap=True, max_depth=50, max_features=5, n_estimators=25;, score=0.461 total time=   1.2s\n",
      "[CV 2/5] END bootstrap=True, max_depth=50, max_features=5, n_estimators=25;, score=0.460 total time=   1.1s\n",
      "[CV 3/5] END bootstrap=True, max_depth=50, max_features=5, n_estimators=25;, score=0.455 total time=   1.1s\n",
      "[CV 4/5] END bootstrap=True, max_depth=50, max_features=5, n_estimators=25;, score=0.455 total time=   1.1s\n",
      "[CV 5/5] END bootstrap=True, max_depth=50, max_features=5, n_estimators=25;, score=0.454 total time=   1.1s\n",
      "[CV 1/5] END bootstrap=False, max_depth=50, max_features=5, n_estimators=25;, score=0.469 total time=   1.1s\n",
      "[CV 2/5] END bootstrap=False, max_depth=50, max_features=5, n_estimators=25;, score=0.449 total time=   1.1s\n",
      "[CV 3/5] END bootstrap=False, max_depth=50, max_features=5, n_estimators=25;, score=0.480 total time=   1.1s\n",
      "[CV 4/5] END bootstrap=False, max_depth=50, max_features=5, n_estimators=25;, score=0.453 total time=   1.1s\n",
      "[CV 5/5] END bootstrap=False, max_depth=50, max_features=5, n_estimators=25;, score=0.458 total time=   1.1s\n",
      "[CV 1/5] END bootstrap=False, max_depth=None, max_features=10, n_estimators=25;, score=0.437 total time=   2.1s\n",
      "[CV 2/5] END bootstrap=False, max_depth=None, max_features=10, n_estimators=25;, score=0.465 total time=   2.1s\n",
      "[CV 3/5] END bootstrap=False, max_depth=None, max_features=10, n_estimators=25;, score=0.473 total time=   2.1s\n",
      "[CV 4/5] END bootstrap=False, max_depth=None, max_features=10, n_estimators=25;, score=0.440 total time=   2.1s\n",
      "[CV 5/5] END bootstrap=False, max_depth=None, max_features=10, n_estimators=25;, score=0.469 total time=   2.1s\n",
      "[CV 1/5] END bootstrap=True, max_depth=None, max_features=10, n_estimators=10;, score=0.412 total time=   0.8s\n",
      "[CV 2/5] END bootstrap=True, max_depth=None, max_features=10, n_estimators=10;, score=0.376 total time=   0.8s\n",
      "[CV 3/5] END bootstrap=True, max_depth=None, max_features=10, n_estimators=10;, score=0.393 total time=   0.9s\n",
      "[CV 4/5] END bootstrap=True, max_depth=None, max_features=10, n_estimators=10;, score=0.393 total time=   0.8s\n",
      "[CV 5/5] END bootstrap=True, max_depth=None, max_features=10, n_estimators=10;, score=0.427 total time=   0.8s\n",
      "[CV 1/5] END bootstrap=True, max_depth=10, max_features=10, n_estimators=10;, score=0.444 total time=   0.5s\n",
      "[CV 2/5] END bootstrap=True, max_depth=10, max_features=10, n_estimators=10;, score=0.405 total time=   0.5s\n",
      "[CV 3/5] END bootstrap=True, max_depth=10, max_features=10, n_estimators=10;, score=0.448 total time=   0.5s\n",
      "[CV 4/5] END bootstrap=True, max_depth=10, max_features=10, n_estimators=10;, score=0.454 total time=   0.5s\n",
      "[CV 5/5] END bootstrap=True, max_depth=10, max_features=10, n_estimators=10;, score=0.447 total time=   0.5s\n",
      "[CV 1/5] END bootstrap=True, max_depth=50, max_features=10, n_estimators=25;, score=0.457 total time=   2.2s\n",
      "[CV 2/5] END bootstrap=True, max_depth=50, max_features=10, n_estimators=25;, score=0.465 total time=   2.1s\n",
      "[CV 3/5] END bootstrap=True, max_depth=50, max_features=10, n_estimators=25;, score=0.464 total time=   2.1s\n",
      "[CV 4/5] END bootstrap=True, max_depth=50, max_features=10, n_estimators=25;, score=0.454 total time=   2.1s\n",
      "[CV 5/5] END bootstrap=True, max_depth=50, max_features=10, n_estimators=25;, score=0.458 total time=   2.1s\n",
      "[CV 1/5] END bootstrap=False, max_depth=10, max_features=5, n_estimators=10;, score=0.437 total time=   0.3s\n",
      "[CV 2/5] END bootstrap=False, max_depth=10, max_features=5, n_estimators=10;, score=0.424 total time=   0.3s\n",
      "[CV 3/5] END bootstrap=False, max_depth=10, max_features=5, n_estimators=10;, score=0.410 total time=   0.3s\n",
      "[CV 4/5] END bootstrap=False, max_depth=10, max_features=5, n_estimators=10;, score=0.421 total time=   0.2s\n",
      "[CV 5/5] END bootstrap=False, max_depth=10, max_features=5, n_estimators=10;, score=0.447 total time=   0.2s\n",
      "[CV 1/5] END bootstrap=False, max_depth=10, max_features=5, n_estimators=25;, score=0.393 total time=   0.7s\n",
      "[CV 2/5] END bootstrap=False, max_depth=10, max_features=5, n_estimators=25;, score=0.402 total time=   0.7s\n",
      "[CV 3/5] END bootstrap=False, max_depth=10, max_features=5, n_estimators=25;, score=0.400 total time=   0.7s\n",
      "[CV 4/5] END bootstrap=False, max_depth=10, max_features=5, n_estimators=25;, score=0.401 total time=   0.7s\n",
      "[CV 5/5] END bootstrap=False, max_depth=10, max_features=5, n_estimators=25;, score=0.426 total time=   0.7s\n",
      "Best parameters: {'n_estimators': 25, 'max_features': 10, 'max_depth': 50, 'bootstrap': False} \n",
      "\n"
     ]
    },
    {
     "name": "stderr",
     "output_type": "stream",
     "text": [
      "[Parallel(n_jobs=1)]: Using backend SequentialBackend with 1 concurrent workers.\n"
     ]
    },
    {
     "name": "stdout",
     "output_type": "stream",
     "text": [
      "\n",
      "\n",
      "\n",
      "_______________________________________________________________________\n",
      "EVALUATION\n",
      "\n",
      "----- TRAIN -----\n",
      "\n",
      "Confusion matrix\n",
      " [[6416    4]\n",
      " [   8 5096]] \n",
      "\n",
      "Accuracy: 99.9 \n",
      "\n",
      "F1 Score: 99.9 \n",
      "\n",
      "Balanced accuracy: 99.9 \n",
      "\n",
      "AUC Score: 99.9 \n",
      "\n",
      "\n",
      "----- TEST -----\n",
      "\n",
      "Confusion matrix\n",
      " [[500 214]\n",
      " [320 233]] \n",
      "\n",
      "Accuracy: 57.9 \n",
      "\n",
      "F1 Score: 46.6 \n",
      "\n",
      "Balanced accuracy: 46.6 \n",
      "\n",
      "AUC Score: 56.1 \n",
      "\n",
      "_______________________________________________________________________\n"
     ]
    },
    {
     "name": "stderr",
     "output_type": "stream",
     "text": [
      "[Parallel(n_jobs=1)]: Done  25 out of  25 | elapsed:    2.8s finished\n",
      "[Parallel(n_jobs=1)]: Using backend SequentialBackend with 1 concurrent workers.\n",
      "[Parallel(n_jobs=1)]: Done  25 out of  25 | elapsed:    0.0s finished\n",
      "[Parallel(n_jobs=1)]: Using backend SequentialBackend with 1 concurrent workers.\n",
      "[Parallel(n_jobs=1)]: Done  25 out of  25 | elapsed:    0.0s finished\n"
     ]
    }
   ],
   "source": [
    "# Instantiate classifier\n",
    "classifier = RFClassifier()\n",
    "\n",
    "# Perform randomized search over hyperparameters\n",
    "param_distributions = {\n",
    "    'n_estimators': [10, 25],\n",
    "    'max_features': [5, 10],\n",
    "    'max_depth': [10, 50, None],\n",
    "    'bootstrap': [True, False]\n",
    "}\n",
    "classifier.randomized_search(X_train_embeddings_word2vec, y_train, param_distributions)\n",
    "\n",
    "# Train classifier on training data\n",
    "classifier.fit(X_train_embeddings_word2vec, y_train)\n",
    "\n",
    "# Evaluate classifier\n",
    "print('\\n')\n",
    "print('\\n_______________________________________________________________________')\n",
    "print('EVALUATION')\n",
    "\n",
    "print('\\n----- TRAIN -----')\n",
    "cm_rf_w2v_train, accuracy_rf_w2v_train, f1_rf_w2v_train, balaccuracy_rf_w2v_train, rocauc_rf_w2v_train = classifier.evaluate(X_train_embeddings_word2vec, y_train)\n",
    "\n",
    "print('\\n----- TEST -----')\n",
    "cm_rf_w2v_test, accuracy_rf_w2v_test, f1_rf_w2v_test, balaccuracy_rf_w2v_test, rocauc_rf_w2v_test = classifier.evaluate(X_test_embeddings_word2vec, y_test)\n",
    "print('_______________________________________________________________________')"
   ]
  },
  {
   "cell_type": "code",
   "execution_count": null,
   "metadata": {
    "collapsed": false,
    "jupyter": {
     "outputs_hidden": false
    }
   },
   "outputs": [],
   "source": [
    "cm_rf_w2v_train_tosave = repr(cm_rf_w2v_train)\n",
    "accuracy_rf_w2v_train_tosave = repr(accuracy_rf_w2v_train)\n",
    "f1_rf_w2v_train_tosave = repr(f1_rf_w2v_train)\n",
    "balaccuracy_rf_w2v_train_tosave = repr(balaccuracy_rf_w2v_train)\n",
    "rocauc_rf_w2v_train_tosave = repr(rocauc_rf_w2v_train)\n",
    "\n",
    "cm_rf_w2v_test_tosave = repr(cm_rf_w2v_test)\n",
    "accuracy_rf_w2v_test_tosave = repr(accuracy_rf_w2v_test)\n",
    "f1_rf_w2v_test_tosave = repr(f1_rf_w2v_test)\n",
    "balaccuracy_rf_w2v_test_tosave = repr(balaccuracy_rf_w2v_test)\n",
    "rocauc_rf_w2v_test_tosave = repr(rocauc_rf_w2v_test)\n",
    "\n",
    "\n",
    "file = open(\"results_split/rf_w2v_\"+time.strftime(\"%Y%m%d-%H%M%S\")+\".txt\", \"w\")\n",
    "\n",
    "file.write(\"Train CM = \"+cm_rf_w2v_train_tosave + \"\\n\" +\n",
    "           \"Train Accuracy = \" + accuracy_rf_w2v_train_tosave + \"\\n\" +\n",
    "           \"Train F1 = \"+f1_rf_w2v_train_tosave + \"\\n\"+\n",
    "           \"Train Balanced Accuracy = \"+balaccuracy_rf_w2v_train_tosave + \"\\n\" +\n",
    "           \"Train ROCAUC = \"+rocauc_rf_w2v_train_tosave + \"\\n\"+\n",
    "           \"Test CM = \"+cm_rf_w2v_test_tosave + \"\\n\"+\n",
    "           \"Test Accuracy = \"+accuracy_rf_w2v_test_tosave + \"\\n\"+\n",
    "           \"Test F1 = \"+f1_rf_w2v_test_tosave + \"\\n\"+\n",
    "           \"Test Balanced Accuracy = \"+balaccuracy_rf_w2v_test_tosave + \"\\n\"+\n",
    "           \"Test ROCAUC = \"+rocauc_rf_w2v_test_tosave)\n",
    "\n",
    "file.close()"
   ]
  },
  {
   "cell_type": "markdown",
   "metadata": {},
   "source": [
    "### Word2Vec + SVC"
   ]
  },
  {
   "cell_type": "code",
   "execution_count": null,
   "metadata": {
    "ExecuteTime": {
     "end_time": "2023-05-22T01:03:31.197761231Z",
     "start_time": "2023-05-22T01:01:50.494732024Z"
    }
   },
   "outputs": [
    {
     "name": "stderr",
     "output_type": "stream",
     "text": [
      "C:\\Users\\Wesub\\anaconda3\\lib\\site-packages\\sklearn\\model_selection\\_search.py:305: UserWarning: The total space of parameters 16 is smaller than n_iter=20. Running 16 iterations. For exhaustive searches, use GridSearchCV.\n",
      "  warnings.warn(\n"
     ]
    },
    {
     "name": "stdout",
     "output_type": "stream",
     "text": [
      "Fitting 5 folds for each of 16 candidates, totalling 80 fits\n",
      "[CV 1/5] END ...C=1, gamma=scale, kernel=linear;, score=0.492 total time=  11.8s\n",
      "[CV 2/5] END ...C=1, gamma=scale, kernel=linear;, score=0.486 total time=  11.6s\n",
      "[CV 3/5] END ...C=1, gamma=scale, kernel=linear;, score=0.495 total time=  11.7s\n",
      "[CV 4/5] END ...C=1, gamma=scale, kernel=linear;, score=0.495 total time=  11.4s\n",
      "[CV 5/5] END ...C=1, gamma=scale, kernel=linear;, score=0.498 total time=  11.7s\n",
      "[CV 1/5] END .....C=1, gamma=scale, kernel=poly;, score=0.465 total time=  12.8s\n",
      "[CV 2/5] END .....C=1, gamma=scale, kernel=poly;, score=0.456 total time=  12.7s\n",
      "[CV 3/5] END .....C=1, gamma=scale, kernel=poly;, score=0.450 total time=  12.7s\n",
      "[CV 4/5] END .....C=1, gamma=scale, kernel=poly;, score=0.463 total time=  12.3s\n",
      "[CV 5/5] END .....C=1, gamma=scale, kernel=poly;, score=0.449 total time=  12.4s\n",
      "[CV 1/5] END ......C=1, gamma=scale, kernel=rbf;, score=0.518 total time=  14.7s\n",
      "[CV 2/5] END ......C=1, gamma=scale, kernel=rbf;, score=0.504 total time=  14.9s\n",
      "[CV 3/5] END ......C=1, gamma=scale, kernel=rbf;, score=0.528 total time=  14.8s\n",
      "[CV 4/5] END ......C=1, gamma=scale, kernel=rbf;, score=0.510 total time=  14.8s\n",
      "[CV 5/5] END ......C=1, gamma=scale, kernel=rbf;, score=0.530 total time=  14.9s\n",
      "[CV 1/5] END ..C=1, gamma=scale, kernel=sigmoid;, score=0.476 total time=  10.5s\n",
      "[CV 2/5] END ..C=1, gamma=scale, kernel=sigmoid;, score=0.489 total time=  10.7s\n",
      "[CV 3/5] END ..C=1, gamma=scale, kernel=sigmoid;, score=0.468 total time=  10.5s\n",
      "[CV 4/5] END ..C=1, gamma=scale, kernel=sigmoid;, score=0.473 total time=  10.7s\n",
      "[CV 5/5] END ..C=1, gamma=scale, kernel=sigmoid;, score=0.475 total time=  10.6s\n",
      "[CV 1/5] END ..C=10, gamma=scale, kernel=linear;, score=0.494 total time=  15.1s\n",
      "[CV 2/5] END ..C=10, gamma=scale, kernel=linear;, score=0.484 total time=  15.1s\n",
      "[CV 3/5] END ..C=10, gamma=scale, kernel=linear;, score=0.501 total time=  15.3s\n",
      "[CV 4/5] END ..C=10, gamma=scale, kernel=linear;, score=0.503 total time=  15.0s\n",
      "[CV 5/5] END ..C=10, gamma=scale, kernel=linear;, score=0.508 total time=  15.2s\n",
      "[CV 1/5] END ....C=10, gamma=scale, kernel=poly;, score=0.517 total time=  28.3s\n",
      "[CV 2/5] END ....C=10, gamma=scale, kernel=poly;, score=0.510 total time=  28.1s\n",
      "[CV 3/5] END ....C=10, gamma=scale, kernel=poly;, score=0.505 total time=  28.2s\n",
      "[CV 4/5] END ....C=10, gamma=scale, kernel=poly;, score=0.520 total time=  26.9s\n",
      "[CV 5/5] END ....C=10, gamma=scale, kernel=poly;, score=0.532 total time=  28.4s\n",
      "[CV 1/5] END .....C=10, gamma=scale, kernel=rbf;, score=0.524 total time=  33.0s\n",
      "[CV 2/5] END .....C=10, gamma=scale, kernel=rbf;, score=0.523 total time=  37.3s\n",
      "[CV 3/5] END .....C=10, gamma=scale, kernel=rbf;, score=0.512 total time=  35.4s\n",
      "[CV 4/5] END .....C=10, gamma=scale, kernel=rbf;, score=0.537 total time=  35.4s\n",
      "[CV 5/5] END .....C=10, gamma=scale, kernel=rbf;, score=0.541 total time=  35.5s\n",
      "[CV 1/5] END .C=10, gamma=scale, kernel=sigmoid;, score=0.471 total time=   7.1s\n",
      "[CV 2/5] END .C=10, gamma=scale, kernel=sigmoid;, score=0.481 total time=   7.4s\n",
      "[CV 3/5] END .C=10, gamma=scale, kernel=sigmoid;, score=0.470 total time=   7.5s\n",
      "[CV 4/5] END .C=10, gamma=scale, kernel=sigmoid;, score=0.459 total time=   7.6s\n",
      "[CV 5/5] END .C=10, gamma=scale, kernel=sigmoid;, score=0.466 total time=   7.6s\n",
      "[CV 1/5] END .C=100, gamma=scale, kernel=linear;, score=0.496 total time=  40.3s\n",
      "[CV 2/5] END .C=100, gamma=scale, kernel=linear;, score=0.484 total time=  38.8s\n",
      "[CV 3/5] END .C=100, gamma=scale, kernel=linear;, score=0.501 total time=  39.7s\n",
      "[CV 4/5] END .C=100, gamma=scale, kernel=linear;, score=0.508 total time=  38.7s\n",
      "[CV 5/5] END .C=100, gamma=scale, kernel=linear;, score=0.515 total time=  39.4s\n",
      "[CV 1/5] END ...C=100, gamma=scale, kernel=poly;, score=0.521 total time=  36.2s\n",
      "[CV 2/5] END ...C=100, gamma=scale, kernel=poly;, score=0.514 total time=  34.6s\n",
      "[CV 3/5] END ...C=100, gamma=scale, kernel=poly;, score=0.515 total time=  34.2s\n",
      "[CV 4/5] END ...C=100, gamma=scale, kernel=poly;, score=0.511 total time=  36.3s\n",
      "[CV 5/5] END ...C=100, gamma=scale, kernel=poly;, score=0.544 total time=  35.6s\n",
      "[CV 1/5] END ....C=100, gamma=scale, kernel=rbf;, score=0.528 total time=  53.9s\n",
      "[CV 2/5] END ....C=100, gamma=scale, kernel=rbf;, score=0.520 total time=  53.8s\n",
      "[CV 3/5] END ....C=100, gamma=scale, kernel=rbf;, score=0.522 total time=  52.2s\n",
      "[CV 4/5] END ....C=100, gamma=scale, kernel=rbf;, score=0.518 total time=  53.7s\n",
      "[CV 5/5] END ....C=100, gamma=scale, kernel=rbf;, score=0.547 total time=  55.0s\n",
      "[CV 1/5] END C=100, gamma=scale, kernel=sigmoid;, score=0.468 total time=   6.9s\n",
      "[CV 2/5] END C=100, gamma=scale, kernel=sigmoid;, score=0.474 total time=   7.2s\n",
      "[CV 3/5] END C=100, gamma=scale, kernel=sigmoid;, score=0.475 total time=   7.0s\n",
      "[CV 4/5] END C=100, gamma=scale, kernel=sigmoid;, score=0.460 total time=   7.0s\n",
      "[CV 5/5] END C=100, gamma=scale, kernel=sigmoid;, score=0.465 total time=   7.1s\n",
      "[CV 1/5] END C=1000, gamma=scale, kernel=linear;, score=0.497 total time= 4.7min\n",
      "[CV 2/5] END C=1000, gamma=scale, kernel=linear;, score=0.484 total time= 4.2min\n",
      "[CV 3/5] END C=1000, gamma=scale, kernel=linear;, score=0.503 total time= 4.4min\n",
      "[CV 4/5] END C=1000, gamma=scale, kernel=linear;, score=0.507 total time= 4.0min\n",
      "[CV 5/5] END C=1000, gamma=scale, kernel=linear;, score=0.517 total time= 4.4min\n",
      "[CV 1/5] END ..C=1000, gamma=scale, kernel=poly;, score=0.518 total time=  34.9s\n",
      "[CV 2/5] END ..C=1000, gamma=scale, kernel=poly;, score=0.517 total time=  35.7s\n",
      "[CV 3/5] END ..C=1000, gamma=scale, kernel=poly;, score=0.513 total time=  35.7s\n",
      "[CV 4/5] END ..C=1000, gamma=scale, kernel=poly;, score=0.512 total time=  34.7s\n",
      "[CV 5/5] END ..C=1000, gamma=scale, kernel=poly;, score=0.536 total time=  35.3s\n",
      "[CV 1/5] END ...C=1000, gamma=scale, kernel=rbf;, score=0.528 total time=  54.0s\n",
      "[CV 2/5] END ...C=1000, gamma=scale, kernel=rbf;, score=0.521 total time=  53.6s\n",
      "[CV 3/5] END ...C=1000, gamma=scale, kernel=rbf;, score=0.522 total time=  53.2s\n",
      "[CV 4/5] END ...C=1000, gamma=scale, kernel=rbf;, score=0.518 total time=  53.9s\n",
      "[CV 5/5] END ...C=1000, gamma=scale, kernel=rbf;, score=0.545 total time=  54.8s\n",
      "[CV 1/5] END C=1000, gamma=scale, kernel=sigmoid;, score=0.475 total time=   7.0s\n",
      "[CV 2/5] END C=1000, gamma=scale, kernel=sigmoid;, score=0.477 total time=   7.1s\n",
      "[CV 3/5] END C=1000, gamma=scale, kernel=sigmoid;, score=0.475 total time=   7.0s\n",
      "[CV 4/5] END C=1000, gamma=scale, kernel=sigmoid;, score=0.466 total time=   6.6s\n",
      "[CV 5/5] END C=1000, gamma=scale, kernel=sigmoid;, score=0.470 total time=   7.0s\n",
      "Best parameters: {'kernel': 'rbf', 'gamma': 'scale', 'C': 10} \n",
      "\n",
      "[LibSVM]\n",
      "\n",
      "\n",
      "_______________________________________________________________________\n",
      "EVALUATION\n",
      "\n",
      "----- TRAIN -----\n",
      "\n",
      "Confusion matrix\n",
      " [[6378   42]\n",
      " [ 120 4984]] \n",
      "\n",
      "Accuracy: 98.6 \n",
      "\n",
      "F1 Score: 98.4 \n",
      "\n",
      "Balanced accuracy: 98.4 \n",
      "\n",
      "AUC Score: 98.5 \n",
      "\n",
      "\n",
      "----- TEST -----\n",
      "\n",
      "Confusion matrix\n",
      " [[483 231]\n",
      " [270 283]] \n",
      "\n",
      "Accuracy: 60.5 \n",
      "\n",
      "F1 Score: 53.0 \n",
      "\n",
      "Balanced accuracy: 53.0 \n",
      "\n",
      "AUC Score: 59.4 \n",
      "\n",
      "_______________________________________________________________________\n"
     ]
    }
   ],
   "source": [
    "# Instantiate classifier\n",
    "classifier = SVClassifier()\n",
    "\n",
    "# Perform randomized search over hyperparameters\n",
    "param_distributions = {\n",
    "    'C': [1, 10, 100, 1000],\n",
    "    'kernel': ['linear', 'poly', 'rbf', 'sigmoid'],\n",
    "    'gamma': ['scale']\n",
    "    #'gamma': [0.1, 0.2, 0.3, 0.4, 0.5, 0.6, 0.7, 0.8, 0.9]\n",
    "}\n",
    "classifier.randomized_search(X_train_embeddings_word2vec, y_train, param_distributions)\n",
    "\n",
    "# Train classifier on training data\n",
    "classifier.fit(X_train_embeddings_word2vec, y_train)\n",
    "\n",
    "# Evaluate classifier\n",
    "print('\\n')\n",
    "print('\\n_______________________________________________________________________')\n",
    "print('EVALUATION')\n",
    "\n",
    "print('\\n----- TRAIN -----')\n",
    "cm_svc_w2v_train, accuracy_svc_w2v_train, f1_svc_w2v_train, balaccuracy_svc_w2v_train, rocauc_svc_w2v_train = classifier.evaluate(X_train_embeddings_word2vec, y_train)\n",
    "\n",
    "print('\\n----- TEST -----')\n",
    "cm_svc_w2v_test, accuracy_svc_w2v_test, f1_svc_w2v_test, balaccuracy_svc_w2v_test, rocauc_svc_w2v_test = classifier.evaluate(X_test_embeddings_word2vec, y_test)\n",
    "print('_______________________________________________________________________')"
   ]
  },
  {
   "cell_type": "code",
   "execution_count": null,
   "metadata": {
    "collapsed": false,
    "jupyter": {
     "outputs_hidden": false
    }
   },
   "outputs": [],
   "source": [
    "cm_svc_w2v_train_tosave = repr(cm_svc_w2v_train)\n",
    "accuracy_svc_w2v_train_tosave = repr(accuracy_svc_w2v_train)\n",
    "f1_svc_w2v_train_tosave = repr(f1_svc_w2v_train)\n",
    "balaccuracy_svc_w2v_train_tosave = repr(balaccuracy_svc_w2v_train)\n",
    "rocauc_svc_w2v_train_tosave = repr(rocauc_svc_w2v_train)\n",
    "\n",
    "cm_svc_w2v_test_tosave = repr(cm_svc_w2v_test)\n",
    "accuracy_svc_w2v_test_tosave = repr(accuracy_svc_w2v_test)\n",
    "f1_svc_w2v_test_tosave = repr(f1_svc_w2v_test)\n",
    "balaccuracy_svc_w2v_test_tosave = repr(balaccuracy_svc_w2v_test)\n",
    "rocauc_svc_w2v_test_tosave = repr(rocauc_svc_w2v_test)\n",
    "\n",
    "\n",
    "file = open(\"results_split/svc_w2v_\"+time.strftime(\"%Y%m%d-%H%M%S\")+\".txt\", \"w\")\n",
    "\n",
    "file.write(\"Train CM = \"+cm_svc_w2v_train_tosave + \"\\n\" +\n",
    "           \"Train Accuracy = \" + accuracy_svc_w2v_train_tosave + \"\\n\" +\n",
    "           \"Train F1 = \"+f1_svc_w2v_train_tosave + \"\\n\"+\n",
    "           \"Train Balanced Accuracy = \"+balaccuracy_svc_w2v_train_tosave + \"\\n\" +\n",
    "           \"Train ROCAUC = \"+rocauc_svc_w2v_train_tosave + \"\\n\"+\n",
    "           \"Test CM = \"+cm_svc_w2v_test_tosave + \"\\n\"+\n",
    "           \"Test Accuracy = \"+accuracy_svc_w2v_test_tosave + \"\\n\"+\n",
    "           \"Test F1 = \"+f1_svc_w2v_test_tosave + \"\\n\"+\n",
    "           \"Test Balanced Accuracy = \"+balaccuracy_svc_w2v_test_tosave + \"\\n\"+\n",
    "           \"Test ROCAUC = \"+rocauc_svc_w2v_test_tosave)\n",
    "\n",
    "file.close()"
   ]
  },
  {
   "cell_type": "markdown",
   "metadata": {},
   "source": [
    "### Word2Vec + Logistic Regression"
   ]
  },
  {
   "cell_type": "code",
   "execution_count": null,
   "metadata": {
    "ExecuteTime": {
     "end_time": "2023-05-22T01:03:36.298464070Z",
     "start_time": "2023-05-22T01:03:31.200979988Z"
    }
   },
   "outputs": [
    {
     "name": "stdout",
     "output_type": "stream",
     "text": [
      "Fitting 5 folds for each of 20 candidates, totalling 100 fits\n",
      "[CV 1/5] END C=0.8300000000000001, penalty=l1, solver=saga;, score=0.508 total time=   0.5s\n",
      "[CV 2/5] END C=0.8300000000000001, penalty=l1, solver=saga;, score=0.486 total time=   0.5s\n",
      "[CV 3/5] END C=0.8300000000000001, penalty=l1, solver=saga;, score=0.506 total time=   0.5s\n",
      "[CV 4/5] END C=0.8300000000000001, penalty=l1, solver=saga;, score=0.499 total time=   0.6s\n",
      "[CV 5/5] END C=0.8300000000000001, penalty=l1, solver=saga;, score=0.507 total time=   0.6s\n",
      "[CV 1/5] END ....C=0.81, penalty=l1, solver=lbfgs;, score=nan total time=   0.0s\n",
      "[CV 2/5] END ....C=0.81, penalty=l1, solver=lbfgs;, score=nan total time=   0.0s\n",
      "[CV 3/5] END ....C=0.81, penalty=l1, solver=lbfgs;, score=nan total time=   0.0s\n",
      "[CV 4/5] END ....C=0.81, penalty=l1, solver=lbfgs;, score=nan total time=   0.0s\n",
      "[CV 5/5] END ....C=0.81, penalty=l1, solver=lbfgs;, score=nan total time=   0.0s\n",
      "[CV 1/5] END C=0.46, penalty=none, solver=liblinear;, score=nan total time=   0.0s\n",
      "[CV 2/5] END C=0.46, penalty=none, solver=liblinear;, score=nan total time=   0.0s\n",
      "[CV 3/5] END C=0.46, penalty=none, solver=liblinear;, score=nan total time=   0.0s\n",
      "[CV 4/5] END C=0.46, penalty=none, solver=liblinear;, score=nan total time=   0.0s\n",
      "[CV 5/5] END C=0.46, penalty=none, solver=liblinear;, score=nan total time=   0.0s\n",
      "[CV 1/5] END C=0.99, penalty=l1, solver=liblinear;, score=0.509 total time=   2.0s\n",
      "[CV 2/5] END C=0.99, penalty=l1, solver=liblinear;, score=0.493 total time=   0.2s\n",
      "[CV 3/5] END C=0.99, penalty=l1, solver=liblinear;, score=0.505 total time=   0.2s\n",
      "[CV 4/5] END C=0.99, penalty=l1, solver=liblinear;, score=0.504 total time=   1.9s\n",
      "[CV 5/5] END C=0.99, penalty=l1, solver=liblinear;, score=0.509 total time=   0.5s\n",
      "[CV 1/5] END C=0.98, penalty=elasticnet, solver=newton-cg;, score=nan total time=   0.0s\n",
      "[CV 2/5] END C=0.98, penalty=elasticnet, solver=newton-cg;, score=nan total time=   0.0s\n",
      "[CV 3/5] END C=0.98, penalty=elasticnet, solver=newton-cg;, score=nan total time=   0.0s\n",
      "[CV 4/5] END C=0.98, penalty=elasticnet, solver=newton-cg;, score=nan total time=   0.0s\n",
      "[CV 5/5] END C=0.98, penalty=elasticnet, solver=newton-cg;, score=nan total time=   0.0s\n",
      "[CV 1/5] END ....C=0.02, penalty=l1, solver=lbfgs;, score=nan total time=   0.0s\n",
      "[CV 2/5] END ....C=0.02, penalty=l1, solver=lbfgs;, score=nan total time=   0.0s\n",
      "[CV 3/5] END ....C=0.02, penalty=l1, solver=lbfgs;, score=nan total time=   0.0s\n",
      "[CV 4/5] END ....C=0.02, penalty=l1, solver=lbfgs;, score=nan total time=   0.0s\n",
      "[CV 5/5] END ....C=0.02, penalty=l1, solver=lbfgs;, score=nan total time=   0.0s\n"
     ]
    },
    {
     "name": "stderr",
     "output_type": "stream",
     "text": [
      "C:\\Users\\Wesub\\anaconda3\\lib\\site-packages\\sklearn\\linear_model\\_logistic.py:1181: UserWarning: Setting penalty=None will ignore the C and l1_ratio parameters\n",
      "  warnings.warn(\n"
     ]
    },
    {
     "name": "stdout",
     "output_type": "stream",
     "text": [
      "[CV 1/5] END .C=0.13, penalty=none, solver=saga;, score=0.499 total time=   0.7s\n"
     ]
    },
    {
     "name": "stderr",
     "output_type": "stream",
     "text": [
      "C:\\Users\\Wesub\\anaconda3\\lib\\site-packages\\sklearn\\linear_model\\_logistic.py:1181: UserWarning: Setting penalty=None will ignore the C and l1_ratio parameters\n",
      "  warnings.warn(\n"
     ]
    },
    {
     "name": "stdout",
     "output_type": "stream",
     "text": [
      "[CV 2/5] END .C=0.13, penalty=none, solver=saga;, score=0.497 total time=   0.7s\n"
     ]
    },
    {
     "name": "stderr",
     "output_type": "stream",
     "text": [
      "C:\\Users\\Wesub\\anaconda3\\lib\\site-packages\\sklearn\\linear_model\\_logistic.py:1181: UserWarning: Setting penalty=None will ignore the C and l1_ratio parameters\n",
      "  warnings.warn(\n"
     ]
    },
    {
     "name": "stdout",
     "output_type": "stream",
     "text": [
      "[CV 3/5] END .C=0.13, penalty=none, solver=saga;, score=0.505 total time=   0.7s\n"
     ]
    },
    {
     "name": "stderr",
     "output_type": "stream",
     "text": [
      "C:\\Users\\Wesub\\anaconda3\\lib\\site-packages\\sklearn\\linear_model\\_logistic.py:1181: UserWarning: Setting penalty=None will ignore the C and l1_ratio parameters\n",
      "  warnings.warn(\n"
     ]
    },
    {
     "name": "stdout",
     "output_type": "stream",
     "text": [
      "[CV 4/5] END .C=0.13, penalty=none, solver=saga;, score=0.499 total time=   0.7s\n"
     ]
    },
    {
     "name": "stderr",
     "output_type": "stream",
     "text": [
      "C:\\Users\\Wesub\\anaconda3\\lib\\site-packages\\sklearn\\linear_model\\_logistic.py:1181: UserWarning: Setting penalty=None will ignore the C and l1_ratio parameters\n",
      "  warnings.warn(\n"
     ]
    },
    {
     "name": "stdout",
     "output_type": "stream",
     "text": [
      "[CV 5/5] END .C=0.13, penalty=none, solver=saga;, score=0.511 total time=   0.6s\n",
      "[CV 1/5] END C=0.61, penalty=elasticnet, solver=saga;, score=nan total time=   0.0s\n",
      "[CV 2/5] END C=0.61, penalty=elasticnet, solver=saga;, score=nan total time=   0.0s\n",
      "[CV 3/5] END C=0.61, penalty=elasticnet, solver=saga;, score=nan total time=   0.0s\n",
      "[CV 4/5] END C=0.61, penalty=elasticnet, solver=saga;, score=nan total time=   0.0s\n",
      "[CV 5/5] END C=0.61, penalty=elasticnet, solver=saga;, score=nan total time=   0.0s\n"
     ]
    },
    {
     "name": "stderr",
     "output_type": "stream",
     "text": [
      "C:\\Users\\Wesub\\anaconda3\\lib\\site-packages\\sklearn\\linear_model\\_logistic.py:1181: UserWarning: Setting penalty=None will ignore the C and l1_ratio parameters\n",
      "  warnings.warn(\n"
     ]
    },
    {
     "name": "stdout",
     "output_type": "stream",
     "text": [
      "[CV 1/5] END ..C=0.79, penalty=none, solver=sag;, score=0.499 total time=   0.3s\n"
     ]
    },
    {
     "name": "stderr",
     "output_type": "stream",
     "text": [
      "C:\\Users\\Wesub\\anaconda3\\lib\\site-packages\\sklearn\\linear_model\\_logistic.py:1181: UserWarning: Setting penalty=None will ignore the C and l1_ratio parameters\n",
      "  warnings.warn(\n"
     ]
    },
    {
     "name": "stdout",
     "output_type": "stream",
     "text": [
      "[CV 2/5] END ..C=0.79, penalty=none, solver=sag;, score=0.497 total time=   0.4s\n"
     ]
    },
    {
     "name": "stderr",
     "output_type": "stream",
     "text": [
      "C:\\Users\\Wesub\\anaconda3\\lib\\site-packages\\sklearn\\linear_model\\_logistic.py:1181: UserWarning: Setting penalty=None will ignore the C and l1_ratio parameters\n",
      "  warnings.warn(\n"
     ]
    },
    {
     "name": "stdout",
     "output_type": "stream",
     "text": [
      "[CV 3/5] END ..C=0.79, penalty=none, solver=sag;, score=0.505 total time=   0.4s\n"
     ]
    },
    {
     "name": "stderr",
     "output_type": "stream",
     "text": [
      "C:\\Users\\Wesub\\anaconda3\\lib\\site-packages\\sklearn\\linear_model\\_logistic.py:1181: UserWarning: Setting penalty=None will ignore the C and l1_ratio parameters\n",
      "  warnings.warn(\n"
     ]
    },
    {
     "name": "stdout",
     "output_type": "stream",
     "text": [
      "[CV 4/5] END ..C=0.79, penalty=none, solver=sag;, score=0.499 total time=   0.4s\n"
     ]
    },
    {
     "name": "stderr",
     "output_type": "stream",
     "text": [
      "C:\\Users\\Wesub\\anaconda3\\lib\\site-packages\\sklearn\\linear_model\\_logistic.py:1181: UserWarning: Setting penalty=None will ignore the C and l1_ratio parameters\n",
      "  warnings.warn(\n"
     ]
    },
    {
     "name": "stdout",
     "output_type": "stream",
     "text": [
      "[CV 5/5] END ..C=0.79, penalty=none, solver=sag;, score=0.511 total time=   0.4s\n",
      "[CV 1/5] END C=0.59, penalty=elasticnet, solver=liblinear;, score=nan total time=   0.0s\n",
      "[CV 2/5] END C=0.59, penalty=elasticnet, solver=liblinear;, score=nan total time=   0.0s\n",
      "[CV 3/5] END C=0.59, penalty=elasticnet, solver=liblinear;, score=nan total time=   0.0s\n",
      "[CV 4/5] END C=0.59, penalty=elasticnet, solver=liblinear;, score=nan total time=   0.0s\n",
      "[CV 5/5] END C=0.59, penalty=elasticnet, solver=liblinear;, score=nan total time=   0.0s\n",
      "[CV 1/5] END ...C=0.87, penalty=l2, solver=saga;, score=0.508 total time=   0.4s\n",
      "[CV 2/5] END ...C=0.87, penalty=l2, solver=saga;, score=0.498 total time=   0.4s\n",
      "[CV 3/5] END ...C=0.87, penalty=l2, solver=saga;, score=0.502 total time=   0.4s\n",
      "[CV 4/5] END ...C=0.87, penalty=l2, solver=saga;, score=0.498 total time=   0.4s\n",
      "[CV 5/5] END ...C=0.87, penalty=l2, solver=saga;, score=0.516 total time=   0.4s\n",
      "[CV 1/5] END C=0.81, penalty=elasticnet, solver=lbfgs;, score=nan total time=   0.0s\n",
      "[CV 2/5] END C=0.81, penalty=elasticnet, solver=lbfgs;, score=nan total time=   0.0s\n",
      "[CV 3/5] END C=0.81, penalty=elasticnet, solver=lbfgs;, score=nan total time=   0.0s\n",
      "[CV 4/5] END C=0.81, penalty=elasticnet, solver=lbfgs;, score=nan total time=   0.0s\n",
      "[CV 5/5] END C=0.81, penalty=elasticnet, solver=lbfgs;, score=nan total time=   0.0s\n",
      "[CV 1/5] END C=0.43, penalty=elasticnet, solver=sag;, score=nan total time=   0.0s\n",
      "[CV 2/5] END C=0.43, penalty=elasticnet, solver=sag;, score=nan total time=   0.0s\n",
      "[CV 3/5] END C=0.43, penalty=elasticnet, solver=sag;, score=nan total time=   0.0s\n",
      "[CV 4/5] END C=0.43, penalty=elasticnet, solver=sag;, score=nan total time=   0.0s\n",
      "[CV 5/5] END C=0.43, penalty=elasticnet, solver=sag;, score=nan total time=   0.0s\n",
      "[CV 1/5] END C=0.64, penalty=elasticnet, solver=saga;, score=nan total time=   0.0s\n",
      "[CV 2/5] END C=0.64, penalty=elasticnet, solver=saga;, score=nan total time=   0.0s\n",
      "[CV 3/5] END C=0.64, penalty=elasticnet, solver=saga;, score=nan total time=   0.0s\n",
      "[CV 4/5] END C=0.64, penalty=elasticnet, solver=saga;, score=nan total time=   0.0s\n",
      "[CV 5/5] END C=0.64, penalty=elasticnet, solver=saga;, score=nan total time=   0.0s\n",
      "[CV 1/5] END ......C=0.66, penalty=l1, solver=sag;, score=nan total time=   0.0s\n",
      "[CV 2/5] END ......C=0.66, penalty=l1, solver=sag;, score=nan total time=   0.0s\n",
      "[CV 3/5] END ......C=0.66, penalty=l1, solver=sag;, score=nan total time=   0.0s\n",
      "[CV 4/5] END ......C=0.66, penalty=l1, solver=sag;, score=nan total time=   0.0s\n",
      "[CV 5/5] END ......C=0.66, penalty=l1, solver=sag;, score=nan total time=   0.0s\n"
     ]
    },
    {
     "name": "stderr",
     "output_type": "stream",
     "text": [
      "C:\\Users\\Wesub\\anaconda3\\lib\\site-packages\\sklearn\\linear_model\\_logistic.py:1181: UserWarning: Setting penalty=None will ignore the C and l1_ratio parameters\n",
      "  warnings.warn(\n"
     ]
    },
    {
     "name": "stdout",
     "output_type": "stream",
     "text": [
      "[CV 1/5] END ..C=0.49, penalty=none, solver=sag;, score=0.499 total time=   0.4s\n"
     ]
    },
    {
     "name": "stderr",
     "output_type": "stream",
     "text": [
      "C:\\Users\\Wesub\\anaconda3\\lib\\site-packages\\sklearn\\linear_model\\_logistic.py:1181: UserWarning: Setting penalty=None will ignore the C and l1_ratio parameters\n",
      "  warnings.warn(\n"
     ]
    },
    {
     "name": "stdout",
     "output_type": "stream",
     "text": [
      "[CV 2/5] END ..C=0.49, penalty=none, solver=sag;, score=0.497 total time=   0.4s\n"
     ]
    },
    {
     "name": "stderr",
     "output_type": "stream",
     "text": [
      "C:\\Users\\Wesub\\anaconda3\\lib\\site-packages\\sklearn\\linear_model\\_logistic.py:1181: UserWarning: Setting penalty=None will ignore the C and l1_ratio parameters\n",
      "  warnings.warn(\n"
     ]
    },
    {
     "name": "stdout",
     "output_type": "stream",
     "text": [
      "[CV 3/5] END ..C=0.49, penalty=none, solver=sag;, score=0.505 total time=   0.4s\n"
     ]
    },
    {
     "name": "stderr",
     "output_type": "stream",
     "text": [
      "C:\\Users\\Wesub\\anaconda3\\lib\\site-packages\\sklearn\\linear_model\\_logistic.py:1181: UserWarning: Setting penalty=None will ignore the C and l1_ratio parameters\n",
      "  warnings.warn(\n"
     ]
    },
    {
     "name": "stdout",
     "output_type": "stream",
     "text": [
      "[CV 4/5] END ..C=0.49, penalty=none, solver=sag;, score=0.499 total time=   0.4s\n"
     ]
    },
    {
     "name": "stderr",
     "output_type": "stream",
     "text": [
      "C:\\Users\\Wesub\\anaconda3\\lib\\site-packages\\sklearn\\linear_model\\_logistic.py:1181: UserWarning: Setting penalty=None will ignore the C and l1_ratio parameters\n",
      "  warnings.warn(\n"
     ]
    },
    {
     "name": "stdout",
     "output_type": "stream",
     "text": [
      "[CV 5/5] END ..C=0.49, penalty=none, solver=sag;, score=0.511 total time=   0.4s\n",
      "[CV 1/5] END C=0.17, penalty=none, solver=lbfgs;, score=0.499 total time=   0.0s\n"
     ]
    },
    {
     "name": "stderr",
     "output_type": "stream",
     "text": [
      "C:\\Users\\Wesub\\anaconda3\\lib\\site-packages\\sklearn\\linear_model\\_logistic.py:1181: UserWarning: Setting penalty=None will ignore the C and l1_ratio parameters\n",
      "  warnings.warn(\n",
      "C:\\Users\\Wesub\\anaconda3\\lib\\site-packages\\sklearn\\linear_model\\_logistic.py:1181: UserWarning: Setting penalty=None will ignore the C and l1_ratio parameters\n",
      "  warnings.warn(\n"
     ]
    },
    {
     "name": "stdout",
     "output_type": "stream",
     "text": [
      "[CV 2/5] END C=0.17, penalty=none, solver=lbfgs;, score=0.497 total time=   0.0s\n",
      "[CV 3/5] END C=0.17, penalty=none, solver=lbfgs;, score=0.505 total time=   0.0s\n",
      "[CV 4/5] END C=0.17, penalty=none, solver=lbfgs;, score=0.499 total time=   0.0s\n"
     ]
    },
    {
     "name": "stderr",
     "output_type": "stream",
     "text": [
      "C:\\Users\\Wesub\\anaconda3\\lib\\site-packages\\sklearn\\linear_model\\_logistic.py:1181: UserWarning: Setting penalty=None will ignore the C and l1_ratio parameters\n",
      "  warnings.warn(\n",
      "C:\\Users\\Wesub\\anaconda3\\lib\\site-packages\\sklearn\\linear_model\\_logistic.py:1181: UserWarning: Setting penalty=None will ignore the C and l1_ratio parameters\n",
      "  warnings.warn(\n",
      "C:\\Users\\Wesub\\anaconda3\\lib\\site-packages\\sklearn\\linear_model\\_logistic.py:1181: UserWarning: Setting penalty=None will ignore the C and l1_ratio parameters\n",
      "  warnings.warn(\n"
     ]
    },
    {
     "name": "stdout",
     "output_type": "stream",
     "text": [
      "[CV 5/5] END C=0.17, penalty=none, solver=lbfgs;, score=0.511 total time=   0.0s\n",
      "[CV 1/5] END ....C=0.67, penalty=l1, solver=lbfgs;, score=nan total time=   0.0s\n",
      "[CV 2/5] END ....C=0.67, penalty=l1, solver=lbfgs;, score=nan total time=   0.0s\n",
      "[CV 3/5] END ....C=0.67, penalty=l1, solver=lbfgs;, score=nan total time=   0.0s\n",
      "[CV 4/5] END ....C=0.67, penalty=l1, solver=lbfgs;, score=nan total time=   0.0s\n",
      "[CV 5/5] END ....C=0.67, penalty=l1, solver=lbfgs;, score=nan total time=   0.0s\n"
     ]
    },
    {
     "name": "stderr",
     "output_type": "stream",
     "text": [
      "C:\\Users\\Wesub\\anaconda3\\lib\\site-packages\\sklearn\\linear_model\\_logistic.py:1181: UserWarning: Setting penalty=None will ignore the C and l1_ratio parameters\n",
      "  warnings.warn(\n"
     ]
    },
    {
     "name": "stdout",
     "output_type": "stream",
     "text": [
      "[CV 1/5] END C=0.53, penalty=none, solver=newton-cg;, score=0.499 total time=   0.2s\n"
     ]
    },
    {
     "name": "stderr",
     "output_type": "stream",
     "text": [
      "C:\\Users\\Wesub\\anaconda3\\lib\\site-packages\\sklearn\\linear_model\\_logistic.py:1181: UserWarning: Setting penalty=None will ignore the C and l1_ratio parameters\n",
      "  warnings.warn(\n"
     ]
    },
    {
     "name": "stdout",
     "output_type": "stream",
     "text": [
      "[CV 2/5] END C=0.53, penalty=none, solver=newton-cg;, score=0.497 total time=   0.2s\n"
     ]
    },
    {
     "name": "stderr",
     "output_type": "stream",
     "text": [
      "C:\\Users\\Wesub\\anaconda3\\lib\\site-packages\\sklearn\\linear_model\\_logistic.py:1181: UserWarning: Setting penalty=None will ignore the C and l1_ratio parameters\n",
      "  warnings.warn(\n"
     ]
    },
    {
     "name": "stdout",
     "output_type": "stream",
     "text": [
      "[CV 3/5] END C=0.53, penalty=none, solver=newton-cg;, score=0.505 total time=   0.2s\n"
     ]
    },
    {
     "name": "stderr",
     "output_type": "stream",
     "text": [
      "C:\\Users\\Wesub\\anaconda3\\lib\\site-packages\\sklearn\\linear_model\\_logistic.py:1181: UserWarning: Setting penalty=None will ignore the C and l1_ratio parameters\n",
      "  warnings.warn(\n"
     ]
    },
    {
     "name": "stdout",
     "output_type": "stream",
     "text": [
      "[CV 4/5] END C=0.53, penalty=none, solver=newton-cg;, score=0.499 total time=   0.1s\n"
     ]
    },
    {
     "name": "stderr",
     "output_type": "stream",
     "text": [
      "C:\\Users\\Wesub\\anaconda3\\lib\\site-packages\\sklearn\\linear_model\\_logistic.py:1181: UserWarning: Setting penalty=None will ignore the C and l1_ratio parameters\n",
      "  warnings.warn(\n"
     ]
    },
    {
     "name": "stdout",
     "output_type": "stream",
     "text": [
      "[CV 5/5] END C=0.53, penalty=none, solver=newton-cg;, score=0.511 total time=   0.1s\n",
      "[CV 1/5] END .....C=0.9, penalty=l1, solver=lbfgs;, score=nan total time=   0.0s\n",
      "[CV 2/5] END .....C=0.9, penalty=l1, solver=lbfgs;, score=nan total time=   0.0s\n",
      "[CV 3/5] END .....C=0.9, penalty=l1, solver=lbfgs;, score=nan total time=   0.0s\n",
      "[CV 4/5] END .....C=0.9, penalty=l1, solver=lbfgs;, score=nan total time=   0.0s\n",
      "[CV 5/5] END .....C=0.9, penalty=l1, solver=lbfgs;, score=nan total time=   0.0s\n"
     ]
    },
    {
     "name": "stderr",
     "output_type": "stream",
     "text": [
      "C:\\Users\\Wesub\\anaconda3\\lib\\site-packages\\sklearn\\model_selection\\_validation.py:378: FitFailedWarning: \n",
      "60 fits failed out of a total of 100.\n",
      "The score on these train-test partitions for these parameters will be set to nan.\n",
      "If these failures are not expected, you can try to debug them by setting error_score='raise'.\n",
      "\n",
      "Below are more details about the failures:\n",
      "--------------------------------------------------------------------------------\n",
      "20 fits failed with the following error:\n",
      "Traceback (most recent call last):\n",
      "  File \"C:\\Users\\Wesub\\anaconda3\\lib\\site-packages\\sklearn\\model_selection\\_validation.py\", line 686, in _fit_and_score\n",
      "    estimator.fit(X_train, y_train, **fit_params)\n",
      "  File \"C:\\Users\\Wesub\\anaconda3\\lib\\site-packages\\sklearn\\linear_model\\_logistic.py\", line 1162, in fit\n",
      "    solver = _check_solver(self.solver, self.penalty, self.dual)\n",
      "  File \"C:\\Users\\Wesub\\anaconda3\\lib\\site-packages\\sklearn\\linear_model\\_logistic.py\", line 54, in _check_solver\n",
      "    raise ValueError(\n",
      "ValueError: Solver lbfgs supports only 'l2' or 'none' penalties, got l1 penalty.\n",
      "\n",
      "--------------------------------------------------------------------------------\n",
      "5 fits failed with the following error:\n",
      "Traceback (most recent call last):\n",
      "  File \"C:\\Users\\Wesub\\anaconda3\\lib\\site-packages\\sklearn\\model_selection\\_validation.py\", line 686, in _fit_and_score\n",
      "    estimator.fit(X_train, y_train, **fit_params)\n",
      "  File \"C:\\Users\\Wesub\\anaconda3\\lib\\site-packages\\sklearn\\linear_model\\_logistic.py\", line 1162, in fit\n",
      "    solver = _check_solver(self.solver, self.penalty, self.dual)\n",
      "  File \"C:\\Users\\Wesub\\anaconda3\\lib\\site-packages\\sklearn\\linear_model\\_logistic.py\", line 71, in _check_solver\n",
      "    raise ValueError(\"penalty='none' is not supported for the liblinear solver\")\n",
      "ValueError: penalty='none' is not supported for the liblinear solver\n",
      "\n",
      "--------------------------------------------------------------------------------\n",
      "5 fits failed with the following error:\n",
      "Traceback (most recent call last):\n",
      "  File \"C:\\Users\\Wesub\\anaconda3\\lib\\site-packages\\sklearn\\model_selection\\_validation.py\", line 686, in _fit_and_score\n",
      "    estimator.fit(X_train, y_train, **fit_params)\n",
      "  File \"C:\\Users\\Wesub\\anaconda3\\lib\\site-packages\\sklearn\\linear_model\\_logistic.py\", line 1162, in fit\n",
      "    solver = _check_solver(self.solver, self.penalty, self.dual)\n",
      "  File \"C:\\Users\\Wesub\\anaconda3\\lib\\site-packages\\sklearn\\linear_model\\_logistic.py\", line 54, in _check_solver\n",
      "    raise ValueError(\n",
      "ValueError: Solver newton-cg supports only 'l2' or 'none' penalties, got elasticnet penalty.\n",
      "\n",
      "--------------------------------------------------------------------------------\n",
      "10 fits failed with the following error:\n",
      "Traceback (most recent call last):\n",
      "  File \"C:\\Users\\Wesub\\anaconda3\\lib\\site-packages\\sklearn\\model_selection\\_validation.py\", line 686, in _fit_and_score\n",
      "    estimator.fit(X_train, y_train, **fit_params)\n",
      "  File \"C:\\Users\\Wesub\\anaconda3\\lib\\site-packages\\sklearn\\linear_model\\_logistic.py\", line 1291, in fit\n",
      "    fold_coefs_ = Parallel(n_jobs=self.n_jobs, verbose=self.verbose, prefer=prefer)(\n",
      "  File \"C:\\Users\\Wesub\\anaconda3\\lib\\site-packages\\sklearn\\utils\\parallel.py\", line 63, in __call__\n",
      "    return super().__call__(iterable_with_config)\n",
      "  File \"C:\\Users\\Wesub\\anaconda3\\lib\\site-packages\\joblib\\parallel.py\", line 1048, in __call__\n",
      "    if self.dispatch_one_batch(iterator):\n",
      "  File \"C:\\Users\\Wesub\\anaconda3\\lib\\site-packages\\joblib\\parallel.py\", line 864, in dispatch_one_batch\n",
      "    self._dispatch(tasks)\n",
      "  File \"C:\\Users\\Wesub\\anaconda3\\lib\\site-packages\\joblib\\parallel.py\", line 782, in _dispatch\n",
      "    job = self._backend.apply_async(batch, callback=cb)\n",
      "  File \"C:\\Users\\Wesub\\anaconda3\\lib\\site-packages\\joblib\\_parallel_backends.py\", line 208, in apply_async\n",
      "    result = ImmediateResult(func)\n",
      "  File \"C:\\Users\\Wesub\\anaconda3\\lib\\site-packages\\joblib\\_parallel_backends.py\", line 572, in __init__\n",
      "    self.results = batch()\n",
      "  File \"C:\\Users\\Wesub\\anaconda3\\lib\\site-packages\\joblib\\parallel.py\", line 263, in __call__\n",
      "    return [func(*args, **kwargs)\n",
      "  File \"C:\\Users\\Wesub\\anaconda3\\lib\\site-packages\\joblib\\parallel.py\", line 263, in <listcomp>\n",
      "    return [func(*args, **kwargs)\n",
      "  File \"C:\\Users\\Wesub\\anaconda3\\lib\\site-packages\\sklearn\\utils\\parallel.py\", line 123, in __call__\n",
      "    return self.function(*args, **kwargs)\n",
      "  File \"C:\\Users\\Wesub\\anaconda3\\lib\\site-packages\\sklearn\\linear_model\\_logistic.py\", line 521, in _logistic_regression_path\n",
      "    alpha = (1.0 / C) * (1 - l1_ratio)\n",
      "TypeError: unsupported operand type(s) for -: 'int' and 'NoneType'\n",
      "\n",
      "--------------------------------------------------------------------------------\n",
      "5 fits failed with the following error:\n",
      "Traceback (most recent call last):\n",
      "  File \"C:\\Users\\Wesub\\anaconda3\\lib\\site-packages\\sklearn\\model_selection\\_validation.py\", line 686, in _fit_and_score\n",
      "    estimator.fit(X_train, y_train, **fit_params)\n",
      "  File \"C:\\Users\\Wesub\\anaconda3\\lib\\site-packages\\sklearn\\linear_model\\_logistic.py\", line 1162, in fit\n",
      "    solver = _check_solver(self.solver, self.penalty, self.dual)\n",
      "  File \"C:\\Users\\Wesub\\anaconda3\\lib\\site-packages\\sklearn\\linear_model\\_logistic.py\", line 64, in _check_solver\n",
      "    raise ValueError(\n",
      "ValueError: Only 'saga' solver supports elasticnet penalty, got solver=liblinear.\n",
      "\n",
      "--------------------------------------------------------------------------------\n",
      "5 fits failed with the following error:\n",
      "Traceback (most recent call last):\n",
      "  File \"C:\\Users\\Wesub\\anaconda3\\lib\\site-packages\\sklearn\\model_selection\\_validation.py\", line 686, in _fit_and_score\n",
      "    estimator.fit(X_train, y_train, **fit_params)\n",
      "  File \"C:\\Users\\Wesub\\anaconda3\\lib\\site-packages\\sklearn\\linear_model\\_logistic.py\", line 1162, in fit\n",
      "    solver = _check_solver(self.solver, self.penalty, self.dual)\n",
      "  File \"C:\\Users\\Wesub\\anaconda3\\lib\\site-packages\\sklearn\\linear_model\\_logistic.py\", line 54, in _check_solver\n",
      "    raise ValueError(\n",
      "ValueError: Solver lbfgs supports only 'l2' or 'none' penalties, got elasticnet penalty.\n",
      "\n",
      "--------------------------------------------------------------------------------\n",
      "5 fits failed with the following error:\n",
      "Traceback (most recent call last):\n",
      "  File \"C:\\Users\\Wesub\\anaconda3\\lib\\site-packages\\sklearn\\model_selection\\_validation.py\", line 686, in _fit_and_score\n",
      "    estimator.fit(X_train, y_train, **fit_params)\n",
      "  File \"C:\\Users\\Wesub\\anaconda3\\lib\\site-packages\\sklearn\\linear_model\\_logistic.py\", line 1162, in fit\n",
      "    solver = _check_solver(self.solver, self.penalty, self.dual)\n",
      "  File \"C:\\Users\\Wesub\\anaconda3\\lib\\site-packages\\sklearn\\linear_model\\_logistic.py\", line 54, in _check_solver\n",
      "    raise ValueError(\n",
      "ValueError: Solver sag supports only 'l2' or 'none' penalties, got elasticnet penalty.\n",
      "\n",
      "--------------------------------------------------------------------------------\n",
      "5 fits failed with the following error:\n",
      "Traceback (most recent call last):\n",
      "  File \"C:\\Users\\Wesub\\anaconda3\\lib\\site-packages\\sklearn\\model_selection\\_validation.py\", line 686, in _fit_and_score\n",
      "    estimator.fit(X_train, y_train, **fit_params)\n",
      "  File \"C:\\Users\\Wesub\\anaconda3\\lib\\site-packages\\sklearn\\linear_model\\_logistic.py\", line 1162, in fit\n",
      "    solver = _check_solver(self.solver, self.penalty, self.dual)\n",
      "  File \"C:\\Users\\Wesub\\anaconda3\\lib\\site-packages\\sklearn\\linear_model\\_logistic.py\", line 54, in _check_solver\n",
      "    raise ValueError(\n",
      "ValueError: Solver sag supports only 'l2' or 'none' penalties, got l1 penalty.\n",
      "\n",
      "  warnings.warn(some_fits_failed_message, FitFailedWarning)\n",
      "C:\\Users\\Wesub\\anaconda3\\lib\\site-packages\\sklearn\\model_selection\\_search.py:952: UserWarning: One or more of the test scores are non-finite: [0.50136391        nan        nan 0.50395283        nan        nan\n",
      " 0.50242539        nan 0.50242539        nan 0.50438131        nan\n",
      "        nan        nan        nan 0.50237119 0.50237228        nan\n",
      " 0.50242539        nan]\n",
      "  warnings.warn(\n"
     ]
    },
    {
     "name": "stdout",
     "output_type": "stream",
     "text": [
      "Best parameters: {'solver': 'saga', 'penalty': 'l2', 'C': 0.87} \n",
      "\n",
      "\n",
      "\n",
      "\n",
      "_______________________________________________________________________\n",
      "EVALUATION\n",
      "\n",
      "----- TRAIN -----\n",
      "\n",
      "Confusion matrix\n",
      " [[4838 1582]\n",
      " [2624 2480]] \n",
      "\n",
      "Accuracy: 63.5 \n",
      "\n",
      "F1 Score: 54.1 \n",
      "\n",
      "Balanced accuracy: 54.1 \n",
      "\n",
      "AUC Score: 62.0 \n",
      "\n",
      "\n",
      "----- TEST -----\n",
      "\n",
      "Confusion matrix\n",
      " [[540 174]\n",
      " [311 242]] \n",
      "\n",
      "Accuracy: 61.7 \n",
      "\n",
      "F1 Score: 49.9 \n",
      "\n",
      "Balanced accuracy: 49.9 \n",
      "\n",
      "AUC Score: 59.7 \n",
      "\n",
      "_______________________________________________________________________\n"
     ]
    }
   ],
   "source": [
    "# Instantiate classifier\n",
    "classifier = LRClassifier()\n",
    "\n",
    "# Perform randomized search over hyperparameters\n",
    "param_distributions = {\n",
    "    'penalty': ['l1', 'l2', 'elasticnet', 'none'],\n",
    "    'solver' : ['newton-cg', 'lbfgs', 'liblinear', 'sag', 'saga'],\n",
    "    'C' : np.arange(0, 1, 0.01)\n",
    "}\n",
    "classifier.randomized_search(X_train_embeddings_word2vec, y_train, param_distributions)\n",
    "\n",
    "# Train classifier on training data\n",
    "classifier.fit(X_train_embeddings_word2vec, y_train)\n",
    "\n",
    "# Evaluate classifier\n",
    "print('\\n')\n",
    "print('\\n_______________________________________________________________________')\n",
    "print('EVALUATION')\n",
    "\n",
    "print('\\n----- TRAIN -----')\n",
    "cm_lr_w2v_train, accuracy_lr_w2v_train, f1_lr_w2v_train, balaccuracy_lr_w2v_train, rocauc_lr_w2v_train = classifier.evaluate(X_train_embeddings_word2vec, y_train)\n",
    "\n",
    "print('\\n----- TEST -----')\n",
    "cm_lr_w2v_test, accuracy_lr_w2v_test, f1_lr_w2v_test, balaccuracy_lr_w2v_test, rocauc_lr_w2v_test = classifier.evaluate(X_test_embeddings_word2vec, y_test)\n",
    "print('_______________________________________________________________________')"
   ]
  },
  {
   "cell_type": "code",
   "execution_count": null,
   "metadata": {
    "collapsed": false,
    "jupyter": {
     "outputs_hidden": false
    }
   },
   "outputs": [],
   "source": [
    "cm_lr_w2v_train_tosave = repr(cm_lr_w2v_train)\n",
    "accuracy_lr_w2v_train_tosave = repr(accuracy_lr_w2v_train)\n",
    "f1_lr_w2v_train_tosave = repr(f1_lr_w2v_train)\n",
    "balaccuracy_lr_w2v_train_tosave = repr(balaccuracy_lr_w2v_train)\n",
    "rocauc_lr_w2v_train_tosave = repr(rocauc_lr_w2v_train)\n",
    "\n",
    "cm_lr_w2v_test_tosave = repr(cm_lr_w2v_test)\n",
    "accuracy_lr_w2v_test_tosave = repr(accuracy_lr_w2v_test)\n",
    "f1_lr_w2v_test_tosave = repr(f1_lr_w2v_test)\n",
    "balaccuracy_lr_w2v_test_tosave = repr(balaccuracy_lr_w2v_test)\n",
    "rocauc_lr_w2v_test_tosave = repr(rocauc_lr_w2v_test)\n",
    "\n",
    "\n",
    "file = open(\"results_split/lr_w2v_\"+time.strftime(\"%Y%m%d-%H%M%S\")+\".txt\", \"w\")\n",
    "\n",
    "file.write(\"Train CM = \"+cm_lr_w2v_train_tosave + \"\\n\" +\n",
    "           \"Train Accuracy = \" + accuracy_lr_w2v_train_tosave + \"\\n\" +\n",
    "           \"Train F1 = \"+f1_lr_w2v_train_tosave + \"\\n\"+\n",
    "           \"Train Balanced Accuracy = \"+balaccuracy_lr_w2v_train_tosave + \"\\n\" +\n",
    "           \"Train ROCAUC = \"+rocauc_lr_w2v_train_tosave + \"\\n\"+\n",
    "           \"Test CM = \"+cm_lr_w2v_test_tosave + \"\\n\"+\n",
    "           \"Test Accuracy = \"+accuracy_lr_w2v_test_tosave + \"\\n\"+\n",
    "           \"Test F1 = \"+f1_lr_w2v_test_tosave + \"\\n\"+\n",
    "           \"Test Balanced Accuracy = \"+balaccuracy_lr_w2v_test_tosave + \"\\n\"+\n",
    "           \"Test ROCAUC = \"+rocauc_lr_w2v_test_tosave)\n",
    "\n",
    "file.close()"
   ]
  },
  {
   "cell_type": "markdown",
   "metadata": {},
   "source": [
    "### Word2Vec + Neural Network"
   ]
  },
  {
   "cell_type": "code",
   "execution_count": null,
   "metadata": {
    "ExecuteTime": {
     "end_time": "2023-05-22T01:03:42.049533783Z",
     "start_time": "2023-05-22T01:03:36.300816863Z"
    },
    "collapsed": false,
    "jupyter": {
     "outputs_hidden": false
    }
   },
   "outputs": [
    {
     "name": "stdout",
     "output_type": "stream",
     "text": [
      "Epoch 1/15 | Train Loss: 0.6641 | Val Loss: 0.6602 | F1 Score: 0.5647 | Balanced Accuracy: 0.6123 | AUC: 0.6123\n",
      "Epoch 2/15 | Train Loss: 0.6487 | Val Loss: 0.6617 | F1 Score: 0.5575 | Balanced Accuracy: 0.6076 | AUC: 0.6076\n",
      "Epoch 3/15 | Train Loss: 0.6376 | Val Loss: 0.6652 | F1 Score: 0.5570 | Balanced Accuracy: 0.6115 | AUC: 0.6115\n",
      "Epoch 4/15 | Train Loss: 0.6240 | Val Loss: 0.6709 | F1 Score: 0.5506 | Balanced Accuracy: 0.6065 | AUC: 0.6065\n",
      "Epoch 5/15 | Train Loss: 0.6077 | Val Loss: 0.6777 | F1 Score: 0.5426 | Balanced Accuracy: 0.6011 | AUC: 0.6011\n",
      "Epoch 6/15 | Train Loss: 0.5886 | Val Loss: 0.6861 | F1 Score: 0.5460 | Balanced Accuracy: 0.5990 | AUC: 0.5990\n",
      "Early stopping triggered. No improvement in 5 epochs.\n"
     ]
    },
    {
     "data": {
      "image/png": "[encoded data removed]",
      "text/plain": [
       "<Figure size 1200x400 with 1 Axes>"
      ]
     },
     "metadata": {},
     "output_type": "display_data"
    },
    {
     "name": "stdout",
     "output_type": "stream",
     "text": [
      "\n",
      "\n",
      "\n",
      "_______________________________________________________________________\n",
      "EVALUATION\n",
      "\n",
      "----- TRAIN -----\n",
      "\n",
      "Confusion matrix\n",
      " [[4710 1710]\n",
      " [1659 3445]] \n",
      "\n",
      "Accuracy: 70.8 \n",
      "\n",
      "F1 Score: 67.2 \n",
      "\n",
      "Balanced accuracy: 70.4 \n",
      "\n",
      "AUC Score: 70.4 \n",
      "\n",
      "\n",
      "----- TEST -----\n",
      "\n",
      "Confusion matrix\n",
      " [[468 246]\n",
      " [253 300]] \n",
      "\n",
      "Accuracy: 60.6 \n",
      "\n",
      "F1 Score: 54.6 \n",
      "\n",
      "Balanced accuracy: 59.9 \n",
      "\n",
      "AUC Score: 59.9 \n",
      "\n",
      "_______________________________________________________________________\n"
     ]
    }
   ],
   "source": [
    "# --------------------\n",
    "# SET PARAMETERS\n",
    "dropout_rate = 0.1\n",
    "epochs_number = 15\n",
    "learning_rate = 0.0001\n",
    "early_stopping = 5\n",
    "# --------------------\n",
    "\n",
    "input_dim = X_train_embeddings_word2vec.shape[1]  # Dimensionality of word embeddings\n",
    "hidden_dim = X_train_embeddings_word2vec.shape[1]*2  # Number of units in the hidden layer\n",
    "\n",
    "classifier = NeuralNetworkClassifier(input_dim, hidden_dim, dropout=dropout_rate)\n",
    "\n",
    "# Fit the model\n",
    "classifier.fit(X_train_embeddings_word2vec, y_train, X_test_embeddings_word2vec, y_test, num_epochs=epochs_number, lr=learning_rate, patience=early_stopping)\n",
    "\n",
    "# Evaluate classifier\n",
    "print('\\n')\n",
    "print('\\n_______________________________________________________________________')\n",
    "print('EVALUATION')\n",
    "\n",
    "print('\\n----- TRAIN -----')\n",
    "cm_nn_w2v_train, accuracy_nn_w2v_train, f1_nn_w2v_train, balaccuracy_nn_w2v_train, rocauc_nn_w2v_train = classifier.evaluate(X_train_embeddings_word2vec, y_train)\n",
    "\n",
    "print('\\n----- TEST -----')\n",
    "cm_nn_w2v_test, accuracy_nn_w2v_test, f1_nn_w2v_test, balaccuracy_nn_w2v_test, rocauc_nn_w2v_test = classifier.evaluate(X_test_embeddings_word2vec, y_test)\n",
    "print('_______________________________________________________________________')"
   ]
  },
  {
   "cell_type": "code",
   "execution_count": null,
   "metadata": {
    "collapsed": false,
    "jupyter": {
     "outputs_hidden": false
    }
   },
   "outputs": [],
   "source": [
    "cm_nn_w2v_train_tosave = repr(cm_nn_w2v_train)\n",
    "accuracy_nn_w2v_train_tosave = repr(accuracy_nn_w2v_train)\n",
    "f1_nn_w2v_train_tosave = repr(f1_nn_w2v_train)\n",
    "balaccuracy_nn_w2v_train_tosave = repr(balaccuracy_nn_w2v_train)\n",
    "rocauc_nn_w2v_train_tosave = repr(rocauc_nn_w2v_train)\n",
    "\n",
    "cm_nn_w2v_test_tosave = repr(cm_nn_w2v_test)\n",
    "accuracy_nn_w2v_test_tosave = repr(accuracy_nn_w2v_test)\n",
    "f1_nn_w2v_test_tosave = repr(f1_nn_w2v_test)\n",
    "balaccuracy_nn_w2v_test_tosave = repr(balaccuracy_nn_w2v_test)\n",
    "rocauc_nn_w2v_test_tosave = repr(rocauc_nn_w2v_test)\n",
    "\n",
    "\n",
    "file = open(\"results_split/nn_w2v_\"+time.strftime(\"%Y%m%d-%H%M%S\")+\".txt\", \"w\")\n",
    "\n",
    "file.write(\"Train CM = \"+cm_nn_w2v_train_tosave + \"\\n\" +\n",
    "           \"Train Accuracy = \" + accuracy_nn_w2v_train_tosave + \"\\n\" +\n",
    "           \"Train F1 = \"+f1_nn_w2v_train_tosave + \"\\n\"+\n",
    "           \"Train Balanced Accuracy = \"+balaccuracy_nn_w2v_train_tosave + \"\\n\" +\n",
    "           \"Train ROCAUC = \"+rocauc_nn_w2v_train_tosave + \"\\n\"+\n",
    "           \"Test CM = \"+cm_nn_w2v_test_tosave + \"\\n\"+\n",
    "           \"Test Accuracy = \"+accuracy_nn_w2v_test_tosave + \"\\n\"+\n",
    "           \"Test F1 = \"+f1_nn_w2v_test_tosave + \"\\n\"+\n",
    "           \"Test Balanced Accuracy = \"+balaccuracy_nn_w2v_test_tosave + \"\\n\"+\n",
    "           \"Test ROCAUC = \"+rocauc_nn_w2v_test_tosave)\n",
    "\n",
    "file.close()"
   ]
  },
  {
   "cell_type": "markdown",
   "metadata": {},
   "source": [
    "## GPT2"
   ]
  },
  {
   "cell_type": "markdown",
   "metadata": {},
   "source": [
    "### GPT2 + KNN"
   ]
  },
  {
   "cell_type": "code",
   "execution_count": 41,
   "metadata": {
    "ExecuteTime": {
     "end_time": "2023-05-22T01:03:45.270796608Z",
     "start_time": "2023-05-22T01:03:42.048900808Z"
    },
    "collapsed": false,
    "jupyter": {
     "outputs_hidden": false
    }
   },
   "outputs": [
    {
     "name": "stdout",
     "output_type": "stream",
     "text": [
      "Fitting 5 folds for each of 20 candidates, totalling 100 fits\n",
      "[CV 1/5] END metric=euclidean, n_neighbors=6, weights=distance;, score=0.512 total time=   0.3s\n",
      "[CV 2/5] END metric=euclidean, n_neighbors=6, weights=distance;, score=0.460 total time=   0.3s\n",
      "[CV 3/5] END metric=euclidean, n_neighbors=6, weights=distance;, score=0.514 total time=   0.3s\n",
      "[CV 4/5] END metric=euclidean, n_neighbors=6, weights=distance;, score=0.433 total time=   0.2s\n",
      "[CV 5/5] END metric=euclidean, n_neighbors=6, weights=distance;, score=0.501 total time=   0.3s\n",
      "[CV 1/5] END metric=manhattan, n_neighbors=8, weights=distance;, score=0.502 total time=   7.7s\n",
      "[CV 2/5] END metric=manhattan, n_neighbors=8, weights=distance;, score=0.466 total time=   7.5s\n",
      "[CV 3/5] END metric=manhattan, n_neighbors=8, weights=distance;, score=0.516 total time=   7.5s\n",
      "[CV 4/5] END metric=manhattan, n_neighbors=8, weights=distance;, score=0.431 total time=   7.5s\n",
      "[CV 5/5] END metric=manhattan, n_neighbors=8, weights=distance;, score=0.506 total time=   7.5s\n",
      "[CV 1/5] END metric=minkowski, n_neighbors=4, weights=distance;, score=0.516 total time=   0.2s\n",
      "[CV 2/5] END metric=minkowski, n_neighbors=4, weights=distance;, score=0.450 total time=   0.2s\n",
      "[CV 3/5] END metric=minkowski, n_neighbors=4, weights=distance;, score=0.499 total time=   0.3s\n",
      "[CV 4/5] END metric=minkowski, n_neighbors=4, weights=distance;, score=0.444 total time=   0.2s\n",
      "[CV 5/5] END metric=minkowski, n_neighbors=4, weights=distance;, score=0.485 total time=   0.3s\n",
      "[CV 1/5] END metric=minkowski, n_neighbors=4, weights=uniform;, score=0.392 total time=   0.3s\n",
      "[CV 2/5] END metric=minkowski, n_neighbors=4, weights=uniform;, score=0.320 total time=   0.3s\n",
      "[CV 3/5] END metric=minkowski, n_neighbors=4, weights=uniform;, score=0.409 total time=   0.3s\n",
      "[CV 4/5] END metric=minkowski, n_neighbors=4, weights=uniform;, score=0.319 total time=   0.3s\n",
      "[CV 5/5] END metric=minkowski, n_neighbors=4, weights=uniform;, score=0.374 total time=   0.3s\n",
      "[CV 1/5] END metric=minkowski, n_neighbors=9, weights=uniform;, score=0.487 total time=   0.3s\n",
      "[CV 2/5] END metric=minkowski, n_neighbors=9, weights=uniform;, score=0.474 total time=   0.3s\n",
      "[CV 3/5] END metric=minkowski, n_neighbors=9, weights=uniform;, score=0.502 total time=   0.3s\n",
      "[CV 4/5] END metric=minkowski, n_neighbors=9, weights=uniform;, score=0.431 total time=   0.3s\n",
      "[CV 5/5] END metric=minkowski, n_neighbors=9, weights=uniform;, score=0.498 total time=   0.3s\n",
      "[CV 1/5] END metric=minkowski, n_neighbors=3, weights=uniform;, score=0.508 total time=   0.3s\n",
      "[CV 2/5] END metric=minkowski, n_neighbors=3, weights=uniform;, score=0.441 total time=   0.3s\n",
      "[CV 3/5] END metric=minkowski, n_neighbors=3, weights=uniform;, score=0.499 total time=   0.3s\n",
      "[CV 4/5] END metric=minkowski, n_neighbors=3, weights=uniform;, score=0.434 total time=   0.3s\n",
      "[CV 5/5] END metric=minkowski, n_neighbors=3, weights=uniform;, score=0.488 total time=   0.3s\n",
      "[CV 1/5] END metric=minkowski, n_neighbors=8, weights=distance;, score=0.491 total time=   0.3s\n",
      "[CV 2/5] END metric=minkowski, n_neighbors=8, weights=distance;, score=0.461 total time=   0.3s\n",
      "[CV 3/5] END metric=minkowski, n_neighbors=8, weights=distance;, score=0.516 total time=   0.2s\n",
      "[CV 4/5] END metric=minkowski, n_neighbors=8, weights=distance;, score=0.429 total time=   0.3s\n",
      "[CV 5/5] END metric=minkowski, n_neighbors=8, weights=distance;, score=0.495 total time=   0.3s\n",
      "[CV 1/5] END metric=euclidean, n_neighbors=4, weights=uniform;, score=0.392 total time=   0.3s\n",
      "[CV 2/5] END metric=euclidean, n_neighbors=4, weights=uniform;, score=0.320 total time=   0.3s\n",
      "[CV 3/5] END metric=euclidean, n_neighbors=4, weights=uniform;, score=0.409 total time=   0.3s\n",
      "[CV 4/5] END metric=euclidean, n_neighbors=4, weights=uniform;, score=0.319 total time=   0.3s\n",
      "[CV 5/5] END metric=euclidean, n_neighbors=4, weights=uniform;, score=0.374 total time=   0.3s\n",
      "[CV 1/5] END metric=manhattan, n_neighbors=9, weights=distance;, score=0.486 total time=   7.5s\n",
      "[CV 2/5] END metric=manhattan, n_neighbors=9, weights=distance;, score=0.467 total time=   7.5s\n",
      "[CV 3/5] END metric=manhattan, n_neighbors=9, weights=distance;, score=0.510 total time=   7.5s\n",
      "[CV 4/5] END metric=manhattan, n_neighbors=9, weights=distance;, score=0.424 total time=   7.5s\n",
      "[CV 5/5] END metric=manhattan, n_neighbors=9, weights=distance;, score=0.485 total time=   7.6s\n",
      "[CV 1/5] END metric=euclidean, n_neighbors=4, weights=distance;, score=0.516 total time=   0.3s\n",
      "[CV 2/5] END metric=euclidean, n_neighbors=4, weights=distance;, score=0.450 total time=   0.3s\n",
      "[CV 3/5] END metric=euclidean, n_neighbors=4, weights=distance;, score=0.499 total time=   0.2s\n",
      "[CV 4/5] END metric=euclidean, n_neighbors=4, weights=distance;, score=0.444 total time=   0.3s\n",
      "[CV 5/5] END metric=euclidean, n_neighbors=4, weights=distance;, score=0.485 total time=   0.3s\n",
      "[CV 1/5] END metric=euclidean, n_neighbors=9, weights=uniform;, score=0.487 total time=   0.3s\n",
      "[CV 2/5] END metric=euclidean, n_neighbors=9, weights=uniform;, score=0.474 total time=   0.3s\n",
      "[CV 3/5] END metric=euclidean, n_neighbors=9, weights=uniform;, score=0.502 total time=   0.3s\n",
      "[CV 4/5] END metric=euclidean, n_neighbors=9, weights=uniform;, score=0.431 total time=   0.3s\n",
      "[CV 5/5] END metric=euclidean, n_neighbors=9, weights=uniform;, score=0.498 total time=   0.3s\n",
      "[CV 1/5] END metric=minkowski, n_neighbors=2, weights=uniform;, score=0.339 total time=   0.3s\n",
      "[CV 2/5] END metric=minkowski, n_neighbors=2, weights=uniform;, score=0.296 total time=   0.3s\n",
      "[CV 3/5] END metric=minkowski, n_neighbors=2, weights=uniform;, score=0.330 total time=   0.3s\n",
      "[CV 4/5] END metric=minkowski, n_neighbors=2, weights=uniform;, score=0.290 total time=   0.3s\n",
      "[CV 5/5] END metric=minkowski, n_neighbors=2, weights=uniform;, score=0.347 total time=   0.3s\n",
      "[CV 1/5] END metric=minkowski, n_neighbors=9, weights=distance;, score=0.488 total time=   0.2s\n",
      "[CV 2/5] END metric=minkowski, n_neighbors=9, weights=distance;, score=0.476 total time=   0.3s\n",
      "[CV 3/5] END metric=minkowski, n_neighbors=9, weights=distance;, score=0.502 total time=   0.3s\n",
      "[CV 4/5] END metric=minkowski, n_neighbors=9, weights=distance;, score=0.432 total time=   0.2s\n",
      "[CV 5/5] END metric=minkowski, n_neighbors=9, weights=distance;, score=0.499 total time=   0.2s\n",
      "[CV 1/5] END metric=manhattan, n_neighbors=6, weights=uniform;, score=0.421 total time=   7.6s\n",
      "[CV 2/5] END metric=manhattan, n_neighbors=6, weights=uniform;, score=0.379 total time=   7.5s\n",
      "[CV 3/5] END metric=manhattan, n_neighbors=6, weights=uniform;, score=0.445 total time=   7.6s\n",
      "[CV 4/5] END metric=manhattan, n_neighbors=6, weights=uniform;, score=0.327 total time=   7.5s\n",
      "[CV 5/5] END metric=manhattan, n_neighbors=6, weights=uniform;, score=0.386 total time=   7.5s\n",
      "[CV 1/5] END metric=manhattan, n_neighbors=3, weights=distance;, score=0.497 total time=   7.5s\n",
      "[CV 2/5] END metric=manhattan, n_neighbors=3, weights=distance;, score=0.456 total time=   7.5s\n",
      "[CV 3/5] END metric=manhattan, n_neighbors=3, weights=distance;, score=0.504 total time=   7.4s\n",
      "[CV 4/5] END metric=manhattan, n_neighbors=3, weights=distance;, score=0.428 total time=   7.5s\n",
      "[CV 5/5] END metric=manhattan, n_neighbors=3, weights=distance;, score=0.490 total time=   7.5s\n",
      "[CV 1/5] END metric=manhattan, n_neighbors=3, weights=uniform;, score=0.497 total time=   7.6s\n",
      "[CV 2/5] END metric=manhattan, n_neighbors=3, weights=uniform;, score=0.456 total time=   7.5s\n",
      "[CV 3/5] END metric=manhattan, n_neighbors=3, weights=uniform;, score=0.503 total time=   7.5s\n",
      "[CV 4/5] END metric=manhattan, n_neighbors=3, weights=uniform;, score=0.427 total time=   7.5s\n",
      "[CV 5/5] END metric=manhattan, n_neighbors=3, weights=uniform;, score=0.489 total time=   7.5s\n",
      "[CV 1/5] END metric=manhattan, n_neighbors=4, weights=distance;, score=0.512 total time=   7.5s\n",
      "[CV 2/5] END metric=manhattan, n_neighbors=4, weights=distance;, score=0.459 total time=   7.5s\n",
      "[CV 3/5] END metric=manhattan, n_neighbors=4, weights=distance;, score=0.508 total time=   7.5s\n",
      "[CV 4/5] END metric=manhattan, n_neighbors=4, weights=distance;, score=0.443 total time=   7.5s\n",
      "[CV 5/5] END metric=manhattan, n_neighbors=4, weights=distance;, score=0.490 total time=   7.4s\n",
      "[CV 1/5] END metric=minkowski, n_neighbors=5, weights=uniform;, score=0.508 total time=   0.3s\n",
      "[CV 2/5] END metric=minkowski, n_neighbors=5, weights=uniform;, score=0.457 total time=   0.3s\n",
      "[CV 3/5] END metric=minkowski, n_neighbors=5, weights=uniform;, score=0.512 total time=   0.3s\n",
      "[CV 4/5] END metric=minkowski, n_neighbors=5, weights=uniform;, score=0.438 total time=   0.3s\n",
      "[CV 5/5] END metric=minkowski, n_neighbors=5, weights=uniform;, score=0.501 total time=   0.3s\n",
      "[CV 1/5] END metric=manhattan, n_neighbors=7, weights=distance;, score=0.492 total time=   7.5s\n",
      "[CV 2/5] END metric=manhattan, n_neighbors=7, weights=distance;, score=0.464 total time=   7.5s\n",
      "[CV 3/5] END metric=manhattan, n_neighbors=7, weights=distance;, score=0.513 total time=   7.6s\n",
      "[CV 4/5] END metric=manhattan, n_neighbors=7, weights=distance;, score=0.451 total time=   7.5s\n",
      "[CV 5/5] END metric=manhattan, n_neighbors=7, weights=distance;, score=0.489 total time=   7.5s\n",
      "[CV 1/5] END metric=euclidean, n_neighbors=8, weights=distance;, score=0.491 total time=   0.3s\n",
      "[CV 2/5] END metric=euclidean, n_neighbors=8, weights=distance;, score=0.461 total time=   0.3s\n",
      "[CV 3/5] END metric=euclidean, n_neighbors=8, weights=distance;, score=0.516 total time=   0.3s\n",
      "[CV 4/5] END metric=euclidean, n_neighbors=8, weights=distance;, score=0.429 total time=   0.3s\n",
      "[CV 5/5] END metric=euclidean, n_neighbors=8, weights=distance;, score=0.495 total time=   0.3s\n",
      "Best parameters: {'weights': 'distance', 'n_neighbors': 6, 'metric': 'euclidean'} \n",
      "\n",
      "\n",
      "\n",
      "\n",
      "_______________________________________________________________________\n",
      "EVALUATION\n",
      "\n",
      "----- TRAIN -----\n",
      "\n",
      "Confusion matrix\n",
      " [[6418    2]\n",
      " [   2 5102]] \n",
      "\n",
      "Accuracy: 100.0 \n",
      "\n",
      "F1 Score: 100.0 \n",
      "\n",
      "Balanced accuracy: 100.0 \n",
      "\n",
      "AUC Score: 100.0 \n",
      "\n",
      "\n",
      "----- TEST -----\n",
      "\n",
      "Confusion matrix\n",
      " [[483 231]\n",
      " [336 217]] \n",
      "\n",
      "Accuracy: 55.2 \n",
      "\n",
      "F1 Score: 43.4 \n",
      "\n",
      "Balanced accuracy: 43.4 \n",
      "\n",
      "AUC Score: 53.4 \n",
      "\n",
      "_______________________________________________________________________\n"
     ]
    }
   ],
   "source": [
    "# Instantiate classifier\n",
    "classifier = KNNClassifier()\n",
    "\n",
    "# Perform randomized search over hyperparameters\n",
    "param_distributions = {\n",
    "    'n_neighbors': [2, 3, 4, 5, 6, 7, 8, 9],\n",
    "    'weights' : ['uniform','distance'],\n",
    "    'metric' : ['minkowski','euclidean','manhattan']\n",
    "}\n",
    "classifier.randomized_search(X_train_embeddings_gpt2, y_train, param_distributions)\n",
    "\n",
    "# Train classifier on training data\n",
    "classifier.fit(X_train_embeddings_gpt2, y_train)\n",
    "\n",
    "# Evaluate classifier\n",
    "print('\\n')\n",
    "print('\\n_______________________________________________________________________')\n",
    "print('EVALUATION')\n",
    "\n",
    "print('\\n----- TRAIN -----')\n",
    "cm_knn_gpt2_train, accuracy_knn_gpt2_train, f1_knn_gpt2_train, balaccuracy_knn_gpt2_train, rocauc_knn_gpt2_train = classifier.evaluate(X_train_embeddings_gpt2, y_train)\n",
    "\n",
    "print('\\n----- TEST -----')\n",
    "cm_knn_gpt2_test, accuracy_knn_gpt2_test, f1_knn_gpt2_test, balaccuracy_knn_gpt2_test, rocauc_knn_gpt2_test = classifier.evaluate(X_test_embeddings_gpt2, y_test)\n",
    "print('_______________________________________________________________________')"
   ]
  },
  {
   "cell_type": "code",
   "execution_count": 42,
   "metadata": {
    "collapsed": false,
    "jupyter": {
     "outputs_hidden": false
    }
   },
   "outputs": [],
   "source": [
    "cm_knn_gpt2_train_tosave = repr(cm_knn_gpt2_train)\n",
    "accuracy_knn_gpt2_train_tosave = repr(accuracy_knn_gpt2_train)\n",
    "f1_knn_gpt2_train_tosave = repr(f1_knn_gpt2_train)\n",
    "balaccuracy_knn_gpt2_train_tosave = repr(balaccuracy_knn_gpt2_train)\n",
    "rocauc_knn_gpt2_train_tosave = repr(rocauc_knn_gpt2_train)\n",
    "\n",
    "cm_knn_gpt2_test_tosave = repr(cm_knn_gpt2_test)\n",
    "accuracy_knn_gpt2_test_tosave = repr(accuracy_knn_gpt2_test)\n",
    "f1_knn_gpt2_test_tosave = repr(f1_knn_gpt2_test)\n",
    "balaccuracy_knn_gpt2_test_tosave = repr(balaccuracy_knn_gpt2_test)\n",
    "rocauc_knn_gpt2_test_tosave = repr(rocauc_knn_gpt2_test)\n",
    "\n",
    "\n",
    "file = open(\"results_split/knn_gpt2_\"+time.strftime(\"%Y%m%d-%H%M%S\")+\".txt\", \"w\")\n",
    "\n",
    "file.write(\"Train CM = \"+cm_knn_gpt2_train_tosave + \"\\n\" +\n",
    "           \"Train Accuracy = \" + accuracy_knn_gpt2_train_tosave + \"\\n\" +\n",
    "           \"Train F1 = \"+f1_knn_gpt2_train_tosave + \"\\n\"+\n",
    "           \"Train Balanced Accuracy = \"+balaccuracy_knn_gpt2_train_tosave + \"\\n\" +\n",
    "           \"Train ROCAUC = \"+rocauc_knn_gpt2_train_tosave + \"\\n\"+\n",
    "           \"Test CM = \"+cm_knn_gpt2_test_tosave + \"\\n\"+\n",
    "           \"Test Accuracy = \"+accuracy_knn_gpt2_test_tosave + \"\\n\"+\n",
    "           \"Test F1 = \"+f1_knn_gpt2_test_tosave + \"\\n\"+\n",
    "           \"Test Balanced Accuracy = \"+balaccuracy_knn_gpt2_test_tosave + \"\\n\"+\n",
    "           \"Test ROCAUC = \"+rocauc_knn_gpt2_test_tosave)\n",
    "\n",
    "file.close()"
   ]
  },
  {
   "cell_type": "markdown",
   "metadata": {},
   "source": [
    "### GPT2 + XGBoost"
   ]
  },
  {
   "cell_type": "code",
   "execution_count": 43,
   "metadata": {
    "ExecuteTime": {
     "end_time": "2023-05-22T01:05:40.285539512Z",
     "start_time": "2023-05-22T01:03:45.270056163Z"
    },
    "collapsed": false,
    "jupyter": {
     "outputs_hidden": false
    }
   },
   "outputs": [
    {
     "name": "stdout",
     "output_type": "stream",
     "text": [
      "Fitting 5 folds for each of 20 candidates, totalling 100 fits\n",
      "[CV 1/5] END colsample_bytree=0.5, learning_rate=0.5, max_depth=3, min_child_weight=1, n_estimators=200, objective=reg:squarederror, subsample=0.5;, score=0.489 total time=  16.6s\n",
      "[CV 2/5] END colsample_bytree=0.5, learning_rate=0.5, max_depth=3, min_child_weight=1, n_estimators=200, objective=reg:squarederror, subsample=0.5;, score=0.487 total time=  16.2s\n",
      "[CV 3/5] END colsample_bytree=0.5, learning_rate=0.5, max_depth=3, min_child_weight=1, n_estimators=200, objective=reg:squarederror, subsample=0.5;, score=0.494 total time=  16.4s\n",
      "[CV 4/5] END colsample_bytree=0.5, learning_rate=0.5, max_depth=3, min_child_weight=1, n_estimators=200, objective=reg:squarederror, subsample=0.5;, score=0.484 total time=  16.6s\n",
      "[CV 5/5] END colsample_bytree=0.5, learning_rate=0.5, max_depth=3, min_child_weight=1, n_estimators=200, objective=reg:squarederror, subsample=0.5;, score=0.497 total time=  16.5s\n",
      "[CV 1/5] END colsample_bytree=0.7, learning_rate=0.3, max_depth=3, min_child_weight=3, n_estimators=100, objective=reg:squarederror, subsample=0.7;, score=0.491 total time=  13.9s\n",
      "[CV 2/5] END colsample_bytree=0.7, learning_rate=0.3, max_depth=3, min_child_weight=3, n_estimators=100, objective=reg:squarederror, subsample=0.7;, score=0.512 total time=  13.8s\n",
      "[CV 3/5] END colsample_bytree=0.7, learning_rate=0.3, max_depth=3, min_child_weight=3, n_estimators=100, objective=reg:squarederror, subsample=0.7;, score=0.494 total time=  13.8s\n",
      "[CV 4/5] END colsample_bytree=0.7, learning_rate=0.3, max_depth=3, min_child_weight=3, n_estimators=100, objective=reg:squarederror, subsample=0.7;, score=0.490 total time=  13.9s\n",
      "[CV 5/5] END colsample_bytree=0.7, learning_rate=0.3, max_depth=3, min_child_weight=3, n_estimators=100, objective=reg:squarederror, subsample=0.7;, score=0.492 total time=  13.8s\n",
      "[CV 1/5] END colsample_bytree=0.5, learning_rate=0.01, max_depth=3, min_child_weight=5, n_estimators=100, objective=reg:squarederror, subsample=0.7;, score=0.384 total time=  10.4s\n",
      "[CV 2/5] END colsample_bytree=0.5, learning_rate=0.01, max_depth=3, min_child_weight=5, n_estimators=100, objective=reg:squarederror, subsample=0.7;, score=0.392 total time=  10.5s\n",
      "[CV 3/5] END colsample_bytree=0.5, learning_rate=0.01, max_depth=3, min_child_weight=5, n_estimators=100, objective=reg:squarederror, subsample=0.7;, score=0.374 total time=  10.6s\n",
      "[CV 4/5] END colsample_bytree=0.5, learning_rate=0.01, max_depth=3, min_child_weight=5, n_estimators=100, objective=reg:squarederror, subsample=0.7;, score=0.376 total time=  10.6s\n",
      "[CV 5/5] END colsample_bytree=0.5, learning_rate=0.01, max_depth=3, min_child_weight=5, n_estimators=100, objective=reg:squarederror, subsample=0.7;, score=0.361 total time=  10.4s\n",
      "[CV 1/5] END colsample_bytree=0.5, learning_rate=0.1, max_depth=5, min_child_weight=5, n_estimators=50, objective=reg:squarederror, subsample=0.7;, score=0.477 total time=   9.1s\n",
      "[CV 2/5] END colsample_bytree=0.5, learning_rate=0.1, max_depth=5, min_child_weight=5, n_estimators=50, objective=reg:squarederror, subsample=0.7;, score=0.490 total time=   8.9s\n",
      "[CV 3/5] END colsample_bytree=0.5, learning_rate=0.1, max_depth=5, min_child_weight=5, n_estimators=50, objective=reg:squarederror, subsample=0.7;, score=0.484 total time=   8.9s\n",
      "[CV 4/5] END colsample_bytree=0.5, learning_rate=0.1, max_depth=5, min_child_weight=5, n_estimators=50, objective=reg:squarederror, subsample=0.7;, score=0.468 total time=   8.8s\n",
      "[CV 5/5] END colsample_bytree=0.5, learning_rate=0.1, max_depth=5, min_child_weight=5, n_estimators=50, objective=reg:squarederror, subsample=0.7;, score=0.482 total time=   8.9s\n",
      "[CV 1/5] END colsample_bytree=0.7, learning_rate=0.01, max_depth=3, min_child_weight=5, n_estimators=100, objective=reg:squarederror, subsample=0.5;, score=0.393 total time=  11.6s\n",
      "[CV 2/5] END colsample_bytree=0.7, learning_rate=0.01, max_depth=3, min_child_weight=5, n_estimators=100, objective=reg:squarederror, subsample=0.5;, score=0.401 total time=  11.8s\n",
      "[CV 3/5] END colsample_bytree=0.7, learning_rate=0.01, max_depth=3, min_child_weight=5, n_estimators=100, objective=reg:squarederror, subsample=0.5;, score=0.390 total time=  11.6s\n",
      "[CV 4/5] END colsample_bytree=0.7, learning_rate=0.01, max_depth=3, min_child_weight=5, n_estimators=100, objective=reg:squarederror, subsample=0.5;, score=0.379 total time=  11.5s\n",
      "[CV 5/5] END colsample_bytree=0.7, learning_rate=0.01, max_depth=3, min_child_weight=5, n_estimators=100, objective=reg:squarederror, subsample=0.5;, score=0.382 total time=  11.6s\n",
      "[CV 1/5] END colsample_bytree=0.5, learning_rate=0.1, max_depth=9, min_child_weight=5, n_estimators=200, objective=reg:squarederror, subsample=0.5;, score=0.492 total time=  50.8s\n",
      "[CV 2/5] END colsample_bytree=0.5, learning_rate=0.1, max_depth=9, min_child_weight=5, n_estimators=200, objective=reg:squarederror, subsample=0.5;, score=0.479 total time=  50.8s\n",
      "[CV 3/5] END colsample_bytree=0.5, learning_rate=0.1, max_depth=9, min_child_weight=5, n_estimators=200, objective=reg:squarederror, subsample=0.5;, score=0.483 total time=  50.8s\n",
      "[CV 4/5] END colsample_bytree=0.5, learning_rate=0.1, max_depth=9, min_child_weight=5, n_estimators=200, objective=reg:squarederror, subsample=0.5;, score=0.481 total time=  50.4s\n",
      "[CV 5/5] END colsample_bytree=0.5, learning_rate=0.1, max_depth=9, min_child_weight=5, n_estimators=200, objective=reg:squarederror, subsample=0.5;, score=0.502 total time=  50.5s\n",
      "[CV 1/5] END colsample_bytree=0.5, learning_rate=0.1, max_depth=5, min_child_weight=3, n_estimators=200, objective=reg:squarederror, subsample=0.5;, score=0.488 total time=  27.7s\n",
      "[CV 2/5] END colsample_bytree=0.5, learning_rate=0.1, max_depth=5, min_child_weight=3, n_estimators=200, objective=reg:squarederror, subsample=0.5;, score=0.501 total time=  27.5s\n",
      "[CV 3/5] END colsample_bytree=0.5, learning_rate=0.1, max_depth=5, min_child_weight=3, n_estimators=200, objective=reg:squarederror, subsample=0.5;, score=0.498 total time=  27.7s\n",
      "[CV 4/5] END colsample_bytree=0.5, learning_rate=0.1, max_depth=5, min_child_weight=3, n_estimators=200, objective=reg:squarederror, subsample=0.5;, score=0.486 total time=  27.5s\n",
      "[CV 5/5] END colsample_bytree=0.5, learning_rate=0.1, max_depth=5, min_child_weight=3, n_estimators=200, objective=reg:squarederror, subsample=0.5;, score=0.501 total time=  27.6s\n",
      "[CV 1/5] END colsample_bytree=0.7, learning_rate=0.5, max_depth=7, min_child_weight=1, n_estimators=200, objective=reg:squarederror, subsample=0.5;, score=0.465 total time=  52.6s\n",
      "[CV 2/5] END colsample_bytree=0.7, learning_rate=0.5, max_depth=7, min_child_weight=1, n_estimators=200, objective=reg:squarederror, subsample=0.5;, score=0.497 total time=  51.8s\n",
      "[CV 3/5] END colsample_bytree=0.7, learning_rate=0.5, max_depth=7, min_child_weight=1, n_estimators=200, objective=reg:squarederror, subsample=0.5;, score=0.474 total time=  52.1s\n",
      "[CV 4/5] END colsample_bytree=0.7, learning_rate=0.5, max_depth=7, min_child_weight=1, n_estimators=200, objective=reg:squarederror, subsample=0.5;, score=0.478 total time=  52.3s\n",
      "[CV 5/5] END colsample_bytree=0.7, learning_rate=0.5, max_depth=7, min_child_weight=1, n_estimators=200, objective=reg:squarederror, subsample=0.5;, score=0.485 total time=  51.5s\n",
      "[CV 1/5] END colsample_bytree=0.5, learning_rate=0.5, max_depth=7, min_child_weight=1, n_estimators=100, objective=reg:squarederror, subsample=0.5;, score=0.482 total time=  19.5s\n",
      "[CV 2/5] END colsample_bytree=0.5, learning_rate=0.5, max_depth=7, min_child_weight=1, n_estimators=100, objective=reg:squarederror, subsample=0.5;, score=0.476 total time=  19.4s\n",
      "[CV 3/5] END colsample_bytree=0.5, learning_rate=0.5, max_depth=7, min_child_weight=1, n_estimators=100, objective=reg:squarederror, subsample=0.5;, score=0.474 total time=  19.7s\n",
      "[CV 4/5] END colsample_bytree=0.5, learning_rate=0.5, max_depth=7, min_child_weight=1, n_estimators=100, objective=reg:squarederror, subsample=0.5;, score=0.486 total time=  19.5s\n",
      "[CV 5/5] END colsample_bytree=0.5, learning_rate=0.5, max_depth=7, min_child_weight=1, n_estimators=100, objective=reg:squarederror, subsample=0.5;, score=0.499 total time=  19.4s\n",
      "[CV 1/5] END colsample_bytree=0.7, learning_rate=0.1, max_depth=5, min_child_weight=3, n_estimators=500, objective=reg:squarederror, subsample=0.7;, score=0.490 total time= 2.0min\n",
      "[CV 2/5] END colsample_bytree=0.7, learning_rate=0.1, max_depth=5, min_child_weight=3, n_estimators=500, objective=reg:squarederror, subsample=0.7;, score=0.523 total time= 2.0min\n",
      "[CV 3/5] END colsample_bytree=0.7, learning_rate=0.1, max_depth=5, min_child_weight=3, n_estimators=500, objective=reg:squarederror, subsample=0.7;, score=0.525 total time= 2.0min\n",
      "[CV 4/5] END colsample_bytree=0.7, learning_rate=0.1, max_depth=5, min_child_weight=3, n_estimators=500, objective=reg:squarederror, subsample=0.7;, score=0.512 total time= 2.0min\n",
      "[CV 5/5] END colsample_bytree=0.7, learning_rate=0.1, max_depth=5, min_child_weight=3, n_estimators=500, objective=reg:squarederror, subsample=0.7;, score=0.524 total time= 2.0min\n",
      "[CV 1/5] END colsample_bytree=0.7, learning_rate=0.1, max_depth=5, min_child_weight=3, n_estimators=100, objective=reg:squarederror, subsample=0.7;, score=0.500 total time=  23.6s\n",
      "[CV 2/5] END colsample_bytree=0.7, learning_rate=0.1, max_depth=5, min_child_weight=3, n_estimators=100, objective=reg:squarederror, subsample=0.7;, score=0.500 total time=  23.5s\n",
      "[CV 3/5] END colsample_bytree=0.7, learning_rate=0.1, max_depth=5, min_child_weight=3, n_estimators=100, objective=reg:squarederror, subsample=0.7;, score=0.506 total time=  23.3s\n",
      "[CV 4/5] END colsample_bytree=0.7, learning_rate=0.1, max_depth=5, min_child_weight=3, n_estimators=100, objective=reg:squarederror, subsample=0.7;, score=0.492 total time=  23.3s\n",
      "[CV 5/5] END colsample_bytree=0.7, learning_rate=0.1, max_depth=5, min_child_weight=3, n_estimators=100, objective=reg:squarederror, subsample=0.7;, score=0.501 total time=  23.7s\n",
      "[CV 1/5] END colsample_bytree=0.7, learning_rate=0.3, max_depth=9, min_child_weight=1, n_estimators=100, objective=reg:squarederror, subsample=0.7;, score=0.491 total time=  43.9s\n",
      "[CV 2/5] END colsample_bytree=0.7, learning_rate=0.3, max_depth=9, min_child_weight=1, n_estimators=100, objective=reg:squarederror, subsample=0.7;, score=0.463 total time=  42.9s\n",
      "[CV 3/5] END colsample_bytree=0.7, learning_rate=0.3, max_depth=9, min_child_weight=1, n_estimators=100, objective=reg:squarederror, subsample=0.7;, score=0.473 total time=  43.3s\n",
      "[CV 4/5] END colsample_bytree=0.7, learning_rate=0.3, max_depth=9, min_child_weight=1, n_estimators=100, objective=reg:squarederror, subsample=0.7;, score=0.490 total time=  43.5s\n",
      "[CV 5/5] END colsample_bytree=0.7, learning_rate=0.3, max_depth=9, min_child_weight=1, n_estimators=100, objective=reg:squarederror, subsample=0.7;, score=0.495 total time=  43.4s\n",
      "[CV 1/5] END colsample_bytree=0.7, learning_rate=0.5, max_depth=3, min_child_weight=1, n_estimators=50, objective=reg:squarederror, subsample=0.7;, score=0.485 total time=   7.1s\n",
      "[CV 2/5] END colsample_bytree=0.7, learning_rate=0.5, max_depth=3, min_child_weight=1, n_estimators=50, objective=reg:squarederror, subsample=0.7;, score=0.496 total time=   6.9s\n",
      "[CV 3/5] END colsample_bytree=0.7, learning_rate=0.5, max_depth=3, min_child_weight=1, n_estimators=50, objective=reg:squarederror, subsample=0.7;, score=0.489 total time=   7.0s\n",
      "[CV 4/5] END colsample_bytree=0.7, learning_rate=0.5, max_depth=3, min_child_weight=1, n_estimators=50, objective=reg:squarederror, subsample=0.7;, score=0.489 total time=   7.0s\n",
      "[CV 5/5] END colsample_bytree=0.7, learning_rate=0.5, max_depth=3, min_child_weight=1, n_estimators=50, objective=reg:squarederror, subsample=0.7;, score=0.505 total time=   6.9s\n",
      "[CV 1/5] END colsample_bytree=0.5, learning_rate=0.01, max_depth=3, min_child_weight=1, n_estimators=500, objective=reg:squarederror, subsample=0.7;, score=0.461 total time=  49.6s\n",
      "[CV 2/5] END colsample_bytree=0.5, learning_rate=0.01, max_depth=3, min_child_weight=1, n_estimators=500, objective=reg:squarederror, subsample=0.7;, score=0.490 total time=  49.6s\n",
      "[CV 3/5] END colsample_bytree=0.5, learning_rate=0.01, max_depth=3, min_child_weight=1, n_estimators=500, objective=reg:squarederror, subsample=0.7;, score=0.467 total time=  49.7s\n",
      "[CV 4/5] END colsample_bytree=0.5, learning_rate=0.01, max_depth=3, min_child_weight=1, n_estimators=500, objective=reg:squarederror, subsample=0.7;, score=0.474 total time=  49.5s\n",
      "[CV 5/5] END colsample_bytree=0.5, learning_rate=0.01, max_depth=3, min_child_weight=1, n_estimators=500, objective=reg:squarederror, subsample=0.7;, score=0.471 total time=  49.3s\n",
      "[CV 1/5] END colsample_bytree=0.5, learning_rate=0.5, max_depth=9, min_child_weight=5, n_estimators=50, objective=reg:squarederror, subsample=0.5;, score=0.466 total time=  12.5s\n",
      "[CV 2/5] END colsample_bytree=0.5, learning_rate=0.5, max_depth=9, min_child_weight=5, n_estimators=50, objective=reg:squarederror, subsample=0.5;, score=0.460 total time=  12.6s\n",
      "[CV 3/5] END colsample_bytree=0.5, learning_rate=0.5, max_depth=9, min_child_weight=5, n_estimators=50, objective=reg:squarederror, subsample=0.5;, score=0.495 total time=  12.4s\n",
      "[CV 4/5] END colsample_bytree=0.5, learning_rate=0.5, max_depth=9, min_child_weight=5, n_estimators=50, objective=reg:squarederror, subsample=0.5;, score=0.473 total time=  12.6s\n",
      "[CV 5/5] END colsample_bytree=0.5, learning_rate=0.5, max_depth=9, min_child_weight=5, n_estimators=50, objective=reg:squarederror, subsample=0.5;, score=0.504 total time=  12.6s\n",
      "[CV 1/5] END colsample_bytree=0.7, learning_rate=0.3, max_depth=9, min_child_weight=1, n_estimators=200, objective=reg:squarederror, subsample=0.5;, score=0.487 total time= 1.1min\n",
      "[CV 2/5] END colsample_bytree=0.7, learning_rate=0.3, max_depth=9, min_child_weight=1, n_estimators=200, objective=reg:squarederror, subsample=0.5;, score=0.479 total time= 1.1min\n",
      "[CV 3/5] END colsample_bytree=0.7, learning_rate=0.3, max_depth=9, min_child_weight=1, n_estimators=200, objective=reg:squarederror, subsample=0.5;, score=0.474 total time= 1.1min\n",
      "[CV 4/5] END colsample_bytree=0.7, learning_rate=0.3, max_depth=9, min_child_weight=1, n_estimators=200, objective=reg:squarederror, subsample=0.5;, score=0.465 total time= 1.1min\n",
      "[CV 5/5] END colsample_bytree=0.7, learning_rate=0.3, max_depth=9, min_child_weight=1, n_estimators=200, objective=reg:squarederror, subsample=0.5;, score=0.495 total time= 1.1min\n",
      "[CV 1/5] END colsample_bytree=0.5, learning_rate=0.01, max_depth=7, min_child_weight=3, n_estimators=500, objective=reg:squarederror, subsample=0.5;, score=0.506 total time= 1.6min\n",
      "[CV 2/5] END colsample_bytree=0.5, learning_rate=0.01, max_depth=7, min_child_weight=3, n_estimators=500, objective=reg:squarederror, subsample=0.5;, score=0.528 total time= 1.6min\n",
      "[CV 3/5] END colsample_bytree=0.5, learning_rate=0.01, max_depth=7, min_child_weight=3, n_estimators=500, objective=reg:squarederror, subsample=0.5;, score=0.498 total time= 1.6min\n",
      "[CV 4/5] END colsample_bytree=0.5, learning_rate=0.01, max_depth=7, min_child_weight=3, n_estimators=500, objective=reg:squarederror, subsample=0.5;, score=0.500 total time= 1.7min\n",
      "[CV 5/5] END colsample_bytree=0.5, learning_rate=0.01, max_depth=7, min_child_weight=3, n_estimators=500, objective=reg:squarederror, subsample=0.5;, score=0.515 total time= 1.6min\n",
      "[CV 1/5] END colsample_bytree=0.5, learning_rate=0.5, max_depth=9, min_child_weight=3, n_estimators=50, objective=reg:squarederror, subsample=0.5;, score=0.475 total time=  13.2s\n",
      "[CV 2/5] END colsample_bytree=0.5, learning_rate=0.5, max_depth=9, min_child_weight=3, n_estimators=50, objective=reg:squarederror, subsample=0.5;, score=0.488 total time=  13.3s\n",
      "[CV 3/5] END colsample_bytree=0.5, learning_rate=0.5, max_depth=9, min_child_weight=3, n_estimators=50, objective=reg:squarederror, subsample=0.5;, score=0.447 total time=  13.1s\n",
      "[CV 4/5] END colsample_bytree=0.5, learning_rate=0.5, max_depth=9, min_child_weight=3, n_estimators=50, objective=reg:squarederror, subsample=0.5;, score=0.491 total time=  13.0s\n",
      "[CV 5/5] END colsample_bytree=0.5, learning_rate=0.5, max_depth=9, min_child_weight=3, n_estimators=50, objective=reg:squarederror, subsample=0.5;, score=0.488 total time=  12.9s\n",
      "[CV 1/5] END colsample_bytree=0.5, learning_rate=0.3, max_depth=9, min_child_weight=1, n_estimators=50, objective=reg:squarederror, subsample=0.5;, score=0.467 total time=  13.4s\n",
      "[CV 2/5] END colsample_bytree=0.5, learning_rate=0.3, max_depth=9, min_child_weight=1, n_estimators=50, objective=reg:squarederror, subsample=0.5;, score=0.494 total time=  13.1s\n",
      "[CV 3/5] END colsample_bytree=0.5, learning_rate=0.3, max_depth=9, min_child_weight=1, n_estimators=50, objective=reg:squarederror, subsample=0.5;, score=0.488 total time=  13.2s\n",
      "[CV 4/5] END colsample_bytree=0.5, learning_rate=0.3, max_depth=9, min_child_weight=1, n_estimators=50, objective=reg:squarederror, subsample=0.5;, score=0.482 total time=  13.0s\n",
      "[CV 5/5] END colsample_bytree=0.5, learning_rate=0.3, max_depth=9, min_child_weight=1, n_estimators=50, objective=reg:squarederror, subsample=0.5;, score=0.481 total time=  13.2s\n",
      "[CV 1/5] END colsample_bytree=0.7, learning_rate=0.1, max_depth=9, min_child_weight=5, n_estimators=500, objective=reg:squarederror, subsample=0.5;, score=0.505 total time= 2.8min\n",
      "[CV 2/5] END colsample_bytree=0.7, learning_rate=0.1, max_depth=9, min_child_weight=5, n_estimators=500, objective=reg:squarederror, subsample=0.5;, score=0.506 total time= 2.8min\n",
      "[CV 3/5] END colsample_bytree=0.7, learning_rate=0.1, max_depth=9, min_child_weight=5, n_estimators=500, objective=reg:squarederror, subsample=0.5;, score=0.486 total time= 2.8min\n",
      "[CV 4/5] END colsample_bytree=0.7, learning_rate=0.1, max_depth=9, min_child_weight=5, n_estimators=500, objective=reg:squarederror, subsample=0.5;, score=0.493 total time= 2.8min\n",
      "[CV 5/5] END colsample_bytree=0.7, learning_rate=0.1, max_depth=9, min_child_weight=5, n_estimators=500, objective=reg:squarederror, subsample=0.5;, score=0.527 total time= 2.8min\n",
      "Best parameters: {'subsample': 0.7, 'objective': 'reg:squarederror', 'n_estimators': 500, 'min_child_weight': 3, 'max_depth': 5, 'learning_rate': 0.1, 'colsample_bytree': 0.7} \n",
      "\n",
      "\n",
      "\n",
      "\n",
      "_______________________________________________________________________\n",
      "EVALUATION\n",
      "\n",
      "----- TRAIN -----\n",
      "\n",
      "Confusion matrix\n",
      " [[6418    2]\n",
      " [   2 5102]] \n",
      "\n",
      "Accuracy: 100.0 \n",
      "\n",
      "F1 Score: 100.0 \n",
      "\n",
      "Balanced accuracy: 100.0 \n",
      "\n",
      "AUC Score: 100.0 \n",
      "\n",
      "\n",
      "----- TEST -----\n",
      "\n",
      "Confusion matrix\n",
      " [[503 211]\n",
      " [294 259]] \n",
      "\n",
      "Accuracy: 60.1 \n",
      "\n",
      "F1 Score: 50.6 \n",
      "\n",
      "Balanced accuracy: 50.6 \n",
      "\n",
      "AUC Score: 58.6 \n",
      "\n",
      "_______________________________________________________________________\n"
     ]
    }
   ],
   "source": [
    "# Instantiate classifier\n",
    "classifier = XGBoostClassifier()\n",
    "\n",
    "# Perform randomized search over hyperparameters\n",
    "param_distributions = {\n",
    "    'learning_rate': [0.01, 0.1, 0.3, 0.5],\n",
    "    'max_depth': [3, 5, 7, 9],\n",
    "    'min_child_weight': [1, 3, 5],\n",
    "    'subsample': [0.5, 0.7],\n",
    "    'colsample_bytree': [0.5, 0.7],\n",
    "    'n_estimators': [50, 100, 200, 500],\n",
    "    'objective': ['reg:squarederror']\n",
    "}\n",
    "classifier.randomized_search(X_train_embeddings_gpt2, y_train, param_distributions)\n",
    "\n",
    "# Train classifier on training data\n",
    "classifier.fit(X_train_embeddings_gpt2, y_train)\n",
    "\n",
    "# Evaluate classifier\n",
    "print('\\n')\n",
    "print('\\n_______________________________________________________________________')\n",
    "print('EVALUATION')\n",
    "\n",
    "print('\\n----- TRAIN -----')\n",
    "cm_xgb_gpt2_train, accuracy_xgb_gpt2_train, f1_xgb_gpt2_train, balaccuracy_xgb_gpt2_train, rocauc_xgb_gpt2_train = classifier.evaluate(X_train_embeddings_gpt2, y_train)\n",
    "\n",
    "print('\\n----- TEST -----')\n",
    "cm_xgb_gpt2_test, accuracy_xgb_gpt2_test, f1_xgb_gpt2_test, balaccuracy_xgb_gpt2_test, rocauc_xgb_gpt2_test = classifier.evaluate(X_test_embeddings_gpt2, y_test)\n",
    "print('_______________________________________________________________________')"
   ]
  },
  {
   "cell_type": "code",
   "execution_count": 44,
   "metadata": {
    "collapsed": false,
    "jupyter": {
     "outputs_hidden": false
    }
   },
   "outputs": [],
   "source": [
    "cm_xgb_gpt2_train_tosave = repr(cm_xgb_gpt2_train)\n",
    "accuracy_xgb_gpt2_train_tosave = repr(accuracy_xgb_gpt2_train)\n",
    "f1_xgb_gpt2_train_tosave = repr(f1_xgb_gpt2_train)\n",
    "balaccuracy_xgb_gpt2_train_tosave = repr(balaccuracy_xgb_gpt2_train)\n",
    "rocauc_xgb_gpt2_train_tosave = repr(rocauc_xgb_gpt2_train)\n",
    "\n",
    "cm_xgb_gpt2_test_tosave = repr(cm_xgb_gpt2_test)\n",
    "accuracy_xgb_gpt2_test_tosave = repr(accuracy_xgb_gpt2_test)\n",
    "f1_xgb_gpt2_test_tosave = repr(f1_xgb_gpt2_test)\n",
    "balaccuracy_xgb_gpt2_test_tosave = repr(balaccuracy_xgb_gpt2_test)\n",
    "rocauc_xgb_gpt2_test_tosave = repr(rocauc_xgb_gpt2_test)\n",
    "\n",
    "\n",
    "file = open(\"results_split/xgb_gpt2_\"+time.strftime(\"%Y%m%d-%H%M%S\")+\".txt\", \"w\")\n",
    "\n",
    "file.write(\"Train CM = \"+cm_xgb_gpt2_train_tosave + \"\\n\" +\n",
    "           \"Train Accuracy = \" + accuracy_xgb_gpt2_train_tosave + \"\\n\" +\n",
    "           \"Train F1 = \"+f1_xgb_gpt2_train_tosave + \"\\n\"+\n",
    "           \"Train Balanced Accuracy = \"+balaccuracy_xgb_gpt2_train_tosave + \"\\n\" +\n",
    "           \"Train ROCAUC = \"+rocauc_xgb_gpt2_train_tosave + \"\\n\"+\n",
    "           \"Test CM = \"+cm_xgb_gpt2_test_tosave + \"\\n\"+\n",
    "           \"Test Accuracy = \"+accuracy_xgb_gpt2_test_tosave + \"\\n\"+\n",
    "           \"Test F1 = \"+f1_xgb_gpt2_test_tosave + \"\\n\"+\n",
    "           \"Test Balanced Accuracy = \"+balaccuracy_xgb_gpt2_test_tosave + \"\\n\"+\n",
    "           \"Test ROCAUC = \"+rocauc_xgb_gpt2_test_tosave)\n",
    "\n",
    "file.close()"
   ]
  },
  {
   "cell_type": "markdown",
   "metadata": {},
   "source": [
    "### GPT2 + Random Forest"
   ]
  },
  {
   "cell_type": "code",
   "execution_count": 45,
   "metadata": {
    "ExecuteTime": {
     "end_time": "2023-05-22T01:05:49.318675958Z",
     "start_time": "2023-05-22T01:05:40.285007496Z"
    },
    "collapsed": false,
    "jupyter": {
     "outputs_hidden": false
    }
   },
   "outputs": [
    {
     "name": "stdout",
     "output_type": "stream",
     "text": [
      "Fitting 5 folds for each of 20 candidates, totalling 100 fits\n",
      "[CV 1/5] END bootstrap=True, max_depth=10, max_features=10, n_estimators=25;, score=0.391 total time=   1.5s\n",
      "[CV 2/5] END bootstrap=True, max_depth=10, max_features=10, n_estimators=25;, score=0.406 total time=   1.5s\n",
      "[CV 3/5] END bootstrap=True, max_depth=10, max_features=10, n_estimators=25;, score=0.389 total time=   1.5s\n",
      "[CV 4/5] END bootstrap=True, max_depth=10, max_features=10, n_estimators=25;, score=0.381 total time=   1.5s\n",
      "[CV 5/5] END bootstrap=True, max_depth=10, max_features=10, n_estimators=25;, score=0.385 total time=   1.5s\n",
      "[CV 1/5] END bootstrap=False, max_depth=50, max_features=10, n_estimators=25;, score=0.449 total time=   2.2s\n",
      "[CV 2/5] END bootstrap=False, max_depth=50, max_features=10, n_estimators=25;, score=0.474 total time=   2.2s\n",
      "[CV 3/5] END bootstrap=False, max_depth=50, max_features=10, n_estimators=25;, score=0.454 total time=   2.2s\n",
      "[CV 4/5] END bootstrap=False, max_depth=50, max_features=10, n_estimators=25;, score=0.452 total time=   2.2s\n",
      "[CV 5/5] END bootstrap=False, max_depth=50, max_features=10, n_estimators=25;, score=0.463 total time=   2.2s\n",
      "[CV 1/5] END bootstrap=False, max_depth=50, max_features=10, n_estimators=10;, score=0.405 total time=   0.8s\n",
      "[CV 2/5] END bootstrap=False, max_depth=50, max_features=10, n_estimators=10;, score=0.395 total time=   0.8s\n",
      "[CV 3/5] END bootstrap=False, max_depth=50, max_features=10, n_estimators=10;, score=0.402 total time=   0.8s\n",
      "[CV 4/5] END bootstrap=False, max_depth=50, max_features=10, n_estimators=10;, score=0.396 total time=   0.8s\n",
      "[CV 5/5] END bootstrap=False, max_depth=50, max_features=10, n_estimators=10;, score=0.392 total time=   0.9s\n",
      "[CV 1/5] END bootstrap=True, max_depth=10, max_features=5, n_estimators=10;, score=0.395 total time=   0.3s\n",
      "[CV 2/5] END bootstrap=True, max_depth=10, max_features=5, n_estimators=10;, score=0.398 total time=   0.3s\n",
      "[CV 3/5] END bootstrap=True, max_depth=10, max_features=5, n_estimators=10;, score=0.390 total time=   0.3s\n",
      "[CV 4/5] END bootstrap=True, max_depth=10, max_features=5, n_estimators=10;, score=0.402 total time=   0.3s\n",
      "[CV 5/5] END bootstrap=True, max_depth=10, max_features=5, n_estimators=10;, score=0.400 total time=   0.3s\n",
      "[CV 1/5] END bootstrap=False, max_depth=None, max_features=5, n_estimators=10;, score=0.405 total time=   0.4s\n",
      "[CV 2/5] END bootstrap=False, max_depth=None, max_features=5, n_estimators=10;, score=0.398 total time=   0.4s\n",
      "[CV 3/5] END bootstrap=False, max_depth=None, max_features=5, n_estimators=10;, score=0.358 total time=   0.4s\n",
      "[CV 4/5] END bootstrap=False, max_depth=None, max_features=5, n_estimators=10;, score=0.381 total time=   0.5s\n",
      "[CV 5/5] END bootstrap=False, max_depth=None, max_features=5, n_estimators=10;, score=0.411 total time=   0.5s\n",
      "[CV 1/5] END bootstrap=False, max_depth=None, max_features=10, n_estimators=10;, score=0.387 total time=   0.8s\n",
      "[CV 2/5] END bootstrap=False, max_depth=None, max_features=10, n_estimators=10;, score=0.377 total time=   0.9s\n",
      "[CV 3/5] END bootstrap=False, max_depth=None, max_features=10, n_estimators=10;, score=0.396 total time=   0.8s\n",
      "[CV 4/5] END bootstrap=False, max_depth=None, max_features=10, n_estimators=10;, score=0.380 total time=   0.9s\n",
      "[CV 5/5] END bootstrap=False, max_depth=None, max_features=10, n_estimators=10;, score=0.387 total time=   0.8s\n",
      "[CV 1/5] END bootstrap=True, max_depth=None, max_features=10, n_estimators=25;, score=0.446 total time=   2.2s\n",
      "[CV 2/5] END bootstrap=True, max_depth=None, max_features=10, n_estimators=25;, score=0.481 total time=   2.1s\n",
      "[CV 3/5] END bootstrap=True, max_depth=None, max_features=10, n_estimators=25;, score=0.471 total time=   2.1s\n",
      "[CV 4/5] END bootstrap=True, max_depth=None, max_features=10, n_estimators=25;, score=0.439 total time=   2.2s\n",
      "[CV 5/5] END bootstrap=True, max_depth=None, max_features=10, n_estimators=25;, score=0.437 total time=   2.1s\n",
      "[CV 1/5] END bootstrap=False, max_depth=10, max_features=10, n_estimators=25;, score=0.410 total time=   1.6s\n",
      "[CV 2/5] END bootstrap=False, max_depth=10, max_features=10, n_estimators=25;, score=0.379 total time=   1.5s\n",
      "[CV 3/5] END bootstrap=False, max_depth=10, max_features=10, n_estimators=25;, score=0.378 total time=   1.5s\n",
      "[CV 4/5] END bootstrap=False, max_depth=10, max_features=10, n_estimators=25;, score=0.403 total time=   1.6s\n",
      "[CV 5/5] END bootstrap=False, max_depth=10, max_features=10, n_estimators=25;, score=0.414 total time=   1.6s\n",
      "[CV 1/5] END bootstrap=True, max_depth=None, max_features=5, n_estimators=10;, score=0.383 total time=   0.4s\n",
      "[CV 2/5] END bootstrap=True, max_depth=None, max_features=5, n_estimators=10;, score=0.398 total time=   0.4s\n",
      "[CV 3/5] END bootstrap=True, max_depth=None, max_features=5, n_estimators=10;, score=0.372 total time=   0.4s\n",
      "[CV 4/5] END bootstrap=True, max_depth=None, max_features=5, n_estimators=10;, score=0.401 total time=   0.4s\n",
      "[CV 5/5] END bootstrap=True, max_depth=None, max_features=5, n_estimators=10;, score=0.394 total time=   0.4s\n",
      "[CV 1/5] END bootstrap=False, max_depth=50, max_features=5, n_estimators=10;, score=0.414 total time=   0.5s\n",
      "[CV 2/5] END bootstrap=False, max_depth=50, max_features=5, n_estimators=10;, score=0.404 total time=   0.4s\n",
      "[CV 3/5] END bootstrap=False, max_depth=50, max_features=5, n_estimators=10;, score=0.410 total time=   0.4s\n",
      "[CV 4/5] END bootstrap=False, max_depth=50, max_features=5, n_estimators=10;, score=0.374 total time=   0.4s\n",
      "[CV 5/5] END bootstrap=False, max_depth=50, max_features=5, n_estimators=10;, score=0.391 total time=   0.4s\n",
      "[CV 1/5] END bootstrap=False, max_depth=10, max_features=10, n_estimators=10;, score=0.434 total time=   0.6s\n",
      "[CV 2/5] END bootstrap=False, max_depth=10, max_features=10, n_estimators=10;, score=0.423 total time=   0.6s\n",
      "[CV 3/5] END bootstrap=False, max_depth=10, max_features=10, n_estimators=10;, score=0.416 total time=   0.6s\n",
      "[CV 4/5] END bootstrap=False, max_depth=10, max_features=10, n_estimators=10;, score=0.395 total time=   0.6s\n",
      "[CV 5/5] END bootstrap=False, max_depth=10, max_features=10, n_estimators=10;, score=0.433 total time=   0.6s\n",
      "[CV 1/5] END bootstrap=True, max_depth=10, max_features=5, n_estimators=25;, score=0.343 total time=   0.8s\n",
      "[CV 2/5] END bootstrap=True, max_depth=10, max_features=5, n_estimators=25;, score=0.396 total time=   0.8s\n",
      "[CV 3/5] END bootstrap=True, max_depth=10, max_features=5, n_estimators=25;, score=0.383 total time=   0.8s\n",
      "[CV 4/5] END bootstrap=True, max_depth=10, max_features=5, n_estimators=25;, score=0.384 total time=   0.8s\n",
      "[CV 5/5] END bootstrap=True, max_depth=10, max_features=5, n_estimators=25;, score=0.381 total time=   0.8s\n",
      "[CV 1/5] END bootstrap=False, max_depth=None, max_features=5, n_estimators=25;, score=0.477 total time=   1.2s\n",
      "[CV 2/5] END bootstrap=False, max_depth=None, max_features=5, n_estimators=25;, score=0.466 total time=   1.2s\n",
      "[CV 3/5] END bootstrap=False, max_depth=None, max_features=5, n_estimators=25;, score=0.454 total time=   1.2s\n",
      "[CV 4/5] END bootstrap=False, max_depth=None, max_features=5, n_estimators=25;, score=0.435 total time=   1.2s\n",
      "[CV 5/5] END bootstrap=False, max_depth=None, max_features=5, n_estimators=25;, score=0.462 total time=   1.2s\n",
      "[CV 1/5] END bootstrap=False, max_depth=None, max_features=10, n_estimators=25;, score=0.475 total time=   2.2s\n",
      "[CV 2/5] END bootstrap=False, max_depth=None, max_features=10, n_estimators=25;, score=0.464 total time=   2.2s\n",
      "[CV 3/5] END bootstrap=False, max_depth=None, max_features=10, n_estimators=25;, score=0.443 total time=   2.2s\n",
      "[CV 4/5] END bootstrap=False, max_depth=None, max_features=10, n_estimators=25;, score=0.476 total time=   2.2s\n",
      "[CV 5/5] END bootstrap=False, max_depth=None, max_features=10, n_estimators=25;, score=0.475 total time=   2.2s\n",
      "[CV 1/5] END bootstrap=True, max_depth=None, max_features=5, n_estimators=25;, score=0.464 total time=   1.2s\n",
      "[CV 2/5] END bootstrap=True, max_depth=None, max_features=5, n_estimators=25;, score=0.451 total time=   1.2s\n",
      "[CV 3/5] END bootstrap=True, max_depth=None, max_features=5, n_estimators=25;, score=0.428 total time=   1.2s\n",
      "[CV 4/5] END bootstrap=True, max_depth=None, max_features=5, n_estimators=25;, score=0.433 total time=   1.2s\n",
      "[CV 5/5] END bootstrap=True, max_depth=None, max_features=5, n_estimators=25;, score=0.439 total time=   1.2s\n",
      "[CV 1/5] END bootstrap=False, max_depth=10, max_features=5, n_estimators=25;, score=0.360 total time=   0.8s\n",
      "[CV 2/5] END bootstrap=False, max_depth=10, max_features=5, n_estimators=25;, score=0.412 total time=   0.8s\n",
      "[CV 3/5] END bootstrap=False, max_depth=10, max_features=5, n_estimators=25;, score=0.354 total time=   0.8s\n",
      "[CV 4/5] END bootstrap=False, max_depth=10, max_features=5, n_estimators=25;, score=0.374 total time=   0.8s\n",
      "[CV 5/5] END bootstrap=False, max_depth=10, max_features=5, n_estimators=25;, score=0.373 total time=   0.8s\n",
      "[CV 1/5] END bootstrap=False, max_depth=10, max_features=5, n_estimators=10;, score=0.384 total time=   0.3s\n",
      "[CV 2/5] END bootstrap=False, max_depth=10, max_features=5, n_estimators=10;, score=0.437 total time=   0.3s\n",
      "[CV 3/5] END bootstrap=False, max_depth=10, max_features=5, n_estimators=10;, score=0.406 total time=   0.3s\n",
      "[CV 4/5] END bootstrap=False, max_depth=10, max_features=5, n_estimators=10;, score=0.391 total time=   0.3s\n",
      "[CV 5/5] END bootstrap=False, max_depth=10, max_features=5, n_estimators=10;, score=0.399 total time=   0.3s\n",
      "[CV 1/5] END bootstrap=True, max_depth=50, max_features=10, n_estimators=25;, score=0.436 total time=   2.2s\n",
      "[CV 2/5] END bootstrap=True, max_depth=50, max_features=10, n_estimators=25;, score=0.470 total time=   2.2s\n",
      "[CV 3/5] END bootstrap=True, max_depth=50, max_features=10, n_estimators=25;, score=0.454 total time=   2.2s\n",
      "[CV 4/5] END bootstrap=True, max_depth=50, max_features=10, n_estimators=25;, score=0.439 total time=   2.3s\n",
      "[CV 5/5] END bootstrap=True, max_depth=50, max_features=10, n_estimators=25;, score=0.474 total time=   2.2s\n",
      "[CV 1/5] END bootstrap=True, max_depth=50, max_features=5, n_estimators=10;, score=0.420 total time=   0.4s\n",
      "[CV 2/5] END bootstrap=True, max_depth=50, max_features=5, n_estimators=10;, score=0.373 total time=   0.4s\n",
      "[CV 3/5] END bootstrap=True, max_depth=50, max_features=5, n_estimators=10;, score=0.406 total time=   0.4s\n",
      "[CV 4/5] END bootstrap=True, max_depth=50, max_features=5, n_estimators=10;, score=0.374 total time=   0.4s\n",
      "[CV 5/5] END bootstrap=True, max_depth=50, max_features=5, n_estimators=10;, score=0.389 total time=   0.5s\n",
      "[CV 1/5] END bootstrap=False, max_depth=50, max_features=5, n_estimators=25;, score=0.473 total time=   1.2s\n",
      "[CV 2/5] END bootstrap=False, max_depth=50, max_features=5, n_estimators=25;, score=0.455 total time=   1.2s\n",
      "[CV 3/5] END bootstrap=False, max_depth=50, max_features=5, n_estimators=25;, score=0.468 total time=   1.2s\n",
      "[CV 4/5] END bootstrap=False, max_depth=50, max_features=5, n_estimators=25;, score=0.448 total time=   1.2s\n",
      "[CV 5/5] END bootstrap=False, max_depth=50, max_features=5, n_estimators=25;, score=0.453 total time=   1.2s\n",
      "Best parameters: {'n_estimators': 25, 'max_features': 10, 'max_depth': None, 'bootstrap': False} \n",
      "\n"
     ]
    },
    {
     "name": "stderr",
     "output_type": "stream",
     "text": [
      "[Parallel(n_jobs=1)]: Using backend SequentialBackend with 1 concurrent workers.\n"
     ]
    },
    {
     "name": "stdout",
     "output_type": "stream",
     "text": [
      "\n",
      "\n",
      "\n",
      "_______________________________________________________________________\n",
      "EVALUATION\n",
      "\n",
      "----- TRAIN -----\n",
      "\n",
      "Confusion matrix\n",
      " [[6420    0]\n",
      " [   4 5100]] \n",
      "\n",
      "Accuracy: 100.0 \n",
      "\n",
      "F1 Score: 100.0 \n",
      "\n",
      "Balanced accuracy: 100.0 \n",
      "\n",
      "AUC Score: 100.0 \n",
      "\n",
      "\n",
      "----- TEST -----\n",
      "\n",
      "Confusion matrix\n",
      " [[506 208]\n",
      " [314 239]] \n",
      "\n",
      "Accuracy: 58.8 \n",
      "\n",
      "F1 Score: 47.8 \n",
      "\n",
      "Balanced accuracy: 47.8 \n",
      "\n",
      "AUC Score: 57.0 \n",
      "\n",
      "_______________________________________________________________________\n"
     ]
    },
    {
     "name": "stderr",
     "output_type": "stream",
     "text": [
      "[Parallel(n_jobs=1)]: Done  25 out of  25 | elapsed:    2.8s finished\n",
      "[Parallel(n_jobs=1)]: Using backend SequentialBackend with 1 concurrent workers.\n",
      "[Parallel(n_jobs=1)]: Done  25 out of  25 | elapsed:    0.0s finished\n",
      "[Parallel(n_jobs=1)]: Using backend SequentialBackend with 1 concurrent workers.\n",
      "[Parallel(n_jobs=1)]: Done  25 out of  25 | elapsed:    0.0s finished\n"
     ]
    }
   ],
   "source": [
    "# Instantiate classifier\n",
    "classifier = RFClassifier()\n",
    "\n",
    "# Perform randomized search over hyperparameters\n",
    "param_distributions = {\n",
    "    'n_estimators': [10, 25],\n",
    "    'max_features': [5, 10],\n",
    "    'max_depth': [10, 50, None],\n",
    "    'bootstrap': [True, False]\n",
    "}\n",
    "classifier.randomized_search(X_train_embeddings_gpt2, y_train, param_distributions)\n",
    "\n",
    "# Train classifier on training data\n",
    "classifier.fit(X_train_embeddings_gpt2, y_train)\n",
    "\n",
    "# Evaluate classifier\n",
    "print('\\n')\n",
    "print('\\n_______________________________________________________________________')\n",
    "print('EVALUATION')\n",
    "\n",
    "print('\\n----- TRAIN -----')\n",
    "cm_rf_gpt2_train, accuracy_rf_gpt2_train, f1_rf_gpt2_train, balaccuracy_rf_gpt2_train, rocauc_rf_gpt2_train = classifier.evaluate(X_train_embeddings_gpt2, y_train)\n",
    "\n",
    "print('\\n----- TEST -----')\n",
    "cm_rf_gpt2_test, accuracy_rf_gpt2_test, f1_rf_gpt2_test, balaccuracy_rf_gpt2_test, rocauc_rf_gpt2_test = classifier.evaluate(X_test_embeddings_gpt2, y_test)\n",
    "print('_______________________________________________________________________')"
   ]
  },
  {
   "cell_type": "code",
   "execution_count": 46,
   "metadata": {
    "collapsed": false,
    "jupyter": {
     "outputs_hidden": false
    }
   },
   "outputs": [],
   "source": [
    "cm_rf_gpt2_train_tosave = repr(cm_rf_gpt2_train)\n",
    "accuracy_rf_gpt2_train_tosave = repr(accuracy_rf_gpt2_train)\n",
    "f1_rf_gpt2_train_tosave = repr(f1_rf_gpt2_train)\n",
    "balaccuracy_rf_gpt2_train_tosave = repr(balaccuracy_rf_gpt2_train)\n",
    "rocauc_rf_gpt2_train_tosave = repr(rocauc_rf_gpt2_train)\n",
    "\n",
    "cm_rf_gpt2_test_tosave = repr(cm_rf_gpt2_test)\n",
    "accuracy_rf_gpt2_test_tosave = repr(accuracy_rf_gpt2_test)\n",
    "f1_rf_gpt2_test_tosave = repr(f1_rf_gpt2_test)\n",
    "balaccuracy_rf_gpt2_test_tosave = repr(balaccuracy_rf_gpt2_test)\n",
    "rocauc_rf_gpt2_test_tosave = repr(rocauc_rf_gpt2_test)\n",
    "\n",
    "\n",
    "file = open(\"results_split/rf_gpt2_\"+time.strftime(\"%Y%m%d-%H%M%S\")+\".txt\", \"w\")\n",
    "\n",
    "file.write(\"Train CM = \"+cm_rf_gpt2_train_tosave + \"\\n\" +\n",
    "           \"Train Accuracy = \" + accuracy_rf_gpt2_train_tosave + \"\\n\" +\n",
    "           \"Train F1 = \"+f1_rf_gpt2_train_tosave + \"\\n\"+\n",
    "           \"Train Balanced Accuracy = \"+balaccuracy_rf_gpt2_train_tosave + \"\\n\" +\n",
    "           \"Train ROCAUC = \"+rocauc_rf_gpt2_train_tosave + \"\\n\"+\n",
    "           \"Test CM = \"+cm_rf_gpt2_test_tosave + \"\\n\"+\n",
    "           \"Test Accuracy = \"+accuracy_rf_gpt2_test_tosave + \"\\n\"+\n",
    "           \"Test F1 = \"+f1_rf_gpt2_test_tosave + \"\\n\"+\n",
    "           \"Test Balanced Accuracy = \"+balaccuracy_rf_gpt2_test_tosave + \"\\n\"+\n",
    "           \"Test ROCAUC = \"+rocauc_rf_gpt2_test_tosave)\n",
    "\n",
    "file.close()"
   ]
  },
  {
   "cell_type": "markdown",
   "metadata": {},
   "source": [
    "### GPT2 + SVC"
   ]
  },
  {
   "cell_type": "code",
   "execution_count": 47,
   "metadata": {
    "ExecuteTime": {
     "end_time": "2023-05-22T01:06:04.032916444Z",
     "start_time": "2023-05-22T01:05:49.324220928Z"
    },
    "collapsed": false,
    "jupyter": {
     "outputs_hidden": false
    }
   },
   "outputs": [
    {
     "name": "stderr",
     "output_type": "stream",
     "text": [
      "C:\\Users\\Wesub\\anaconda3\\lib\\site-packages\\sklearn\\model_selection\\_search.py:305: UserWarning: The total space of parameters 16 is smaller than n_iter=20. Running 16 iterations. For exhaustive searches, use GridSearchCV.\n",
      "  warnings.warn(\n"
     ]
    },
    {
     "name": "stdout",
     "output_type": "stream",
     "text": [
      "Fitting 5 folds for each of 16 candidates, totalling 80 fits\n",
      "[CV 1/5] END ...C=1, gamma=scale, kernel=linear;, score=0.526 total time=  24.7s\n",
      "[CV 2/5] END ...C=1, gamma=scale, kernel=linear;, score=0.518 total time=  24.9s\n",
      "[CV 3/5] END ...C=1, gamma=scale, kernel=linear;, score=0.506 total time=  24.7s\n",
      "[CV 4/5] END ...C=1, gamma=scale, kernel=linear;, score=0.498 total time=  24.9s\n",
      "[CV 5/5] END ...C=1, gamma=scale, kernel=linear;, score=0.541 total time=  25.0s\n",
      "[CV 1/5] END .....C=1, gamma=scale, kernel=poly;, score=0.514 total time=  25.6s\n",
      "[CV 2/5] END .....C=1, gamma=scale, kernel=poly;, score=0.502 total time=  25.6s\n",
      "[CV 3/5] END .....C=1, gamma=scale, kernel=poly;, score=0.507 total time=  25.6s\n",
      "[CV 4/5] END .....C=1, gamma=scale, kernel=poly;, score=0.494 total time=  25.5s\n",
      "[CV 5/5] END .....C=1, gamma=scale, kernel=poly;, score=0.512 total time=  25.6s\n",
      "[CV 1/5] END ......C=1, gamma=scale, kernel=rbf;, score=0.510 total time=  29.8s\n",
      "[CV 2/5] END ......C=1, gamma=scale, kernel=rbf;, score=0.502 total time=  29.9s\n",
      "[CV 3/5] END ......C=1, gamma=scale, kernel=rbf;, score=0.498 total time=  29.7s\n",
      "[CV 4/5] END ......C=1, gamma=scale, kernel=rbf;, score=0.494 total time=  29.8s\n",
      "[CV 5/5] END ......C=1, gamma=scale, kernel=rbf;, score=0.527 total time=  31.8s\n",
      "[CV 1/5] END ..C=1, gamma=scale, kernel=sigmoid;, score=0.493 total time=  32.1s\n",
      "[CV 2/5] END ..C=1, gamma=scale, kernel=sigmoid;, score=0.467 total time=  31.1s\n",
      "[CV 3/5] END ..C=1, gamma=scale, kernel=sigmoid;, score=0.469 total time=  31.8s\n",
      "[CV 4/5] END ..C=1, gamma=scale, kernel=sigmoid;, score=0.478 total time=  29.9s\n",
      "[CV 5/5] END ..C=1, gamma=scale, kernel=sigmoid;, score=0.492 total time=  30.3s\n",
      "[CV 1/5] END ..C=10, gamma=scale, kernel=linear;, score=0.526 total time=  29.8s\n",
      "[CV 2/5] END ..C=10, gamma=scale, kernel=linear;, score=0.515 total time=  30.1s\n",
      "[CV 3/5] END ..C=10, gamma=scale, kernel=linear;, score=0.509 total time=  29.6s\n",
      "[CV 4/5] END ..C=10, gamma=scale, kernel=linear;, score=0.512 total time=  29.4s\n",
      "[CV 5/5] END ..C=10, gamma=scale, kernel=linear;, score=0.546 total time=  30.2s\n",
      "[CV 1/5] END ....C=10, gamma=scale, kernel=poly;, score=0.531 total time=  33.9s\n",
      "[CV 2/5] END ....C=10, gamma=scale, kernel=poly;, score=0.522 total time=  35.6s\n",
      "[CV 3/5] END ....C=10, gamma=scale, kernel=poly;, score=0.517 total time=  33.9s\n",
      "[CV 4/5] END ....C=10, gamma=scale, kernel=poly;, score=0.524 total time=  33.6s\n",
      "[CV 5/5] END ....C=10, gamma=scale, kernel=poly;, score=0.545 total time=  34.3s\n",
      "[CV 1/5] END .....C=10, gamma=scale, kernel=rbf;, score=0.539 total time=  37.0s\n",
      "[CV 2/5] END .....C=10, gamma=scale, kernel=rbf;, score=0.534 total time=  37.4s\n",
      "[CV 3/5] END .....C=10, gamma=scale, kernel=rbf;, score=0.531 total time=  36.8s\n",
      "[CV 4/5] END .....C=10, gamma=scale, kernel=rbf;, score=0.522 total time=  37.0s\n",
      "[CV 5/5] END .....C=10, gamma=scale, kernel=rbf;, score=0.555 total time=  37.7s\n",
      "[CV 1/5] END .C=10, gamma=scale, kernel=sigmoid;, score=0.487 total time=  18.7s\n",
      "[CV 2/5] END .C=10, gamma=scale, kernel=sigmoid;, score=0.500 total time=  18.8s\n",
      "[CV 3/5] END .C=10, gamma=scale, kernel=sigmoid;, score=0.490 total time=  18.7s\n",
      "[CV 4/5] END .C=10, gamma=scale, kernel=sigmoid;, score=0.478 total time=  18.6s\n",
      "[CV 5/5] END .C=10, gamma=scale, kernel=sigmoid;, score=0.498 total time=  18.9s\n",
      "[CV 1/5] END .C=100, gamma=scale, kernel=linear;, score=0.522 total time= 1.2min\n",
      "[CV 2/5] END .C=100, gamma=scale, kernel=linear;, score=0.509 total time= 1.3min\n",
      "[CV 3/5] END .C=100, gamma=scale, kernel=linear;, score=0.503 total time= 1.2min\n",
      "[CV 4/5] END .C=100, gamma=scale, kernel=linear;, score=0.514 total time= 1.2min\n",
      "[CV 5/5] END .C=100, gamma=scale, kernel=linear;, score=0.546 total time= 1.3min\n",
      "[CV 1/5] END ...C=100, gamma=scale, kernel=poly;, score=0.523 total time= 2.0min\n",
      "[CV 2/5] END ...C=100, gamma=scale, kernel=poly;, score=0.534 total time= 2.1min\n",
      "[CV 3/5] END ...C=100, gamma=scale, kernel=poly;, score=0.535 total time= 2.0min\n",
      "[CV 4/5] END ...C=100, gamma=scale, kernel=poly;, score=0.510 total time= 2.0min\n",
      "[CV 5/5] END ...C=100, gamma=scale, kernel=poly;, score=0.550 total time= 2.0min\n",
      "[CV 1/5] END ....C=100, gamma=scale, kernel=rbf;, score=0.523 total time= 2.3min\n",
      "[CV 2/5] END ....C=100, gamma=scale, kernel=rbf;, score=0.531 total time= 2.4min\n",
      "[CV 3/5] END ....C=100, gamma=scale, kernel=rbf;, score=0.534 total time= 2.3min\n",
      "[CV 4/5] END ....C=100, gamma=scale, kernel=rbf;, score=0.515 total time= 2.3min\n",
      "[CV 5/5] END ....C=100, gamma=scale, kernel=rbf;, score=0.554 total time= 2.4min\n",
      "[CV 1/5] END C=100, gamma=scale, kernel=sigmoid;, score=0.495 total time=  14.9s\n",
      "[CV 2/5] END C=100, gamma=scale, kernel=sigmoid;, score=0.505 total time=  14.8s\n",
      "[CV 3/5] END C=100, gamma=scale, kernel=sigmoid;, score=0.477 total time=  14.6s\n",
      "[CV 4/5] END C=100, gamma=scale, kernel=sigmoid;, score=0.465 total time=  14.6s\n",
      "[CV 5/5] END C=100, gamma=scale, kernel=sigmoid;, score=0.507 total time=  14.9s\n",
      "[CV 1/5] END C=1000, gamma=scale, kernel=linear;, score=0.529 total time= 8.7min\n",
      "[CV 2/5] END C=1000, gamma=scale, kernel=linear;, score=0.515 total time= 8.3min\n",
      "[CV 3/5] END C=1000, gamma=scale, kernel=linear;, score=0.502 total time= 8.7min\n",
      "[CV 4/5] END C=1000, gamma=scale, kernel=linear;, score=0.513 total time= 8.9min\n",
      "[CV 5/5] END C=1000, gamma=scale, kernel=linear;, score=0.541 total time= 8.9min\n",
      "[CV 1/5] END ..C=1000, gamma=scale, kernel=poly;, score=0.519 total time= 2.1min\n",
      "[CV 2/5] END ..C=1000, gamma=scale, kernel=poly;, score=0.534 total time= 2.2min\n",
      "[CV 3/5] END ..C=1000, gamma=scale, kernel=poly;, score=0.539 total time= 2.1min\n",
      "[CV 4/5] END ..C=1000, gamma=scale, kernel=poly;, score=0.508 total time= 2.1min\n",
      "[CV 5/5] END ..C=1000, gamma=scale, kernel=poly;, score=0.542 total time= 2.0min\n",
      "[CV 1/5] END ...C=1000, gamma=scale, kernel=rbf;, score=0.518 total time= 2.6min\n",
      "[CV 2/5] END ...C=1000, gamma=scale, kernel=rbf;, score=0.536 total time= 2.7min\n",
      "[CV 3/5] END ...C=1000, gamma=scale, kernel=rbf;, score=0.536 total time= 2.6min\n",
      "[CV 4/5] END ...C=1000, gamma=scale, kernel=rbf;, score=0.517 total time= 2.7min\n",
      "[CV 5/5] END ...C=1000, gamma=scale, kernel=rbf;, score=0.547 total time= 2.8min\n",
      "[CV 1/5] END C=1000, gamma=scale, kernel=sigmoid;, score=0.496 total time=  14.2s\n",
      "[CV 2/5] END C=1000, gamma=scale, kernel=sigmoid;, score=0.503 total time=  14.5s\n",
      "[CV 3/5] END C=1000, gamma=scale, kernel=sigmoid;, score=0.476 total time=  14.4s\n",
      "[CV 4/5] END C=1000, gamma=scale, kernel=sigmoid;, score=0.467 total time=  14.3s\n",
      "[CV 5/5] END C=1000, gamma=scale, kernel=sigmoid;, score=0.506 total time=  14.5s\n",
      "Best parameters: {'kernel': 'rbf', 'gamma': 'scale', 'C': 10} \n",
      "\n",
      "[LibSVM]\n",
      "\n",
      "\n",
      "_______________________________________________________________________\n",
      "EVALUATION\n",
      "\n",
      "----- TRAIN -----\n",
      "\n",
      "Confusion matrix\n",
      " [[5967  453]\n",
      " [1238 3866]] \n",
      "\n",
      "Accuracy: 85.3 \n",
      "\n",
      "F1 Score: 82.1 \n",
      "\n",
      "Balanced accuracy: 82.1 \n",
      "\n",
      "AUC Score: 84.3 \n",
      "\n",
      "\n",
      "----- TEST -----\n",
      "\n",
      "Confusion matrix\n",
      " [[516 198]\n",
      " [288 265]] \n",
      "\n",
      "Accuracy: 61.6 \n",
      "\n",
      "F1 Score: 52.2 \n",
      "\n",
      "Balanced accuracy: 52.2 \n",
      "\n",
      "AUC Score: 60.1 \n",
      "\n",
      "_______________________________________________________________________\n"
     ]
    }
   ],
   "source": [
    "# Instantiate classifier\n",
    "classifier = SVClassifier()\n",
    "\n",
    "# Perform randomized search over hyperparameters\n",
    "param_distributions = {\n",
    "    'C': [1, 10, 100, 1000],\n",
    "    'kernel': ['linear', 'poly', 'rbf', 'sigmoid'],\n",
    "    'gamma': ['scale']\n",
    "    #'gamma': [0.1, 0.2, 0.3, 0.4, 0.5, 0.6, 0.7, 0.8, 0.9]\n",
    "}\n",
    "classifier.randomized_search(X_train_embeddings_gpt2, y_train, param_distributions)\n",
    "\n",
    "# Train classifier on training data\n",
    "classifier.fit(X_train_embeddings_gpt2, y_train)\n",
    "\n",
    "# Evaluate classifier\n",
    "print('\\n')\n",
    "print('\\n_______________________________________________________________________')\n",
    "print('EVALUATION')\n",
    "\n",
    "print('\\n----- TRAIN -----')\n",
    "cm_svc_gpt2_train, accuracy_svc_gpt2_train, f1_svc_gpt2_train, balaccuracy_svc_gpt2_train, rocauc_svc_gpt2_train = classifier.evaluate(X_train_embeddings_gpt2, y_train)\n",
    "\n",
    "print('\\n----- TEST -----')\n",
    "cm_svc_gpt2_test, accuracy_svc_gpt2_test, f1_svc_gpt2_test, balaccuracy_svc_gpt2_test, rocauc_svc_gpt2_test = classifier.evaluate(X_test_embeddings_gpt2, y_test)\n",
    "print('_______________________________________________________________________')"
   ]
  },
  {
   "cell_type": "code",
   "execution_count": 48,
   "metadata": {
    "collapsed": false,
    "jupyter": {
     "outputs_hidden": false
    }
   },
   "outputs": [],
   "source": [
    "cm_svc_gpt2_train_tosave = repr(cm_svc_gpt2_train)\n",
    "accuracy_svc_gpt2_train_tosave = repr(accuracy_svc_gpt2_train)\n",
    "f1_svc_gpt2_train_tosave = repr(f1_svc_gpt2_train)\n",
    "balaccuracy_svc_gpt2_train_tosave = repr(balaccuracy_svc_gpt2_train)\n",
    "rocauc_svc_gpt2_train_tosave = repr(rocauc_svc_gpt2_train)\n",
    "\n",
    "cm_svc_gpt2_test_tosave = repr(cm_svc_gpt2_test)\n",
    "accuracy_svc_gpt2_test_tosave = repr(accuracy_svc_gpt2_test)\n",
    "f1_svc_gpt2_test_tosave = repr(f1_svc_gpt2_test)\n",
    "balaccuracy_svc_gpt2_test_tosave = repr(balaccuracy_svc_gpt2_test)\n",
    "rocauc_svc_gpt2_test_tosave = repr(rocauc_svc_gpt2_test)\n",
    "\n",
    "\n",
    "file = open(\"results_split/svc_gpt2_\"+time.strftime(\"%Y%m%d-%H%M%S\")+\".txt\", \"w\")\n",
    "\n",
    "file.write(\"Train CM = \"+cm_svc_gpt2_train_tosave + \"\\n\" +\n",
    "           \"Train Accuracy = \" + accuracy_svc_gpt2_train_tosave + \"\\n\" +\n",
    "           \"Train F1 = \"+f1_svc_gpt2_train_tosave + \"\\n\"+\n",
    "           \"Train Balanced Accuracy = \"+balaccuracy_svc_gpt2_train_tosave + \"\\n\" +\n",
    "           \"Train ROCAUC = \"+rocauc_svc_gpt2_train_tosave + \"\\n\"+\n",
    "           \"Test CM = \"+cm_svc_gpt2_test_tosave + \"\\n\"+\n",
    "           \"Test Accuracy = \"+accuracy_svc_gpt2_test_tosave + \"\\n\"+\n",
    "           \"Test F1 = \"+f1_svc_gpt2_test_tosave + \"\\n\"+\n",
    "           \"Test Balanced Accuracy = \"+balaccuracy_svc_gpt2_test_tosave + \"\\n\"+\n",
    "           \"Test ROCAUC = \"+rocauc_svc_gpt2_test_tosave)\n",
    "\n",
    "file.close()"
   ]
  },
  {
   "cell_type": "markdown",
   "metadata": {},
   "source": [
    "### GPT2 + Logistic Regression"
   ]
  },
  {
   "cell_type": "code",
   "execution_count": 49,
   "metadata": {
    "ExecuteTime": {
     "end_time": "2023-05-22T01:06:07.081711772Z",
     "start_time": "2023-05-22T01:06:04.033203542Z"
    },
    "collapsed": false,
    "jupyter": {
     "outputs_hidden": false
    }
   },
   "outputs": [
    {
     "name": "stdout",
     "output_type": "stream",
     "text": [
      "Fitting 5 folds for each of 20 candidates, totalling 100 fits\n",
      "[CV 1/5] END ...C=0.13, penalty=l1, solver=saga;, score=0.295 total time=   1.9s\n",
      "[CV 2/5] END ...C=0.13, penalty=l1, solver=saga;, score=0.276 total time=   2.8s\n",
      "[CV 3/5] END ...C=0.13, penalty=l1, solver=saga;, score=0.308 total time=   2.3s\n"
     ]
    },
    {
     "name": "stderr",
     "output_type": "stream",
     "text": [
      "C:\\Users\\Wesub\\anaconda3\\lib\\site-packages\\sklearn\\linear_model\\_sag.py:350: ConvergenceWarning: The max_iter was reached which means the coef_ did not converge\n",
      "  warnings.warn(\n"
     ]
    },
    {
     "name": "stdout",
     "output_type": "stream",
     "text": [
      "[CV 4/5] END ...C=0.13, penalty=l1, solver=saga;, score=0.292 total time=   5.5s\n",
      "[CV 5/5] END ...C=0.13, penalty=l1, solver=saga;, score=0.254 total time=   2.7s\n",
      "[CV 1/5] END C=0.63, penalty=l2, solver=newton-cg;, score=0.519 total time=   0.5s\n",
      "[CV 2/5] END C=0.63, penalty=l2, solver=newton-cg;, score=0.523 total time=   0.5s\n",
      "[CV 3/5] END C=0.63, penalty=l2, solver=newton-cg;, score=0.502 total time=   0.5s\n",
      "[CV 4/5] END C=0.63, penalty=l2, solver=newton-cg;, score=0.501 total time=   0.5s\n",
      "[CV 5/5] END C=0.63, penalty=l2, solver=newton-cg;, score=0.536 total time=   0.5s\n",
      "[CV 1/5] END .......C=0.2, penalty=l1, solver=sag;, score=nan total time=   0.0s\n",
      "[CV 2/5] END .......C=0.2, penalty=l1, solver=sag;, score=nan total time=   0.0s\n",
      "[CV 3/5] END .......C=0.2, penalty=l1, solver=sag;, score=nan total time=   0.0s\n",
      "[CV 4/5] END .......C=0.2, penalty=l1, solver=sag;, score=nan total time=   0.0s\n",
      "[CV 5/5] END .......C=0.2, penalty=l1, solver=sag;, score=nan total time=   0.0s\n"
     ]
    },
    {
     "name": "stderr",
     "output_type": "stream",
     "text": [
      "C:\\Users\\Wesub\\anaconda3\\lib\\site-packages\\sklearn\\linear_model\\_logistic.py:458: ConvergenceWarning: lbfgs failed to converge (status=1):\n",
      "STOP: TOTAL NO. of ITERATIONS REACHED LIMIT.\n",
      "\n",
      "Increase the number of iterations (max_iter) or scale the data as shown in:\n",
      "    https://scikit-learn.org/stable/modules/preprocessing.html\n",
      "Please also refer to the documentation for alternative solver options:\n",
      "    https://scikit-learn.org/stable/modules/linear_model.html#logistic-regression\n",
      "  n_iter_i = _check_optimize_result(\n"
     ]
    },
    {
     "name": "stdout",
     "output_type": "stream",
     "text": [
      "[CV 1/5] END ..C=0.91, penalty=l2, solver=lbfgs;, score=0.527 total time=   0.2s\n"
     ]
    },
    {
     "name": "stderr",
     "output_type": "stream",
     "text": [
      "C:\\Users\\Wesub\\anaconda3\\lib\\site-packages\\sklearn\\linear_model\\_logistic.py:458: ConvergenceWarning: lbfgs failed to converge (status=1):\n",
      "STOP: TOTAL NO. of ITERATIONS REACHED LIMIT.\n",
      "\n",
      "Increase the number of iterations (max_iter) or scale the data as shown in:\n",
      "    https://scikit-learn.org/stable/modules/preprocessing.html\n",
      "Please also refer to the documentation for alternative solver options:\n",
      "    https://scikit-learn.org/stable/modules/linear_model.html#logistic-regression\n",
      "  n_iter_i = _check_optimize_result(\n"
     ]
    },
    {
     "name": "stdout",
     "output_type": "stream",
     "text": [
      "[CV 2/5] END ..C=0.91, penalty=l2, solver=lbfgs;, score=0.529 total time=   0.3s\n"
     ]
    },
    {
     "name": "stderr",
     "output_type": "stream",
     "text": [
      "C:\\Users\\Wesub\\anaconda3\\lib\\site-packages\\sklearn\\linear_model\\_logistic.py:458: ConvergenceWarning: lbfgs failed to converge (status=1):\n",
      "STOP: TOTAL NO. of ITERATIONS REACHED LIMIT.\n",
      "\n",
      "Increase the number of iterations (max_iter) or scale the data as shown in:\n",
      "    https://scikit-learn.org/stable/modules/preprocessing.html\n",
      "Please also refer to the documentation for alternative solver options:\n",
      "    https://scikit-learn.org/stable/modules/linear_model.html#logistic-regression\n",
      "  n_iter_i = _check_optimize_result(\n"
     ]
    },
    {
     "name": "stdout",
     "output_type": "stream",
     "text": [
      "[CV 3/5] END ..C=0.91, penalty=l2, solver=lbfgs;, score=0.513 total time=   0.3s\n"
     ]
    },
    {
     "name": "stderr",
     "output_type": "stream",
     "text": [
      "C:\\Users\\Wesub\\anaconda3\\lib\\site-packages\\sklearn\\linear_model\\_logistic.py:458: ConvergenceWarning: lbfgs failed to converge (status=1):\n",
      "STOP: TOTAL NO. of ITERATIONS REACHED LIMIT.\n",
      "\n",
      "Increase the number of iterations (max_iter) or scale the data as shown in:\n",
      "    https://scikit-learn.org/stable/modules/preprocessing.html\n",
      "Please also refer to the documentation for alternative solver options:\n",
      "    https://scikit-learn.org/stable/modules/linear_model.html#logistic-regression\n",
      "  n_iter_i = _check_optimize_result(\n"
     ]
    },
    {
     "name": "stdout",
     "output_type": "stream",
     "text": [
      "[CV 4/5] END ..C=0.91, penalty=l2, solver=lbfgs;, score=0.509 total time=   0.3s\n"
     ]
    },
    {
     "name": "stderr",
     "output_type": "stream",
     "text": [
      "C:\\Users\\Wesub\\anaconda3\\lib\\site-packages\\sklearn\\linear_model\\_logistic.py:458: ConvergenceWarning: lbfgs failed to converge (status=1):\n",
      "STOP: TOTAL NO. of ITERATIONS REACHED LIMIT.\n",
      "\n",
      "Increase the number of iterations (max_iter) or scale the data as shown in:\n",
      "    https://scikit-learn.org/stable/modules/preprocessing.html\n",
      "Please also refer to the documentation for alternative solver options:\n",
      "    https://scikit-learn.org/stable/modules/linear_model.html#logistic-regression\n",
      "  n_iter_i = _check_optimize_result(\n"
     ]
    },
    {
     "name": "stdout",
     "output_type": "stream",
     "text": [
      "[CV 5/5] END ..C=0.91, penalty=l2, solver=lbfgs;, score=0.538 total time=   0.3s\n",
      "[CV 1/5] END ....C=0.54, penalty=l2, solver=sag;, score=0.519 total time=   1.0s\n",
      "[CV 2/5] END ....C=0.54, penalty=l2, solver=sag;, score=0.520 total time=   1.2s\n",
      "[CV 3/5] END ....C=0.54, penalty=l2, solver=sag;, score=0.501 total time=   1.4s\n",
      "[CV 4/5] END ....C=0.54, penalty=l2, solver=sag;, score=0.496 total time=   1.4s\n",
      "[CV 5/5] END ....C=0.54, penalty=l2, solver=sag;, score=0.534 total time=   1.3s\n",
      "[CV 1/5] END ...C=0.78, penalty=l2, solver=saga;, score=0.524 total time=   3.4s\n",
      "[CV 2/5] END ...C=0.78, penalty=l2, solver=saga;, score=0.530 total time=   3.7s\n"
     ]
    },
    {
     "name": "stderr",
     "output_type": "stream",
     "text": [
      "C:\\Users\\Wesub\\anaconda3\\lib\\site-packages\\sklearn\\linear_model\\_sag.py:350: ConvergenceWarning: The max_iter was reached which means the coef_ did not converge\n",
      "  warnings.warn(\n"
     ]
    },
    {
     "name": "stdout",
     "output_type": "stream",
     "text": [
      "[CV 3/5] END ...C=0.78, penalty=l2, solver=saga;, score=0.509 total time=   4.3s\n"
     ]
    },
    {
     "name": "stderr",
     "output_type": "stream",
     "text": [
      "C:\\Users\\Wesub\\anaconda3\\lib\\site-packages\\sklearn\\linear_model\\_sag.py:350: ConvergenceWarning: The max_iter was reached which means the coef_ did not converge\n",
      "  warnings.warn(\n"
     ]
    },
    {
     "name": "stdout",
     "output_type": "stream",
     "text": [
      "[CV 4/5] END ...C=0.78, penalty=l2, solver=saga;, score=0.506 total time=   4.5s\n"
     ]
    },
    {
     "name": "stderr",
     "output_type": "stream",
     "text": [
      "C:\\Users\\Wesub\\anaconda3\\lib\\site-packages\\sklearn\\linear_model\\_sag.py:350: ConvergenceWarning: The max_iter was reached which means the coef_ did not converge\n",
      "  warnings.warn(\n"
     ]
    },
    {
     "name": "stdout",
     "output_type": "stream",
     "text": [
      "[CV 5/5] END ...C=0.78, penalty=l2, solver=saga;, score=0.535 total time=   4.5s\n",
      "[CV 1/5] END C=0.09, penalty=elasticnet, solver=newton-cg;, score=nan total time=   0.0s\n",
      "[CV 2/5] END C=0.09, penalty=elasticnet, solver=newton-cg;, score=nan total time=   0.0s\n",
      "[CV 3/5] END C=0.09, penalty=elasticnet, solver=newton-cg;, score=nan total time=   0.0s\n",
      "[CV 4/5] END C=0.09, penalty=elasticnet, solver=newton-cg;, score=nan total time=   0.0s\n",
      "[CV 5/5] END C=0.09, penalty=elasticnet, solver=newton-cg;, score=nan total time=   0.0s\n",
      "[CV 1/5] END ......C=0.36, penalty=l1, solver=sag;, score=nan total time=   0.0s\n",
      "[CV 2/5] END ......C=0.36, penalty=l1, solver=sag;, score=nan total time=   0.0s\n",
      "[CV 3/5] END ......C=0.36, penalty=l1, solver=sag;, score=nan total time=   0.0s\n",
      "[CV 4/5] END ......C=0.36, penalty=l1, solver=sag;, score=nan total time=   0.0s\n",
      "[CV 5/5] END ......C=0.36, penalty=l1, solver=sag;, score=nan total time=   0.0s\n",
      "[CV 1/5] END C=0.76, penalty=none, solver=liblinear;, score=nan total time=   0.0s\n",
      "[CV 2/5] END C=0.76, penalty=none, solver=liblinear;, score=nan total time=   0.0s\n",
      "[CV 3/5] END C=0.76, penalty=none, solver=liblinear;, score=nan total time=   0.0s\n",
      "[CV 4/5] END C=0.76, penalty=none, solver=liblinear;, score=nan total time=   0.0s\n",
      "[CV 5/5] END C=0.76, penalty=none, solver=liblinear;, score=nan total time=   0.0s\n",
      "[CV 1/5] END C=0.06, penalty=l1, solver=liblinear;, score=0.015 total time=   0.2s\n",
      "[CV 2/5] END C=0.06, penalty=l1, solver=liblinear;, score=0.002 total time=   0.2s\n",
      "[CV 3/5] END C=0.06, penalty=l1, solver=liblinear;, score=0.017 total time=   0.3s\n",
      "[CV 4/5] END C=0.06, penalty=l1, solver=liblinear;, score=0.004 total time=   0.2s\n",
      "[CV 5/5] END C=0.06, penalty=l1, solver=liblinear;, score=0.002 total time=   0.2s\n",
      "[CV 1/5] END C=0.97, penalty=l2, solver=newton-cg;, score=0.531 total time=   0.6s\n",
      "[CV 2/5] END C=0.97, penalty=l2, solver=newton-cg;, score=0.528 total time=   0.6s\n",
      "[CV 3/5] END C=0.97, penalty=l2, solver=newton-cg;, score=0.513 total time=   0.6s\n",
      "[CV 4/5] END C=0.97, penalty=l2, solver=newton-cg;, score=0.507 total time=   0.6s\n",
      "[CV 5/5] END C=0.97, penalty=l2, solver=newton-cg;, score=0.538 total time=   0.6s\n",
      "[CV 1/5] END C=0.05, penalty=elasticnet, solver=newton-cg;, score=nan total time=   0.0s\n",
      "[CV 2/5] END C=0.05, penalty=elasticnet, solver=newton-cg;, score=nan total time=   0.0s\n",
      "[CV 3/5] END C=0.05, penalty=elasticnet, solver=newton-cg;, score=nan total time=   0.0s\n",
      "[CV 4/5] END C=0.05, penalty=elasticnet, solver=newton-cg;, score=nan total time=   0.0s\n",
      "[CV 5/5] END C=0.05, penalty=elasticnet, solver=newton-cg;, score=nan total time=   0.0s\n",
      "[CV 1/5] END ..C=0.22, penalty=l2, solver=lbfgs;, score=0.509 total time=   0.2s\n",
      "[CV 2/5] END ..C=0.22, penalty=l2, solver=lbfgs;, score=0.494 total time=   0.2s\n",
      "[CV 3/5] END ..C=0.22, penalty=l2, solver=lbfgs;, score=0.483 total time=   0.2s\n",
      "[CV 4/5] END ..C=0.22, penalty=l2, solver=lbfgs;, score=0.481 total time=   0.2s\n",
      "[CV 5/5] END ..C=0.22, penalty=l2, solver=lbfgs;, score=0.510 total time=   0.2s\n"
     ]
    },
    {
     "name": "stderr",
     "output_type": "stream",
     "text": [
      "C:\\Users\\Wesub\\anaconda3\\lib\\site-packages\\sklearn\\linear_model\\_logistic.py:458: ConvergenceWarning: lbfgs failed to converge (status=1):\n",
      "STOP: TOTAL NO. of ITERATIONS REACHED LIMIT.\n",
      "\n",
      "Increase the number of iterations (max_iter) or scale the data as shown in:\n",
      "    https://scikit-learn.org/stable/modules/preprocessing.html\n",
      "Please also refer to the documentation for alternative solver options:\n",
      "    https://scikit-learn.org/stable/modules/linear_model.html#logistic-regression\n",
      "  n_iter_i = _check_optimize_result(\n"
     ]
    },
    {
     "name": "stdout",
     "output_type": "stream",
     "text": [
      "[CV 1/5] END ..C=0.75, penalty=l2, solver=lbfgs;, score=0.525 total time=   0.2s\n"
     ]
    },
    {
     "name": "stderr",
     "output_type": "stream",
     "text": [
      "C:\\Users\\Wesub\\anaconda3\\lib\\site-packages\\sklearn\\linear_model\\_logistic.py:458: ConvergenceWarning: lbfgs failed to converge (status=1):\n",
      "STOP: TOTAL NO. of ITERATIONS REACHED LIMIT.\n",
      "\n",
      "Increase the number of iterations (max_iter) or scale the data as shown in:\n",
      "    https://scikit-learn.org/stable/modules/preprocessing.html\n",
      "Please also refer to the documentation for alternative solver options:\n",
      "    https://scikit-learn.org/stable/modules/linear_model.html#logistic-regression\n",
      "  n_iter_i = _check_optimize_result(\n"
     ]
    },
    {
     "name": "stdout",
     "output_type": "stream",
     "text": [
      "[CV 2/5] END ..C=0.75, penalty=l2, solver=lbfgs;, score=0.526 total time=   0.2s\n"
     ]
    },
    {
     "name": "stderr",
     "output_type": "stream",
     "text": [
      "C:\\Users\\Wesub\\anaconda3\\lib\\site-packages\\sklearn\\linear_model\\_logistic.py:458: ConvergenceWarning: lbfgs failed to converge (status=1):\n",
      "STOP: TOTAL NO. of ITERATIONS REACHED LIMIT.\n",
      "\n",
      "Increase the number of iterations (max_iter) or scale the data as shown in:\n",
      "    https://scikit-learn.org/stable/modules/preprocessing.html\n",
      "Please also refer to the documentation for alternative solver options:\n",
      "    https://scikit-learn.org/stable/modules/linear_model.html#logistic-regression\n",
      "  n_iter_i = _check_optimize_result(\n"
     ]
    },
    {
     "name": "stdout",
     "output_type": "stream",
     "text": [
      "[CV 3/5] END ..C=0.75, penalty=l2, solver=lbfgs;, score=0.508 total time=   0.3s\n"
     ]
    },
    {
     "name": "stderr",
     "output_type": "stream",
     "text": [
      "C:\\Users\\Wesub\\anaconda3\\lib\\site-packages\\sklearn\\linear_model\\_logistic.py:458: ConvergenceWarning: lbfgs failed to converge (status=1):\n",
      "STOP: TOTAL NO. of ITERATIONS REACHED LIMIT.\n",
      "\n",
      "Increase the number of iterations (max_iter) or scale the data as shown in:\n",
      "    https://scikit-learn.org/stable/modules/preprocessing.html\n",
      "Please also refer to the documentation for alternative solver options:\n",
      "    https://scikit-learn.org/stable/modules/linear_model.html#logistic-regression\n",
      "  n_iter_i = _check_optimize_result(\n"
     ]
    },
    {
     "name": "stdout",
     "output_type": "stream",
     "text": [
      "[CV 4/5] END ..C=0.75, penalty=l2, solver=lbfgs;, score=0.506 total time=   0.2s\n"
     ]
    },
    {
     "name": "stderr",
     "output_type": "stream",
     "text": [
      "C:\\Users\\Wesub\\anaconda3\\lib\\site-packages\\sklearn\\linear_model\\_logistic.py:458: ConvergenceWarning: lbfgs failed to converge (status=1):\n",
      "STOP: TOTAL NO. of ITERATIONS REACHED LIMIT.\n",
      "\n",
      "Increase the number of iterations (max_iter) or scale the data as shown in:\n",
      "    https://scikit-learn.org/stable/modules/preprocessing.html\n",
      "Please also refer to the documentation for alternative solver options:\n",
      "    https://scikit-learn.org/stable/modules/linear_model.html#logistic-regression\n",
      "  n_iter_i = _check_optimize_result(\n"
     ]
    },
    {
     "name": "stdout",
     "output_type": "stream",
     "text": [
      "[CV 5/5] END ..C=0.75, penalty=l2, solver=lbfgs;, score=0.535 total time=   0.2s\n",
      "[CV 1/5] END C=0.04, penalty=elasticnet, solver=saga;, score=nan total time=   0.0s\n",
      "[CV 2/5] END C=0.04, penalty=elasticnet, solver=saga;, score=nan total time=   0.0s\n",
      "[CV 3/5] END C=0.04, penalty=elasticnet, solver=saga;, score=nan total time=   0.0s\n",
      "[CV 4/5] END C=0.04, penalty=elasticnet, solver=saga;, score=nan total time=   0.0s\n",
      "[CV 5/5] END C=0.04, penalty=elasticnet, solver=saga;, score=nan total time=   0.0s\n",
      "[CV 1/5] END C=0.4, penalty=elasticnet, solver=newton-cg;, score=nan total time=   0.0s\n",
      "[CV 2/5] END C=0.4, penalty=elasticnet, solver=newton-cg;, score=nan total time=   0.0s\n",
      "[CV 3/5] END C=0.4, penalty=elasticnet, solver=newton-cg;, score=nan total time=   0.0s\n",
      "[CV 4/5] END C=0.4, penalty=elasticnet, solver=newton-cg;, score=nan total time=   0.0s\n",
      "[CV 5/5] END C=0.4, penalty=elasticnet, solver=newton-cg;, score=nan total time=   0.0s\n"
     ]
    },
    {
     "name": "stderr",
     "output_type": "stream",
     "text": [
      "C:\\Users\\Wesub\\anaconda3\\lib\\site-packages\\sklearn\\linear_model\\_logistic.py:1181: UserWarning: Setting penalty=None will ignore the C and l1_ratio parameters\n",
      "  warnings.warn(\n",
      "C:\\Users\\Wesub\\anaconda3\\lib\\site-packages\\sklearn\\linear_model\\_sag.py:350: ConvergenceWarning: The max_iter was reached which means the coef_ did not converge\n",
      "  warnings.warn(\n",
      "C:\\Users\\Wesub\\anaconda3\\lib\\site-packages\\sklearn\\linear_model\\_logistic.py:1181: UserWarning: Setting penalty=None will ignore the C and l1_ratio parameters\n",
      "  warnings.warn(\n"
     ]
    },
    {
     "name": "stdout",
     "output_type": "stream",
     "text": [
      "[CV 1/5] END .C=0.76, penalty=none, solver=saga;, score=0.539 total time=   4.2s\n"
     ]
    },
    {
     "name": "stderr",
     "output_type": "stream",
     "text": [
      "C:\\Users\\Wesub\\anaconda3\\lib\\site-packages\\sklearn\\linear_model\\_sag.py:350: ConvergenceWarning: The max_iter was reached which means the coef_ did not converge\n",
      "  warnings.warn(\n",
      "C:\\Users\\Wesub\\anaconda3\\lib\\site-packages\\sklearn\\linear_model\\_logistic.py:1181: UserWarning: Setting penalty=None will ignore the C and l1_ratio parameters\n",
      "  warnings.warn(\n"
     ]
    },
    {
     "name": "stdout",
     "output_type": "stream",
     "text": [
      "[CV 2/5] END .C=0.76, penalty=none, solver=saga;, score=0.525 total time=   4.3s\n"
     ]
    },
    {
     "name": "stderr",
     "output_type": "stream",
     "text": [
      "C:\\Users\\Wesub\\anaconda3\\lib\\site-packages\\sklearn\\linear_model\\_sag.py:350: ConvergenceWarning: The max_iter was reached which means the coef_ did not converge\n",
      "  warnings.warn(\n",
      "C:\\Users\\Wesub\\anaconda3\\lib\\site-packages\\sklearn\\linear_model\\_logistic.py:1181: UserWarning: Setting penalty=None will ignore the C and l1_ratio parameters\n",
      "  warnings.warn(\n"
     ]
    },
    {
     "name": "stdout",
     "output_type": "stream",
     "text": [
      "[CV 3/5] END .C=0.76, penalty=none, solver=saga;, score=0.515 total time=   4.2s\n"
     ]
    },
    {
     "name": "stderr",
     "output_type": "stream",
     "text": [
      "C:\\Users\\Wesub\\anaconda3\\lib\\site-packages\\sklearn\\linear_model\\_sag.py:350: ConvergenceWarning: The max_iter was reached which means the coef_ did not converge\n",
      "  warnings.warn(\n",
      "C:\\Users\\Wesub\\anaconda3\\lib\\site-packages\\sklearn\\linear_model\\_logistic.py:1181: UserWarning: Setting penalty=None will ignore the C and l1_ratio parameters\n",
      "  warnings.warn(\n"
     ]
    },
    {
     "name": "stdout",
     "output_type": "stream",
     "text": [
      "[CV 4/5] END .C=0.76, penalty=none, solver=saga;, score=0.510 total time=   4.6s\n"
     ]
    },
    {
     "name": "stderr",
     "output_type": "stream",
     "text": [
      "C:\\Users\\Wesub\\anaconda3\\lib\\site-packages\\sklearn\\linear_model\\_sag.py:350: ConvergenceWarning: The max_iter was reached which means the coef_ did not converge\n",
      "  warnings.warn(\n"
     ]
    },
    {
     "name": "stdout",
     "output_type": "stream",
     "text": [
      "[CV 5/5] END .C=0.76, penalty=none, solver=saga;, score=0.552 total time=   4.3s\n",
      "[CV 1/5] END C=0.02, penalty=l1, solver=newton-cg;, score=nan total time=   0.0s\n",
      "[CV 2/5] END C=0.02, penalty=l1, solver=newton-cg;, score=nan total time=   0.0s\n",
      "[CV 3/5] END C=0.02, penalty=l1, solver=newton-cg;, score=nan total time=   0.0s\n",
      "[CV 4/5] END C=0.02, penalty=l1, solver=newton-cg;, score=nan total time=   0.0s\n",
      "[CV 5/5] END C=0.02, penalty=l1, solver=newton-cg;, score=nan total time=   0.0s\n",
      "[CV 1/5] END C=0.99, penalty=elasticnet, solver=saga;, score=nan total time=   0.0s\n",
      "[CV 2/5] END C=0.99, penalty=elasticnet, solver=saga;, score=nan total time=   0.0s\n",
      "[CV 3/5] END C=0.99, penalty=elasticnet, solver=saga;, score=nan total time=   0.0s\n",
      "[CV 4/5] END C=0.99, penalty=elasticnet, solver=saga;, score=nan total time=   0.0s\n",
      "[CV 5/5] END C=0.99, penalty=elasticnet, solver=saga;, score=nan total time=   0.0s\n"
     ]
    },
    {
     "name": "stderr",
     "output_type": "stream",
     "text": [
      "C:\\Users\\Wesub\\anaconda3\\lib\\site-packages\\sklearn\\linear_model\\_logistic.py:1181: UserWarning: Setting penalty=None will ignore the C and l1_ratio parameters\n",
      "  warnings.warn(\n",
      "C:\\Users\\Wesub\\anaconda3\\lib\\site-packages\\sklearn\\linear_model\\_logistic.py:458: ConvergenceWarning: lbfgs failed to converge (status=1):\n",
      "STOP: TOTAL NO. of ITERATIONS REACHED LIMIT.\n",
      "\n",
      "Increase the number of iterations (max_iter) or scale the data as shown in:\n",
      "    https://scikit-learn.org/stable/modules/preprocessing.html\n",
      "Please also refer to the documentation for alternative solver options:\n",
      "    https://scikit-learn.org/stable/modules/linear_model.html#logistic-regression\n",
      "  n_iter_i = _check_optimize_result(\n",
      "C:\\Users\\Wesub\\anaconda3\\lib\\site-packages\\sklearn\\linear_model\\_logistic.py:1181: UserWarning: Setting penalty=None will ignore the C and l1_ratio parameters\n",
      "  warnings.warn(\n"
     ]
    },
    {
     "name": "stdout",
     "output_type": "stream",
     "text": [
      "[CV 1/5] END C=0.32, penalty=none, solver=lbfgs;, score=0.534 total time=   0.2s\n"
     ]
    },
    {
     "name": "stderr",
     "output_type": "stream",
     "text": [
      "C:\\Users\\Wesub\\anaconda3\\lib\\site-packages\\sklearn\\linear_model\\_logistic.py:458: ConvergenceWarning: lbfgs failed to converge (status=1):\n",
      "STOP: TOTAL NO. of ITERATIONS REACHED LIMIT.\n",
      "\n",
      "Increase the number of iterations (max_iter) or scale the data as shown in:\n",
      "    https://scikit-learn.org/stable/modules/preprocessing.html\n",
      "Please also refer to the documentation for alternative solver options:\n",
      "    https://scikit-learn.org/stable/modules/linear_model.html#logistic-regression\n",
      "  n_iter_i = _check_optimize_result(\n",
      "C:\\Users\\Wesub\\anaconda3\\lib\\site-packages\\sklearn\\linear_model\\_logistic.py:1181: UserWarning: Setting penalty=None will ignore the C and l1_ratio parameters\n",
      "  warnings.warn(\n"
     ]
    },
    {
     "name": "stdout",
     "output_type": "stream",
     "text": [
      "[CV 2/5] END C=0.32, penalty=none, solver=lbfgs;, score=0.528 total time=   0.3s\n"
     ]
    },
    {
     "name": "stderr",
     "output_type": "stream",
     "text": [
      "C:\\Users\\Wesub\\anaconda3\\lib\\site-packages\\sklearn\\linear_model\\_logistic.py:458: ConvergenceWarning: lbfgs failed to converge (status=1):\n",
      "STOP: TOTAL NO. of ITERATIONS REACHED LIMIT.\n",
      "\n",
      "Increase the number of iterations (max_iter) or scale the data as shown in:\n",
      "    https://scikit-learn.org/stable/modules/preprocessing.html\n",
      "Please also refer to the documentation for alternative solver options:\n",
      "    https://scikit-learn.org/stable/modules/linear_model.html#logistic-regression\n",
      "  n_iter_i = _check_optimize_result(\n",
      "C:\\Users\\Wesub\\anaconda3\\lib\\site-packages\\sklearn\\linear_model\\_logistic.py:1181: UserWarning: Setting penalty=None will ignore the C and l1_ratio parameters\n",
      "  warnings.warn(\n"
     ]
    },
    {
     "name": "stdout",
     "output_type": "stream",
     "text": [
      "[CV 3/5] END C=0.32, penalty=none, solver=lbfgs;, score=0.505 total time=   0.3s\n"
     ]
    },
    {
     "name": "stderr",
     "output_type": "stream",
     "text": [
      "C:\\Users\\Wesub\\anaconda3\\lib\\site-packages\\sklearn\\linear_model\\_logistic.py:458: ConvergenceWarning: lbfgs failed to converge (status=1):\n",
      "STOP: TOTAL NO. of ITERATIONS REACHED LIMIT.\n",
      "\n",
      "Increase the number of iterations (max_iter) or scale the data as shown in:\n",
      "    https://scikit-learn.org/stable/modules/preprocessing.html\n",
      "Please also refer to the documentation for alternative solver options:\n",
      "    https://scikit-learn.org/stable/modules/linear_model.html#logistic-regression\n",
      "  n_iter_i = _check_optimize_result(\n",
      "C:\\Users\\Wesub\\anaconda3\\lib\\site-packages\\sklearn\\linear_model\\_logistic.py:1181: UserWarning: Setting penalty=None will ignore the C and l1_ratio parameters\n",
      "  warnings.warn(\n"
     ]
    },
    {
     "name": "stdout",
     "output_type": "stream",
     "text": [
      "[CV 4/5] END C=0.32, penalty=none, solver=lbfgs;, score=0.504 total time=   0.3s\n"
     ]
    },
    {
     "name": "stderr",
     "output_type": "stream",
     "text": [
      "C:\\Users\\Wesub\\anaconda3\\lib\\site-packages\\sklearn\\linear_model\\_logistic.py:458: ConvergenceWarning: lbfgs failed to converge (status=1):\n",
      "STOP: TOTAL NO. of ITERATIONS REACHED LIMIT.\n",
      "\n",
      "Increase the number of iterations (max_iter) or scale the data as shown in:\n",
      "    https://scikit-learn.org/stable/modules/preprocessing.html\n",
      "Please also refer to the documentation for alternative solver options:\n",
      "    https://scikit-learn.org/stable/modules/linear_model.html#logistic-regression\n",
      "  n_iter_i = _check_optimize_result(\n",
      "C:\\Users\\Wesub\\anaconda3\\lib\\site-packages\\sklearn\\model_selection\\_validation.py:378: FitFailedWarning: \n",
      "45 fits failed out of a total of 100.\n",
      "The score on these train-test partitions for these parameters will be set to nan.\n",
      "If these failures are not expected, you can try to debug them by setting error_score='raise'.\n",
      "\n",
      "Below are more details about the failures:\n",
      "--------------------------------------------------------------------------------\n",
      "10 fits failed with the following error:\n",
      "Traceback (most recent call last):\n",
      "  File \"C:\\Users\\Wesub\\anaconda3\\lib\\site-packages\\sklearn\\model_selection\\_validation.py\", line 686, in _fit_and_score\n",
      "    estimator.fit(X_train, y_train, **fit_params)\n",
      "  File \"C:\\Users\\Wesub\\anaconda3\\lib\\site-packages\\sklearn\\linear_model\\_logistic.py\", line 1162, in fit\n",
      "    solver = _check_solver(self.solver, self.penalty, self.dual)\n",
      "  File \"C:\\Users\\Wesub\\anaconda3\\lib\\site-packages\\sklearn\\linear_model\\_logistic.py\", line 54, in _check_solver\n",
      "    raise ValueError(\n",
      "ValueError: Solver sag supports only 'l2' or 'none' penalties, got l1 penalty.\n",
      "\n",
      "--------------------------------------------------------------------------------\n",
      "15 fits failed with the following error:\n",
      "Traceback (most recent call last):\n",
      "  File \"C:\\Users\\Wesub\\anaconda3\\lib\\site-packages\\sklearn\\model_selection\\_validation.py\", line 686, in _fit_and_score\n",
      "    estimator.fit(X_train, y_train, **fit_params)\n",
      "  File \"C:\\Users\\Wesub\\anaconda3\\lib\\site-packages\\sklearn\\linear_model\\_logistic.py\", line 1162, in fit\n",
      "    solver = _check_solver(self.solver, self.penalty, self.dual)\n",
      "  File \"C:\\Users\\Wesub\\anaconda3\\lib\\site-packages\\sklearn\\linear_model\\_logistic.py\", line 54, in _check_solver\n",
      "    raise ValueError(\n",
      "ValueError: Solver newton-cg supports only 'l2' or 'none' penalties, got elasticnet penalty.\n",
      "\n",
      "--------------------------------------------------------------------------------\n",
      "5 fits failed with the following error:\n",
      "Traceback (most recent call last):\n",
      "  File \"C:\\Users\\Wesub\\anaconda3\\lib\\site-packages\\sklearn\\model_selection\\_validation.py\", line 686, in _fit_and_score\n",
      "    estimator.fit(X_train, y_train, **fit_params)\n",
      "  File \"C:\\Users\\Wesub\\anaconda3\\lib\\site-packages\\sklearn\\linear_model\\_logistic.py\", line 1162, in fit\n",
      "    solver = _check_solver(self.solver, self.penalty, self.dual)\n",
      "  File \"C:\\Users\\Wesub\\anaconda3\\lib\\site-packages\\sklearn\\linear_model\\_logistic.py\", line 71, in _check_solver\n",
      "    raise ValueError(\"penalty='none' is not supported for the liblinear solver\")\n",
      "ValueError: penalty='none' is not supported for the liblinear solver\n",
      "\n",
      "--------------------------------------------------------------------------------\n",
      "10 fits failed with the following error:\n",
      "Traceback (most recent call last):\n",
      "  File \"C:\\Users\\Wesub\\anaconda3\\lib\\site-packages\\sklearn\\model_selection\\_validation.py\", line 686, in _fit_and_score\n",
      "    estimator.fit(X_train, y_train, **fit_params)\n",
      "  File \"C:\\Users\\Wesub\\anaconda3\\lib\\site-packages\\sklearn\\linear_model\\_logistic.py\", line 1291, in fit\n",
      "    fold_coefs_ = Parallel(n_jobs=self.n_jobs, verbose=self.verbose, prefer=prefer)(\n",
      "  File \"C:\\Users\\Wesub\\anaconda3\\lib\\site-packages\\sklearn\\utils\\parallel.py\", line 63, in __call__\n",
      "    return super().__call__(iterable_with_config)\n",
      "  File \"C:\\Users\\Wesub\\anaconda3\\lib\\site-packages\\joblib\\parallel.py\", line 1048, in __call__\n",
      "    if self.dispatch_one_batch(iterator):\n",
      "  File \"C:\\Users\\Wesub\\anaconda3\\lib\\site-packages\\joblib\\parallel.py\", line 864, in dispatch_one_batch\n",
      "    self._dispatch(tasks)\n",
      "  File \"C:\\Users\\Wesub\\anaconda3\\lib\\site-packages\\joblib\\parallel.py\", line 782, in _dispatch\n",
      "    job = self._backend.apply_async(batch, callback=cb)\n",
      "  File \"C:\\Users\\Wesub\\anaconda3\\lib\\site-packages\\joblib\\_parallel_backends.py\", line 208, in apply_async\n",
      "    result = ImmediateResult(func)\n",
      "  File \"C:\\Users\\Wesub\\anaconda3\\lib\\site-packages\\joblib\\_parallel_backends.py\", line 572, in __init__\n",
      "    self.results = batch()\n",
      "  File \"C:\\Users\\Wesub\\anaconda3\\lib\\site-packages\\joblib\\parallel.py\", line 263, in __call__\n",
      "    return [func(*args, **kwargs)\n",
      "  File \"C:\\Users\\Wesub\\anaconda3\\lib\\site-packages\\joblib\\parallel.py\", line 263, in <listcomp>\n",
      "    return [func(*args, **kwargs)\n",
      "  File \"C:\\Users\\Wesub\\anaconda3\\lib\\site-packages\\sklearn\\utils\\parallel.py\", line 123, in __call__\n",
      "    return self.function(*args, **kwargs)\n",
      "  File \"C:\\Users\\Wesub\\anaconda3\\lib\\site-packages\\sklearn\\linear_model\\_logistic.py\", line 521, in _logistic_regression_path\n",
      "    alpha = (1.0 / C) * (1 - l1_ratio)\n",
      "TypeError: unsupported operand type(s) for -: 'int' and 'NoneType'\n",
      "\n",
      "--------------------------------------------------------------------------------\n",
      "5 fits failed with the following error:\n",
      "Traceback (most recent call last):\n",
      "  File \"C:\\Users\\Wesub\\anaconda3\\lib\\site-packages\\sklearn\\model_selection\\_validation.py\", line 686, in _fit_and_score\n",
      "    estimator.fit(X_train, y_train, **fit_params)\n",
      "  File \"C:\\Users\\Wesub\\anaconda3\\lib\\site-packages\\sklearn\\linear_model\\_logistic.py\", line 1162, in fit\n",
      "    solver = _check_solver(self.solver, self.penalty, self.dual)\n",
      "  File \"C:\\Users\\Wesub\\anaconda3\\lib\\site-packages\\sklearn\\linear_model\\_logistic.py\", line 54, in _check_solver\n",
      "    raise ValueError(\n",
      "ValueError: Solver newton-cg supports only 'l2' or 'none' penalties, got l1 penalty.\n",
      "\n",
      "  warnings.warn(some_fits_failed_message, FitFailedWarning)\n",
      "C:\\Users\\Wesub\\anaconda3\\lib\\site-packages\\sklearn\\model_selection\\_search.py:952: UserWarning: One or more of the test scores are non-finite: [0.28484371 0.51629819        nan 0.52316173 0.51407041 0.52085124\n",
      "        nan        nan        nan 0.00812843 0.52335893        nan\n",
      " 0.49524411 0.51975175        nan        nan 0.52820459        nan\n",
      "        nan 0.52452979]\n",
      "  warnings.warn(\n",
      "C:\\Users\\Wesub\\anaconda3\\lib\\site-packages\\sklearn\\linear_model\\_logistic.py:1181: UserWarning: Setting penalty=None will ignore the C and l1_ratio parameters\n",
      "  warnings.warn(\n"
     ]
    },
    {
     "name": "stdout",
     "output_type": "stream",
     "text": [
      "[CV 5/5] END C=0.32, penalty=none, solver=lbfgs;, score=0.550 total time=   0.2s\n"
     ]
    },
    {
     "name": "stderr",
     "output_type": "stream",
     "text": [
      "C:\\Users\\Wesub\\anaconda3\\lib\\site-packages\\sklearn\\linear_model\\_sag.py:350: ConvergenceWarning: The max_iter was reached which means the coef_ did not converge\n",
      "  warnings.warn(\n",
      "C:\\Users\\Wesub\\anaconda3\\lib\\site-packages\\sklearn\\linear_model\\_logistic.py:1181: UserWarning: Setting penalty=None will ignore the C and l1_ratio parameters\n",
      "  warnings.warn(\n"
     ]
    },
    {
     "name": "stdout",
     "output_type": "stream",
     "text": [
      "Best parameters: {'solver': 'saga', 'penalty': 'none', 'C': 0.76} \n",
      "\n",
      "\n",
      "\n",
      "\n",
      "_______________________________________________________________________\n",
      "EVALUATION\n",
      "\n",
      "----- TRAIN -----\n",
      "\n",
      "Confusion matrix\n",
      " [[4922 1498]\n",
      " [2263 2841]] \n",
      "\n",
      "Accuracy: 67.4 \n",
      "\n",
      "F1 Score: 60.2 \n",
      "\n",
      "Balanced accuracy: 60.2 \n",
      "\n",
      "AUC Score: 66.2 \n",
      "\n",
      "\n",
      "----- TEST -----\n",
      "\n",
      "Confusion matrix\n",
      " [[507 207]\n",
      " [275 278]] \n",
      "\n",
      "Accuracy: 62.0 \n",
      "\n",
      "F1 Score: 53.6 \n",
      "\n",
      "Balanced accuracy: 53.6 \n",
      "\n",
      "AUC Score: 60.6 \n",
      "\n",
      "_______________________________________________________________________\n"
     ]
    },
    {
     "name": "stderr",
     "output_type": "stream",
     "text": [
      "C:\\Users\\Wesub\\anaconda3\\lib\\site-packages\\sklearn\\linear_model\\_sag.py:350: ConvergenceWarning: The max_iter was reached which means the coef_ did not converge\n",
      "  warnings.warn(\n"
     ]
    }
   ],
   "source": [
    "# Instantiate classifier\n",
    "classifier = LRClassifier()\n",
    "\n",
    "# Perform randomized search over hyperparameters\n",
    "param_distributions = {\n",
    "    'penalty': ['l1', 'l2', 'elasticnet', 'none'],\n",
    "    'solver' : ['newton-cg', 'lbfgs', 'liblinear', 'sag', 'saga'],\n",
    "    'C' : np.arange(0, 1, 0.01)\n",
    "}\n",
    "classifier.randomized_search(X_train_embeddings_gpt2, y_train, param_distributions)\n",
    "\n",
    "# Train classifier on training data\n",
    "classifier.fit(X_train_embeddings_gpt2, y_train)\n",
    "\n",
    "# Evaluate classifier\n",
    "print('\\n')\n",
    "print('\\n_______________________________________________________________________')\n",
    "print('EVALUATION')\n",
    "\n",
    "print('\\n----- TRAIN -----')\n",
    "cm_lr_gpt2_train, accuracy_lr_gpt2_train, f1_lr_gpt2_train, balaccuracy_lr_gpt2_train, rocauc_lr_gpt2_train = classifier.evaluate(X_train_embeddings_gpt2, y_train)\n",
    "\n",
    "print('\\n----- TEST -----')\n",
    "cm_lr_gpt2_test, accuracy_lr_gpt2_test, f1_lr_gpt2_test, balaccuracy_lr_gpt2_test, rocauc_lr_gpt2_test = classifier.evaluate(X_test_embeddings_gpt2, y_test)\n",
    "print('_______________________________________________________________________')"
   ]
  },
  {
   "cell_type": "code",
   "execution_count": 50,
   "metadata": {
    "collapsed": false,
    "jupyter": {
     "outputs_hidden": false
    }
   },
   "outputs": [],
   "source": [
    "cm_lr_gpt2_train_tosave = repr(cm_lr_gpt2_train)\n",
    "accuracy_lr_gpt2_train_tosave = repr(accuracy_lr_gpt2_train)\n",
    "f1_lr_gpt2_train_tosave = repr(f1_lr_gpt2_train)\n",
    "balaccuracy_lr_gpt2_train_tosave = repr(balaccuracy_lr_gpt2_train)\n",
    "rocauc_lr_gpt2_train_tosave = repr(rocauc_lr_gpt2_train)\n",
    "\n",
    "cm_lr_gpt2_test_tosave = repr(cm_lr_gpt2_test)\n",
    "accuracy_lr_gpt2_test_tosave = repr(accuracy_lr_gpt2_test)\n",
    "f1_lr_gpt2_test_tosave = repr(f1_lr_gpt2_test)\n",
    "balaccuracy_lr_gpt2_test_tosave = repr(balaccuracy_lr_gpt2_test)\n",
    "rocauc_lr_gpt2_test_tosave = repr(rocauc_lr_gpt2_test)\n",
    "\n",
    "\n",
    "file = open(\"results_split/lr_gpt2_\"+time.strftime(\"%Y%m%d-%H%M%S\")+\".txt\", \"w\")\n",
    "\n",
    "file.write(\"Train CM = \"+cm_lr_gpt2_train_tosave + \"\\n\" +\n",
    "           \"Train Accuracy = \" + accuracy_lr_gpt2_train_tosave + \"\\n\" +\n",
    "           \"Train F1 = \"+f1_lr_gpt2_train_tosave + \"\\n\"+\n",
    "           \"Train Balanced Accuracy = \"+balaccuracy_lr_gpt2_train_tosave + \"\\n\" +\n",
    "           \"Train ROCAUC = \"+rocauc_lr_gpt2_train_tosave + \"\\n\"+\n",
    "           \"Test CM = \"+cm_lr_gpt2_test_tosave + \"\\n\"+\n",
    "           \"Test Accuracy = \"+accuracy_lr_gpt2_test_tosave + \"\\n\"+\n",
    "           \"Test F1 = \"+f1_lr_gpt2_test_tosave + \"\\n\"+\n",
    "           \"Test Balanced Accuracy = \"+balaccuracy_lr_gpt2_test_tosave + \"\\n\"+\n",
    "           \"Test ROCAUC = \"+rocauc_lr_gpt2_test_tosave)\n",
    "\n",
    "file.close()"
   ]
  },
  {
   "cell_type": "markdown",
   "metadata": {},
   "source": [
    "### GPT2 + Neural Network"
   ]
  },
  {
   "cell_type": "code",
   "execution_count": 51,
   "metadata": {
    "ExecuteTime": {
     "end_time": "2023-05-22T01:06:42.468684512Z",
     "start_time": "2023-05-22T01:06:07.015363770Z"
    },
    "collapsed": false,
    "jupyter": {
     "outputs_hidden": false
    }
   },
   "outputs": [
    {
     "name": "stdout",
     "output_type": "stream",
     "text": [
      "Epoch 1/15 | Train Loss: 0.6657 | Val Loss: 0.6535 | F1 Score: 0.5510 | Balanced Accuracy: 0.6060 | AUC: 0.6060\n",
      "Epoch 2/15 | Train Loss: 0.6475 | Val Loss: 0.6540 | F1 Score: 0.5476 | Balanced Accuracy: 0.6052 | AUC: 0.6052\n",
      "Epoch 3/15 | Train Loss: 0.6362 | Val Loss: 0.6575 | F1 Score: 0.5443 | Balanced Accuracy: 0.6015 | AUC: 0.6015\n",
      "Epoch 4/15 | Train Loss: 0.6253 | Val Loss: 0.6622 | F1 Score: 0.5411 | Balanced Accuracy: 0.5961 | AUC: 0.5961\n",
      "Epoch 5/15 | Train Loss: 0.6099 | Val Loss: 0.6699 | F1 Score: 0.5448 | Balanced Accuracy: 0.6022 | AUC: 0.6022\n",
      "Epoch 6/15 | Train Loss: 0.5906 | Val Loss: 0.6821 | F1 Score: 0.5456 | Balanced Accuracy: 0.5966 | AUC: 0.5966\n",
      "Early stopping triggered. No improvement in 5 epochs.\n"
     ]
    },
    {
     "data": {
      "image/png": "[encoded data removed]",
      "text/plain": [
       "<Figure size 1200x400 with 1 Axes>"
      ]
     },
     "metadata": {},
     "output_type": "display_data"
    },
    {
     "name": "stdout",
     "output_type": "stream",
     "text": [
      "\n",
      "\n",
      "\n",
      "_______________________________________________________________________\n",
      "EVALUATION\n",
      "\n",
      "----- TRAIN -----\n",
      "\n",
      "Confusion matrix\n",
      " [[4683 1737]\n",
      " [1796 3308]] \n",
      "\n",
      "Accuracy: 69.3 \n",
      "\n",
      "F1 Score: 65.2 \n",
      "\n",
      "Balanced accuracy: 68.9 \n",
      "\n",
      "AUC Score: 68.9 \n",
      "\n",
      "\n",
      "----- TEST -----\n",
      "\n",
      "Confusion matrix\n",
      " [[462 252]\n",
      " [251 302]] \n",
      "\n",
      "Accuracy: 60.3 \n",
      "\n",
      "F1 Score: 54.6 \n",
      "\n",
      "Balanced accuracy: 59.7 \n",
      "\n",
      "AUC Score: 59.7 \n",
      "\n",
      "_______________________________________________________________________\n"
     ]
    }
   ],
   "source": [
    "# --------------------\n",
    "# SET PARAMETERS\n",
    "dropout_rate = 0.1\n",
    "epochs_number = 15\n",
    "learning_rate = 0.0001\n",
    "early_stopping = 5\n",
    "# --------------------\n",
    "\n",
    "input_dim = X_train_embeddings_gpt2.shape[1]  # Dimensionality of word embeddings\n",
    "hidden_dim = X_train_embeddings_gpt2.shape[1]*2  # Number of units in the hidden layer\n",
    "\n",
    "classifier = NeuralNetworkClassifier(input_dim, hidden_dim, dropout=dropout_rate)\n",
    "\n",
    "# Fit the model\n",
    "classifier.fit(X_train_embeddings_gpt2, y_train, X_test_embeddings_gpt2, y_test, num_epochs=epochs_number, lr=learning_rate, patience=early_stopping)\n",
    "\n",
    "# Evaluate classifier\n",
    "print('\\n')\n",
    "print('\\n_______________________________________________________________________')\n",
    "print('EVALUATION')\n",
    "\n",
    "print('\\n----- TRAIN -----')\n",
    "cm_nn_gpt2_train, accuracy_nn_gpt2_train, f1_nn_gpt2_train, balaccuracy_nn_gpt2_train, rocauc_nn_gpt2_train = classifier.evaluate(X_train_embeddings_gpt2, y_train)\n",
    "\n",
    "print('\\n----- TEST -----')\n",
    "cm_nn_gpt2_test, accuracy_nn_gpt2_test, f1_nn_gpt2_test, balaccuracy_nn_gpt2_test, rocauc_nn_gpt2_test = classifier.evaluate(X_test_embeddings_gpt2, y_test)\n",
    "print('_______________________________________________________________________')"
   ]
  },
  {
   "cell_type": "code",
   "execution_count": 52,
   "metadata": {
    "collapsed": false,
    "jupyter": {
     "outputs_hidden": false
    }
   },
   "outputs": [],
   "source": [
    "cm_nn_gpt2_train_tosave = repr(cm_nn_gpt2_train)\n",
    "accuracy_nn_gpt2_train_tosave = repr(accuracy_nn_gpt2_train)\n",
    "f1_nn_gpt2_train_tosave = repr(f1_nn_gpt2_train)\n",
    "balaccuracy_nn_gpt2_train_tosave = repr(balaccuracy_nn_gpt2_train)\n",
    "rocauc_nn_gpt2_train_tosave = repr(rocauc_nn_gpt2_train)\n",
    "\n",
    "cm_nn_gpt2_test_tosave = repr(cm_nn_gpt2_test)\n",
    "accuracy_nn_gpt2_test_tosave = repr(accuracy_nn_gpt2_test)\n",
    "f1_nn_gpt2_test_tosave = repr(f1_nn_gpt2_test)\n",
    "balaccuracy_nn_gpt2_test_tosave = repr(balaccuracy_nn_gpt2_test)\n",
    "rocauc_nn_gpt2_test_tosave = repr(rocauc_nn_gpt2_test)\n",
    "\n",
    "\n",
    "file = open(\"results_split/nn_gpt2_\"+time.strftime(\"%Y%m%d-%H%M%S\")+\".txt\", \"w\")\n",
    "\n",
    "file.write(\"Train CM = \"+cm_nn_gpt2_train_tosave + \"\\n\" +\n",
    "           \"Train Accuracy = \" + accuracy_nn_gpt2_train_tosave + \"\\n\" +\n",
    "           \"Train F1 = \"+f1_nn_gpt2_train_tosave + \"\\n\"+\n",
    "           \"Train Balanced Accuracy = \"+balaccuracy_nn_gpt2_train_tosave + \"\\n\" +\n",
    "           \"Train ROCAUC = \"+rocauc_nn_gpt2_train_tosave + \"\\n\"+\n",
    "           \"Test CM = \"+cm_nn_gpt2_test_tosave + \"\\n\"+\n",
    "           \"Test Accuracy = \"+accuracy_nn_gpt2_test_tosave + \"\\n\"+\n",
    "           \"Test F1 = \"+f1_nn_gpt2_test_tosave + \"\\n\"+\n",
    "           \"Test Balanced Accuracy = \"+balaccuracy_nn_gpt2_test_tosave + \"\\n\"+\n",
    "           \"Test ROCAUC = \"+rocauc_nn_gpt2_test_tosave)\n",
    "\n",
    "file.close()"
   ]
  },
  {
   "cell_type": "markdown",
   "metadata": {},
   "source": [
    "## RoBERTa"
   ]
  },
  {
   "cell_type": "markdown",
   "metadata": {},
   "source": [
    "### RoBERTa + KNN"
   ]
  },
  {
   "cell_type": "code",
   "execution_count": 53,
   "metadata": {
    "ExecuteTime": {
     "end_time": "2023-05-22T01:06:44.953606536Z",
     "start_time": "2023-05-22T01:06:42.414864620Z"
    },
    "collapsed": false,
    "jupyter": {
     "outputs_hidden": false
    }
   },
   "outputs": [
    {
     "name": "stdout",
     "output_type": "stream",
     "text": [
      "Fitting 5 folds for each of 20 candidates, totalling 100 fits\n",
      "[CV 1/5] END metric=manhattan, n_neighbors=3, weights=distance;, score=0.517 total time=   7.6s\n",
      "[CV 2/5] END metric=manhattan, n_neighbors=3, weights=distance;, score=0.486 total time=   7.6s\n",
      "[CV 3/5] END metric=manhattan, n_neighbors=3, weights=distance;, score=0.538 total time=   7.7s\n",
      "[CV 4/5] END metric=manhattan, n_neighbors=3, weights=distance;, score=0.493 total time=   7.5s\n",
      "[CV 5/5] END metric=manhattan, n_neighbors=3, weights=distance;, score=0.501 total time=   7.5s\n",
      "[CV 1/5] END metric=manhattan, n_neighbors=5, weights=uniform;, score=0.523 total time=   7.5s\n",
      "[CV 2/5] END metric=manhattan, n_neighbors=5, weights=uniform;, score=0.484 total time=   7.6s\n",
      "[CV 3/5] END metric=manhattan, n_neighbors=5, weights=uniform;, score=0.522 total time=   7.6s\n",
      "[CV 4/5] END metric=manhattan, n_neighbors=5, weights=uniform;, score=0.497 total time=   7.5s\n",
      "[CV 5/5] END metric=manhattan, n_neighbors=5, weights=uniform;, score=0.507 total time=   7.7s\n",
      "[CV 1/5] END metric=euclidean, n_neighbors=9, weights=uniform;, score=0.509 total time=   0.3s\n",
      "[CV 2/5] END metric=euclidean, n_neighbors=9, weights=uniform;, score=0.466 total time=   0.3s\n",
      "[CV 3/5] END metric=euclidean, n_neighbors=9, weights=uniform;, score=0.500 total time=   0.3s\n",
      "[CV 4/5] END metric=euclidean, n_neighbors=9, weights=uniform;, score=0.485 total time=   0.3s\n",
      "[CV 5/5] END metric=euclidean, n_neighbors=9, weights=uniform;, score=0.503 total time=   0.4s\n",
      "[CV 1/5] END metric=minkowski, n_neighbors=2, weights=uniform;, score=0.360 total time=   0.4s\n",
      "[CV 2/5] END metric=minkowski, n_neighbors=2, weights=uniform;, score=0.348 total time=   0.4s\n",
      "[CV 3/5] END metric=minkowski, n_neighbors=2, weights=uniform;, score=0.378 total time=   0.3s\n",
      "[CV 4/5] END metric=minkowski, n_neighbors=2, weights=uniform;, score=0.377 total time=   0.3s\n",
      "[CV 5/5] END metric=minkowski, n_neighbors=2, weights=uniform;, score=0.351 total time=   0.4s\n",
      "[CV 1/5] END metric=euclidean, n_neighbors=2, weights=distance;, score=0.506 total time=   0.3s\n",
      "[CV 2/5] END metric=euclidean, n_neighbors=2, weights=distance;, score=0.489 total time=   0.3s\n",
      "[CV 3/5] END metric=euclidean, n_neighbors=2, weights=distance;, score=0.522 total time=   0.3s\n",
      "[CV 4/5] END metric=euclidean, n_neighbors=2, weights=distance;, score=0.502 total time=   0.3s\n",
      "[CV 5/5] END metric=euclidean, n_neighbors=2, weights=distance;, score=0.512 total time=   0.3s\n",
      "[CV 1/5] END metric=manhattan, n_neighbors=7, weights=distance;, score=0.510 total time=   7.9s\n",
      "[CV 2/5] END metric=manhattan, n_neighbors=7, weights=distance;, score=0.487 total time=   7.5s\n",
      "[CV 3/5] END metric=manhattan, n_neighbors=7, weights=distance;, score=0.508 total time=   7.6s\n",
      "[CV 4/5] END metric=manhattan, n_neighbors=7, weights=distance;, score=0.496 total time=   7.6s\n",
      "[CV 5/5] END metric=manhattan, n_neighbors=7, weights=distance;, score=0.491 total time=   7.5s\n",
      "[CV 1/5] END metric=euclidean, n_neighbors=8, weights=distance;, score=0.508 total time=   0.3s\n",
      "[CV 2/5] END metric=euclidean, n_neighbors=8, weights=distance;, score=0.476 total time=   0.3s\n",
      "[CV 3/5] END metric=euclidean, n_neighbors=8, weights=distance;, score=0.510 total time=   0.3s\n",
      "[CV 4/5] END metric=euclidean, n_neighbors=8, weights=distance;, score=0.498 total time=   0.3s\n",
      "[CV 5/5] END metric=euclidean, n_neighbors=8, weights=distance;, score=0.523 total time=   0.3s\n",
      "[CV 1/5] END metric=minkowski, n_neighbors=9, weights=distance;, score=0.509 total time=   0.3s\n",
      "[CV 2/5] END metric=minkowski, n_neighbors=9, weights=distance;, score=0.470 total time=   0.3s\n",
      "[CV 3/5] END metric=minkowski, n_neighbors=9, weights=distance;, score=0.501 total time=   0.3s\n",
      "[CV 4/5] END metric=minkowski, n_neighbors=9, weights=distance;, score=0.486 total time=   0.3s\n",
      "[CV 5/5] END metric=minkowski, n_neighbors=9, weights=distance;, score=0.503 total time=   0.3s\n",
      "[CV 1/5] END metric=manhattan, n_neighbors=8, weights=distance;, score=0.506 total time=   7.5s\n",
      "[CV 2/5] END metric=manhattan, n_neighbors=8, weights=distance;, score=0.491 total time=   7.5s\n",
      "[CV 3/5] END metric=manhattan, n_neighbors=8, weights=distance;, score=0.516 total time=   7.5s\n",
      "[CV 4/5] END metric=manhattan, n_neighbors=8, weights=distance;, score=0.483 total time=   7.5s\n",
      "[CV 5/5] END metric=manhattan, n_neighbors=8, weights=distance;, score=0.496 total time=   7.5s\n",
      "[CV 1/5] END metric=minkowski, n_neighbors=4, weights=distance;, score=0.521 total time=   0.3s\n",
      "[CV 2/5] END metric=minkowski, n_neighbors=4, weights=distance;, score=0.478 total time=   0.3s\n",
      "[CV 3/5] END metric=minkowski, n_neighbors=4, weights=distance;, score=0.536 total time=   0.2s\n",
      "[CV 4/5] END metric=minkowski, n_neighbors=4, weights=distance;, score=0.507 total time=   0.3s\n",
      "[CV 5/5] END metric=minkowski, n_neighbors=4, weights=distance;, score=0.510 total time=   0.3s\n",
      "[CV 1/5] END metric=manhattan, n_neighbors=6, weights=uniform;, score=0.437 total time=   7.5s\n",
      "[CV 2/5] END metric=manhattan, n_neighbors=6, weights=uniform;, score=0.411 total time=   7.5s\n",
      "[CV 3/5] END metric=manhattan, n_neighbors=6, weights=uniform;, score=0.429 total time=   7.5s\n",
      "[CV 4/5] END metric=manhattan, n_neighbors=6, weights=uniform;, score=0.406 total time=   7.5s\n",
      "[CV 5/5] END metric=manhattan, n_neighbors=6, weights=uniform;, score=0.437 total time=   7.5s\n",
      "[CV 1/5] END metric=minkowski, n_neighbors=8, weights=distance;, score=0.508 total time=   0.3s\n",
      "[CV 2/5] END metric=minkowski, n_neighbors=8, weights=distance;, score=0.476 total time=   0.3s\n",
      "[CV 3/5] END metric=minkowski, n_neighbors=8, weights=distance;, score=0.510 total time=   0.3s\n",
      "[CV 4/5] END metric=minkowski, n_neighbors=8, weights=distance;, score=0.498 total time=   0.3s\n",
      "[CV 5/5] END metric=minkowski, n_neighbors=8, weights=distance;, score=0.523 total time=   0.2s\n",
      "[CV 1/5] END metric=manhattan, n_neighbors=9, weights=uniform;, score=0.502 total time=   7.6s\n",
      "[CV 2/5] END metric=manhattan, n_neighbors=9, weights=uniform;, score=0.480 total time=   7.6s\n",
      "[CV 3/5] END metric=manhattan, n_neighbors=9, weights=uniform;, score=0.503 total time=   7.6s\n",
      "[CV 4/5] END metric=manhattan, n_neighbors=9, weights=uniform;, score=0.476 total time=   7.6s\n",
      "[CV 5/5] END metric=manhattan, n_neighbors=9, weights=uniform;, score=0.495 total time=   7.5s\n",
      "[CV 1/5] END metric=manhattan, n_neighbors=2, weights=uniform;, score=0.384 total time=   7.6s\n",
      "[CV 2/5] END metric=manhattan, n_neighbors=2, weights=uniform;, score=0.371 total time=   7.5s\n",
      "[CV 3/5] END metric=manhattan, n_neighbors=2, weights=uniform;, score=0.396 total time=   7.6s\n",
      "[CV 4/5] END metric=manhattan, n_neighbors=2, weights=uniform;, score=0.364 total time=   7.6s\n",
      "[CV 5/5] END metric=manhattan, n_neighbors=2, weights=uniform;, score=0.358 total time=   7.5s\n",
      "[CV 1/5] END metric=minkowski, n_neighbors=4, weights=uniform;, score=0.423 total time=   0.3s\n",
      "[CV 2/5] END metric=minkowski, n_neighbors=4, weights=uniform;, score=0.368 total time=   0.3s\n",
      "[CV 3/5] END metric=minkowski, n_neighbors=4, weights=uniform;, score=0.420 total time=   0.3s\n",
      "[CV 4/5] END metric=minkowski, n_neighbors=4, weights=uniform;, score=0.407 total time=   0.3s\n",
      "[CV 5/5] END metric=minkowski, n_neighbors=4, weights=uniform;, score=0.413 total time=   0.3s\n",
      "[CV 1/5] END metric=euclidean, n_neighbors=3, weights=uniform;, score=0.513 total time=   0.3s\n",
      "[CV 2/5] END metric=euclidean, n_neighbors=3, weights=uniform;, score=0.472 total time=   0.3s\n",
      "[CV 3/5] END metric=euclidean, n_neighbors=3, weights=uniform;, score=0.534 total time=   0.3s\n",
      "[CV 4/5] END metric=euclidean, n_neighbors=3, weights=uniform;, score=0.516 total time=   0.3s\n",
      "[CV 5/5] END metric=euclidean, n_neighbors=3, weights=uniform;, score=0.510 total time=   0.3s\n",
      "[CV 1/5] END metric=minkowski, n_neighbors=9, weights=uniform;, score=0.509 total time=   0.3s\n",
      "[CV 2/5] END metric=minkowski, n_neighbors=9, weights=uniform;, score=0.466 total time=   0.3s\n",
      "[CV 3/5] END metric=minkowski, n_neighbors=9, weights=uniform;, score=0.500 total time=   0.3s\n",
      "[CV 4/5] END metric=minkowski, n_neighbors=9, weights=uniform;, score=0.485 total time=   0.3s\n",
      "[CV 5/5] END metric=minkowski, n_neighbors=9, weights=uniform;, score=0.503 total time=   0.3s\n",
      "[CV 1/5] END metric=euclidean, n_neighbors=9, weights=distance;, score=0.509 total time=   0.3s\n",
      "[CV 2/5] END metric=euclidean, n_neighbors=9, weights=distance;, score=0.470 total time=   0.3s\n",
      "[CV 3/5] END metric=euclidean, n_neighbors=9, weights=distance;, score=0.501 total time=   0.2s\n",
      "[CV 4/5] END metric=euclidean, n_neighbors=9, weights=distance;, score=0.486 total time=   0.3s\n",
      "[CV 5/5] END metric=euclidean, n_neighbors=9, weights=distance;, score=0.503 total time=   0.3s\n",
      "[CV 1/5] END metric=minkowski, n_neighbors=8, weights=uniform;, score=0.441 total time=   0.3s\n",
      "[CV 2/5] END metric=minkowski, n_neighbors=8, weights=uniform;, score=0.410 total time=   0.3s\n",
      "[CV 3/5] END metric=minkowski, n_neighbors=8, weights=uniform;, score=0.429 total time=   0.3s\n",
      "[CV 4/5] END metric=minkowski, n_neighbors=8, weights=uniform;, score=0.415 total time=   0.3s\n",
      "[CV 5/5] END metric=minkowski, n_neighbors=8, weights=uniform;, score=0.420 total time=   0.3s\n",
      "[CV 1/5] END metric=manhattan, n_neighbors=4, weights=distance;, score=0.514 total time=   7.5s\n",
      "[CV 2/5] END metric=manhattan, n_neighbors=4, weights=distance;, score=0.482 total time=   7.5s\n",
      "[CV 3/5] END metric=manhattan, n_neighbors=4, weights=distance;, score=0.543 total time=   7.5s\n",
      "[CV 4/5] END metric=manhattan, n_neighbors=4, weights=distance;, score=0.501 total time=   7.5s\n",
      "[CV 5/5] END metric=manhattan, n_neighbors=4, weights=distance;, score=0.515 total time=   7.5s\n",
      "Best parameters: {'weights': 'distance', 'n_neighbors': 4, 'metric': 'manhattan'} \n",
      "\n",
      "\n",
      "\n",
      "\n",
      "_______________________________________________________________________\n",
      "EVALUATION\n",
      "\n",
      "----- TRAIN -----\n",
      "\n",
      "Confusion matrix\n",
      " [[6420    0]\n",
      " [   4 5100]] \n",
      "\n",
      "Accuracy: 100.0 \n",
      "\n",
      "F1 Score: 100.0 \n",
      "\n",
      "Balanced accuracy: 100.0 \n",
      "\n",
      "AUC Score: 100.0 \n",
      "\n",
      "\n",
      "----- TEST -----\n",
      "\n",
      "Confusion matrix\n",
      " [[457 257]\n",
      " [289 264]] \n",
      "\n",
      "Accuracy: 56.9 \n",
      "\n",
      "F1 Score: 49.2 \n",
      "\n",
      "Balanced accuracy: 49.2 \n",
      "\n",
      "AUC Score: 55.9 \n",
      "\n",
      "_______________________________________________________________________\n"
     ]
    }
   ],
   "source": [
    "# Instantiate classifier\n",
    "classifier = KNNClassifier()\n",
    "\n",
    "# Perform randomized search over hyperparameters\n",
    "param_distributions = {\n",
    "    'n_neighbors': [2, 3, 4, 5, 6, 7, 8, 9],\n",
    "    'weights' : ['uniform','distance'],\n",
    "    'metric' : ['minkowski','euclidean','manhattan']\n",
    "}\n",
    "classifier.randomized_search(X_train_embeddings_roberta, y_train, param_distributions)\n",
    "\n",
    "# Train classifier on training data\n",
    "classifier.fit(X_train_embeddings_roberta, y_train)\n",
    "\n",
    "# Evaluate classifier\n",
    "print('\\n')\n",
    "print('\\n_______________________________________________________________________')\n",
    "print('EVALUATION')\n",
    "\n",
    "print('\\n----- TRAIN -----')\n",
    "cm_knn_roberta_train, accuracy_knn_roberta_train, f1_knn_roberta_train, balaccuracy_knn_roberta_train, rocauc_knn_roberta_train = classifier.evaluate(X_train_embeddings_roberta, y_train)\n",
    "\n",
    "print('\\n----- TEST -----')\n",
    "cm_knn_roberta_test, accuracy_knn_roberta_test, f1_knn_roberta_test, balaccuracy_knn_roberta_test, rocauc_knn_roberta_test = classifier.evaluate(X_test_embeddings_roberta, y_test)\n",
    "print('_______________________________________________________________________')"
   ]
  },
  {
   "cell_type": "code",
   "execution_count": 54,
   "metadata": {
    "collapsed": false,
    "jupyter": {
     "outputs_hidden": false
    }
   },
   "outputs": [],
   "source": [
    "cm_knn_roberta_train_tosave = repr(cm_knn_roberta_train)\n",
    "accuracy_knn_roberta_train_tosave = repr(accuracy_knn_roberta_train)\n",
    "f1_knn_roberta_train_tosave = repr(f1_knn_roberta_train)\n",
    "balaccuracy_knn_roberta_train_tosave = repr(balaccuracy_knn_roberta_train)\n",
    "rocauc_knn_roberta_train_tosave = repr(rocauc_knn_roberta_train)\n",
    "\n",
    "cm_knn_roberta_test_tosave = repr(cm_knn_roberta_test)\n",
    "accuracy_knn_roberta_test_tosave = repr(accuracy_knn_roberta_test)\n",
    "f1_knn_roberta_test_tosave = repr(f1_knn_roberta_test)\n",
    "balaccuracy_knn_roberta_test_tosave = repr(balaccuracy_knn_roberta_test)\n",
    "rocauc_knn_roberta_test_tosave = repr(rocauc_knn_roberta_test)\n",
    "\n",
    "\n",
    "file = open(\"results_split/knn_roberta_\"+time.strftime(\"%Y%m%d-%H%M%S\")+\".txt\", \"w\")\n",
    "\n",
    "file.write(\"Train CM = \"+cm_knn_roberta_train_tosave + \"\\n\" +\n",
    "           \"Train Accuracy = \" + accuracy_knn_roberta_train_tosave + \"\\n\" +\n",
    "           \"Train F1 = \"+f1_knn_roberta_train_tosave + \"\\n\"+\n",
    "           \"Train Balanced Accuracy = \"+balaccuracy_knn_roberta_train_tosave + \"\\n\" +\n",
    "           \"Train ROCAUC = \"+rocauc_knn_roberta_train_tosave + \"\\n\"+\n",
    "           \"Test CM = \"+cm_knn_roberta_test_tosave + \"\\n\"+\n",
    "           \"Test Accuracy = \"+accuracy_knn_roberta_test_tosave + \"\\n\"+\n",
    "           \"Test F1 = \"+f1_knn_roberta_test_tosave + \"\\n\"+\n",
    "           \"Test Balanced Accuracy = \"+balaccuracy_knn_roberta_test_tosave + \"\\n\"+\n",
    "           \"Test ROCAUC = \"+rocauc_knn_roberta_test_tosave)\n",
    "\n",
    "file.close()"
   ]
  },
  {
   "cell_type": "markdown",
   "metadata": {},
   "source": [
    "### RoBERTa + XGBoost"
   ]
  },
  {
   "cell_type": "code",
   "execution_count": 55,
   "metadata": {
    "ExecuteTime": {
     "end_time": "2023-05-22T01:08:18.508224668Z",
     "start_time": "2023-05-22T01:06:44.935785144Z"
    },
    "collapsed": false,
    "jupyter": {
     "outputs_hidden": false
    }
   },
   "outputs": [
    {
     "name": "stdout",
     "output_type": "stream",
     "text": [
      "Fitting 5 folds for each of 20 candidates, totalling 100 fits\n",
      "[CV 1/5] END colsample_bytree=0.5, learning_rate=0.1, max_depth=5, min_child_weight=5, n_estimators=500, objective=reg:squarederror, subsample=0.5;, score=0.499 total time= 1.1min\n",
      "[CV 2/5] END colsample_bytree=0.5, learning_rate=0.1, max_depth=5, min_child_weight=5, n_estimators=500, objective=reg:squarederror, subsample=0.5;, score=0.518 total time= 1.1min\n",
      "[CV 3/5] END colsample_bytree=0.5, learning_rate=0.1, max_depth=5, min_child_weight=5, n_estimators=500, objective=reg:squarederror, subsample=0.5;, score=0.496 total time= 1.1min\n",
      "[CV 4/5] END colsample_bytree=0.5, learning_rate=0.1, max_depth=5, min_child_weight=5, n_estimators=500, objective=reg:squarederror, subsample=0.5;, score=0.514 total time= 1.1min\n",
      "[CV 5/5] END colsample_bytree=0.5, learning_rate=0.1, max_depth=5, min_child_weight=5, n_estimators=500, objective=reg:squarederror, subsample=0.5;, score=0.524 total time= 1.1min\n",
      "[CV 1/5] END colsample_bytree=0.7, learning_rate=0.1, max_depth=7, min_child_weight=1, n_estimators=50, objective=reg:squarederror, subsample=0.7;, score=0.495 total time=  17.4s\n",
      "[CV 2/5] END colsample_bytree=0.7, learning_rate=0.1, max_depth=7, min_child_weight=1, n_estimators=50, objective=reg:squarederror, subsample=0.7;, score=0.497 total time=  17.1s\n",
      "[CV 3/5] END colsample_bytree=0.7, learning_rate=0.1, max_depth=7, min_child_weight=1, n_estimators=50, objective=reg:squarederror, subsample=0.7;, score=0.497 total time=  17.2s\n",
      "[CV 4/5] END colsample_bytree=0.7, learning_rate=0.1, max_depth=7, min_child_weight=1, n_estimators=50, objective=reg:squarederror, subsample=0.7;, score=0.473 total time=  17.2s\n",
      "[CV 5/5] END colsample_bytree=0.7, learning_rate=0.1, max_depth=7, min_child_weight=1, n_estimators=50, objective=reg:squarederror, subsample=0.7;, score=0.510 total time=  17.0s\n",
      "[CV 1/5] END colsample_bytree=0.7, learning_rate=0.3, max_depth=3, min_child_weight=3, n_estimators=50, objective=reg:squarederror, subsample=0.5;, score=0.492 total time=   5.9s\n",
      "[CV 2/5] END colsample_bytree=0.7, learning_rate=0.3, max_depth=3, min_child_weight=3, n_estimators=50, objective=reg:squarederror, subsample=0.5;, score=0.507 total time=   6.1s\n",
      "[CV 3/5] END colsample_bytree=0.7, learning_rate=0.3, max_depth=3, min_child_weight=3, n_estimators=50, objective=reg:squarederror, subsample=0.5;, score=0.511 total time=   5.9s\n",
      "[CV 4/5] END colsample_bytree=0.7, learning_rate=0.3, max_depth=3, min_child_weight=3, n_estimators=50, objective=reg:squarederror, subsample=0.5;, score=0.487 total time=   5.9s\n",
      "[CV 5/5] END colsample_bytree=0.7, learning_rate=0.3, max_depth=3, min_child_weight=3, n_estimators=50, objective=reg:squarederror, subsample=0.5;, score=0.511 total time=   5.9s\n",
      "[CV 1/5] END colsample_bytree=0.5, learning_rate=0.3, max_depth=9, min_child_weight=5, n_estimators=100, objective=reg:squarederror, subsample=0.5;, score=0.488 total time=  25.4s\n",
      "[CV 2/5] END colsample_bytree=0.5, learning_rate=0.3, max_depth=9, min_child_weight=5, n_estimators=100, objective=reg:squarederror, subsample=0.5;, score=0.494 total time=  25.2s\n",
      "[CV 3/5] END colsample_bytree=0.5, learning_rate=0.3, max_depth=9, min_child_weight=5, n_estimators=100, objective=reg:squarederror, subsample=0.5;, score=0.491 total time=  25.6s\n",
      "[CV 4/5] END colsample_bytree=0.5, learning_rate=0.3, max_depth=9, min_child_weight=5, n_estimators=100, objective=reg:squarederror, subsample=0.5;, score=0.491 total time=  25.4s\n",
      "[CV 5/5] END colsample_bytree=0.5, learning_rate=0.3, max_depth=9, min_child_weight=5, n_estimators=100, objective=reg:squarederror, subsample=0.5;, score=0.516 total time=  25.3s\n",
      "[CV 1/5] END colsample_bytree=0.7, learning_rate=0.1, max_depth=7, min_child_weight=1, n_estimators=200, objective=reg:squarederror, subsample=0.5;, score=0.520 total time=  54.9s\n",
      "[CV 2/5] END colsample_bytree=0.7, learning_rate=0.1, max_depth=7, min_child_weight=1, n_estimators=200, objective=reg:squarederror, subsample=0.5;, score=0.504 total time=  54.9s\n",
      "[CV 3/5] END colsample_bytree=0.7, learning_rate=0.1, max_depth=7, min_child_weight=1, n_estimators=200, objective=reg:squarederror, subsample=0.5;, score=0.496 total time=  55.1s\n",
      "[CV 4/5] END colsample_bytree=0.7, learning_rate=0.1, max_depth=7, min_child_weight=1, n_estimators=200, objective=reg:squarederror, subsample=0.5;, score=0.513 total time=  55.4s\n",
      "[CV 5/5] END colsample_bytree=0.7, learning_rate=0.1, max_depth=7, min_child_weight=1, n_estimators=200, objective=reg:squarederror, subsample=0.5;, score=0.516 total time=  55.4s\n",
      "[CV 1/5] END colsample_bytree=0.5, learning_rate=0.01, max_depth=9, min_child_weight=1, n_estimators=200, objective=reg:squarederror, subsample=0.5;, score=0.514 total time=  51.4s\n",
      "[CV 2/5] END colsample_bytree=0.5, learning_rate=0.01, max_depth=9, min_child_weight=1, n_estimators=200, objective=reg:squarederror, subsample=0.5;, score=0.483 total time=  50.6s\n",
      "[CV 3/5] END colsample_bytree=0.5, learning_rate=0.01, max_depth=9, min_child_weight=1, n_estimators=200, objective=reg:squarederror, subsample=0.5;, score=0.487 total time=  50.6s\n",
      "[CV 4/5] END colsample_bytree=0.5, learning_rate=0.01, max_depth=9, min_child_weight=1, n_estimators=200, objective=reg:squarederror, subsample=0.5;, score=0.472 total time=  50.4s\n",
      "[CV 5/5] END colsample_bytree=0.5, learning_rate=0.01, max_depth=9, min_child_weight=1, n_estimators=200, objective=reg:squarederror, subsample=0.5;, score=0.505 total time=  50.1s\n",
      "[CV 1/5] END colsample_bytree=0.7, learning_rate=0.01, max_depth=7, min_child_weight=3, n_estimators=100, objective=reg:squarederror, subsample=0.7;, score=0.465 total time=  34.0s\n",
      "[CV 2/5] END colsample_bytree=0.7, learning_rate=0.01, max_depth=7, min_child_weight=3, n_estimators=100, objective=reg:squarederror, subsample=0.7;, score=0.468 total time=  33.9s\n",
      "[CV 3/5] END colsample_bytree=0.7, learning_rate=0.01, max_depth=7, min_child_weight=3, n_estimators=100, objective=reg:squarederror, subsample=0.7;, score=0.458 total time=  33.7s\n",
      "[CV 4/5] END colsample_bytree=0.7, learning_rate=0.01, max_depth=7, min_child_weight=3, n_estimators=100, objective=reg:squarederror, subsample=0.7;, score=0.470 total time=  34.0s\n",
      "[CV 5/5] END colsample_bytree=0.7, learning_rate=0.01, max_depth=7, min_child_weight=3, n_estimators=100, objective=reg:squarederror, subsample=0.7;, score=0.494 total time=  34.0s\n",
      "[CV 1/5] END colsample_bytree=0.7, learning_rate=0.01, max_depth=9, min_child_weight=3, n_estimators=50, objective=reg:squarederror, subsample=0.5;, score=0.477 total time=  18.0s\n",
      "[CV 2/5] END colsample_bytree=0.7, learning_rate=0.01, max_depth=9, min_child_weight=3, n_estimators=50, objective=reg:squarederror, subsample=0.5;, score=0.471 total time=  17.6s\n",
      "[CV 3/5] END colsample_bytree=0.7, learning_rate=0.01, max_depth=9, min_child_weight=3, n_estimators=50, objective=reg:squarederror, subsample=0.5;, score=0.475 total time=  17.5s\n",
      "[CV 4/5] END colsample_bytree=0.7, learning_rate=0.01, max_depth=9, min_child_weight=3, n_estimators=50, objective=reg:squarederror, subsample=0.5;, score=0.451 total time=  17.6s\n",
      "[CV 5/5] END colsample_bytree=0.7, learning_rate=0.01, max_depth=9, min_child_weight=3, n_estimators=50, objective=reg:squarederror, subsample=0.5;, score=0.486 total time=  17.3s\n",
      "[CV 1/5] END colsample_bytree=0.5, learning_rate=0.1, max_depth=5, min_child_weight=1, n_estimators=200, objective=reg:squarederror, subsample=0.5;, score=0.505 total time=  27.1s\n",
      "[CV 2/5] END colsample_bytree=0.5, learning_rate=0.1, max_depth=5, min_child_weight=1, n_estimators=200, objective=reg:squarederror, subsample=0.5;, score=0.508 total time=  27.4s\n",
      "[CV 3/5] END colsample_bytree=0.5, learning_rate=0.1, max_depth=5, min_child_weight=1, n_estimators=200, objective=reg:squarederror, subsample=0.5;, score=0.492 total time=  27.4s\n",
      "[CV 4/5] END colsample_bytree=0.5, learning_rate=0.1, max_depth=5, min_child_weight=1, n_estimators=200, objective=reg:squarederror, subsample=0.5;, score=0.491 total time=  27.3s\n",
      "[CV 5/5] END colsample_bytree=0.5, learning_rate=0.1, max_depth=5, min_child_weight=1, n_estimators=200, objective=reg:squarederror, subsample=0.5;, score=0.520 total time=  27.0s\n",
      "[CV 1/5] END colsample_bytree=0.5, learning_rate=0.5, max_depth=5, min_child_weight=5, n_estimators=100, objective=reg:squarederror, subsample=0.5;, score=0.503 total time=  13.6s\n",
      "[CV 2/5] END colsample_bytree=0.5, learning_rate=0.5, max_depth=5, min_child_weight=5, n_estimators=100, objective=reg:squarederror, subsample=0.5;, score=0.480 total time=  13.7s\n",
      "[CV 3/5] END colsample_bytree=0.5, learning_rate=0.5, max_depth=5, min_child_weight=5, n_estimators=100, objective=reg:squarederror, subsample=0.5;, score=0.493 total time=  13.6s\n",
      "[CV 4/5] END colsample_bytree=0.5, learning_rate=0.5, max_depth=5, min_child_weight=5, n_estimators=100, objective=reg:squarederror, subsample=0.5;, score=0.499 total time=  13.6s\n",
      "[CV 5/5] END colsample_bytree=0.5, learning_rate=0.5, max_depth=5, min_child_weight=5, n_estimators=100, objective=reg:squarederror, subsample=0.5;, score=0.490 total time=  13.5s\n",
      "[CV 1/5] END colsample_bytree=0.7, learning_rate=0.01, max_depth=3, min_child_weight=5, n_estimators=100, objective=reg:squarederror, subsample=0.5;, score=0.381 total time=  11.4s\n",
      "[CV 2/5] END colsample_bytree=0.7, learning_rate=0.01, max_depth=3, min_child_weight=5, n_estimators=100, objective=reg:squarederror, subsample=0.5;, score=0.400 total time=  11.3s\n",
      "[CV 3/5] END colsample_bytree=0.7, learning_rate=0.01, max_depth=3, min_child_weight=5, n_estimators=100, objective=reg:squarederror, subsample=0.5;, score=0.385 total time=  11.4s\n",
      "[CV 4/5] END colsample_bytree=0.7, learning_rate=0.01, max_depth=3, min_child_weight=5, n_estimators=100, objective=reg:squarederror, subsample=0.5;, score=0.397 total time=  11.8s\n",
      "[CV 5/5] END colsample_bytree=0.7, learning_rate=0.01, max_depth=3, min_child_weight=5, n_estimators=100, objective=reg:squarederror, subsample=0.5;, score=0.390 total time=  11.4s\n",
      "[CV 1/5] END colsample_bytree=0.7, learning_rate=0.3, max_depth=3, min_child_weight=5, n_estimators=500, objective=reg:squarederror, subsample=0.7;, score=0.496 total time= 1.1min\n",
      "[CV 2/5] END colsample_bytree=0.7, learning_rate=0.3, max_depth=3, min_child_weight=5, n_estimators=500, objective=reg:squarederror, subsample=0.7;, score=0.510 total time= 1.1min\n",
      "[CV 3/5] END colsample_bytree=0.7, learning_rate=0.3, max_depth=3, min_child_weight=5, n_estimators=500, objective=reg:squarederror, subsample=0.7;, score=0.509 total time= 1.1min\n",
      "[CV 4/5] END colsample_bytree=0.7, learning_rate=0.3, max_depth=3, min_child_weight=5, n_estimators=500, objective=reg:squarederror, subsample=0.7;, score=0.502 total time= 1.1min\n",
      "[CV 5/5] END colsample_bytree=0.7, learning_rate=0.3, max_depth=3, min_child_weight=5, n_estimators=500, objective=reg:squarederror, subsample=0.7;, score=0.525 total time= 1.2min\n",
      "[CV 1/5] END colsample_bytree=0.7, learning_rate=0.1, max_depth=3, min_child_weight=1, n_estimators=100, objective=reg:squarederror, subsample=0.7;, score=0.489 total time=  13.7s\n",
      "[CV 2/5] END colsample_bytree=0.7, learning_rate=0.1, max_depth=3, min_child_weight=1, n_estimators=100, objective=reg:squarederror, subsample=0.7;, score=0.485 total time=  13.7s\n",
      "[CV 3/5] END colsample_bytree=0.7, learning_rate=0.1, max_depth=3, min_child_weight=1, n_estimators=100, objective=reg:squarederror, subsample=0.7;, score=0.492 total time=  13.7s\n",
      "[CV 4/5] END colsample_bytree=0.7, learning_rate=0.1, max_depth=3, min_child_weight=1, n_estimators=100, objective=reg:squarederror, subsample=0.7;, score=0.479 total time=  13.8s\n",
      "[CV 5/5] END colsample_bytree=0.7, learning_rate=0.1, max_depth=3, min_child_weight=1, n_estimators=100, objective=reg:squarederror, subsample=0.7;, score=0.511 total time=  15.5s\n",
      "[CV 1/5] END colsample_bytree=0.5, learning_rate=0.01, max_depth=5, min_child_weight=1, n_estimators=500, objective=reg:squarederror, subsample=0.5;, score=0.486 total time= 1.1min\n",
      "[CV 2/5] END colsample_bytree=0.5, learning_rate=0.01, max_depth=5, min_child_weight=1, n_estimators=500, objective=reg:squarederror, subsample=0.5;, score=0.506 total time= 1.1min\n",
      "[CV 3/5] END colsample_bytree=0.5, learning_rate=0.01, max_depth=5, min_child_weight=1, n_estimators=500, objective=reg:squarederror, subsample=0.5;, score=0.498 total time= 1.1min\n",
      "[CV 4/5] END colsample_bytree=0.5, learning_rate=0.01, max_depth=5, min_child_weight=1, n_estimators=500, objective=reg:squarederror, subsample=0.5;, score=0.480 total time= 1.1min\n",
      "[CV 5/5] END colsample_bytree=0.5, learning_rate=0.01, max_depth=5, min_child_weight=1, n_estimators=500, objective=reg:squarederror, subsample=0.5;, score=0.517 total time= 1.1min\n",
      "[CV 1/5] END colsample_bytree=0.5, learning_rate=0.5, max_depth=9, min_child_weight=3, n_estimators=500, objective=reg:squarederror, subsample=0.5;, score=0.488 total time= 1.9min\n",
      "[CV 2/5] END colsample_bytree=0.5, learning_rate=0.5, max_depth=9, min_child_weight=3, n_estimators=500, objective=reg:squarederror, subsample=0.5;, score=0.489 total time= 1.9min\n",
      "[CV 3/5] END colsample_bytree=0.5, learning_rate=0.5, max_depth=9, min_child_weight=3, n_estimators=500, objective=reg:squarederror, subsample=0.5;, score=0.489 total time= 1.9min\n",
      "[CV 4/5] END colsample_bytree=0.5, learning_rate=0.5, max_depth=9, min_child_weight=3, n_estimators=500, objective=reg:squarederror, subsample=0.5;, score=0.468 total time= 1.9min\n",
      "[CV 5/5] END colsample_bytree=0.5, learning_rate=0.5, max_depth=9, min_child_weight=3, n_estimators=500, objective=reg:squarederror, subsample=0.5;, score=0.481 total time= 1.9min\n",
      "[CV 1/5] END colsample_bytree=0.7, learning_rate=0.3, max_depth=3, min_child_weight=5, n_estimators=100, objective=reg:squarederror, subsample=0.5;, score=0.494 total time=  11.1s\n",
      "[CV 2/5] END colsample_bytree=0.7, learning_rate=0.3, max_depth=3, min_child_weight=5, n_estimators=100, objective=reg:squarederror, subsample=0.5;, score=0.497 total time=  11.1s\n",
      "[CV 3/5] END colsample_bytree=0.7, learning_rate=0.3, max_depth=3, min_child_weight=5, n_estimators=100, objective=reg:squarederror, subsample=0.5;, score=0.498 total time=  11.2s\n",
      "[CV 4/5] END colsample_bytree=0.7, learning_rate=0.3, max_depth=3, min_child_weight=5, n_estimators=100, objective=reg:squarederror, subsample=0.5;, score=0.491 total time=  11.3s\n",
      "[CV 5/5] END colsample_bytree=0.7, learning_rate=0.3, max_depth=3, min_child_weight=5, n_estimators=100, objective=reg:squarederror, subsample=0.5;, score=0.522 total time=  11.1s\n",
      "[CV 1/5] END colsample_bytree=0.7, learning_rate=0.01, max_depth=7, min_child_weight=5, n_estimators=200, objective=reg:squarederror, subsample=0.5;, score=0.496 total time=  53.6s\n",
      "[CV 2/5] END colsample_bytree=0.7, learning_rate=0.01, max_depth=7, min_child_weight=5, n_estimators=200, objective=reg:squarederror, subsample=0.5;, score=0.488 total time=  53.7s\n",
      "[CV 3/5] END colsample_bytree=0.7, learning_rate=0.01, max_depth=7, min_child_weight=5, n_estimators=200, objective=reg:squarederror, subsample=0.5;, score=0.488 total time=  53.3s\n",
      "[CV 4/5] END colsample_bytree=0.7, learning_rate=0.01, max_depth=7, min_child_weight=5, n_estimators=200, objective=reg:squarederror, subsample=0.5;, score=0.473 total time=  53.8s\n",
      "[CV 5/5] END colsample_bytree=0.7, learning_rate=0.01, max_depth=7, min_child_weight=5, n_estimators=200, objective=reg:squarederror, subsample=0.5;, score=0.481 total time=  54.5s\n",
      "[CV 1/5] END colsample_bytree=0.7, learning_rate=0.01, max_depth=9, min_child_weight=5, n_estimators=50, objective=reg:squarederror, subsample=0.7;, score=0.467 total time=  23.2s\n",
      "[CV 2/5] END colsample_bytree=0.7, learning_rate=0.01, max_depth=9, min_child_weight=5, n_estimators=50, objective=reg:squarederror, subsample=0.7;, score=0.468 total time=  22.0s\n",
      "[CV 3/5] END colsample_bytree=0.7, learning_rate=0.01, max_depth=9, min_child_weight=5, n_estimators=50, objective=reg:squarederror, subsample=0.7;, score=0.475 total time=  22.3s\n",
      "[CV 4/5] END colsample_bytree=0.7, learning_rate=0.01, max_depth=9, min_child_weight=5, n_estimators=50, objective=reg:squarederror, subsample=0.7;, score=0.486 total time=  21.9s\n",
      "[CV 5/5] END colsample_bytree=0.7, learning_rate=0.01, max_depth=9, min_child_weight=5, n_estimators=50, objective=reg:squarederror, subsample=0.7;, score=0.491 total time=  21.9s\n",
      "[CV 1/5] END colsample_bytree=0.7, learning_rate=0.1, max_depth=5, min_child_weight=5, n_estimators=500, objective=reg:squarederror, subsample=0.5;, score=0.528 total time= 1.6min\n",
      "[CV 2/5] END colsample_bytree=0.7, learning_rate=0.1, max_depth=5, min_child_weight=5, n_estimators=500, objective=reg:squarederror, subsample=0.5;, score=0.528 total time= 1.6min\n",
      "[CV 3/5] END colsample_bytree=0.7, learning_rate=0.1, max_depth=5, min_child_weight=5, n_estimators=500, objective=reg:squarederror, subsample=0.5;, score=0.494 total time= 1.6min\n",
      "[CV 4/5] END colsample_bytree=0.7, learning_rate=0.1, max_depth=5, min_child_weight=5, n_estimators=500, objective=reg:squarederror, subsample=0.5;, score=0.482 total time= 1.6min\n",
      "[CV 5/5] END colsample_bytree=0.7, learning_rate=0.1, max_depth=5, min_child_weight=5, n_estimators=500, objective=reg:squarederror, subsample=0.5;, score=0.542 total time= 1.6min\n",
      "[CV 1/5] END colsample_bytree=0.7, learning_rate=0.1, max_depth=7, min_child_weight=1, n_estimators=100, objective=reg:squarederror, subsample=0.7;, score=0.514 total time=  34.3s\n",
      "[CV 2/5] END colsample_bytree=0.7, learning_rate=0.1, max_depth=7, min_child_weight=1, n_estimators=100, objective=reg:squarederror, subsample=0.7;, score=0.502 total time=  36.4s\n",
      "[CV 3/5] END colsample_bytree=0.7, learning_rate=0.1, max_depth=7, min_child_weight=1, n_estimators=100, objective=reg:squarederror, subsample=0.7;, score=0.514 total time=  33.8s\n",
      "[CV 4/5] END colsample_bytree=0.7, learning_rate=0.1, max_depth=7, min_child_weight=1, n_estimators=100, objective=reg:squarederror, subsample=0.7;, score=0.484 total time=  33.8s\n",
      "[CV 5/5] END colsample_bytree=0.7, learning_rate=0.1, max_depth=7, min_child_weight=1, n_estimators=100, objective=reg:squarederror, subsample=0.7;, score=0.525 total time=  33.8s\n",
      "Best parameters: {'subsample': 0.5, 'objective': 'reg:squarederror', 'n_estimators': 500, 'min_child_weight': 5, 'max_depth': 5, 'learning_rate': 0.1, 'colsample_bytree': 0.7} \n",
      "\n",
      "\n",
      "\n",
      "\n",
      "_______________________________________________________________________\n",
      "EVALUATION\n",
      "\n",
      "----- TRAIN -----\n",
      "\n",
      "Confusion matrix\n",
      " [[6417    3]\n",
      " [   3 5101]] \n",
      "\n",
      "Accuracy: 99.9 \n",
      "\n",
      "F1 Score: 99.9 \n",
      "\n",
      "Balanced accuracy: 99.9 \n",
      "\n",
      "AUC Score: 99.9 \n",
      "\n",
      "\n",
      "----- TEST -----\n",
      "\n",
      "Confusion matrix\n",
      " [[478 236]\n",
      " [292 261]] \n",
      "\n",
      "Accuracy: 58.3 \n",
      "\n",
      "F1 Score: 49.7 \n",
      "\n",
      "Balanced accuracy: 49.7 \n",
      "\n",
      "AUC Score: 57.1 \n",
      "\n",
      "_______________________________________________________________________\n"
     ]
    }
   ],
   "source": [
    "# Instantiate classifier\n",
    "classifier = XGBoostClassifier()\n",
    "\n",
    "# Perform randomized search over hyperparameters\n",
    "param_distributions = {\n",
    "    'learning_rate': [0.01, 0.1, 0.3, 0.5],\n",
    "    'max_depth': [3, 5, 7, 9],\n",
    "    'min_child_weight': [1, 3, 5],\n",
    "    'subsample': [0.5, 0.7],\n",
    "    'colsample_bytree': [0.5, 0.7],\n",
    "    'n_estimators': [50, 100, 200, 500],\n",
    "    'objective': ['reg:squarederror']\n",
    "}\n",
    "classifier.randomized_search(X_train_embeddings_roberta, y_train, param_distributions)\n",
    "\n",
    "# Train classifier on training data\n",
    "classifier.fit(X_train_embeddings_roberta, y_train)\n",
    "\n",
    "# Evaluate classifier\n",
    "print('\\n')\n",
    "print('\\n_______________________________________________________________________')\n",
    "print('EVALUATION')\n",
    "\n",
    "print('\\n----- TRAIN -----')\n",
    "cm_xgb_roberta_train, accuracy_xgb_roberta_train, f1_xgb_roberta_train, balaccuracy_xgb_roberta_train, rocauc_xgb_roberta_train = classifier.evaluate(X_train_embeddings_roberta, y_train)\n",
    "\n",
    "print('\\n----- TEST -----')\n",
    "cm_xgb_roberta_test, accuracy_xgb_roberta_test, f1_xgb_roberta_test, balaccuracy_xgb_roberta_test, rocauc_xgb_roberta_test = classifier.evaluate(X_test_embeddings_roberta, y_test)\n",
    "print('_______________________________________________________________________')"
   ]
  },
  {
   "cell_type": "code",
   "execution_count": 56,
   "metadata": {
    "collapsed": false,
    "jupyter": {
     "outputs_hidden": false
    }
   },
   "outputs": [],
   "source": [
    "cm_xgb_roberta_train_tosave = repr(cm_xgb_roberta_train)\n",
    "accuracy_xgb_roberta_train_tosave = repr(accuracy_xgb_roberta_train)\n",
    "f1_xgb_roberta_train_tosave = repr(f1_xgb_roberta_train)\n",
    "balaccuracy_xgb_roberta_train_tosave = repr(balaccuracy_xgb_roberta_train)\n",
    "rocauc_xgb_roberta_train_tosave = repr(rocauc_xgb_roberta_train)\n",
    "\n",
    "cm_xgb_roberta_test_tosave = repr(cm_xgb_roberta_test)\n",
    "accuracy_xgb_roberta_test_tosave = repr(accuracy_xgb_roberta_test)\n",
    "f1_xgb_roberta_test_tosave = repr(f1_xgb_roberta_test)\n",
    "balaccuracy_xgb_roberta_test_tosave = repr(balaccuracy_xgb_roberta_test)\n",
    "rocauc_xgb_roberta_test_tosave = repr(rocauc_xgb_roberta_test)\n",
    "\n",
    "\n",
    "file = open(\"results_split/xgb_roberta_\"+time.strftime(\"%Y%m%d-%H%M%S\")+\".txt\", \"w\")\n",
    "\n",
    "file.write(\"Train CM = \"+cm_xgb_roberta_train_tosave + \"\\n\" +\n",
    "           \"Train Accuracy = \" + accuracy_xgb_roberta_train_tosave + \"\\n\" +\n",
    "           \"Train F1 = \"+f1_xgb_roberta_train_tosave + \"\\n\"+\n",
    "           \"Train Balanced Accuracy = \"+balaccuracy_xgb_roberta_train_tosave + \"\\n\" +\n",
    "           \"Train ROCAUC = \"+rocauc_xgb_roberta_train_tosave + \"\\n\"+\n",
    "           \"Test CM = \"+cm_xgb_roberta_test_tosave + \"\\n\"+\n",
    "           \"Test Accuracy = \"+accuracy_xgb_roberta_test_tosave + \"\\n\"+\n",
    "           \"Test F1 = \"+f1_xgb_roberta_test_tosave + \"\\n\"+\n",
    "           \"Test Balanced Accuracy = \"+balaccuracy_xgb_roberta_test_tosave + \"\\n\"+\n",
    "           \"Test ROCAUC = \"+rocauc_xgb_roberta_test_tosave)\n",
    "\n",
    "file.close()"
   ]
  },
  {
   "cell_type": "markdown",
   "metadata": {},
   "source": [
    "### RoBERTa + Random Forest"
   ]
  },
  {
   "cell_type": "code",
   "execution_count": 57,
   "metadata": {
    "ExecuteTime": {
     "end_time": "2023-05-22T01:08:26.902812089Z",
     "start_time": "2023-05-22T01:08:18.482891640Z"
    },
    "collapsed": false,
    "jupyter": {
     "outputs_hidden": false
    }
   },
   "outputs": [
    {
     "name": "stdout",
     "output_type": "stream",
     "text": [
      "Fitting 5 folds for each of 20 candidates, totalling 100 fits\n",
      "[CV 1/5] END bootstrap=False, max_depth=10, max_features=5, n_estimators=10;, score=0.407 total time=   0.3s\n",
      "[CV 2/5] END bootstrap=False, max_depth=10, max_features=5, n_estimators=10;, score=0.400 total time=   0.3s\n",
      "[CV 3/5] END bootstrap=False, max_depth=10, max_features=5, n_estimators=10;, score=0.404 total time=   0.3s\n",
      "[CV 4/5] END bootstrap=False, max_depth=10, max_features=5, n_estimators=10;, score=0.404 total time=   0.3s\n",
      "[CV 5/5] END bootstrap=False, max_depth=10, max_features=5, n_estimators=10;, score=0.414 total time=   0.3s\n",
      "[CV 1/5] END bootstrap=True, max_depth=None, max_features=5, n_estimators=25;, score=0.454 total time=   1.2s\n",
      "[CV 2/5] END bootstrap=True, max_depth=None, max_features=5, n_estimators=25;, score=0.469 total time=   1.2s\n",
      "[CV 3/5] END bootstrap=True, max_depth=None, max_features=5, n_estimators=25;, score=0.449 total time=   1.2s\n",
      "[CV 4/5] END bootstrap=True, max_depth=None, max_features=5, n_estimators=25;, score=0.417 total time=   1.2s\n",
      "[CV 5/5] END bootstrap=True, max_depth=None, max_features=5, n_estimators=25;, score=0.453 total time=   1.1s\n",
      "[CV 1/5] END bootstrap=True, max_depth=50, max_features=10, n_estimators=25;, score=0.454 total time=   2.2s\n",
      "[CV 2/5] END bootstrap=True, max_depth=50, max_features=10, n_estimators=25;, score=0.439 total time=   2.3s\n",
      "[CV 3/5] END bootstrap=True, max_depth=50, max_features=10, n_estimators=25;, score=0.457 total time=   2.1s\n",
      "[CV 4/5] END bootstrap=True, max_depth=50, max_features=10, n_estimators=25;, score=0.438 total time=   2.2s\n",
      "[CV 5/5] END bootstrap=True, max_depth=50, max_features=10, n_estimators=25;, score=0.448 total time=   2.2s\n",
      "[CV 1/5] END bootstrap=True, max_depth=10, max_features=10, n_estimators=25;, score=0.428 total time=   1.5s\n",
      "[CV 2/5] END bootstrap=True, max_depth=10, max_features=10, n_estimators=25;, score=0.439 total time=   1.5s\n",
      "[CV 3/5] END bootstrap=True, max_depth=10, max_features=10, n_estimators=25;, score=0.402 total time=   1.5s\n",
      "[CV 4/5] END bootstrap=True, max_depth=10, max_features=10, n_estimators=25;, score=0.412 total time=   1.5s\n",
      "[CV 5/5] END bootstrap=True, max_depth=10, max_features=10, n_estimators=25;, score=0.436 total time=   1.5s\n",
      "[CV 1/5] END bootstrap=False, max_depth=50, max_features=5, n_estimators=25;, score=0.447 total time=   1.2s\n",
      "[CV 2/5] END bootstrap=False, max_depth=50, max_features=5, n_estimators=25;, score=0.436 total time=   1.2s\n",
      "[CV 3/5] END bootstrap=False, max_depth=50, max_features=5, n_estimators=25;, score=0.440 total time=   1.2s\n",
      "[CV 4/5] END bootstrap=False, max_depth=50, max_features=5, n_estimators=25;, score=0.437 total time=   1.2s\n",
      "[CV 5/5] END bootstrap=False, max_depth=50, max_features=5, n_estimators=25;, score=0.456 total time=   1.2s\n",
      "[CV 1/5] END bootstrap=False, max_depth=10, max_features=5, n_estimators=25;, score=0.387 total time=   0.8s\n",
      "[CV 2/5] END bootstrap=False, max_depth=10, max_features=5, n_estimators=25;, score=0.371 total time=   0.8s\n",
      "[CV 3/5] END bootstrap=False, max_depth=10, max_features=5, n_estimators=25;, score=0.387 total time=   0.8s\n",
      "[CV 4/5] END bootstrap=False, max_depth=10, max_features=5, n_estimators=25;, score=0.370 total time=   0.8s\n",
      "[CV 5/5] END bootstrap=False, max_depth=10, max_features=5, n_estimators=25;, score=0.381 total time=   0.8s\n",
      "[CV 1/5] END bootstrap=True, max_depth=10, max_features=5, n_estimators=25;, score=0.405 total time=   0.8s\n",
      "[CV 2/5] END bootstrap=True, max_depth=10, max_features=5, n_estimators=25;, score=0.408 total time=   0.8s\n",
      "[CV 3/5] END bootstrap=True, max_depth=10, max_features=5, n_estimators=25;, score=0.400 total time=   0.8s\n",
      "[CV 4/5] END bootstrap=True, max_depth=10, max_features=5, n_estimators=25;, score=0.371 total time=   0.8s\n",
      "[CV 5/5] END bootstrap=True, max_depth=10, max_features=5, n_estimators=25;, score=0.411 total time=   0.8s\n",
      "[CV 1/5] END bootstrap=True, max_depth=50, max_features=5, n_estimators=25;, score=0.462 total time=   1.2s\n",
      "[CV 2/5] END bootstrap=True, max_depth=50, max_features=5, n_estimators=25;, score=0.452 total time=   1.1s\n",
      "[CV 3/5] END bootstrap=True, max_depth=50, max_features=5, n_estimators=25;, score=0.475 total time=   1.1s\n",
      "[CV 4/5] END bootstrap=True, max_depth=50, max_features=5, n_estimators=25;, score=0.427 total time=   1.1s\n",
      "[CV 5/5] END bootstrap=True, max_depth=50, max_features=5, n_estimators=25;, score=0.443 total time=   1.2s\n",
      "[CV 1/5] END bootstrap=False, max_depth=None, max_features=5, n_estimators=10;, score=0.383 total time=   0.4s\n",
      "[CV 2/5] END bootstrap=False, max_depth=None, max_features=5, n_estimators=10;, score=0.410 total time=   0.4s\n",
      "[CV 3/5] END bootstrap=False, max_depth=None, max_features=5, n_estimators=10;, score=0.403 total time=   0.4s\n",
      "[CV 4/5] END bootstrap=False, max_depth=None, max_features=5, n_estimators=10;, score=0.389 total time=   0.4s\n",
      "[CV 5/5] END bootstrap=False, max_depth=None, max_features=5, n_estimators=10;, score=0.382 total time=   0.4s\n",
      "[CV 1/5] END bootstrap=False, max_depth=50, max_features=5, n_estimators=10;, score=0.384 total time=   0.5s\n",
      "[CV 2/5] END bootstrap=False, max_depth=50, max_features=5, n_estimators=10;, score=0.410 total time=   0.5s\n",
      "[CV 3/5] END bootstrap=False, max_depth=50, max_features=5, n_estimators=10;, score=0.393 total time=   0.4s\n",
      "[CV 4/5] END bootstrap=False, max_depth=50, max_features=5, n_estimators=10;, score=0.396 total time=   0.4s\n",
      "[CV 5/5] END bootstrap=False, max_depth=50, max_features=5, n_estimators=10;, score=0.371 total time=   0.4s\n",
      "[CV 1/5] END bootstrap=False, max_depth=10, max_features=10, n_estimators=10;, score=0.459 total time=   0.6s\n",
      "[CV 2/5] END bootstrap=False, max_depth=10, max_features=10, n_estimators=10;, score=0.416 total time=   0.6s\n",
      "[CV 3/5] END bootstrap=False, max_depth=10, max_features=10, n_estimators=10;, score=0.422 total time=   0.6s\n",
      "[CV 4/5] END bootstrap=False, max_depth=10, max_features=10, n_estimators=10;, score=0.419 total time=   0.6s\n",
      "[CV 5/5] END bootstrap=False, max_depth=10, max_features=10, n_estimators=10;, score=0.426 total time=   0.6s\n",
      "[CV 1/5] END bootstrap=True, max_depth=10, max_features=10, n_estimators=10;, score=0.433 total time=   0.6s\n",
      "[CV 2/5] END bootstrap=True, max_depth=10, max_features=10, n_estimators=10;, score=0.426 total time=   0.6s\n",
      "[CV 3/5] END bootstrap=True, max_depth=10, max_features=10, n_estimators=10;, score=0.404 total time=   0.6s\n",
      "[CV 4/5] END bootstrap=True, max_depth=10, max_features=10, n_estimators=10;, score=0.420 total time=   0.6s\n",
      "[CV 5/5] END bootstrap=True, max_depth=10, max_features=10, n_estimators=10;, score=0.431 total time=   0.6s\n",
      "[CV 1/5] END bootstrap=True, max_depth=None, max_features=10, n_estimators=10;, score=0.405 total time=   0.8s\n",
      "[CV 2/5] END bootstrap=True, max_depth=None, max_features=10, n_estimators=10;, score=0.398 total time=   0.8s\n",
      "[CV 3/5] END bootstrap=True, max_depth=None, max_features=10, n_estimators=10;, score=0.386 total time=   0.9s\n",
      "[CV 4/5] END bootstrap=True, max_depth=None, max_features=10, n_estimators=10;, score=0.373 total time=   0.8s\n",
      "[CV 5/5] END bootstrap=True, max_depth=None, max_features=10, n_estimators=10;, score=0.430 total time=   0.8s\n",
      "[CV 1/5] END bootstrap=False, max_depth=50, max_features=10, n_estimators=10;, score=0.397 total time=   0.8s\n",
      "[CV 2/5] END bootstrap=False, max_depth=50, max_features=10, n_estimators=10;, score=0.399 total time=   0.9s\n",
      "[CV 3/5] END bootstrap=False, max_depth=50, max_features=10, n_estimators=10;, score=0.427 total time=   0.8s\n",
      "[CV 4/5] END bootstrap=False, max_depth=50, max_features=10, n_estimators=10;, score=0.400 total time=   0.8s\n",
      "[CV 5/5] END bootstrap=False, max_depth=50, max_features=10, n_estimators=10;, score=0.409 total time=   0.9s\n",
      "[CV 1/5] END bootstrap=False, max_depth=50, max_features=10, n_estimators=25;, score=0.476 total time=   2.2s\n",
      "[CV 2/5] END bootstrap=False, max_depth=50, max_features=10, n_estimators=25;, score=0.478 total time=   2.2s\n",
      "[CV 3/5] END bootstrap=False, max_depth=50, max_features=10, n_estimators=25;, score=0.477 total time=   2.2s\n",
      "[CV 4/5] END bootstrap=False, max_depth=50, max_features=10, n_estimators=25;, score=0.468 total time=   2.2s\n",
      "[CV 5/5] END bootstrap=False, max_depth=50, max_features=10, n_estimators=25;, score=0.491 total time=   2.2s\n",
      "[CV 1/5] END bootstrap=True, max_depth=10, max_features=5, n_estimators=10;, score=0.418 total time=   0.3s\n",
      "[CV 2/5] END bootstrap=True, max_depth=10, max_features=5, n_estimators=10;, score=0.408 total time=   0.3s\n",
      "[CV 3/5] END bootstrap=True, max_depth=10, max_features=5, n_estimators=10;, score=0.403 total time=   0.3s\n",
      "[CV 4/5] END bootstrap=True, max_depth=10, max_features=5, n_estimators=10;, score=0.418 total time=   0.3s\n",
      "[CV 5/5] END bootstrap=True, max_depth=10, max_features=5, n_estimators=10;, score=0.400 total time=   0.3s\n",
      "[CV 1/5] END bootstrap=True, max_depth=50, max_features=5, n_estimators=10;, score=0.364 total time=   0.4s\n",
      "[CV 2/5] END bootstrap=True, max_depth=50, max_features=5, n_estimators=10;, score=0.385 total time=   0.4s\n",
      "[CV 3/5] END bootstrap=True, max_depth=50, max_features=5, n_estimators=10;, score=0.356 total time=   0.4s\n",
      "[CV 4/5] END bootstrap=True, max_depth=50, max_features=5, n_estimators=10;, score=0.380 total time=   0.4s\n",
      "[CV 5/5] END bootstrap=True, max_depth=50, max_features=5, n_estimators=10;, score=0.397 total time=   0.4s\n",
      "[CV 1/5] END bootstrap=True, max_depth=50, max_features=10, n_estimators=10;, score=0.391 total time=   0.9s\n",
      "[CV 2/5] END bootstrap=True, max_depth=50, max_features=10, n_estimators=10;, score=0.402 total time=   0.8s\n",
      "[CV 3/5] END bootstrap=True, max_depth=50, max_features=10, n_estimators=10;, score=0.413 total time=   0.9s\n",
      "[CV 4/5] END bootstrap=True, max_depth=50, max_features=10, n_estimators=10;, score=0.378 total time=   0.8s\n",
      "[CV 5/5] END bootstrap=True, max_depth=50, max_features=10, n_estimators=10;, score=0.396 total time=   0.8s\n",
      "[CV 1/5] END bootstrap=False, max_depth=None, max_features=5, n_estimators=25;, score=0.473 total time=   1.2s\n",
      "[CV 2/5] END bootstrap=False, max_depth=None, max_features=5, n_estimators=25;, score=0.471 total time=   1.2s\n",
      "[CV 3/5] END bootstrap=False, max_depth=None, max_features=5, n_estimators=25;, score=0.459 total time=   1.2s\n",
      "[CV 4/5] END bootstrap=False, max_depth=None, max_features=5, n_estimators=25;, score=0.443 total time=   1.2s\n",
      "[CV 5/5] END bootstrap=False, max_depth=None, max_features=5, n_estimators=25;, score=0.468 total time=   1.2s\n",
      "[CV 1/5] END bootstrap=True, max_depth=None, max_features=5, n_estimators=10;, score=0.393 total time=   0.4s\n",
      "[CV 2/5] END bootstrap=True, max_depth=None, max_features=5, n_estimators=10;, score=0.396 total time=   0.4s\n",
      "[CV 3/5] END bootstrap=True, max_depth=None, max_features=5, n_estimators=10;, score=0.395 total time=   0.4s\n",
      "[CV 4/5] END bootstrap=True, max_depth=None, max_features=5, n_estimators=10;, score=0.351 total time=   0.4s\n",
      "[CV 5/5] END bootstrap=True, max_depth=None, max_features=5, n_estimators=10;, score=0.374 total time=   0.4s\n",
      "Best parameters: {'n_estimators': 25, 'max_features': 10, 'max_depth': 50, 'bootstrap': False} \n",
      "\n"
     ]
    },
    {
     "name": "stderr",
     "output_type": "stream",
     "text": [
      "[Parallel(n_jobs=1)]: Using backend SequentialBackend with 1 concurrent workers.\n"
     ]
    },
    {
     "name": "stdout",
     "output_type": "stream",
     "text": [
      "\n",
      "\n",
      "\n",
      "_______________________________________________________________________\n",
      "EVALUATION\n",
      "\n",
      "----- TRAIN -----\n",
      "\n",
      "Confusion matrix\n",
      " [[6420    0]\n",
      " [   4 5100]] \n",
      "\n",
      "Accuracy: 100.0 \n",
      "\n",
      "F1 Score: 100.0 \n",
      "\n",
      "Balanced accuracy: 100.0 \n",
      "\n",
      "AUC Score: 100.0 \n",
      "\n",
      "\n",
      "----- TEST -----\n",
      "\n",
      "Confusion matrix\n",
      " [[524 190]\n",
      " [328 225]] \n",
      "\n",
      "Accuracy: 59.1 \n",
      "\n",
      "F1 Score: 46.5 \n",
      "\n",
      "Balanced accuracy: 46.5 \n",
      "\n",
      "AUC Score: 57.0 \n",
      "\n",
      "_______________________________________________________________________\n"
     ]
    },
    {
     "name": "stderr",
     "output_type": "stream",
     "text": [
      "[Parallel(n_jobs=1)]: Done  25 out of  25 | elapsed:    2.8s finished\n",
      "[Parallel(n_jobs=1)]: Using backend SequentialBackend with 1 concurrent workers.\n",
      "[Parallel(n_jobs=1)]: Done  25 out of  25 | elapsed:    0.0s finished\n",
      "[Parallel(n_jobs=1)]: Using backend SequentialBackend with 1 concurrent workers.\n",
      "[Parallel(n_jobs=1)]: Done  25 out of  25 | elapsed:    0.0s finished\n"
     ]
    }
   ],
   "source": [
    "# Instantiate classifier\n",
    "classifier = RFClassifier()\n",
    "\n",
    "# Perform randomized search over hyperparameters\n",
    "param_distributions = {\n",
    "    'n_estimators': [10, 25],\n",
    "    'max_features': [5, 10],\n",
    "    'max_depth': [10, 50, None],\n",
    "    'bootstrap': [True, False]\n",
    "}\n",
    "classifier.randomized_search(X_train_embeddings_roberta, y_train, param_distributions)\n",
    "\n",
    "# Train classifier on training data\n",
    "classifier.fit(X_train_embeddings_roberta, y_train)\n",
    "\n",
    "# Evaluate classifier\n",
    "print('\\n')\n",
    "print('\\n_______________________________________________________________________')\n",
    "print('EVALUATION')\n",
    "\n",
    "print('\\n----- TRAIN -----')\n",
    "cm_rf_roberta_train, accuracy_rf_roberta_train, f1_rf_roberta_train, balaccuracy_rf_roberta_train, rocauc_rf_roberta_train = classifier.evaluate(X_train_embeddings_roberta, y_train)\n",
    "\n",
    "print('\\n----- TEST -----')\n",
    "cm_rf_roberta_test, accuracy_rf_roberta_test, f1_rf_roberta_test, balaccuracy_rf_roberta_test, rocauc_rf_roberta_test = classifier.evaluate(X_test_embeddings_roberta, y_test)\n",
    "print('_______________________________________________________________________')"
   ]
  },
  {
   "cell_type": "code",
   "execution_count": 58,
   "metadata": {
    "collapsed": false,
    "jupyter": {
     "outputs_hidden": false
    }
   },
   "outputs": [],
   "source": [
    "cm_rf_roberta_train_tosave = repr(cm_rf_roberta_train)\n",
    "accuracy_rf_roberta_train_tosave = repr(accuracy_rf_roberta_train)\n",
    "f1_rf_roberta_train_tosave = repr(f1_rf_roberta_train)\n",
    "balaccuracy_rf_roberta_train_tosave = repr(balaccuracy_rf_roberta_train)\n",
    "rocauc_rf_roberta_train_tosave = repr(rocauc_rf_roberta_train)\n",
    "\n",
    "cm_rf_roberta_test_tosave = repr(cm_rf_roberta_test)\n",
    "accuracy_rf_roberta_test_tosave = repr(accuracy_rf_roberta_test)\n",
    "f1_rf_roberta_test_tosave = repr(f1_rf_roberta_test)\n",
    "balaccuracy_rf_roberta_test_tosave = repr(balaccuracy_rf_roberta_test)\n",
    "rocauc_rf_roberta_test_tosave = repr(rocauc_rf_roberta_test)\n",
    "\n",
    "\n",
    "file = open(\"results_split/rf_roberta_\"+time.strftime(\"%Y%m%d-%H%M%S\")+\".txt\", \"w\")\n",
    "\n",
    "file.write(\"Train CM = \"+cm_rf_roberta_train_tosave + \"\\n\" +\n",
    "           \"Train Accuracy = \" + accuracy_rf_roberta_train_tosave + \"\\n\" +\n",
    "           \"Train F1 = \"+f1_rf_roberta_train_tosave + \"\\n\"+\n",
    "           \"Train Balanced Accuracy = \"+balaccuracy_rf_roberta_train_tosave + \"\\n\" +\n",
    "           \"Train ROCAUC = \"+rocauc_rf_roberta_train_tosave + \"\\n\"+\n",
    "           \"Test CM = \"+cm_rf_roberta_test_tosave + \"\\n\"+\n",
    "           \"Test Accuracy = \"+accuracy_rf_roberta_test_tosave + \"\\n\"+\n",
    "           \"Test F1 = \"+f1_rf_roberta_test_tosave + \"\\n\"+\n",
    "           \"Test Balanced Accuracy = \"+balaccuracy_rf_roberta_test_tosave + \"\\n\"+\n",
    "           \"Test ROCAUC = \"+rocauc_rf_roberta_test_tosave)\n",
    "\n",
    "file.close()"
   ]
  },
  {
   "cell_type": "markdown",
   "metadata": {},
   "source": [
    "### RoBERTa + SVC"
   ]
  },
  {
   "cell_type": "code",
   "execution_count": 59,
   "metadata": {
    "ExecuteTime": {
     "end_time": "2023-05-22T01:08:39.933979119Z",
     "start_time": "2023-05-22T01:08:26.901157981Z"
    },
    "collapsed": false,
    "jupyter": {
     "outputs_hidden": false
    }
   },
   "outputs": [
    {
     "name": "stderr",
     "output_type": "stream",
     "text": [
      "C:\\Users\\Wesub\\anaconda3\\lib\\site-packages\\sklearn\\model_selection\\_search.py:305: UserWarning: The total space of parameters 16 is smaller than n_iter=20. Running 16 iterations. For exhaustive searches, use GridSearchCV.\n",
      "  warnings.warn(\n"
     ]
    },
    {
     "name": "stdout",
     "output_type": "stream",
     "text": [
      "Fitting 5 folds for each of 16 candidates, totalling 80 fits\n",
      "[CV 1/5] END ...C=1, gamma=scale, kernel=linear;, score=0.533 total time=  24.6s\n",
      "[CV 2/5] END ...C=1, gamma=scale, kernel=linear;, score=0.515 total time=  24.6s\n",
      "[CV 3/5] END ...C=1, gamma=scale, kernel=linear;, score=0.505 total time=  24.5s\n",
      "[CV 4/5] END ...C=1, gamma=scale, kernel=linear;, score=0.515 total time=  24.4s\n",
      "[CV 5/5] END ...C=1, gamma=scale, kernel=linear;, score=0.532 total time=  24.6s\n",
      "[CV 1/5] END .....C=1, gamma=scale, kernel=poly;, score=0.002 total time=  27.1s\n",
      "[CV 2/5] END .....C=1, gamma=scale, kernel=poly;, score=0.000 total time=  27.1s\n",
      "[CV 3/5] END .....C=1, gamma=scale, kernel=poly;, score=0.000 total time=  27.3s\n",
      "[CV 4/5] END .....C=1, gamma=scale, kernel=poly;, score=0.002 total time=  28.4s\n",
      "[CV 5/5] END .....C=1, gamma=scale, kernel=poly;, score=0.000 total time=  26.9s\n",
      "[CV 1/5] END ......C=1, gamma=scale, kernel=rbf;, score=0.000 total time=  31.4s\n",
      "[CV 2/5] END ......C=1, gamma=scale, kernel=rbf;, score=0.000 total time=  31.4s\n",
      "[CV 3/5] END ......C=1, gamma=scale, kernel=rbf;, score=0.000 total time=  31.1s\n",
      "[CV 4/5] END ......C=1, gamma=scale, kernel=rbf;, score=0.000 total time=  31.6s\n",
      "[CV 5/5] END ......C=1, gamma=scale, kernel=rbf;, score=0.000 total time=  31.7s\n",
      "[CV 1/5] END ..C=1, gamma=scale, kernel=sigmoid;, score=0.000 total time=  34.5s\n",
      "[CV 2/5] END ..C=1, gamma=scale, kernel=sigmoid;, score=0.000 total time=  35.4s\n",
      "[CV 3/5] END ..C=1, gamma=scale, kernel=sigmoid;, score=0.000 total time=  29.3s\n",
      "[CV 4/5] END ..C=1, gamma=scale, kernel=sigmoid;, score=0.000 total time=  34.3s\n",
      "[CV 5/5] END ..C=1, gamma=scale, kernel=sigmoid;, score=0.000 total time=  34.5s\n",
      "[CV 1/5] END ..C=10, gamma=scale, kernel=linear;, score=0.549 total time=  29.3s\n",
      "[CV 2/5] END ..C=10, gamma=scale, kernel=linear;, score=0.532 total time=  29.1s\n",
      "[CV 3/5] END ..C=10, gamma=scale, kernel=linear;, score=0.524 total time=  28.8s\n",
      "[CV 4/5] END ..C=10, gamma=scale, kernel=linear;, score=0.516 total time=  29.0s\n",
      "[CV 5/5] END ..C=10, gamma=scale, kernel=linear;, score=0.558 total time=  29.4s\n",
      "[CV 1/5] END ....C=10, gamma=scale, kernel=poly;, score=0.491 total time=  25.7s\n",
      "[CV 2/5] END ....C=10, gamma=scale, kernel=poly;, score=0.471 total time=  25.6s\n",
      "[CV 3/5] END ....C=10, gamma=scale, kernel=poly;, score=0.469 total time=  25.6s\n",
      "[CV 4/5] END ....C=10, gamma=scale, kernel=poly;, score=0.492 total time=  25.5s\n",
      "[CV 5/5] END ....C=10, gamma=scale, kernel=poly;, score=0.501 total time=  26.1s\n",
      "[CV 1/5] END .....C=10, gamma=scale, kernel=rbf;, score=0.490 total time=  30.3s\n",
      "[CV 2/5] END .....C=10, gamma=scale, kernel=rbf;, score=0.454 total time=  30.4s\n",
      "[CV 3/5] END .....C=10, gamma=scale, kernel=rbf;, score=0.463 total time=  30.2s\n",
      "[CV 4/5] END .....C=10, gamma=scale, kernel=rbf;, score=0.479 total time=  30.0s\n",
      "[CV 5/5] END .....C=10, gamma=scale, kernel=rbf;, score=0.477 total time=  30.4s\n",
      "[CV 1/5] END .C=10, gamma=scale, kernel=sigmoid;, score=0.442 total time=  37.2s\n",
      "[CV 2/5] END .C=10, gamma=scale, kernel=sigmoid;, score=0.407 total time=  37.2s\n",
      "[CV 3/5] END .C=10, gamma=scale, kernel=sigmoid;, score=0.405 total time=  26.3s\n",
      "[CV 4/5] END .C=10, gamma=scale, kernel=sigmoid;, score=0.415 total time=  37.1s\n",
      "[CV 5/5] END .C=10, gamma=scale, kernel=sigmoid;, score=0.419 total time=  37.1s\n",
      "[CV 1/5] END .C=100, gamma=scale, kernel=linear;, score=0.555 total time= 1.2min\n",
      "[CV 2/5] END .C=100, gamma=scale, kernel=linear;, score=0.526 total time= 1.2min\n",
      "[CV 3/5] END .C=100, gamma=scale, kernel=linear;, score=0.530 total time= 1.2min\n",
      "[CV 4/5] END .C=100, gamma=scale, kernel=linear;, score=0.528 total time= 1.2min\n",
      "[CV 5/5] END .C=100, gamma=scale, kernel=linear;, score=0.561 total time= 1.2min\n",
      "[CV 1/5] END ...C=100, gamma=scale, kernel=poly;, score=0.540 total time=  25.3s\n",
      "[CV 2/5] END ...C=100, gamma=scale, kernel=poly;, score=0.521 total time=  25.3s\n",
      "[CV 3/5] END ...C=100, gamma=scale, kernel=poly;, score=0.516 total time=  25.5s\n",
      "[CV 4/5] END ...C=100, gamma=scale, kernel=poly;, score=0.516 total time=  25.1s\n",
      "[CV 5/5] END ...C=100, gamma=scale, kernel=poly;, score=0.541 total time=  25.3s\n",
      "[CV 1/5] END ....C=100, gamma=scale, kernel=rbf;, score=0.543 total time=  29.4s\n",
      "[CV 2/5] END ....C=100, gamma=scale, kernel=rbf;, score=0.519 total time=  29.9s\n",
      "[CV 3/5] END ....C=100, gamma=scale, kernel=rbf;, score=0.509 total time=  29.3s\n",
      "[CV 4/5] END ....C=100, gamma=scale, kernel=rbf;, score=0.520 total time=  29.2s\n",
      "[CV 5/5] END ....C=100, gamma=scale, kernel=rbf;, score=0.542 total time=  29.4s\n",
      "[CV 1/5] END C=100, gamma=scale, kernel=sigmoid;, score=0.472 total time=  15.3s\n",
      "[CV 2/5] END C=100, gamma=scale, kernel=sigmoid;, score=0.508 total time=  15.6s\n",
      "[CV 3/5] END C=100, gamma=scale, kernel=sigmoid;, score=0.427 total time=  17.3s\n",
      "[CV 4/5] END C=100, gamma=scale, kernel=sigmoid;, score=0.481 total time=  15.4s\n",
      "[CV 5/5] END C=100, gamma=scale, kernel=sigmoid;, score=0.501 total time=  15.6s\n",
      "[CV 1/5] END C=1000, gamma=scale, kernel=linear;, score=0.550 total time= 5.9min\n",
      "[CV 2/5] END C=1000, gamma=scale, kernel=linear;, score=0.521 total time= 8.4min\n",
      "[CV 3/5] END C=1000, gamma=scale, kernel=linear;, score=0.535 total time= 6.5min\n",
      "[CV 4/5] END C=1000, gamma=scale, kernel=linear;, score=0.525 total time= 7.0min\n",
      "[CV 5/5] END C=1000, gamma=scale, kernel=linear;, score=0.547 total time= 7.4min\n",
      "[CV 1/5] END ..C=1000, gamma=scale, kernel=poly;, score=0.553 total time=  35.1s\n",
      "[CV 2/5] END ..C=1000, gamma=scale, kernel=poly;, score=0.536 total time=  35.2s\n",
      "[CV 3/5] END ..C=1000, gamma=scale, kernel=poly;, score=0.520 total time=  35.2s\n",
      "[CV 4/5] END ..C=1000, gamma=scale, kernel=poly;, score=0.528 total time=  35.3s\n",
      "[CV 5/5] END ..C=1000, gamma=scale, kernel=poly;, score=0.557 total time=  35.7s\n",
      "[CV 1/5] END ...C=1000, gamma=scale, kernel=rbf;, score=0.550 total time=  38.6s\n",
      "[CV 2/5] END ...C=1000, gamma=scale, kernel=rbf;, score=0.537 total time=  39.6s\n",
      "[CV 3/5] END ...C=1000, gamma=scale, kernel=rbf;, score=0.517 total time=  38.5s\n",
      "[CV 4/5] END ...C=1000, gamma=scale, kernel=rbf;, score=0.520 total time=  38.4s\n",
      "[CV 5/5] END ...C=1000, gamma=scale, kernel=rbf;, score=0.563 total time=  39.1s\n",
      "[CV 1/5] END C=1000, gamma=scale, kernel=sigmoid;, score=0.475 total time=  14.3s\n",
      "[CV 2/5] END C=1000, gamma=scale, kernel=sigmoid;, score=0.511 total time=  14.7s\n",
      "[CV 3/5] END C=1000, gamma=scale, kernel=sigmoid;, score=0.494 total time=  14.4s\n",
      "[CV 4/5] END C=1000, gamma=scale, kernel=sigmoid;, score=0.481 total time=  14.3s\n",
      "[CV 5/5] END C=1000, gamma=scale, kernel=sigmoid;, score=0.502 total time=  14.5s\n",
      "Best parameters: {'kernel': 'linear', 'gamma': 'scale', 'C': 100} \n",
      "\n",
      "[LibSVM]\n",
      "\n",
      "\n",
      "_______________________________________________________________________\n",
      "EVALUATION\n",
      "\n",
      "----- TRAIN -----\n",
      "\n",
      "Confusion matrix\n",
      " [[4929 1491]\n",
      " [2164 2940]] \n",
      "\n",
      "Accuracy: 68.3 \n",
      "\n",
      "F1 Score: 61.7 \n",
      "\n",
      "Balanced accuracy: 61.7 \n",
      "\n",
      "AUC Score: 67.2 \n",
      "\n",
      "\n",
      "----- TEST -----\n",
      "\n",
      "Confusion matrix\n",
      " [[503 211]\n",
      " [277 276]] \n",
      "\n",
      "Accuracy: 61.5 \n",
      "\n",
      "F1 Score: 53.1 \n",
      "\n",
      "Balanced accuracy: 53.1 \n",
      "\n",
      "AUC Score: 60.2 \n",
      "\n",
      "_______________________________________________________________________\n"
     ]
    }
   ],
   "source": [
    "# Instantiate classifier\n",
    "classifier = SVClassifier()\n",
    "\n",
    "# Perform randomized search over hyperparameters\n",
    "param_distributions = {\n",
    "    'C': [1, 10, 100, 1000],\n",
    "    'kernel': ['linear', 'poly', 'rbf', 'sigmoid'],\n",
    "    'gamma': ['scale']\n",
    "    #'gamma': [0.1, 0.2, 0.3, 0.4, 0.5, 0.6, 0.7, 0.8, 0.9]\n",
    "}\n",
    "classifier.randomized_search(X_train_embeddings_roberta, y_train, param_distributions)\n",
    "\n",
    "# Train classifier on training data\n",
    "classifier.fit(X_train_embeddings_roberta, y_train)\n",
    "\n",
    "# Evaluate classifier\n",
    "print('\\n')\n",
    "print('\\n_______________________________________________________________________')\n",
    "print('EVALUATION')\n",
    "\n",
    "print('\\n----- TRAIN -----')\n",
    "cm_svc_roberta_train, accuracy_svc_roberta_train, f1_svc_roberta_train, balaccuracy_svc_roberta_train, rocauc_svc_roberta_train = classifier.evaluate(X_train_embeddings_roberta, y_train)\n",
    "\n",
    "print('\\n----- TEST -----')\n",
    "cm_svc_roberta_test, accuracy_svc_roberta_test, f1_svc_roberta_test, balaccuracy_svc_roberta_test, rocauc_svc_roberta_test = classifier.evaluate(X_test_embeddings_roberta, y_test)\n",
    "print('_______________________________________________________________________')"
   ]
  },
  {
   "cell_type": "code",
   "execution_count": 60,
   "metadata": {
    "collapsed": false,
    "jupyter": {
     "outputs_hidden": false
    }
   },
   "outputs": [],
   "source": [
    "cm_svc_roberta_train_tosave = repr(cm_svc_roberta_train)\n",
    "accuracy_svc_roberta_train_tosave = repr(accuracy_svc_roberta_train)\n",
    "f1_svc_roberta_train_tosave = repr(f1_svc_roberta_train)\n",
    "balaccuracy_svc_roberta_train_tosave = repr(balaccuracy_svc_roberta_train)\n",
    "rocauc_svc_roberta_train_tosave = repr(rocauc_svc_roberta_train)\n",
    "\n",
    "cm_svc_roberta_test_tosave = repr(cm_svc_roberta_test)\n",
    "accuracy_svc_roberta_test_tosave = repr(accuracy_svc_roberta_test)\n",
    "f1_svc_roberta_test_tosave = repr(f1_svc_roberta_test)\n",
    "balaccuracy_svc_roberta_test_tosave = repr(balaccuracy_svc_roberta_test)\n",
    "rocauc_svc_roberta_test_tosave = repr(rocauc_svc_roberta_test)\n",
    "\n",
    "\n",
    "file = open(\"results_split/svc_roberta_\"+time.strftime(\"%Y%m%d-%H%M%S\")+\".txt\", \"w\")\n",
    "\n",
    "file.write(\"Train CM = \"+cm_svc_roberta_train_tosave + \"\\n\" +\n",
    "           \"Train Accuracy = \" + accuracy_svc_roberta_train_tosave + \"\\n\" +\n",
    "           \"Train F1 = \"+f1_svc_roberta_train_tosave + \"\\n\"+\n",
    "           \"Train Balanced Accuracy = \"+balaccuracy_svc_roberta_train_tosave + \"\\n\" +\n",
    "           \"Train ROCAUC = \"+rocauc_svc_roberta_train_tosave + \"\\n\"+\n",
    "           \"Test CM = \"+cm_svc_roberta_test_tosave + \"\\n\"+\n",
    "           \"Test Accuracy = \"+accuracy_svc_roberta_test_tosave + \"\\n\"+\n",
    "           \"Test F1 = \"+f1_svc_roberta_test_tosave + \"\\n\"+\n",
    "           \"Test Balanced Accuracy = \"+balaccuracy_svc_roberta_test_tosave + \"\\n\"+\n",
    "           \"Test ROCAUC = \"+rocauc_svc_roberta_test_tosave)\n",
    "\n",
    "file.close()"
   ]
  },
  {
   "cell_type": "markdown",
   "metadata": {},
   "source": [
    "### RoBERTa + Logistic Regression"
   ]
  },
  {
   "cell_type": "code",
   "execution_count": 61,
   "metadata": {
    "ExecuteTime": {
     "end_time": "2023-05-22T01:08:50.413713572Z",
     "start_time": "2023-05-22T01:08:39.932072493Z"
    },
    "collapsed": false,
    "jupyter": {
     "outputs_hidden": false
    }
   },
   "outputs": [
    {
     "name": "stdout",
     "output_type": "stream",
     "text": [
      "Fitting 5 folds for each of 20 candidates, totalling 100 fits\n"
     ]
    },
    {
     "name": "stderr",
     "output_type": "stream",
     "text": [
      "C:\\Users\\Wesub\\anaconda3\\lib\\site-packages\\sklearn\\linear_model\\_logistic.py:458: ConvergenceWarning: lbfgs failed to converge (status=1):\n",
      "STOP: TOTAL NO. of ITERATIONS REACHED LIMIT.\n",
      "\n",
      "Increase the number of iterations (max_iter) or scale the data as shown in:\n",
      "    https://scikit-learn.org/stable/modules/preprocessing.html\n",
      "Please also refer to the documentation for alternative solver options:\n",
      "    https://scikit-learn.org/stable/modules/linear_model.html#logistic-regression\n",
      "  n_iter_i = _check_optimize_result(\n"
     ]
    },
    {
     "name": "stdout",
     "output_type": "stream",
     "text": [
      "[CV 1/5] END C=0.9400000000000001, penalty=l2, solver=lbfgs;, score=0.540 total time=   0.2s\n"
     ]
    },
    {
     "name": "stderr",
     "output_type": "stream",
     "text": [
      "C:\\Users\\Wesub\\anaconda3\\lib\\site-packages\\sklearn\\linear_model\\_logistic.py:458: ConvergenceWarning: lbfgs failed to converge (status=1):\n",
      "STOP: TOTAL NO. of ITERATIONS REACHED LIMIT.\n",
      "\n",
      "Increase the number of iterations (max_iter) or scale the data as shown in:\n",
      "    https://scikit-learn.org/stable/modules/preprocessing.html\n",
      "Please also refer to the documentation for alternative solver options:\n",
      "    https://scikit-learn.org/stable/modules/linear_model.html#logistic-regression\n",
      "  n_iter_i = _check_optimize_result(\n"
     ]
    },
    {
     "name": "stdout",
     "output_type": "stream",
     "text": [
      "[CV 2/5] END C=0.9400000000000001, penalty=l2, solver=lbfgs;, score=0.513 total time=   0.2s\n"
     ]
    },
    {
     "name": "stderr",
     "output_type": "stream",
     "text": [
      "C:\\Users\\Wesub\\anaconda3\\lib\\site-packages\\sklearn\\linear_model\\_logistic.py:458: ConvergenceWarning: lbfgs failed to converge (status=1):\n",
      "STOP: TOTAL NO. of ITERATIONS REACHED LIMIT.\n",
      "\n",
      "Increase the number of iterations (max_iter) or scale the data as shown in:\n",
      "    https://scikit-learn.org/stable/modules/preprocessing.html\n",
      "Please also refer to the documentation for alternative solver options:\n",
      "    https://scikit-learn.org/stable/modules/linear_model.html#logistic-regression\n",
      "  n_iter_i = _check_optimize_result(\n"
     ]
    },
    {
     "name": "stdout",
     "output_type": "stream",
     "text": [
      "[CV 3/5] END C=0.9400000000000001, penalty=l2, solver=lbfgs;, score=0.508 total time=   0.3s\n"
     ]
    },
    {
     "name": "stderr",
     "output_type": "stream",
     "text": [
      "C:\\Users\\Wesub\\anaconda3\\lib\\site-packages\\sklearn\\linear_model\\_logistic.py:458: ConvergenceWarning: lbfgs failed to converge (status=1):\n",
      "STOP: TOTAL NO. of ITERATIONS REACHED LIMIT.\n",
      "\n",
      "Increase the number of iterations (max_iter) or scale the data as shown in:\n",
      "    https://scikit-learn.org/stable/modules/preprocessing.html\n",
      "Please also refer to the documentation for alternative solver options:\n",
      "    https://scikit-learn.org/stable/modules/linear_model.html#logistic-regression\n",
      "  n_iter_i = _check_optimize_result(\n"
     ]
    },
    {
     "name": "stdout",
     "output_type": "stream",
     "text": [
      "[CV 4/5] END C=0.9400000000000001, penalty=l2, solver=lbfgs;, score=0.501 total time=   0.2s\n"
     ]
    },
    {
     "name": "stderr",
     "output_type": "stream",
     "text": [
      "C:\\Users\\Wesub\\anaconda3\\lib\\site-packages\\sklearn\\linear_model\\_logistic.py:458: ConvergenceWarning: lbfgs failed to converge (status=1):\n",
      "STOP: TOTAL NO. of ITERATIONS REACHED LIMIT.\n",
      "\n",
      "Increase the number of iterations (max_iter) or scale the data as shown in:\n",
      "    https://scikit-learn.org/stable/modules/preprocessing.html\n",
      "Please also refer to the documentation for alternative solver options:\n",
      "    https://scikit-learn.org/stable/modules/linear_model.html#logistic-regression\n",
      "  n_iter_i = _check_optimize_result(\n"
     ]
    },
    {
     "name": "stdout",
     "output_type": "stream",
     "text": [
      "[CV 5/5] END C=0.9400000000000001, penalty=l2, solver=lbfgs;, score=0.540 total time=   0.3s\n",
      "[CV 1/5] END C=0.12, penalty=l2, solver=liblinear;, score=0.481 total time=   0.6s\n",
      "[CV 2/5] END C=0.12, penalty=l2, solver=liblinear;, score=0.472 total time=   0.5s\n",
      "[CV 3/5] END C=0.12, penalty=l2, solver=liblinear;, score=0.477 total time=   0.6s\n",
      "[CV 4/5] END C=0.12, penalty=l2, solver=liblinear;, score=0.477 total time=   0.6s\n",
      "[CV 5/5] END C=0.12, penalty=l2, solver=liblinear;, score=0.487 total time=   0.5s\n"
     ]
    },
    {
     "name": "stderr",
     "output_type": "stream",
     "text": [
      "C:\\Users\\Wesub\\anaconda3\\lib\\site-packages\\sklearn\\linear_model\\_logistic.py:458: ConvergenceWarning: lbfgs failed to converge (status=1):\n",
      "STOP: TOTAL NO. of ITERATIONS REACHED LIMIT.\n",
      "\n",
      "Increase the number of iterations (max_iter) or scale the data as shown in:\n",
      "    https://scikit-learn.org/stable/modules/preprocessing.html\n",
      "Please also refer to the documentation for alternative solver options:\n",
      "    https://scikit-learn.org/stable/modules/linear_model.html#logistic-regression\n",
      "  n_iter_i = _check_optimize_result(\n"
     ]
    },
    {
     "name": "stdout",
     "output_type": "stream",
     "text": [
      "[CV 1/5] END ..C=0.31, penalty=l2, solver=lbfgs;, score=0.518 total time=   0.3s\n"
     ]
    },
    {
     "name": "stderr",
     "output_type": "stream",
     "text": [
      "C:\\Users\\Wesub\\anaconda3\\lib\\site-packages\\sklearn\\linear_model\\_logistic.py:458: ConvergenceWarning: lbfgs failed to converge (status=1):\n",
      "STOP: TOTAL NO. of ITERATIONS REACHED LIMIT.\n",
      "\n",
      "Increase the number of iterations (max_iter) or scale the data as shown in:\n",
      "    https://scikit-learn.org/stable/modules/preprocessing.html\n",
      "Please also refer to the documentation for alternative solver options:\n",
      "    https://scikit-learn.org/stable/modules/linear_model.html#logistic-regression\n",
      "  n_iter_i = _check_optimize_result(\n"
     ]
    },
    {
     "name": "stdout",
     "output_type": "stream",
     "text": [
      "[CV 2/5] END ..C=0.31, penalty=l2, solver=lbfgs;, score=0.511 total time=   0.2s\n"
     ]
    },
    {
     "name": "stderr",
     "output_type": "stream",
     "text": [
      "C:\\Users\\Wesub\\anaconda3\\lib\\site-packages\\sklearn\\linear_model\\_logistic.py:458: ConvergenceWarning: lbfgs failed to converge (status=1):\n",
      "STOP: TOTAL NO. of ITERATIONS REACHED LIMIT.\n",
      "\n",
      "Increase the number of iterations (max_iter) or scale the data as shown in:\n",
      "    https://scikit-learn.org/stable/modules/preprocessing.html\n",
      "Please also refer to the documentation for alternative solver options:\n",
      "    https://scikit-learn.org/stable/modules/linear_model.html#logistic-regression\n",
      "  n_iter_i = _check_optimize_result(\n"
     ]
    },
    {
     "name": "stdout",
     "output_type": "stream",
     "text": [
      "[CV 3/5] END ..C=0.31, penalty=l2, solver=lbfgs;, score=0.498 total time=   0.2s\n"
     ]
    },
    {
     "name": "stderr",
     "output_type": "stream",
     "text": [
      "C:\\Users\\Wesub\\anaconda3\\lib\\site-packages\\sklearn\\linear_model\\_logistic.py:458: ConvergenceWarning: lbfgs failed to converge (status=1):\n",
      "STOP: TOTAL NO. of ITERATIONS REACHED LIMIT.\n",
      "\n",
      "Increase the number of iterations (max_iter) or scale the data as shown in:\n",
      "    https://scikit-learn.org/stable/modules/preprocessing.html\n",
      "Please also refer to the documentation for alternative solver options:\n",
      "    https://scikit-learn.org/stable/modules/linear_model.html#logistic-regression\n",
      "  n_iter_i = _check_optimize_result(\n"
     ]
    },
    {
     "name": "stdout",
     "output_type": "stream",
     "text": [
      "[CV 4/5] END ..C=0.31, penalty=l2, solver=lbfgs;, score=0.500 total time=   0.3s\n"
     ]
    },
    {
     "name": "stderr",
     "output_type": "stream",
     "text": [
      "C:\\Users\\Wesub\\anaconda3\\lib\\site-packages\\sklearn\\linear_model\\_logistic.py:458: ConvergenceWarning: lbfgs failed to converge (status=1):\n",
      "STOP: TOTAL NO. of ITERATIONS REACHED LIMIT.\n",
      "\n",
      "Increase the number of iterations (max_iter) or scale the data as shown in:\n",
      "    https://scikit-learn.org/stable/modules/preprocessing.html\n",
      "Please also refer to the documentation for alternative solver options:\n",
      "    https://scikit-learn.org/stable/modules/linear_model.html#logistic-regression\n",
      "  n_iter_i = _check_optimize_result(\n"
     ]
    },
    {
     "name": "stdout",
     "output_type": "stream",
     "text": [
      "[CV 5/5] END ..C=0.31, penalty=l2, solver=lbfgs;, score=0.521 total time=   0.2s\n"
     ]
    },
    {
     "name": "stderr",
     "output_type": "stream",
     "text": [
      "C:\\Users\\Wesub\\anaconda3\\lib\\site-packages\\sklearn\\linear_model\\_logistic.py:458: ConvergenceWarning: lbfgs failed to converge (status=1):\n",
      "STOP: TOTAL NO. of ITERATIONS REACHED LIMIT.\n",
      "\n",
      "Increase the number of iterations (max_iter) or scale the data as shown in:\n",
      "    https://scikit-learn.org/stable/modules/preprocessing.html\n",
      "Please also refer to the documentation for alternative solver options:\n",
      "    https://scikit-learn.org/stable/modules/linear_model.html#logistic-regression\n",
      "  n_iter_i = _check_optimize_result(\n"
     ]
    },
    {
     "name": "stdout",
     "output_type": "stream",
     "text": [
      "[CV 1/5] END ..C=0.27, penalty=l2, solver=lbfgs;, score=0.517 total time=   0.2s\n"
     ]
    },
    {
     "name": "stderr",
     "output_type": "stream",
     "text": [
      "C:\\Users\\Wesub\\anaconda3\\lib\\site-packages\\sklearn\\linear_model\\_logistic.py:458: ConvergenceWarning: lbfgs failed to converge (status=1):\n",
      "STOP: TOTAL NO. of ITERATIONS REACHED LIMIT.\n",
      "\n",
      "Increase the number of iterations (max_iter) or scale the data as shown in:\n",
      "    https://scikit-learn.org/stable/modules/preprocessing.html\n",
      "Please also refer to the documentation for alternative solver options:\n",
      "    https://scikit-learn.org/stable/modules/linear_model.html#logistic-regression\n",
      "  n_iter_i = _check_optimize_result(\n"
     ]
    },
    {
     "name": "stdout",
     "output_type": "stream",
     "text": [
      "[CV 2/5] END ..C=0.27, penalty=l2, solver=lbfgs;, score=0.508 total time=   0.3s\n"
     ]
    },
    {
     "name": "stderr",
     "output_type": "stream",
     "text": [
      "C:\\Users\\Wesub\\anaconda3\\lib\\site-packages\\sklearn\\linear_model\\_logistic.py:458: ConvergenceWarning: lbfgs failed to converge (status=1):\n",
      "STOP: TOTAL NO. of ITERATIONS REACHED LIMIT.\n",
      "\n",
      "Increase the number of iterations (max_iter) or scale the data as shown in:\n",
      "    https://scikit-learn.org/stable/modules/preprocessing.html\n",
      "Please also refer to the documentation for alternative solver options:\n",
      "    https://scikit-learn.org/stable/modules/linear_model.html#logistic-regression\n",
      "  n_iter_i = _check_optimize_result(\n"
     ]
    },
    {
     "name": "stdout",
     "output_type": "stream",
     "text": [
      "[CV 3/5] END ..C=0.27, penalty=l2, solver=lbfgs;, score=0.495 total time=   0.2s\n"
     ]
    },
    {
     "name": "stderr",
     "output_type": "stream",
     "text": [
      "C:\\Users\\Wesub\\anaconda3\\lib\\site-packages\\sklearn\\linear_model\\_logistic.py:458: ConvergenceWarning: lbfgs failed to converge (status=1):\n",
      "STOP: TOTAL NO. of ITERATIONS REACHED LIMIT.\n",
      "\n",
      "Increase the number of iterations (max_iter) or scale the data as shown in:\n",
      "    https://scikit-learn.org/stable/modules/preprocessing.html\n",
      "Please also refer to the documentation for alternative solver options:\n",
      "    https://scikit-learn.org/stable/modules/linear_model.html#logistic-regression\n",
      "  n_iter_i = _check_optimize_result(\n"
     ]
    },
    {
     "name": "stdout",
     "output_type": "stream",
     "text": [
      "[CV 4/5] END ..C=0.27, penalty=l2, solver=lbfgs;, score=0.495 total time=   0.3s\n"
     ]
    },
    {
     "name": "stderr",
     "output_type": "stream",
     "text": [
      "C:\\Users\\Wesub\\anaconda3\\lib\\site-packages\\sklearn\\linear_model\\_logistic.py:458: ConvergenceWarning: lbfgs failed to converge (status=1):\n",
      "STOP: TOTAL NO. of ITERATIONS REACHED LIMIT.\n",
      "\n",
      "Increase the number of iterations (max_iter) or scale the data as shown in:\n",
      "    https://scikit-learn.org/stable/modules/preprocessing.html\n",
      "Please also refer to the documentation for alternative solver options:\n",
      "    https://scikit-learn.org/stable/modules/linear_model.html#logistic-regression\n",
      "  n_iter_i = _check_optimize_result(\n",
      "C:\\Users\\Wesub\\anaconda3\\lib\\site-packages\\sklearn\\linear_model\\_logistic.py:1181: UserWarning: Setting penalty=None will ignore the C and l1_ratio parameters\n",
      "  warnings.warn(\n"
     ]
    },
    {
     "name": "stdout",
     "output_type": "stream",
     "text": [
      "[CV 5/5] END ..C=0.27, penalty=l2, solver=lbfgs;, score=0.520 total time=   0.3s\n"
     ]
    },
    {
     "name": "stderr",
     "output_type": "stream",
     "text": [
      "C:\\Users\\Wesub\\anaconda3\\lib\\site-packages\\sklearn\\linear_model\\_logistic.py:458: ConvergenceWarning: lbfgs failed to converge (status=1):\n",
      "STOP: TOTAL NO. of ITERATIONS REACHED LIMIT.\n",
      "\n",
      "Increase the number of iterations (max_iter) or scale the data as shown in:\n",
      "    https://scikit-learn.org/stable/modules/preprocessing.html\n",
      "Please also refer to the documentation for alternative solver options:\n",
      "    https://scikit-learn.org/stable/modules/linear_model.html#logistic-regression\n",
      "  n_iter_i = _check_optimize_result(\n",
      "C:\\Users\\Wesub\\anaconda3\\lib\\site-packages\\sklearn\\linear_model\\_logistic.py:1181: UserWarning: Setting penalty=None will ignore the C and l1_ratio parameters\n",
      "  warnings.warn(\n"
     ]
    },
    {
     "name": "stdout",
     "output_type": "stream",
     "text": [
      "[CV 1/5] END C=0.78, penalty=none, solver=lbfgs;, score=0.548 total time=   0.3s\n"
     ]
    },
    {
     "name": "stderr",
     "output_type": "stream",
     "text": [
      "C:\\Users\\Wesub\\anaconda3\\lib\\site-packages\\sklearn\\linear_model\\_logistic.py:458: ConvergenceWarning: lbfgs failed to converge (status=1):\n",
      "STOP: TOTAL NO. of ITERATIONS REACHED LIMIT.\n",
      "\n",
      "Increase the number of iterations (max_iter) or scale the data as shown in:\n",
      "    https://scikit-learn.org/stable/modules/preprocessing.html\n",
      "Please also refer to the documentation for alternative solver options:\n",
      "    https://scikit-learn.org/stable/modules/linear_model.html#logistic-regression\n",
      "  n_iter_i = _check_optimize_result(\n",
      "C:\\Users\\Wesub\\anaconda3\\lib\\site-packages\\sklearn\\linear_model\\_logistic.py:1181: UserWarning: Setting penalty=None will ignore the C and l1_ratio parameters\n",
      "  warnings.warn(\n"
     ]
    },
    {
     "name": "stdout",
     "output_type": "stream",
     "text": [
      "[CV 2/5] END C=0.78, penalty=none, solver=lbfgs;, score=0.523 total time=   0.3s\n"
     ]
    },
    {
     "name": "stderr",
     "output_type": "stream",
     "text": [
      "C:\\Users\\Wesub\\anaconda3\\lib\\site-packages\\sklearn\\linear_model\\_logistic.py:458: ConvergenceWarning: lbfgs failed to converge (status=1):\n",
      "STOP: TOTAL NO. of ITERATIONS REACHED LIMIT.\n",
      "\n",
      "Increase the number of iterations (max_iter) or scale the data as shown in:\n",
      "    https://scikit-learn.org/stable/modules/preprocessing.html\n",
      "Please also refer to the documentation for alternative solver options:\n",
      "    https://scikit-learn.org/stable/modules/linear_model.html#logistic-regression\n",
      "  n_iter_i = _check_optimize_result(\n",
      "C:\\Users\\Wesub\\anaconda3\\lib\\site-packages\\sklearn\\linear_model\\_logistic.py:1181: UserWarning: Setting penalty=None will ignore the C and l1_ratio parameters\n",
      "  warnings.warn(\n"
     ]
    },
    {
     "name": "stdout",
     "output_type": "stream",
     "text": [
      "[CV 3/5] END C=0.78, penalty=none, solver=lbfgs;, score=0.521 total time=   0.2s\n"
     ]
    },
    {
     "name": "stderr",
     "output_type": "stream",
     "text": [
      "C:\\Users\\Wesub\\anaconda3\\lib\\site-packages\\sklearn\\linear_model\\_logistic.py:458: ConvergenceWarning: lbfgs failed to converge (status=1):\n",
      "STOP: TOTAL NO. of ITERATIONS REACHED LIMIT.\n",
      "\n",
      "Increase the number of iterations (max_iter) or scale the data as shown in:\n",
      "    https://scikit-learn.org/stable/modules/preprocessing.html\n",
      "Please also refer to the documentation for alternative solver options:\n",
      "    https://scikit-learn.org/stable/modules/linear_model.html#logistic-regression\n",
      "  n_iter_i = _check_optimize_result(\n",
      "C:\\Users\\Wesub\\anaconda3\\lib\\site-packages\\sklearn\\linear_model\\_logistic.py:1181: UserWarning: Setting penalty=None will ignore the C and l1_ratio parameters\n",
      "  warnings.warn(\n"
     ]
    },
    {
     "name": "stdout",
     "output_type": "stream",
     "text": [
      "[CV 4/5] END C=0.78, penalty=none, solver=lbfgs;, score=0.527 total time=   0.2s\n"
     ]
    },
    {
     "name": "stderr",
     "output_type": "stream",
     "text": [
      "C:\\Users\\Wesub\\anaconda3\\lib\\site-packages\\sklearn\\linear_model\\_logistic.py:458: ConvergenceWarning: lbfgs failed to converge (status=1):\n",
      "STOP: TOTAL NO. of ITERATIONS REACHED LIMIT.\n",
      "\n",
      "Increase the number of iterations (max_iter) or scale the data as shown in:\n",
      "    https://scikit-learn.org/stable/modules/preprocessing.html\n",
      "Please also refer to the documentation for alternative solver options:\n",
      "    https://scikit-learn.org/stable/modules/linear_model.html#logistic-regression\n",
      "  n_iter_i = _check_optimize_result(\n",
      "C:\\Users\\Wesub\\anaconda3\\lib\\site-packages\\sklearn\\linear_model\\_logistic.py:1181: UserWarning: Setting penalty=None will ignore the C and l1_ratio parameters\n",
      "  warnings.warn(\n"
     ]
    },
    {
     "name": "stdout",
     "output_type": "stream",
     "text": [
      "[CV 5/5] END C=0.78, penalty=none, solver=lbfgs;, score=0.548 total time=   0.2s\n"
     ]
    },
    {
     "name": "stderr",
     "output_type": "stream",
     "text": [
      "C:\\Users\\Wesub\\anaconda3\\lib\\site-packages\\sklearn\\linear_model\\_sag.py:350: ConvergenceWarning: The max_iter was reached which means the coef_ did not converge\n",
      "  warnings.warn(\n",
      "C:\\Users\\Wesub\\anaconda3\\lib\\site-packages\\sklearn\\linear_model\\_logistic.py:1181: UserWarning: Setting penalty=None will ignore the C and l1_ratio parameters\n",
      "  warnings.warn(\n"
     ]
    },
    {
     "name": "stdout",
     "output_type": "stream",
     "text": [
      "[CV 1/5] END ..C=0.29, penalty=none, solver=sag;, score=0.546 total time=   3.9s\n"
     ]
    },
    {
     "name": "stderr",
     "output_type": "stream",
     "text": [
      "C:\\Users\\Wesub\\anaconda3\\lib\\site-packages\\sklearn\\linear_model\\_sag.py:350: ConvergenceWarning: The max_iter was reached which means the coef_ did not converge\n",
      "  warnings.warn(\n",
      "C:\\Users\\Wesub\\anaconda3\\lib\\site-packages\\sklearn\\linear_model\\_logistic.py:1181: UserWarning: Setting penalty=None will ignore the C and l1_ratio parameters\n",
      "  warnings.warn(\n"
     ]
    },
    {
     "name": "stdout",
     "output_type": "stream",
     "text": [
      "[CV 2/5] END ..C=0.29, penalty=none, solver=sag;, score=0.526 total time=   3.8s\n"
     ]
    },
    {
     "name": "stderr",
     "output_type": "stream",
     "text": [
      "C:\\Users\\Wesub\\anaconda3\\lib\\site-packages\\sklearn\\linear_model\\_sag.py:350: ConvergenceWarning: The max_iter was reached which means the coef_ did not converge\n",
      "  warnings.warn(\n",
      "C:\\Users\\Wesub\\anaconda3\\lib\\site-packages\\sklearn\\linear_model\\_logistic.py:1181: UserWarning: Setting penalty=None will ignore the C and l1_ratio parameters\n",
      "  warnings.warn(\n"
     ]
    },
    {
     "name": "stdout",
     "output_type": "stream",
     "text": [
      "[CV 3/5] END ..C=0.29, penalty=none, solver=sag;, score=0.525 total time=   3.8s\n"
     ]
    },
    {
     "name": "stderr",
     "output_type": "stream",
     "text": [
      "C:\\Users\\Wesub\\anaconda3\\lib\\site-packages\\sklearn\\linear_model\\_sag.py:350: ConvergenceWarning: The max_iter was reached which means the coef_ did not converge\n",
      "  warnings.warn(\n",
      "C:\\Users\\Wesub\\anaconda3\\lib\\site-packages\\sklearn\\linear_model\\_logistic.py:1181: UserWarning: Setting penalty=None will ignore the C and l1_ratio parameters\n",
      "  warnings.warn(\n"
     ]
    },
    {
     "name": "stdout",
     "output_type": "stream",
     "text": [
      "[CV 4/5] END ..C=0.29, penalty=none, solver=sag;, score=0.517 total time=   3.8s\n"
     ]
    },
    {
     "name": "stderr",
     "output_type": "stream",
     "text": [
      "C:\\Users\\Wesub\\anaconda3\\lib\\site-packages\\sklearn\\linear_model\\_sag.py:350: ConvergenceWarning: The max_iter was reached which means the coef_ did not converge\n",
      "  warnings.warn(\n",
      "C:\\Users\\Wesub\\anaconda3\\lib\\site-packages\\sklearn\\linear_model\\_logistic.py:1181: UserWarning: Setting penalty=None will ignore the C and l1_ratio parameters\n",
      "  warnings.warn(\n"
     ]
    },
    {
     "name": "stdout",
     "output_type": "stream",
     "text": [
      "[CV 5/5] END ..C=0.29, penalty=none, solver=sag;, score=0.560 total time=   3.8s\n"
     ]
    },
    {
     "name": "stderr",
     "output_type": "stream",
     "text": [
      "C:\\Users\\Wesub\\anaconda3\\lib\\site-packages\\sklearn\\linear_model\\_sag.py:350: ConvergenceWarning: The max_iter was reached which means the coef_ did not converge\n",
      "  warnings.warn(\n",
      "C:\\Users\\Wesub\\anaconda3\\lib\\site-packages\\sklearn\\linear_model\\_logistic.py:1181: UserWarning: Setting penalty=None will ignore the C and l1_ratio parameters\n",
      "  warnings.warn(\n"
     ]
    },
    {
     "name": "stdout",
     "output_type": "stream",
     "text": [
      "[CV 1/5] END ..C=0.51, penalty=none, solver=sag;, score=0.547 total time=   3.8s\n"
     ]
    },
    {
     "name": "stderr",
     "output_type": "stream",
     "text": [
      "C:\\Users\\Wesub\\anaconda3\\lib\\site-packages\\sklearn\\linear_model\\_sag.py:350: ConvergenceWarning: The max_iter was reached which means the coef_ did not converge\n",
      "  warnings.warn(\n",
      "C:\\Users\\Wesub\\anaconda3\\lib\\site-packages\\sklearn\\linear_model\\_logistic.py:1181: UserWarning: Setting penalty=None will ignore the C and l1_ratio parameters\n",
      "  warnings.warn(\n"
     ]
    },
    {
     "name": "stdout",
     "output_type": "stream",
     "text": [
      "[CV 2/5] END ..C=0.51, penalty=none, solver=sag;, score=0.526 total time=   3.8s\n"
     ]
    },
    {
     "name": "stderr",
     "output_type": "stream",
     "text": [
      "C:\\Users\\Wesub\\anaconda3\\lib\\site-packages\\sklearn\\linear_model\\_sag.py:350: ConvergenceWarning: The max_iter was reached which means the coef_ did not converge\n",
      "  warnings.warn(\n",
      "C:\\Users\\Wesub\\anaconda3\\lib\\site-packages\\sklearn\\linear_model\\_logistic.py:1181: UserWarning: Setting penalty=None will ignore the C and l1_ratio parameters\n",
      "  warnings.warn(\n"
     ]
    },
    {
     "name": "stdout",
     "output_type": "stream",
     "text": [
      "[CV 3/5] END ..C=0.51, penalty=none, solver=sag;, score=0.524 total time=   3.9s\n"
     ]
    },
    {
     "name": "stderr",
     "output_type": "stream",
     "text": [
      "C:\\Users\\Wesub\\anaconda3\\lib\\site-packages\\sklearn\\linear_model\\_sag.py:350: ConvergenceWarning: The max_iter was reached which means the coef_ did not converge\n",
      "  warnings.warn(\n",
      "C:\\Users\\Wesub\\anaconda3\\lib\\site-packages\\sklearn\\linear_model\\_logistic.py:1181: UserWarning: Setting penalty=None will ignore the C and l1_ratio parameters\n",
      "  warnings.warn(\n"
     ]
    },
    {
     "name": "stdout",
     "output_type": "stream",
     "text": [
      "[CV 4/5] END ..C=0.51, penalty=none, solver=sag;, score=0.518 total time=   3.8s\n"
     ]
    },
    {
     "name": "stderr",
     "output_type": "stream",
     "text": [
      "C:\\Users\\Wesub\\anaconda3\\lib\\site-packages\\sklearn\\linear_model\\_sag.py:350: ConvergenceWarning: The max_iter was reached which means the coef_ did not converge\n",
      "  warnings.warn(\n"
     ]
    },
    {
     "name": "stdout",
     "output_type": "stream",
     "text": [
      "[CV 5/5] END ..C=0.51, penalty=none, solver=sag;, score=0.559 total time=   3.8s\n"
     ]
    },
    {
     "name": "stderr",
     "output_type": "stream",
     "text": [
      "C:\\Users\\Wesub\\anaconda3\\lib\\site-packages\\sklearn\\linear_model\\_sag.py:350: ConvergenceWarning: The max_iter was reached which means the coef_ did not converge\n",
      "  warnings.warn(\n"
     ]
    },
    {
     "name": "stdout",
     "output_type": "stream",
     "text": [
      "[CV 1/5] END ....C=0.39, penalty=l2, solver=sag;, score=0.525 total time=   3.8s\n"
     ]
    },
    {
     "name": "stderr",
     "output_type": "stream",
     "text": [
      "C:\\Users\\Wesub\\anaconda3\\lib\\site-packages\\sklearn\\linear_model\\_sag.py:350: ConvergenceWarning: The max_iter was reached which means the coef_ did not converge\n",
      "  warnings.warn(\n"
     ]
    },
    {
     "name": "stdout",
     "output_type": "stream",
     "text": [
      "[CV 2/5] END ....C=0.39, penalty=l2, solver=sag;, score=0.513 total time=   3.8s\n"
     ]
    },
    {
     "name": "stderr",
     "output_type": "stream",
     "text": [
      "C:\\Users\\Wesub\\anaconda3\\lib\\site-packages\\sklearn\\linear_model\\_sag.py:350: ConvergenceWarning: The max_iter was reached which means the coef_ did not converge\n",
      "  warnings.warn(\n"
     ]
    },
    {
     "name": "stdout",
     "output_type": "stream",
     "text": [
      "[CV 3/5] END ....C=0.39, penalty=l2, solver=sag;, score=0.500 total time=   3.8s\n"
     ]
    },
    {
     "name": "stderr",
     "output_type": "stream",
     "text": [
      "C:\\Users\\Wesub\\anaconda3\\lib\\site-packages\\sklearn\\linear_model\\_sag.py:350: ConvergenceWarning: The max_iter was reached which means the coef_ did not converge\n",
      "  warnings.warn(\n"
     ]
    },
    {
     "name": "stdout",
     "output_type": "stream",
     "text": [
      "[CV 4/5] END ....C=0.39, penalty=l2, solver=sag;, score=0.501 total time=   3.9s\n"
     ]
    },
    {
     "name": "stderr",
     "output_type": "stream",
     "text": [
      "C:\\Users\\Wesub\\anaconda3\\lib\\site-packages\\sklearn\\linear_model\\_sag.py:350: ConvergenceWarning: The max_iter was reached which means the coef_ did not converge\n",
      "  warnings.warn(\n"
     ]
    },
    {
     "name": "stdout",
     "output_type": "stream",
     "text": [
      "[CV 5/5] END ....C=0.39, penalty=l2, solver=sag;, score=0.521 total time=   3.8s\n"
     ]
    },
    {
     "name": "stderr",
     "output_type": "stream",
     "text": [
      "C:\\Users\\Wesub\\anaconda3\\lib\\site-packages\\sklearn\\linear_model\\_sag.py:350: ConvergenceWarning: The max_iter was reached which means the coef_ did not converge\n",
      "  warnings.warn(\n"
     ]
    },
    {
     "name": "stdout",
     "output_type": "stream",
     "text": [
      "[CV 1/5] END ...C=0.74, penalty=l2, solver=saga;, score=0.545 total time=   4.2s\n"
     ]
    },
    {
     "name": "stderr",
     "output_type": "stream",
     "text": [
      "C:\\Users\\Wesub\\anaconda3\\lib\\site-packages\\sklearn\\linear_model\\_sag.py:350: ConvergenceWarning: The max_iter was reached which means the coef_ did not converge\n",
      "  warnings.warn(\n"
     ]
    },
    {
     "name": "stdout",
     "output_type": "stream",
     "text": [
      "[CV 2/5] END ...C=0.74, penalty=l2, solver=saga;, score=0.519 total time=   4.2s\n"
     ]
    },
    {
     "name": "stderr",
     "output_type": "stream",
     "text": [
      "C:\\Users\\Wesub\\anaconda3\\lib\\site-packages\\sklearn\\linear_model\\_sag.py:350: ConvergenceWarning: The max_iter was reached which means the coef_ did not converge\n",
      "  warnings.warn(\n"
     ]
    },
    {
     "name": "stdout",
     "output_type": "stream",
     "text": [
      "[CV 3/5] END ...C=0.74, penalty=l2, solver=saga;, score=0.505 total time=   4.2s\n"
     ]
    },
    {
     "name": "stderr",
     "output_type": "stream",
     "text": [
      "C:\\Users\\Wesub\\anaconda3\\lib\\site-packages\\sklearn\\linear_model\\_sag.py:350: ConvergenceWarning: The max_iter was reached which means the coef_ did not converge\n",
      "  warnings.warn(\n"
     ]
    },
    {
     "name": "stdout",
     "output_type": "stream",
     "text": [
      "[CV 4/5] END ...C=0.74, penalty=l2, solver=saga;, score=0.508 total time=   4.2s\n"
     ]
    },
    {
     "name": "stderr",
     "output_type": "stream",
     "text": [
      "C:\\Users\\Wesub\\anaconda3\\lib\\site-packages\\sklearn\\linear_model\\_sag.py:350: ConvergenceWarning: The max_iter was reached which means the coef_ did not converge\n",
      "  warnings.warn(\n"
     ]
    },
    {
     "name": "stdout",
     "output_type": "stream",
     "text": [
      "[CV 5/5] END ...C=0.74, penalty=l2, solver=saga;, score=0.540 total time=   4.2s\n",
      "[CV 1/5] END C=0.5, penalty=l2, solver=liblinear;, score=0.539 total time=   0.8s\n",
      "[CV 2/5] END C=0.5, penalty=l2, solver=liblinear;, score=0.515 total time=   0.8s\n",
      "[CV 3/5] END C=0.5, penalty=l2, solver=liblinear;, score=0.501 total time=   0.8s\n",
      "[CV 4/5] END C=0.5, penalty=l2, solver=liblinear;, score=0.505 total time=   0.8s\n",
      "[CV 5/5] END C=0.5, penalty=l2, solver=liblinear;, score=0.533 total time=   0.8s\n"
     ]
    },
    {
     "name": "stderr",
     "output_type": "stream",
     "text": [
      "C:\\Users\\Wesub\\anaconda3\\lib\\site-packages\\sklearn\\linear_model\\_logistic.py:1181: UserWarning: Setting penalty=None will ignore the C and l1_ratio parameters\n",
      "  warnings.warn(\n",
      "C:\\Users\\Wesub\\anaconda3\\lib\\site-packages\\sklearn\\utils\\optimize.py:210: ConvergenceWarning: newton-cg failed to converge. Increase the number of iterations.\n",
      "  warnings.warn(\n",
      "C:\\Users\\Wesub\\anaconda3\\lib\\site-packages\\sklearn\\linear_model\\_logistic.py:1181: UserWarning: Setting penalty=None will ignore the C and l1_ratio parameters\n",
      "  warnings.warn(\n"
     ]
    },
    {
     "name": "stdout",
     "output_type": "stream",
     "text": [
      "[CV 1/5] END C=0.15, penalty=none, solver=newton-cg;, score=0.543 total time=  31.5s\n"
     ]
    },
    {
     "name": "stderr",
     "output_type": "stream",
     "text": [
      "C:\\Users\\Wesub\\anaconda3\\lib\\site-packages\\sklearn\\utils\\optimize.py:210: ConvergenceWarning: newton-cg failed to converge. Increase the number of iterations.\n",
      "  warnings.warn(\n",
      "C:\\Users\\Wesub\\anaconda3\\lib\\site-packages\\sklearn\\linear_model\\_logistic.py:1181: UserWarning: Setting penalty=None will ignore the C and l1_ratio parameters\n",
      "  warnings.warn(\n"
     ]
    },
    {
     "name": "stdout",
     "output_type": "stream",
     "text": [
      "[CV 2/5] END C=0.15, penalty=none, solver=newton-cg;, score=0.537 total time=  26.9s\n",
      "[CV 3/5] END C=0.15, penalty=none, solver=newton-cg;, score=0.526 total time=  33.3s\n"
     ]
    },
    {
     "name": "stderr",
     "output_type": "stream",
     "text": [
      "C:\\Users\\Wesub\\anaconda3\\lib\\site-packages\\sklearn\\linear_model\\_logistic.py:1181: UserWarning: Setting penalty=None will ignore the C and l1_ratio parameters\n",
      "  warnings.warn(\n",
      "C:\\Users\\Wesub\\anaconda3\\lib\\site-packages\\sklearn\\utils\\optimize.py:210: ConvergenceWarning: newton-cg failed to converge. Increase the number of iterations.\n",
      "  warnings.warn(\n",
      "C:\\Users\\Wesub\\anaconda3\\lib\\site-packages\\sklearn\\linear_model\\_logistic.py:1181: UserWarning: Setting penalty=None will ignore the C and l1_ratio parameters\n",
      "  warnings.warn(\n"
     ]
    },
    {
     "name": "stdout",
     "output_type": "stream",
     "text": [
      "[CV 4/5] END C=0.15, penalty=none, solver=newton-cg;, score=0.520 total time=  28.1s\n"
     ]
    },
    {
     "name": "stderr",
     "output_type": "stream",
     "text": [
      "C:\\Users\\Wesub\\anaconda3\\lib\\site-packages\\sklearn\\utils\\optimize.py:210: ConvergenceWarning: newton-cg failed to converge. Increase the number of iterations.\n",
      "  warnings.warn(\n"
     ]
    },
    {
     "name": "stdout",
     "output_type": "stream",
     "text": [
      "[CV 5/5] END C=0.15, penalty=none, solver=newton-cg;, score=0.551 total time=  29.8s\n",
      "[CV 1/5] END C=0.01, penalty=l2, solver=liblinear;, score=0.070 total time=   0.4s\n",
      "[CV 2/5] END C=0.01, penalty=l2, solver=liblinear;, score=0.049 total time=   0.4s\n",
      "[CV 3/5] END C=0.01, penalty=l2, solver=liblinear;, score=0.081 total time=   0.4s\n",
      "[CV 4/5] END C=0.01, penalty=l2, solver=liblinear;, score=0.072 total time=   0.4s\n",
      "[CV 5/5] END C=0.01, penalty=l2, solver=liblinear;, score=0.047 total time=   0.4s\n"
     ]
    },
    {
     "name": "stderr",
     "output_type": "stream",
     "text": [
      "C:\\Users\\Wesub\\anaconda3\\lib\\site-packages\\sklearn\\linear_model\\_sag.py:350: ConvergenceWarning: The max_iter was reached which means the coef_ did not converge\n",
      "  warnings.warn(\n"
     ]
    },
    {
     "name": "stdout",
     "output_type": "stream",
     "text": [
      "[CV 1/5] END C=0.8200000000000001, penalty=l1, solver=saga;, score=0.520 total time=   6.3s\n"
     ]
    },
    {
     "name": "stderr",
     "output_type": "stream",
     "text": [
      "C:\\Users\\Wesub\\anaconda3\\lib\\site-packages\\sklearn\\linear_model\\_sag.py:350: ConvergenceWarning: The max_iter was reached which means the coef_ did not converge\n",
      "  warnings.warn(\n"
     ]
    },
    {
     "name": "stdout",
     "output_type": "stream",
     "text": [
      "[CV 2/5] END C=0.8200000000000001, penalty=l1, solver=saga;, score=0.497 total time=   6.3s\n"
     ]
    },
    {
     "name": "stderr",
     "output_type": "stream",
     "text": [
      "C:\\Users\\Wesub\\anaconda3\\lib\\site-packages\\sklearn\\linear_model\\_sag.py:350: ConvergenceWarning: The max_iter was reached which means the coef_ did not converge\n",
      "  warnings.warn(\n"
     ]
    },
    {
     "name": "stdout",
     "output_type": "stream",
     "text": [
      "[CV 3/5] END C=0.8200000000000001, penalty=l1, solver=saga;, score=0.496 total time=   6.3s\n"
     ]
    },
    {
     "name": "stderr",
     "output_type": "stream",
     "text": [
      "C:\\Users\\Wesub\\anaconda3\\lib\\site-packages\\sklearn\\linear_model\\_sag.py:350: ConvergenceWarning: The max_iter was reached which means the coef_ did not converge\n",
      "  warnings.warn(\n"
     ]
    },
    {
     "name": "stdout",
     "output_type": "stream",
     "text": [
      "[CV 4/5] END C=0.8200000000000001, penalty=l1, solver=saga;, score=0.500 total time=   6.3s\n"
     ]
    },
    {
     "name": "stderr",
     "output_type": "stream",
     "text": [
      "C:\\Users\\Wesub\\anaconda3\\lib\\site-packages\\sklearn\\linear_model\\_sag.py:350: ConvergenceWarning: The max_iter was reached which means the coef_ did not converge\n",
      "  warnings.warn(\n",
      "C:\\Users\\Wesub\\anaconda3\\lib\\site-packages\\sklearn\\linear_model\\_logistic.py:1181: UserWarning: Setting penalty=None will ignore the C and l1_ratio parameters\n",
      "  warnings.warn(\n"
     ]
    },
    {
     "name": "stdout",
     "output_type": "stream",
     "text": [
      "[CV 5/5] END C=0.8200000000000001, penalty=l1, solver=saga;, score=0.521 total time=   6.2s\n",
      "[CV 1/5] END C=0.61, penalty=l1, solver=newton-cg;, score=nan total time=   0.0s\n",
      "[CV 2/5] END C=0.61, penalty=l1, solver=newton-cg;, score=nan total time=   0.0s\n",
      "[CV 3/5] END C=0.61, penalty=l1, solver=newton-cg;, score=nan total time=   0.0s\n",
      "[CV 4/5] END C=0.61, penalty=l1, solver=newton-cg;, score=nan total time=   0.0s\n",
      "[CV 5/5] END C=0.61, penalty=l1, solver=newton-cg;, score=nan total time=   0.0s\n"
     ]
    },
    {
     "name": "stderr",
     "output_type": "stream",
     "text": [
      "C:\\Users\\Wesub\\anaconda3\\lib\\site-packages\\sklearn\\utils\\optimize.py:210: ConvergenceWarning: newton-cg failed to converge. Increase the number of iterations.\n",
      "  warnings.warn(\n",
      "C:\\Users\\Wesub\\anaconda3\\lib\\site-packages\\sklearn\\linear_model\\_logistic.py:1181: UserWarning: Setting penalty=None will ignore the C and l1_ratio parameters\n",
      "  warnings.warn(\n"
     ]
    },
    {
     "name": "stdout",
     "output_type": "stream",
     "text": [
      "[CV 1/5] END C=0.44, penalty=none, solver=newton-cg;, score=0.543 total time=  31.5s\n"
     ]
    },
    {
     "name": "stderr",
     "output_type": "stream",
     "text": [
      "C:\\Users\\Wesub\\anaconda3\\lib\\site-packages\\sklearn\\utils\\optimize.py:210: ConvergenceWarning: newton-cg failed to converge. Increase the number of iterations.\n",
      "  warnings.warn(\n",
      "C:\\Users\\Wesub\\anaconda3\\lib\\site-packages\\sklearn\\linear_model\\_logistic.py:1181: UserWarning: Setting penalty=None will ignore the C and l1_ratio parameters\n",
      "  warnings.warn(\n"
     ]
    },
    {
     "name": "stdout",
     "output_type": "stream",
     "text": [
      "[CV 2/5] END C=0.44, penalty=none, solver=newton-cg;, score=0.537 total time=  26.9s\n",
      "[CV 3/5] END C=0.44, penalty=none, solver=newton-cg;, score=0.526 total time=  33.3s\n"
     ]
    },
    {
     "name": "stderr",
     "output_type": "stream",
     "text": [
      "C:\\Users\\Wesub\\anaconda3\\lib\\site-packages\\sklearn\\linear_model\\_logistic.py:1181: UserWarning: Setting penalty=None will ignore the C and l1_ratio parameters\n",
      "  warnings.warn(\n",
      "C:\\Users\\Wesub\\anaconda3\\lib\\site-packages\\sklearn\\utils\\optimize.py:210: ConvergenceWarning: newton-cg failed to converge. Increase the number of iterations.\n",
      "  warnings.warn(\n",
      "C:\\Users\\Wesub\\anaconda3\\lib\\site-packages\\sklearn\\linear_model\\_logistic.py:1181: UserWarning: Setting penalty=None will ignore the C and l1_ratio parameters\n",
      "  warnings.warn(\n"
     ]
    },
    {
     "name": "stdout",
     "output_type": "stream",
     "text": [
      "[CV 4/5] END C=0.44, penalty=none, solver=newton-cg;, score=0.520 total time=  28.1s\n"
     ]
    },
    {
     "name": "stderr",
     "output_type": "stream",
     "text": [
      "C:\\Users\\Wesub\\anaconda3\\lib\\site-packages\\sklearn\\utils\\optimize.py:210: ConvergenceWarning: newton-cg failed to converge. Increase the number of iterations.\n",
      "  warnings.warn(\n"
     ]
    },
    {
     "name": "stdout",
     "output_type": "stream",
     "text": [
      "[CV 5/5] END C=0.44, penalty=none, solver=newton-cg;, score=0.551 total time=  29.7s\n",
      "[CV 1/5] END C=0.36, penalty=elasticnet, solver=newton-cg;, score=nan total time=   0.0s\n",
      "[CV 2/5] END C=0.36, penalty=elasticnet, solver=newton-cg;, score=nan total time=   0.0s\n",
      "[CV 3/5] END C=0.36, penalty=elasticnet, solver=newton-cg;, score=nan total time=   0.0s\n",
      "[CV 4/5] END C=0.36, penalty=elasticnet, solver=newton-cg;, score=nan total time=   0.0s\n",
      "[CV 5/5] END C=0.36, penalty=elasticnet, solver=newton-cg;, score=nan total time=   0.0s\n",
      "[CV 1/5] END C=0.5700000000000001, penalty=l1, solver=lbfgs;, score=nan total time=   0.0s\n",
      "[CV 2/5] END C=0.5700000000000001, penalty=l1, solver=lbfgs;, score=nan total time=   0.0s\n",
      "[CV 3/5] END C=0.5700000000000001, penalty=l1, solver=lbfgs;, score=nan total time=   0.0s\n",
      "[CV 4/5] END C=0.5700000000000001, penalty=l1, solver=lbfgs;, score=nan total time=   0.0s\n",
      "[CV 5/5] END C=0.5700000000000001, penalty=l1, solver=lbfgs;, score=nan total time=   0.0s\n",
      "[CV 1/5] END C=0.6, penalty=elasticnet, solver=saga;, score=nan total time=   0.0s\n",
      "[CV 2/5] END C=0.6, penalty=elasticnet, solver=saga;, score=nan total time=   0.0s\n",
      "[CV 3/5] END C=0.6, penalty=elasticnet, solver=saga;, score=nan total time=   0.0s\n",
      "[CV 4/5] END C=0.6, penalty=elasticnet, solver=saga;, score=nan total time=   0.0s\n",
      "[CV 5/5] END C=0.6, penalty=elasticnet, solver=saga;, score=nan total time=   0.0s\n"
     ]
    },
    {
     "name": "stderr",
     "output_type": "stream",
     "text": [
      "C:\\Users\\Wesub\\anaconda3\\lib\\site-packages\\sklearn\\linear_model\\_logistic.py:458: ConvergenceWarning: lbfgs failed to converge (status=1):\n",
      "STOP: TOTAL NO. of ITERATIONS REACHED LIMIT.\n",
      "\n",
      "Increase the number of iterations (max_iter) or scale the data as shown in:\n",
      "    https://scikit-learn.org/stable/modules/preprocessing.html\n",
      "Please also refer to the documentation for alternative solver options:\n",
      "    https://scikit-learn.org/stable/modules/linear_model.html#logistic-regression\n",
      "  n_iter_i = _check_optimize_result(\n"
     ]
    },
    {
     "name": "stdout",
     "output_type": "stream",
     "text": [
      "[CV 1/5] END ..C=0.04, penalty=l2, solver=lbfgs;, score=0.397 total time=   0.2s\n",
      "[CV 2/5] END ..C=0.04, penalty=l2, solver=lbfgs;, score=0.412 total time=   0.2s\n",
      "[CV 3/5] END ..C=0.04, penalty=l2, solver=lbfgs;, score=0.400 total time=   0.2s\n",
      "[CV 4/5] END ..C=0.04, penalty=l2, solver=lbfgs;, score=0.404 total time=   0.2s\n"
     ]
    },
    {
     "name": "stderr",
     "output_type": "stream",
     "text": [
      "C:\\Users\\Wesub\\anaconda3\\lib\\site-packages\\sklearn\\linear_model\\_logistic.py:458: ConvergenceWarning: lbfgs failed to converge (status=1):\n",
      "STOP: TOTAL NO. of ITERATIONS REACHED LIMIT.\n",
      "\n",
      "Increase the number of iterations (max_iter) or scale the data as shown in:\n",
      "    https://scikit-learn.org/stable/modules/preprocessing.html\n",
      "Please also refer to the documentation for alternative solver options:\n",
      "    https://scikit-learn.org/stable/modules/linear_model.html#logistic-regression\n",
      "  n_iter_i = _check_optimize_result(\n"
     ]
    },
    {
     "name": "stdout",
     "output_type": "stream",
     "text": [
      "[CV 5/5] END ..C=0.04, penalty=l2, solver=lbfgs;, score=0.412 total time=   0.2s\n"
     ]
    },
    {
     "name": "stderr",
     "output_type": "stream",
     "text": [
      "C:\\Users\\Wesub\\anaconda3\\lib\\site-packages\\sklearn\\linear_model\\_sag.py:350: ConvergenceWarning: The max_iter was reached which means the coef_ did not converge\n",
      "  warnings.warn(\n"
     ]
    },
    {
     "name": "stdout",
     "output_type": "stream",
     "text": [
      "[CV 1/5] END ...C=0.79, penalty=l2, solver=saga;, score=0.544 total time=   4.3s\n"
     ]
    },
    {
     "name": "stderr",
     "output_type": "stream",
     "text": [
      "C:\\Users\\Wesub\\anaconda3\\lib\\site-packages\\sklearn\\linear_model\\_sag.py:350: ConvergenceWarning: The max_iter was reached which means the coef_ did not converge\n",
      "  warnings.warn(\n"
     ]
    },
    {
     "name": "stdout",
     "output_type": "stream",
     "text": [
      "[CV 2/5] END ...C=0.79, penalty=l2, solver=saga;, score=0.520 total time=   4.3s\n"
     ]
    },
    {
     "name": "stderr",
     "output_type": "stream",
     "text": [
      "C:\\Users\\Wesub\\anaconda3\\lib\\site-packages\\sklearn\\linear_model\\_sag.py:350: ConvergenceWarning: The max_iter was reached which means the coef_ did not converge\n",
      "  warnings.warn(\n"
     ]
    },
    {
     "name": "stdout",
     "output_type": "stream",
     "text": [
      "[CV 3/5] END ...C=0.79, penalty=l2, solver=saga;, score=0.505 total time=   4.2s\n"
     ]
    },
    {
     "name": "stderr",
     "output_type": "stream",
     "text": [
      "C:\\Users\\Wesub\\anaconda3\\lib\\site-packages\\sklearn\\linear_model\\_sag.py:350: ConvergenceWarning: The max_iter was reached which means the coef_ did not converge\n",
      "  warnings.warn(\n"
     ]
    },
    {
     "name": "stdout",
     "output_type": "stream",
     "text": [
      "[CV 4/5] END ...C=0.79, penalty=l2, solver=saga;, score=0.512 total time=   4.3s\n"
     ]
    },
    {
     "name": "stderr",
     "output_type": "stream",
     "text": [
      "C:\\Users\\Wesub\\anaconda3\\lib\\site-packages\\sklearn\\linear_model\\_sag.py:350: ConvergenceWarning: The max_iter was reached which means the coef_ did not converge\n",
      "  warnings.warn(\n",
      "C:\\Users\\Wesub\\anaconda3\\lib\\site-packages\\sklearn\\model_selection\\_validation.py:378: FitFailedWarning: \n",
      "20 fits failed out of a total of 100.\n",
      "The score on these train-test partitions for these parameters will be set to nan.\n",
      "If these failures are not expected, you can try to debug them by setting error_score='raise'.\n",
      "\n",
      "Below are more details about the failures:\n",
      "--------------------------------------------------------------------------------\n",
      "5 fits failed with the following error:\n",
      "Traceback (most recent call last):\n",
      "  File \"C:\\Users\\Wesub\\anaconda3\\lib\\site-packages\\sklearn\\model_selection\\_validation.py\", line 686, in _fit_and_score\n",
      "    estimator.fit(X_train, y_train, **fit_params)\n",
      "  File \"C:\\Users\\Wesub\\anaconda3\\lib\\site-packages\\sklearn\\linear_model\\_logistic.py\", line 1162, in fit\n",
      "    solver = _check_solver(self.solver, self.penalty, self.dual)\n",
      "  File \"C:\\Users\\Wesub\\anaconda3\\lib\\site-packages\\sklearn\\linear_model\\_logistic.py\", line 54, in _check_solver\n",
      "    raise ValueError(\n",
      "ValueError: Solver newton-cg supports only 'l2' or 'none' penalties, got l1 penalty.\n",
      "\n",
      "--------------------------------------------------------------------------------\n",
      "5 fits failed with the following error:\n",
      "Traceback (most recent call last):\n",
      "  File \"C:\\Users\\Wesub\\anaconda3\\lib\\site-packages\\sklearn\\model_selection\\_validation.py\", line 686, in _fit_and_score\n",
      "    estimator.fit(X_train, y_train, **fit_params)\n",
      "  File \"C:\\Users\\Wesub\\anaconda3\\lib\\site-packages\\sklearn\\linear_model\\_logistic.py\", line 1162, in fit\n",
      "    solver = _check_solver(self.solver, self.penalty, self.dual)\n",
      "  File \"C:\\Users\\Wesub\\anaconda3\\lib\\site-packages\\sklearn\\linear_model\\_logistic.py\", line 54, in _check_solver\n",
      "    raise ValueError(\n",
      "ValueError: Solver newton-cg supports only 'l2' or 'none' penalties, got elasticnet penalty.\n",
      "\n",
      "--------------------------------------------------------------------------------\n",
      "5 fits failed with the following error:\n",
      "Traceback (most recent call last):\n",
      "  File \"C:\\Users\\Wesub\\anaconda3\\lib\\site-packages\\sklearn\\model_selection\\_validation.py\", line 686, in _fit_and_score\n",
      "    estimator.fit(X_train, y_train, **fit_params)\n",
      "  File \"C:\\Users\\Wesub\\anaconda3\\lib\\site-packages\\sklearn\\linear_model\\_logistic.py\", line 1162, in fit\n",
      "    solver = _check_solver(self.solver, self.penalty, self.dual)\n",
      "  File \"C:\\Users\\Wesub\\anaconda3\\lib\\site-packages\\sklearn\\linear_model\\_logistic.py\", line 54, in _check_solver\n",
      "    raise ValueError(\n",
      "ValueError: Solver lbfgs supports only 'l2' or 'none' penalties, got l1 penalty.\n",
      "\n",
      "--------------------------------------------------------------------------------\n",
      "5 fits failed with the following error:\n",
      "Traceback (most recent call last):\n",
      "  File \"C:\\Users\\Wesub\\anaconda3\\lib\\site-packages\\sklearn\\model_selection\\_validation.py\", line 686, in _fit_and_score\n",
      "    estimator.fit(X_train, y_train, **fit_params)\n",
      "  File \"C:\\Users\\Wesub\\anaconda3\\lib\\site-packages\\sklearn\\linear_model\\_logistic.py\", line 1291, in fit\n",
      "    fold_coefs_ = Parallel(n_jobs=self.n_jobs, verbose=self.verbose, prefer=prefer)(\n",
      "  File \"C:\\Users\\Wesub\\anaconda3\\lib\\site-packages\\sklearn\\utils\\parallel.py\", line 63, in __call__\n",
      "    return super().__call__(iterable_with_config)\n",
      "  File \"C:\\Users\\Wesub\\anaconda3\\lib\\site-packages\\joblib\\parallel.py\", line 1048, in __call__\n",
      "    if self.dispatch_one_batch(iterator):\n",
      "  File \"C:\\Users\\Wesub\\anaconda3\\lib\\site-packages\\joblib\\parallel.py\", line 864, in dispatch_one_batch\n",
      "    self._dispatch(tasks)\n",
      "  File \"C:\\Users\\Wesub\\anaconda3\\lib\\site-packages\\joblib\\parallel.py\", line 782, in _dispatch\n",
      "    job = self._backend.apply_async(batch, callback=cb)\n",
      "  File \"C:\\Users\\Wesub\\anaconda3\\lib\\site-packages\\joblib\\_parallel_backends.py\", line 208, in apply_async\n",
      "    result = ImmediateResult(func)\n",
      "  File \"C:\\Users\\Wesub\\anaconda3\\lib\\site-packages\\joblib\\_parallel_backends.py\", line 572, in __init__\n",
      "    self.results = batch()\n",
      "  File \"C:\\Users\\Wesub\\anaconda3\\lib\\site-packages\\joblib\\parallel.py\", line 263, in __call__\n",
      "    return [func(*args, **kwargs)\n",
      "  File \"C:\\Users\\Wesub\\anaconda3\\lib\\site-packages\\joblib\\parallel.py\", line 263, in <listcomp>\n",
      "    return [func(*args, **kwargs)\n",
      "  File \"C:\\Users\\Wesub\\anaconda3\\lib\\site-packages\\sklearn\\utils\\parallel.py\", line 123, in __call__\n",
      "    return self.function(*args, **kwargs)\n",
      "  File \"C:\\Users\\Wesub\\anaconda3\\lib\\site-packages\\sklearn\\linear_model\\_logistic.py\", line 521, in _logistic_regression_path\n",
      "    alpha = (1.0 / C) * (1 - l1_ratio)\n",
      "TypeError: unsupported operand type(s) for -: 'int' and 'NoneType'\n",
      "\n",
      "  warnings.warn(some_fits_failed_message, FitFailedWarning)\n",
      "C:\\Users\\Wesub\\anaconda3\\lib\\site-packages\\sklearn\\model_selection\\_search.py:952: UserWarning: One or more of the test scores are non-finite: [0.52045959 0.47892801 0.50960248 0.5067795  0.53334197 0.53477589\n",
      " 0.53468915 0.51200571 0.52352339 0.51860596 0.53546579 0.06403895\n",
      " 0.50681498        nan 0.53546579        nan        nan        nan\n",
      " 0.40509977 0.52502288]\n",
      "  warnings.warn(\n",
      "C:\\Users\\Wesub\\anaconda3\\lib\\site-packages\\sklearn\\linear_model\\_logistic.py:1181: UserWarning: Setting penalty=None will ignore the C and l1_ratio parameters\n",
      "  warnings.warn(\n"
     ]
    },
    {
     "name": "stdout",
     "output_type": "stream",
     "text": [
      "[CV 5/5] END ...C=0.79, penalty=l2, solver=saga;, score=0.544 total time=   4.3s\n"
     ]
    },
    {
     "name": "stderr",
     "output_type": "stream",
     "text": [
      "C:\\Users\\Wesub\\anaconda3\\lib\\site-packages\\sklearn\\utils\\optimize.py:210: ConvergenceWarning: newton-cg failed to converge. Increase the number of iterations.\n",
      "  warnings.warn(\n",
      "C:\\Users\\Wesub\\anaconda3\\lib\\site-packages\\sklearn\\linear_model\\_logistic.py:1181: UserWarning: Setting penalty=None will ignore the C and l1_ratio parameters\n",
      "  warnings.warn(\n"
     ]
    },
    {
     "name": "stdout",
     "output_type": "stream",
     "text": [
      "Best parameters: {'solver': 'newton-cg', 'penalty': 'none', 'C': 0.15} \n",
      "\n",
      "\n",
      "\n",
      "\n",
      "_______________________________________________________________________\n",
      "EVALUATION\n",
      "\n",
      "----- TRAIN -----\n",
      "\n",
      "Confusion matrix\n",
      " [[4897 1523]\n",
      " [2137 2967]] \n",
      "\n",
      "Accuracy: 68.2 \n",
      "\n",
      "F1 Score: 61.9 \n",
      "\n",
      "Balanced accuracy: 61.9 \n",
      "\n",
      "AUC Score: 67.2 \n",
      "\n",
      "\n",
      "----- TEST -----\n",
      "\n",
      "Confusion matrix\n",
      " [[487 227]\n",
      " [279 274]] \n",
      "\n",
      "Accuracy: 60.1 \n",
      "\n",
      "F1 Score: 52.0 \n",
      "\n",
      "Balanced accuracy: 52.0 \n",
      "\n",
      "AUC Score: 58.9 \n",
      "\n",
      "_______________________________________________________________________\n"
     ]
    },
    {
     "name": "stderr",
     "output_type": "stream",
     "text": [
      "C:\\Users\\Wesub\\anaconda3\\lib\\site-packages\\sklearn\\utils\\optimize.py:210: ConvergenceWarning: newton-cg failed to converge. Increase the number of iterations.\n",
      "  warnings.warn(\n"
     ]
    }
   ],
   "source": [
    "# Instantiate classifier\n",
    "classifier = LRClassifier()\n",
    "\n",
    "# Perform randomized search over hyperparameters\n",
    "param_distributions = {\n",
    "    'penalty': ['l1', 'l2', 'elasticnet', 'none'],\n",
    "    'solver' : ['newton-cg', 'lbfgs', 'liblinear', 'sag', 'saga'],\n",
    "    'C' : np.arange(0, 1, 0.01)\n",
    "}\n",
    "classifier.randomized_search(X_train_embeddings_roberta, y_train, param_distributions)\n",
    "\n",
    "# Train classifier on training data\n",
    "classifier.fit(X_train_embeddings_roberta, y_train)\n",
    "\n",
    "# Evaluate classifier\n",
    "print('\\n')\n",
    "print('\\n_______________________________________________________________________')\n",
    "print('EVALUATION')\n",
    "\n",
    "print('\\n----- TRAIN -----')\n",
    "cm_lr_roberta_train, accuracy_lr_roberta_train, f1_lr_roberta_train, balaccuracy_lr_roberta_train, rocauc_lr_roberta_train = classifier.evaluate(X_train_embeddings_roberta, y_train)\n",
    "\n",
    "print('\\n----- TEST -----')\n",
    "cm_lr_roberta_test, accuracy_lr_roberta_test, f1_lr_roberta_test, balaccuracy_lr_roberta_test, rocauc_lr_roberta_test = classifier.evaluate(X_test_embeddings_roberta, y_test)\n",
    "print('_______________________________________________________________________')"
   ]
  },
  {
   "cell_type": "code",
   "execution_count": 62,
   "metadata": {
    "collapsed": false,
    "jupyter": {
     "outputs_hidden": false
    }
   },
   "outputs": [],
   "source": [
    "cm_lr_roberta_train_tosave = repr(cm_lr_roberta_train)\n",
    "accuracy_lr_roberta_train_tosave = repr(accuracy_lr_roberta_train)\n",
    "f1_lr_roberta_train_tosave = repr(f1_lr_roberta_train)\n",
    "balaccuracy_lr_roberta_train_tosave = repr(balaccuracy_lr_roberta_train)\n",
    "rocauc_lr_roberta_train_tosave = repr(rocauc_lr_roberta_train)\n",
    "\n",
    "cm_lr_roberta_test_tosave = repr(cm_lr_roberta_test)\n",
    "accuracy_lr_roberta_test_tosave = repr(accuracy_lr_roberta_test)\n",
    "f1_lr_roberta_test_tosave = repr(f1_lr_roberta_test)\n",
    "balaccuracy_lr_roberta_test_tosave = repr(balaccuracy_lr_roberta_test)\n",
    "rocauc_lr_roberta_test_tosave = repr(rocauc_lr_roberta_test)\n",
    "\n",
    "\n",
    "file = open(\"results_split/lr_roberta_\"+time.strftime(\"%Y%m%d-%H%M%S\")+\".txt\", \"w\")\n",
    "\n",
    "file.write(\"Train CM = \"+cm_lr_roberta_train_tosave + \"\\n\" +\n",
    "           \"Train Accuracy = \" + accuracy_lr_roberta_train_tosave + \"\\n\" +\n",
    "           \"Train F1 = \"+f1_lr_roberta_train_tosave + \"\\n\"+\n",
    "           \"Train Balanced Accuracy = \"+balaccuracy_lr_roberta_train_tosave + \"\\n\" +\n",
    "           \"Train ROCAUC = \"+rocauc_lr_roberta_train_tosave + \"\\n\"+\n",
    "           \"Test CM = \"+cm_lr_roberta_test_tosave + \"\\n\"+\n",
    "           \"Test Accuracy = \"+accuracy_lr_roberta_test_tosave + \"\\n\"+\n",
    "           \"Test F1 = \"+f1_lr_roberta_test_tosave + \"\\n\"+\n",
    "           \"Test Balanced Accuracy = \"+balaccuracy_lr_roberta_test_tosave + \"\\n\"+\n",
    "           \"Test ROCAUC = \"+rocauc_lr_roberta_test_tosave)\n",
    "\n",
    "file.close()"
   ]
  },
  {
   "cell_type": "markdown",
   "metadata": {},
   "source": [
    "### RoBERTa + Neural Network"
   ]
  },
  {
   "cell_type": "code",
   "execution_count": 63,
   "metadata": {
    "ExecuteTime": {
     "end_time": "2023-05-22T01:09:38.464715395Z",
     "start_time": "2023-05-22T01:08:50.416675061Z"
    },
    "collapsed": false,
    "jupyter": {
     "outputs_hidden": false
    }
   },
   "outputs": [
    {
     "name": "stdout",
     "output_type": "stream",
     "text": [
      "Epoch 1/15 | Train Loss: 0.6733 | Val Loss: 0.6550 | F1 Score: 0.5367 | Balanced Accuracy: 0.5967 | AUC: 0.5967\n",
      "Epoch 2/15 | Train Loss: 0.6576 | Val Loss: 0.6509 | F1 Score: 0.5446 | Balanced Accuracy: 0.6039 | AUC: 0.6039\n",
      "Epoch 3/15 | Train Loss: 0.6518 | Val Loss: 0.6494 | F1 Score: 0.5424 | Balanced Accuracy: 0.6027 | AUC: 0.6027\n",
      "Epoch 4/15 | Train Loss: 0.6490 | Val Loss: 0.6488 | F1 Score: 0.5577 | Balanced Accuracy: 0.6134 | AUC: 0.6134\n",
      "Epoch 5/15 | Train Loss: 0.6456 | Val Loss: 0.6478 | F1 Score: 0.5441 | Balanced Accuracy: 0.6089 | AUC: 0.6089\n",
      "Epoch 6/15 | Train Loss: 0.6435 | Val Loss: 0.6477 | F1 Score: 0.5546 | Balanced Accuracy: 0.6138 | AUC: 0.6138\n",
      "Epoch 7/15 | Train Loss: 0.6412 | Val Loss: 0.6481 | F1 Score: 0.5646 | Balanced Accuracy: 0.6191 | AUC: 0.6191\n",
      "Epoch 8/15 | Train Loss: 0.6384 | Val Loss: 0.6483 | F1 Score: 0.5622 | Balanced Accuracy: 0.6168 | AUC: 0.6168\n",
      "Epoch 9/15 | Train Loss: 0.6354 | Val Loss: 0.6477 | F1 Score: 0.5581 | Balanced Accuracy: 0.6175 | AUC: 0.6175\n",
      "Epoch 10/15 | Train Loss: 0.6330 | Val Loss: 0.6486 | F1 Score: 0.5530 | Balanced Accuracy: 0.6134 | AUC: 0.6134\n",
      "Epoch 11/15 | Train Loss: 0.6296 | Val Loss: 0.6495 | F1 Score: 0.5535 | Balanced Accuracy: 0.6141 | AUC: 0.6141\n",
      "Epoch 12/15 | Train Loss: 0.6267 | Val Loss: 0.6511 | F1 Score: 0.5551 | Balanced Accuracy: 0.6145 | AUC: 0.6145\n",
      "Epoch 13/15 | Train Loss: 0.6223 | Val Loss: 0.6518 | F1 Score: 0.5487 | Balanced Accuracy: 0.6123 | AUC: 0.6123\n",
      "Epoch 14/15 | Train Loss: 0.6179 | Val Loss: 0.6538 | F1 Score: 0.5475 | Balanced Accuracy: 0.6097 | AUC: 0.6097\n",
      "Early stopping triggered. No improvement in 5 epochs.\n"
     ]
    },
    {
     "data": {
      "image/png": "[encoded data removed]",
      "text/plain": [
       "<Figure size 1200x400 with 1 Axes>"
      ]
     },
     "metadata": {},
     "output_type": "display_data"
    },
    {
     "name": "stdout",
     "output_type": "stream",
     "text": [
      "\n",
      "\n",
      "\n",
      "_______________________________________________________________________\n",
      "EVALUATION\n",
      "\n",
      "----- TRAIN -----\n",
      "\n",
      "Confusion matrix\n",
      " [[4507 1913]\n",
      " [2113 2991]] \n",
      "\n",
      "Accuracy: 65.1 \n",
      "\n",
      "F1 Score: 59.8 \n",
      "\n",
      "Balanced accuracy: 64.4 \n",
      "\n",
      "AUC Score: 64.4 \n",
      "\n",
      "\n",
      "----- TEST -----\n",
      "\n",
      "Confusion matrix\n",
      " [[495 219]\n",
      " [262 291]] \n",
      "\n",
      "Accuracy: 62.0 \n",
      "\n",
      "F1 Score: 54.8 \n",
      "\n",
      "Balanced accuracy: 61.0 \n",
      "\n",
      "AUC Score: 61.0 \n",
      "\n",
      "_______________________________________________________________________\n"
     ]
    }
   ],
   "source": [
    "# --------------------\n",
    "# SET PARAMETERS\n",
    "dropout_rate = 0.1\n",
    "epochs_number = 15\n",
    "learning_rate = 0.0001\n",
    "early_stopping = 5\n",
    "# --------------------\n",
    "\n",
    "input_dim = X_train_embeddings_roberta.shape[1]  # Dimensionality of word embeddings\n",
    "hidden_dim = X_train_embeddings_roberta.shape[1]*2  # Number of units in the hidden layer\n",
    "\n",
    "classifier = NeuralNetworkClassifier(input_dim, hidden_dim, dropout=dropout_rate)\n",
    "\n",
    "# Fit the model\n",
    "classifier.fit(X_train_embeddings_roberta, y_train, X_test_embeddings_roberta, y_test, num_epochs=epochs_number, lr=learning_rate, patience=early_stopping)\n",
    "\n",
    "# Evaluate classifier\n",
    "print('\\n')\n",
    "print('\\n_______________________________________________________________________')\n",
    "print('EVALUATION')\n",
    "\n",
    "print('\\n----- TRAIN -----')\n",
    "cm_nn_roberta_train, accuracy_nn_roberta_train, f1_nn_roberta_train, balaccuracy_nn_roberta_train, rocauc_nn_roberta_train = classifier.evaluate(X_train_embeddings_roberta, y_train)\n",
    "\n",
    "print('\\n----- TEST -----')\n",
    "cm_nn_roberta_test, accuracy_nn_roberta_test, f1_nn_roberta_test, balaccuracy_nn_roberta_test, rocauc_nn_roberta_test = classifier.evaluate(X_test_embeddings_roberta, y_test)\n",
    "print('_______________________________________________________________________')"
   ]
  },
  {
   "cell_type": "code",
   "execution_count": 64,
   "metadata": {
    "collapsed": false,
    "jupyter": {
     "outputs_hidden": false
    }
   },
   "outputs": [],
   "source": [
    "cm_nn_roberta_train_tosave = repr(cm_nn_roberta_train)\n",
    "accuracy_nn_roberta_train_tosave = repr(accuracy_nn_roberta_train)\n",
    "f1_nn_roberta_train_tosave = repr(f1_nn_roberta_train)\n",
    "balaccuracy_nn_roberta_train_tosave = repr(balaccuracy_nn_roberta_train)\n",
    "rocauc_nn_roberta_train_tosave = repr(rocauc_nn_roberta_train)\n",
    "\n",
    "cm_nn_roberta_test_tosave = repr(cm_nn_roberta_test)\n",
    "accuracy_nn_roberta_test_tosave = repr(accuracy_nn_roberta_test)\n",
    "f1_nn_roberta_test_tosave = repr(f1_nn_roberta_test)\n",
    "balaccuracy_nn_roberta_test_tosave = repr(balaccuracy_nn_roberta_test)\n",
    "rocauc_nn_roberta_test_tosave = repr(rocauc_nn_roberta_test)\n",
    "\n",
    "\n",
    "file = open(\"results_split/nn_roberta_\"+time.strftime(\"%Y%m%d-%H%M%S\")+\".txt\", \"w\")\n",
    "\n",
    "file.write(\"Train CM = \"+cm_nn_roberta_train_tosave + \"\\n\" +\n",
    "           \"Train Accuracy = \" + accuracy_nn_roberta_train_tosave + \"\\n\" +\n",
    "           \"Train F1 = \"+f1_nn_roberta_train_tosave + \"\\n\"+\n",
    "           \"Train Balanced Accuracy = \"+balaccuracy_nn_roberta_train_tosave + \"\\n\" +\n",
    "           \"Train ROCAUC = \"+rocauc_nn_roberta_train_tosave + \"\\n\"+\n",
    "           \"Test CM = \"+cm_nn_roberta_test_tosave + \"\\n\"+\n",
    "           \"Test Accuracy = \"+accuracy_nn_roberta_test_tosave + \"\\n\"+\n",
    "           \"Test F1 = \"+f1_nn_roberta_test_tosave + \"\\n\"+\n",
    "           \"Test Balanced Accuracy = \"+balaccuracy_nn_roberta_test_tosave + \"\\n\"+\n",
    "           \"Test ROCAUC = \"+rocauc_nn_roberta_test_tosave)\n",
    "\n",
    "file.close()"
   ]
  },
  {
   "cell_type": "markdown",
   "metadata": {
    "tags": []
   },
   "source": [
    "# Results"
   ]
  },
  {
   "cell_type": "code",
   "execution_count": 267,
   "metadata": {
    "ExecuteTime": {
     "end_time": "2023-05-22T01:09:38.465052113Z",
     "start_time": "2023-05-22T01:09:38.428136128Z"
    }
   },
   "outputs": [
    {
     "name": "stdout",
     "output_type": "stream",
     "text": [
      "╒═════════════════════════╤════════════╤════════════╤═════════════════════╤═══════════╕\n",
      "│ Model                   │   Accuracy │   F1-Score │   Balanced Accuracy │   ROC AUC │\n",
      "╞═════════════════════════╪════════════╪════════════╪═════════════════════╪═══════════╡\n",
      "│ LR+GloVe                │       64.6 │       78.5 │                50   │      50   │\n",
      "├─────────────────────────┼────────────┼────────────┼─────────────────────┼───────────┤\n",
      "│ KNN+GloVe               │       60.8 │       73.8 │                50.6 │      50.6 │\n",
      "├─────────────────────────┼────────────┼────────────┼─────────────────────┼───────────┤\n",
      "│ SVC+GloVe               │       64.6 │       78.5 │                50   │      50   │\n",
      "├─────────────────────────┼────────────┼────────────┼─────────────────────┼───────────┤\n",
      "│ RandomForest+GloVe      │       61.7 │       75.9 │                48.8 │      48.8 │\n",
      "├─────────────────────────┼────────────┼────────────┼─────────────────────┼───────────┤\n",
      "│ XGBoost+GloVe           │       63.4 │       77.1 │                50.3 │      50.3 │\n",
      "├─────────────────────────┼────────────┼────────────┼─────────────────────┼───────────┤\n",
      "│ NeuralNetwork+GloVe     │       62.4 │       74.4 │                53.2 │      53.2 │\n",
      "├─────────────────────────┼────────────┼────────────┼─────────────────────┼───────────┤\n",
      "│ LR+Word2Vec             │       64.6 │       78.5 │                50   │      50   │\n",
      "├─────────────────────────┼────────────┼────────────┼─────────────────────┼───────────┤\n",
      "│ KNN+Word2Vec            │       60.7 │       73.8 │                50.4 │      50.4 │\n",
      "├─────────────────────────┼────────────┼────────────┼─────────────────────┼───────────┤\n",
      "│ SVC+Word2Vec            │       64   │       77.9 │                49.9 │      49.9 │\n",
      "├─────────────────────────┼────────────┼────────────┼─────────────────────┼───────────┤\n",
      "│ RandomForest + Word2Vec │       61.5 │       74.6 │                50.7 │      50.7 │\n",
      "├─────────────────────────┼────────────┼────────────┼─────────────────────┼───────────┤\n",
      "│ XGBoost+Word2Vec        │       64.1 │       77.8 │                50.3 │      50.3 │\n",
      "├─────────────────────────┼────────────┼────────────┼─────────────────────┼───────────┤\n",
      "│ NeuralNetwork+Word2Vec  │       63.9 │       77.3 │                51.1 │      51.1 │\n",
      "├─────────────────────────┼────────────┼────────────┼─────────────────────┼───────────┤\n",
      "│ LR+BERT                 │       58.6 │       70.5 │                51.2 │      51.2 │\n",
      "├─────────────────────────┼────────────┼────────────┼─────────────────────┼───────────┤\n",
      "│ KNN+BERT                │       58.4 │       71.7 │                48.9 │      48.9 │\n",
      "├─────────────────────────┼────────────┼────────────┼─────────────────────┼───────────┤\n",
      "│ SVC+BERT                │       64.6 │       78.5 │                50   │      50   │\n",
      "├─────────────────────────┼────────────┼────────────┼─────────────────────┼───────────┤\n",
      "│ RandomForest+BERT       │       64.7 │       78   │                51.5 │      51.5 │\n",
      "├─────────────────────────┼────────────┼────────────┼─────────────────────┼───────────┤\n",
      "│ XGBoost+BERT            │       64.2 │       78.2 │                49.8 │      49.8 │\n",
      "├─────────────────────────┼────────────┼────────────┼─────────────────────┼───────────┤\n",
      "│ NeuralNetwork+BERT      │       59   │       71   │                51.2 │      51.2 │\n",
      "├─────────────────────────┼────────────┼────────────┼─────────────────────┼───────────┤\n",
      "│ LR+RoBERTa              │       64.6 │       78.5 │                50   │      50   │\n",
      "├─────────────────────────┼────────────┼────────────┼─────────────────────┼───────────┤\n",
      "│ KNN+RoBERTa             │       58.8 │       72.2 │                48.9 │      48.9 │\n",
      "├─────────────────────────┼────────────┼────────────┼─────────────────────┼───────────┤\n",
      "│ SVC+RoBERTa             │       64.6 │       78.5 │                50   │      50   │\n",
      "├─────────────────────────┼────────────┼────────────┼─────────────────────┼───────────┤\n",
      "│ RandomForest+RoBERTa    │       63.7 │       77.5 │                50   │      50   │\n",
      "├─────────────────────────┼────────────┼────────────┼─────────────────────┼───────────┤\n",
      "│ XGBoost+RoBERTa         │       64.7 │       78.5 │                50.2 │      50.2 │\n",
      "├─────────────────────────┼────────────┼────────────┼─────────────────────┼───────────┤\n",
      "│ NeuralNetwork+RoBERTa   │       63.4 │       77.2 │                50   │      50   │\n",
      "├─────────────────────────┼────────────┼────────────┼─────────────────────┼───────────┤\n",
      "│ LR+GPT2                 │       64.6 │       78.5 │                50   │      50   │\n",
      "├─────────────────────────┼────────────┼────────────┼─────────────────────┼───────────┤\n",
      "│ KNN+GPT2                │       58.7 │       70.9 │                50.9 │      50.9 │\n",
      "├─────────────────────────┼────────────┼────────────┼─────────────────────┼───────────┤\n",
      "│ SVC+GPT2                │       64.6 │       78.5 │                50   │      50   │\n",
      "├─────────────────────────┼────────────┼────────────┼─────────────────────┼───────────┤\n",
      "│ RandomForest+GPT2       │       62.9 │       77   │                49.2 │      49.2 │\n",
      "├─────────────────────────┼────────────┼────────────┼─────────────────────┼───────────┤\n",
      "│ XGBoost+GPT2            │       64.3 │       78.1 │                50.4 │      50.4 │\n",
      "├─────────────────────────┼────────────┼────────────┼─────────────────────┼───────────┤\n",
      "│ NeuralNetwork+GPT2      │       61.4 │       74.1 │                51.6 │      51.6 │\n",
      "╘═════════════════════════╧════════════╧════════════╧═════════════════════╧═══════════╛\n"
     ]
    }
   ],
   "source": [
    "#create data\n",
    "data = [[\"LR+GloVe\", accuracy_lr_glove_test, f1_lr_glove_test, balaccuracy_lr_glove_test, rocauc_lr_glove_test],\n",
    "        [\"KNN+GloVe\", accuracy_knn_glove_test, f1_knn_glove_test, balaccuracy_knn_glove_test, rocauc_knn_glove_test],\n",
    "        [\"SVC+GloVe\", accuracy_svc_glove_test, f1_svc_glove_test, balaccuracy_svc_glove_test, rocauc_svc_glove_test],\n",
    "        [\"RandomForest+GloVe\", accuracy_rf_glove_test, f1_rf_glove_test, balaccuracy_rf_glove_test, rocauc_rf_glove_test],\n",
    "        [\"XGBoost+GloVe\", accuracy_xgb_glove_test, f1_xgb_glove_test, balaccuracy_xgb_glove_test, rocauc_xgb_glove_test],\n",
    "        [\"NeuralNetwork+GloVe\", accuracy_nn_glove_test, f1_nn_glove_test, balaccuracy_nn_glove_test, rocauc_nn_glove_test],\n",
    "        [\"LR+Word2Vec\", accuracy_lr_w2v_test, f1_lr_w2v_test, balaccuracy_lr_w2v_test, rocauc_lr_w2v_test],\n",
    "        [\"KNN+Word2Vec\", accuracy_knn_w2v_test, f1_knn_w2v_test, balaccuracy_knn_w2v_test, rocauc_knn_w2v_test],\n",
    "        [\"SVC+Word2Vec\", accuracy_svc_w2v_test, f1_svc_w2v_test, balaccuracy_svc_w2v_test, rocauc_svc_w2v_test],\n",
    "        [\"RandomForest+Word2Vec\", accuracy_rf_w2v_test, f1_rf_w2v_test, balaccuracy_rf_w2v_test, rocauc_rf_w2v_test],\n",
    "        [\"XGBoost+Word2Vec\", accuracy_xgb_w2v_test, f1_xgb_w2v_test, balaccuracy_xgb_w2v_test, rocauc_xgb_w2v_test],\n",
    "        [\"NeuralNetwork+Word2Vec\", accuracy_nn_w2v_test, f1_nn_w2v_test, balaccuracy_nn_w2v_test, rocauc_nn_w2v_test],\n",
    "        [\"LR+BERT\", accuracy_lr_bert_test, f1_lr_bert_test, balaccuracy_lr_bert_test, rocauc_lr_bert_test],\n",
    "        [\"KNN+BERT\", accuracy_knn_bert_test, f1_knn_bert_test, balaccuracy_knn_bert_test, rocauc_knn_bert_test],\n",
    "        [\"SVC+BERT\", accuracy_svc_bert_test, f1_svc_bert_test, balaccuracy_svc_bert_test, rocauc_svc_bert_test],\n",
    "        [\"RandomForest+BERT\", accuracy_rf_bert_test, f1_rf_bert_test, balaccuracy_rf_bert_test, rocauc_rf_bert_test],\n",
    "        [\"XGBoost+BERT\", accuracy_xgb_bert_test, f1_xgb_bert_test, balaccuracy_xgb_bert_test, rocauc_xgb_bert_test],\n",
    "        [\"NeuralNetwork+BERT\", accuracy_nn_bert_test, f1_nn_bert_test, balaccuracy_nn_bert_test, rocauc_nn_bert_test],\n",
    "        [\"LR+RoBERTa\", accuracy_lr_roberta_test, f1_lr_roberta_test, balaccuracy_lr_roberta_test, rocauc_lr_roberta_test],\n",
    "        [\"KNN+RoBERTa\", accuracy_knn_roberta_test, f1_knn_roberta_test, balaccuracy_knn_roberta_test, rocauc_knn_roberta_test],\n",
    "        [\"SVC+RoBERTa\", accuracy_svc_roberta_test, f1_svc_roberta_test, balaccuracy_svc_roberta_test, rocauc_svc_roberta_test],\n",
    "        [\"RandomForest+RoBERTa\", accuracy_rf_roberta_test, f1_rf_roberta_test, balaccuracy_rf_roberta_test, rocauc_rf_roberta_test],\n",
    "        [\"XGBoost+RoBERTa\", accuracy_xgb_roberta_test, f1_xgb_roberta_test, balaccuracy_xgb_roberta_test, rocauc_xgb_roberta_test],\n",
    "        [\"NeuralNetwork+RoBERTa\", accuracy_nn_roberta_test, f1_nn_roberta_test, balaccuracy_nn_roberta_test, rocauc_nn_roberta_test],\n",
    "        [\"LR+GPT2\", accuracy_lr_gpt2_test, f1_lr_gpt2_test, balaccuracy_lr_gpt2_test, rocauc_lr_gpt2_test],\n",
    "        [\"KNN+GPT2\", accuracy_knn_gpt2_test, f1_knn_gpt2_test, balaccuracy_knn_gpt2_test, rocauc_knn_gpt2_test],\n",
    "        [\"SVC+GPT2\", accuracy_svc_gpt2_test, f1_svc_gpt2_test, balaccuracy_svc_gpt2_test, rocauc_svc_gpt2_test],\n",
    "        [\"RandomForest+GPT2\", accuracy_rf_gpt2_test, f1_rf_gpt2_test, balaccuracy_rf_gpt2_test, rocauc_rf_gpt2_test],\n",
    "        [\"XGBoost+GPT2\", accuracy_xgb_gpt2_test, f1_xgb_gpt2_test, balaccuracy_xgb_gpt2_test, rocauc_xgb_gpt2_test],\n",
    "        [\"NeuralNetwork+GPT2\", accuracy_nn_gpt2_test, f1_nn_gpt2_test, balaccuracy_nn_gpt2_test, rocauc_nn_gpt2_test]]\n",
    "  \n",
    "#define header names\n",
    "col_names = [\"Model\", \"Accuracy\", \"F1-Score\", \"Balanced Accuracy\", \"ROC AUC\"]\n",
    "\n",
    "#save results to csv\n",
    "if fast:\n",
    "    with open(\"results_fast_\"+time.strftime(\"%Y%m%d-%H%M%S\")+\".csv\", mode='w', newline='') as file:\n",
    "        writer = csv.writer(file)\n",
    "        writer.writerow(col_names)\n",
    "        for row in data:\n",
    "            writer.writerow(row)\n",
    "else:\n",
    "    with open(\"results_\"+time.strftime(\"%Y%m%d-%H%M%S\")+\".csv\", mode='w', newline='') as file:\n",
    "        writer = csv.writer(file)\n",
    "        writer.writerow(col_names)\n",
    "        for row in data:\n",
    "            writer.writerow(row)\n",
    "\n",
    "#display table\n",
    "print(tabulate(data, headers=col_names, tablefmt=\"fancy_grid\"))"
   ]
  },
  {
   "cell_type": "code",
   "execution_count": 268,
   "metadata": {
    "ExecuteTime": {
     "end_time": "2023-05-22T01:10:06.779483117Z",
     "start_time": "2023-05-22T01:10:06.709782207Z"
    },
    "collapsed": false,
    "jupyter": {
     "outputs_hidden": false
    }
   },
   "outputs": [
    {
     "name": "stdout",
     "output_type": "stream",
     "text": [
      "\\begin{tabular}{lrrrr}\n",
      "\\hline\n",
      " Model                   &   Accuracy &   F1-Score &   Balanced Accuracy &   ROC AUC \\\\\n",
      "\\hline\n",
      " LR+GloVe                &       64.6 &       78.5 &                50   &      50   \\\\\n",
      " KNN+GloVe               &       60.8 &       73.8 &                50.6 &      50.6 \\\\\n",
      " SVC+GloVe               &       64.6 &       78.5 &                50   &      50   \\\\\n",
      " RandomForest+GloVe      &       61.7 &       75.9 &                48.8 &      48.8 \\\\\n",
      " XGBoost+GloVe           &       63.4 &       77.1 &                50.3 &      50.3 \\\\\n",
      " NeuralNetwork+GloVe     &       62.4 &       74.4 &                53.2 &      53.2 \\\\\n",
      " LR+Word2Vec             &       64.6 &       78.5 &                50   &      50   \\\\\n",
      " KNN+Word2Vec            &       60.7 &       73.8 &                50.4 &      50.4 \\\\\n",
      " SVC+Word2Vec            &       64   &       77.9 &                49.9 &      49.9 \\\\\n",
      " RandomForest + Word2Vec &       61.5 &       74.6 &                50.7 &      50.7 \\\\\n",
      " XGBoost+Word2Vec        &       64.1 &       77.8 &                50.3 &      50.3 \\\\\n",
      " NeuralNetwork+Word2Vec  &       63.9 &       77.3 &                51.1 &      51.1 \\\\\n",
      " LR+BERT                 &       58.6 &       70.5 &                51.2 &      51.2 \\\\\n",
      " KNN+BERT                &       58.4 &       71.7 &                48.9 &      48.9 \\\\\n",
      " SVC+BERT                &       64.6 &       78.5 &                50   &      50   \\\\\n",
      " RandomForest+BERT       &       64.7 &       78   &                51.5 &      51.5 \\\\\n",
      " XGBoost+BERT            &       64.2 &       78.2 &                49.8 &      49.8 \\\\\n",
      " NeuralNetwork+BERT      &       59   &       71   &                51.2 &      51.2 \\\\\n",
      " LR+RoBERTa              &       64.6 &       78.5 &                50   &      50   \\\\\n",
      " KNN+RoBERTa             &       58.8 &       72.2 &                48.9 &      48.9 \\\\\n",
      " SVC+RoBERTa             &       64.6 &       78.5 &                50   &      50   \\\\\n",
      " RandomForest+RoBERTa    &       63.7 &       77.5 &                50   &      50   \\\\\n",
      " XGBoost+RoBERTa         &       64.7 &       78.5 &                50.2 &      50.2 \\\\\n",
      " NeuralNetwork+RoBERTa   &       63.4 &       77.2 &                50   &      50   \\\\\n",
      " LR+GPT2                 &       64.6 &       78.5 &                50   &      50   \\\\\n",
      " KNN+GPT2                &       58.7 &       70.9 &                50.9 &      50.9 \\\\\n",
      " SVC+GPT2                &       64.6 &       78.5 &                50   &      50   \\\\\n",
      " RandomForest+GPT2       &       62.9 &       77   &                49.2 &      49.2 \\\\\n",
      " XGBoost+GPT2            &       64.3 &       78.1 &                50.4 &      50.4 \\\\\n",
      " NeuralNetwork+GPT2      &       61.4 &       74.1 &                51.6 &      51.6 \\\\\n",
      "\\hline\n",
      "\\end{tabular}\n"
     ]
    }
   ],
   "source": [
    "#print(tabulate(data, headers=col_names, tablefmt=\"latex\"))"
   ]
  },
  {
   "cell_type": "code",
   "execution_count": 110,
   "metadata": {
    "ExecuteTime": {
     "end_time": "2023-05-08T00:11:44.648347738Z",
     "start_time": "2023-05-08T00:11:44.628206561Z"
    },
    "collapsed": false,
    "jupyter": {
     "outputs_hidden": false
    }
   },
   "outputs": [
    {
     "name": "stdout",
     "output_type": "stream",
     "text": [
      "Logistic Regression\n",
      "╒══════════╤════════════╤════════════╕\n",
      "│ Model    │   Accuracy │   F1-Score │\n",
      "╞══════════╪════════════╪════════════╡\n",
      "│ GloVe    │       53.4 │       33.2 │\n",
      "├──────────┼────────────┼────────────┤\n",
      "│ Word2Vec │       59   │       40.7 │\n",
      "├──────────┼────────────┼────────────┤\n",
      "│ BERT     │       52.8 │       34.6 │\n",
      "├──────────┼────────────┼────────────┤\n",
      "│ RoBERTa  │       51.9 │       38   │\n",
      "├──────────┼────────────┼────────────┤\n",
      "│ GPT2     │       55.2 │       37.6 │\n",
      "╘══════════╧════════════╧════════════╛\n"
     ]
    }
   ],
   "source": [
    "# #create data\n",
    "# lr_results = [\n",
    "#     [\"GloVe\", accuracy_lr_glove_test, f1_lr_glove_test],\n",
    "#     [\"Word2Vec\", accuracy_lr_w2v_test, f1_lr_w2v_test],\n",
    "#     [\"BERT\", accuracy_lr_bert_test, f1_lr_bert_test],\n",
    "#     [\"RoBERTa\", accuracy_lr_roberta_test, f1_lr_roberta_test],\n",
    "#     [\"GPT2\", accuracy_lr_gpt2_test, f1_lr_gpt2_test]\n",
    "# ]\n",
    "#\n",
    "# #define header names\n",
    "# col_names = [\"Model\", \"Accuracy\", \"F1-Score\"]\n",
    "#\n",
    "# #display table\n",
    "# print(\"Logistic Regression\")\n",
    "# # print(tabulate(lr_results, headers=col_names, tablefmt=\"fancy_grid\"))"
   ]
  },
  {
   "cell_type": "code",
   "execution_count": 111,
   "metadata": {
    "ExecuteTime": {
     "end_time": "2023-05-08T00:11:45.623006697Z",
     "start_time": "2023-05-08T00:11:45.607642365Z"
    },
    "collapsed": false,
    "jupyter": {
     "outputs_hidden": false
    }
   },
   "outputs": [
    {
     "name": "stdout",
     "output_type": "stream",
     "text": [
      "KNN\n",
      "╒══════════╤════════════╤════════════╕\n",
      "│ Model    │   Accuracy │   F1-Score │\n",
      "╞══════════╪════════════╪════════════╡\n",
      "│ GloVe    │       53.7 │       34.7 │\n",
      "├──────────┼────────────┼────────────┤\n",
      "│ Word2Vec │       55.5 │       40   │\n",
      "├──────────┼────────────┼────────────┤\n",
      "│ BERT     │       53.1 │       35.7 │\n",
      "├──────────┼────────────┼────────────┤\n",
      "│ RoBERTa  │       52.8 │       38.2 │\n",
      "├──────────┼────────────┼────────────┤\n",
      "│ GPT2     │       48.5 │       46.6 │\n",
      "╘══════════╧════════════╧════════════╛\n"
     ]
    }
   ],
   "source": [
    "# #create data\n",
    "# knn_results = [\n",
    "#     [\"GloVe\", accuracy_knn_glove_test, f1_knn_glove_test],\n",
    "#     [\"Word2Vec\", accuracy_knn_w2v_test, f1_knn_w2v_test],\n",
    "#     [\"BERT\", accuracy_knn_bert_test, f1_knn_bert_test],\n",
    "#     [\"RoBERTa\", accuracy_knn_roberta_test, f1_knn_roberta_test],\n",
    "#     [\"GPT2\", accuracy_knn_gpt2_test, f1_knn_gpt2_test]\n",
    "# ]\n",
    "#\n",
    "# #define header names\n",
    "# col_names = [\"Model\", \"Accuracy\", \"F1-Score\"]\n",
    "#\n",
    "# #display table\n",
    "# print(\"KNN\")\n",
    "# print(tabulate(knn_results, headers=col_names, tablefmt=\"fancy_grid\"))"
   ]
  },
  {
   "cell_type": "code",
   "execution_count": 112,
   "metadata": {
    "ExecuteTime": {
     "end_time": "2023-05-08T00:11:46.045799687Z",
     "start_time": "2023-05-08T00:11:46.031440509Z"
    },
    "collapsed": false,
    "jupyter": {
     "outputs_hidden": false
    }
   },
   "outputs": [
    {
     "name": "stdout",
     "output_type": "stream",
     "text": [
      "SVM Classifier\n",
      "╒══════════╤════════════╤════════════╕\n",
      "│ Model    │   Accuracy │   F1-Score │\n",
      "╞══════════╪════════════╪════════════╡\n",
      "│ GloVe    │       56.1 │       34.4 │\n",
      "├──────────┼────────────┼────────────┤\n",
      "│ Word2Vec │       59.3 │       39.2 │\n",
      "├──────────┼────────────┼────────────┤\n",
      "│ BERT     │       50.4 │       33   │\n",
      "├──────────┼────────────┼────────────┤\n",
      "│ RoBERTa  │       52.9 │       36   │\n",
      "├──────────┼────────────┼────────────┤\n",
      "│ GPT2     │       55.6 │       35.7 │\n",
      "╘══════════╧════════════╧════════════╛\n"
     ]
    }
   ],
   "source": [
    "# #create data\n",
    "# svc_results = [\n",
    "#     [\"GloVe\", accuracy_svc_glove_test, f1_svc_glove_test],\n",
    "#     [\"Word2Vec\", accuracy_svc_w2v_test, f1_svc_w2v_test],\n",
    "#     [\"BERT\", accuracy_svc_bert_test, f1_svc_bert_test],\n",
    "#     [\"RoBERTa\", accuracy_svc_roberta_test, f1_svc_roberta_test],\n",
    "#     [\"GPT2\", accuracy_svc_gpt2_test, f1_svc_gpt2_test]\n",
    "# ]\n",
    "#\n",
    "# #define header names\n",
    "# col_names = [\"Model\", \"Accuracy\", \"F1-Score\"]\n",
    "#\n",
    "# #display table\n",
    "# print(\"SVM Classifier\")\n",
    "# print(tabulate(svc_results, headers=col_names, tablefmt=\"fancy_grid\"))"
   ]
  },
  {
   "cell_type": "code",
   "execution_count": 113,
   "metadata": {
    "ExecuteTime": {
     "end_time": "2023-05-08T00:11:46.310402046Z",
     "start_time": "2023-05-08T00:11:46.299016397Z"
    },
    "collapsed": false,
    "jupyter": {
     "outputs_hidden": false
    }
   },
   "outputs": [
    {
     "name": "stdout",
     "output_type": "stream",
     "text": [
      "Random Forest\n",
      "╒══════════╤════════════╤════════════╕\n",
      "│ Model    │   Accuracy │   F1-Score │\n",
      "╞══════════╪════════════╪════════════╡\n",
      "│ GloVe    │       61.2 │       22.9 │\n",
      "├──────────┼────────────┼────────────┤\n",
      "│ Word2Vec │       62.9 │       29.9 │\n",
      "├──────────┼────────────┼────────────┤\n",
      "│ BERT     │       57.9 │       22.4 │\n",
      "├──────────┼────────────┼────────────┤\n",
      "│ RoBERTa  │       61.4 │       19.7 │\n",
      "├──────────┼────────────┼────────────┤\n",
      "│ GPT2     │       58.2 │       17.2 │\n",
      "╘══════════╧════════════╧════════════╛\n"
     ]
    }
   ],
   "source": [
    "# #create data\n",
    "# rf_results = [\n",
    "#     [\"GloVe\", accuracy_rf_glove_test, f1_rf_glove_test],\n",
    "#     [\"Word2Vec\", accuracy_rf_w2v_test, f1_rf_w2v_test],\n",
    "#     [\"BERT\", accuracy_rf_bert_test, f1_rf_bert_test],\n",
    "#     [\"RoBERTa\", accuracy_rf_roberta_test, f1_rf_roberta_test],\n",
    "#     [\"GPT2\", accuracy_rf_gpt2_test, f1_rf_gpt2_test]\n",
    "# ]\n",
    "#\n",
    "# #define header names\n",
    "# col_names = [\"Model\", \"Accuracy\", \"F1-Score\"]\n",
    "#\n",
    "# #display table\n",
    "# print(\"Random Forest\")\n",
    "# print(tabulate(rf_results, headers=col_names, tablefmt=\"fancy_grid\"))"
   ]
  },
  {
   "cell_type": "code",
   "execution_count": 114,
   "metadata": {
    "ExecuteTime": {
     "end_time": "2023-05-08T00:11:46.663167632Z",
     "start_time": "2023-05-08T00:11:46.636014024Z"
    },
    "collapsed": false,
    "jupyter": {
     "outputs_hidden": false
    }
   },
   "outputs": [
    {
     "name": "stdout",
     "output_type": "stream",
     "text": [
      "XGBoost\n",
      "╒══════════╤════════════╤════════════╕\n",
      "│ Model    │   Accuracy │   F1-Score │\n",
      "╞══════════╪════════════╪════════════╡\n",
      "│ GloVe    │       53   │       36.4 │\n",
      "├──────────┼────────────┼────────────┤\n",
      "│ Word2Vec │       56.3 │       38.2 │\n",
      "├──────────┼────────────┼────────────┤\n",
      "│ BERT     │       52.3 │       34.8 │\n",
      "├──────────┼────────────┼────────────┤\n",
      "│ RoBERTa  │       53.9 │       36.2 │\n",
      "├──────────┼────────────┼────────────┤\n",
      "│ GPT2     │       52.6 │       35.9 │\n",
      "╘══════════╧════════════╧════════════╛\n"
     ]
    }
   ],
   "source": [
    "# #create data\n",
    "# xgb_results = [\n",
    "#     [\"GloVe\", accuracy_xgb_glove_test, f1_xgb_glove_test],\n",
    "#     [\"Word2Vec\", accuracy_xgb_w2v_test, f1_xgb_w2v_test],\n",
    "#     [\"BERT\", accuracy_xgb_bert_test, f1_xgb_bert_test],\n",
    "#     [\"RoBERTa\", accuracy_xgb_roberta_test, f1_xgb_roberta_test],\n",
    "#     [\"GPT2\", accuracy_xgb_gpt2_test, f1_xgb_gpt2_test]\n",
    "# ]\n",
    "#\n",
    "# #define header names\n",
    "# col_names = [\"Model\", \"Accuracy\", \"F1-Score\"]\n",
    "#\n",
    "# #display table\n",
    "# print(\"XGBoost\")\n",
    "# print(tabulate(xgb_results, headers=col_names, tablefmt=\"fancy_grid\"))"
   ]
  },
  {
   "cell_type": "code",
   "execution_count": 115,
   "metadata": {
    "ExecuteTime": {
     "end_time": "2023-05-08T00:11:47.147217610Z",
     "start_time": "2023-05-08T00:11:47.088596164Z"
    },
    "collapsed": false,
    "jupyter": {
     "outputs_hidden": false
    }
   },
   "outputs": [
    {
     "name": "stdout",
     "output_type": "stream",
     "text": [
      "NeuralNetwork\n",
      "╒══════════╤════════════╤════════════╕\n",
      "│ Model    │   Accuracy │   F1-Score │\n",
      "╞══════════╪════════════╪════════════╡\n",
      "│ GloVe    │       52.5 │       37.8 │\n",
      "├──────────┼────────────┼────────────┤\n",
      "│ Word2Vec │       60.1 │       40   │\n",
      "├──────────┼────────────┼────────────┤\n",
      "│ BERT     │       59.6 │       17.9 │\n",
      "├──────────┼────────────┼────────────┤\n",
      "│ RoBERTa  │       62.5 │        9.5 │\n",
      "├──────────┼────────────┼────────────┤\n",
      "│ GPT2     │       56.4 │       29   │\n",
      "╘══════════╧════════════╧════════════╛\n"
     ]
    }
   ],
   "source": [
    "#create data\n",
    "nn_results = [\n",
    "    [\"GloVe\", accuracy_nn_glove_test, f1_nn_glove_test],\n",
    "    [\"Word2Vec\", accuracy_nn_w2v_test, f1_nn_w2v_test],\n",
    "    [\"BERT\", accuracy_nn_bert_test, f1_nn_bert_test],\n",
    "    [\"RoBERTa\", accuracy_nn_roberta_test, f1_nn_roberta_test],\n",
    "    [\"GPT2\", accuracy_nn_gpt2_test, f1_nn_gpt2_test]\n",
    "]\n",
    "\n",
    "#define header names\n",
    "col_names = [\"Model\", \"Accuracy\", \"F1-Score\"]\n",
    "\n",
    "#display table\n",
    "print(\"NeuralNetwork\")\n",
    "print(tabulate(nn_results, headers=col_names, tablefmt=\"fancy_grid\"))"
   ]
  },
  {
   "cell_type": "markdown",
   "metadata": {
    "id": "24t1eSrlFLK6"
   },
   "source": [
    "---"
   ]
  },
  {
   "cell_type": "code",
   "execution_count": null,
   "metadata": {
    "collapsed": false,
    "jupyter": {
     "outputs_hidden": false
    }
   },
   "outputs": [],
   "source": []
  }
 ],
 "metadata": {
  "accelerator": "GPU",
  "colab": {
   "provenance": []
  },
  "gpuClass": "standard",
  "kernelspec": {
   "display_name": "Python 3 (ipykernel)",
   "language": "python",
   "name": "python3"
  },
  "language_info": {
   "codemirror_mode": {
    "name": "ipython",
    "version": 3
   },
   "file_extension": ".py",
   "mimetype": "text/x-python",
   "name": "python",
   "nbconvert_exporter": "python",
   "pygments_lexer": "ipython3",
   "version": "3.10.9"
  }
 },
 "nbformat": 4,
 "nbformat_minor": 4
}
